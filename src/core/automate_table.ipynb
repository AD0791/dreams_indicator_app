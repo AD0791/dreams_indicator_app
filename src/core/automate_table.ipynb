{
 "cells": [
  {
   "cell_type": "code",
   "execution_count": 1,
   "source": [
    "%%capture\n",
    "from IPython.core.interactiveshell import InteractiveShell\n",
    "InteractiveShell.ast_node_interactivity = \"all\"\n",
    "from datetime import datetime\n",
    "\n",
    "from core_layering import LayerServicesData, LayerServicesElements\n",
    "\n",
    "\n",
    "\n",
    "date_du_jour = datetime.today().strftime(\"%d_%m_%Y\")"
   ],
   "outputs": [],
   "metadata": {}
  },
  {
   "cell_type": "code",
   "execution_count": 2,
   "source": [
    "from openpyxl import Workbook\n",
    "from openpyxl.styles.colors import Color\n",
    "from openpyxl.styles.fills import PatternFill\n",
    "from openpyxl.styles import Font\n",
    "from openpyxl.styles.alignment import Alignment\n",
    "#from openpyxl.utils.dataframe import dataframe_to_rows\n",
    "from openpyxl.styles.borders import Border, Side\n"
   ],
   "outputs": [],
   "metadata": {}
  },
  {
   "cell_type": "code",
   "execution_count": 56,
   "source": [
    "light_blue = Color(rgb=\"99CCFF\")\n",
    "my_blue = Color(rgb=\"0080FF\")\n",
    "my_red = Color(rgb=\"FF0000\")\n",
    "blue_fill = PatternFill(patternType=\"solid\",fgColor=my_blue)\n",
    "lb_fill = PatternFill(patternType=\"solid\",fgColor=light_blue)\n",
    "#red_fill = PatternFill(patternType=\"solid\",fgColor=my_red)\n",
    "\n",
    "bold_12 = Font(size=12,bold=True)\n",
    "bold_12_red = Font(size=12,bold=True,color=my_red)\n",
    "\n",
    "text_table = Alignment(horizontal=\"center\",vertical=\"bottom\",wrapText=True)\n",
    "medium_border = Border(left=Side(style='medium'), \n",
    "                     right=Side(style='medium'), \n",
    "                     top=Side(style='medium'), \n",
    "                     bottom=Side(style='medium'))"
   ],
   "outputs": [],
   "metadata": {}
  },
  {
   "cell_type": "markdown",
   "source": [
    "# automation"
   ],
   "metadata": {}
  },
  {
   "cell_type": "code",
   "execution_count": 4,
   "source": [
    "data = LayerServicesData()\n",
    "elements = LayerServicesElements()"
   ],
   "outputs": [],
   "metadata": {}
  },
  {
   "cell_type": "code",
   "execution_count": 65,
   "source": [
    "%%capture\n",
    "wb = Workbook()\n",
    "ws = wb.active\n",
    "ws.title = elements.who_am_i\n",
    "\n",
    "ws.merge_cells(\"A1:A2\")\n",
    "ws.cell(row=1, column=1).fill = blue_fill\n",
    "ws.cell(row=1, column=1).border = medium_border\n",
    "ws.cell(row=2, column=1).border = medium_border\n",
    "\n",
    "\n",
    "ws.merge_cells(\"B1:C1\")\n",
    "ws.cell(row=1, column=2).fill = blue_fill\n",
    "ws.cell(row=1, column=2).value = elements.age1014\n",
    "ws.cell(row=1, column=2).font = bold_12_red\n",
    "ws.cell(row=1, column=2).alignment = text_table\n",
    "ws.cell(row=1, column=2).border = medium_border\n",
    "ws.cell(row=1, column=3).border = medium_border\n",
    "\n",
    "ws.merge_cells(\"D1:E1\")\n",
    "ws.cell(row=1, column=4).fill = blue_fill\n",
    "ws.cell(row=1, column=4).value = elements.age1519\n",
    "ws.cell(row=1, column=4).font = bold_12_red\n",
    "ws.cell(row=1, column=4).alignment = text_table\n",
    "ws.cell(row=1, column=4).border = medium_border\n",
    "ws.cell(row=1, column=5).border = medium_border\n",
    "\n",
    "\n",
    "ws.merge_cells(\"F1:G1\")\n",
    "ws.cell(row=1, column=6).fill = blue_fill\n",
    "ws.cell(row=1, column=6).value = elements.age2024\n",
    "ws.cell(row=1, column=6).font = bold_12_red\n",
    "ws.cell(row=1, column=6).alignment = text_table\n",
    "ws.cell(row=1, column=6).border = medium_border\n",
    "ws.cell(row=1, column=7).border = medium_border\n",
    "\n"
   ],
   "outputs": [],
   "metadata": {}
  },
  {
   "cell_type": "code",
   "execution_count": 66,
   "source": [
    "#wb.save(f\"./table_results/layeringTable_{date_du_jour}.xlsx\")\n",
    "wb.save(f\"./table_results/layeringTable.xlsx\")"
   ],
   "outputs": [],
   "metadata": {}
  },
  {
   "cell_type": "markdown",
   "source": [
    "%%capture\n",
    "wb = Workbook()\n",
    "ws = wb.active\n",
    "ws.title = datim.who_am_i\n",
    "\n",
    "ws['A1'].fill = blue_fill\n",
    "ws['A9'].fill = blue_fill\n",
    "ws['A17'].fill = blue_fill\n",
    "ws['A24'].fill = blue_fill\n",
    "\n",
    "for rows in ws.iter_rows(min_row=7,max_row=7,min_col=1,max_col=40):\n",
    "    for cell in rows:\n",
    "        cell.fill = red_fill\n",
    "for rows in ws.iter_rows(min_row=8,max_row=8,min_col=1,max_col=40):\n",
    "    for cell in rows:\n",
    "        cell.fill = red_fill\n",
    "for rows in ws.iter_rows(min_row=15,max_row=15,min_col=1,max_col=40):\n",
    "    for cell in rows:\n",
    "        cell.fill = red_fill\n",
    "for rows in ws.iter_rows(min_row=16,max_row=16,min_col=1,max_col=40):\n",
    "    for cell in rows:\n",
    "        cell.fill = red_fill\n",
    "for rows in ws.iter_rows(min_row=22,max_row=22,min_col=1,max_col=40):\n",
    "    for cell in rows:\n",
    "        cell.fill = red_fill\n",
    "for rows in ws.iter_rows(min_row=23,max_row=23,min_col=1,max_col=40):\n",
    "    for cell in rows:\n",
    "        cell.fill = red_fill\n",
    "\n",
    "ws.merge_cells(\"B1:C1\")\n",
    "ws.cell(row=1,column=2).value = AgywPrev.datim_titleI()\n",
    "ws.cell(row=1,column=2).font = bold_12\n",
    "ws.cell(row=1,column=2).alignment =  text_datim_title\n",
    "\n",
    "ws.merge_cells(\"B9:C9\")\n",
    "ws.cell(row=9,column=2).value = AgywPrev.datim_titleII()\n",
    "ws.cell(row=9,column=2).font = bold_12\n",
    "ws.cell(row=9,column=2).alignment =  text_datim_title\n",
    "\n",
    "ws.merge_cells(\"B17:C17\")\n",
    "ws.cell(row=17,column=2).value = AgywPrev.datim_titleIII()\n",
    "ws.cell(row=17,column=2).font = bold_12\n",
    "ws.cell(row=17,column=2).alignment =  text_datim_title\n",
    "\n",
    "ws.merge_cells(\"B24:C24\")\n",
    "ws.cell(row=24,column=2).value = AgywPrev.datim_titleIV()\n",
    "ws.cell(row=24,column=2).font = bold_12\n",
    "ws.cell(row=24,column=2).alignment =  text_datim_title\n",
    "\n",
    "ws['G5'] = datim.total_datimI\n",
    "ws['G13'] = datim.total_datimII\n",
    "ws['G21'] = datim.total_datimIII\n",
    "ws['G27'] = datim.total_datimIV\n",
    "ws['I13'] = datim.total_datim_general\n",
    "\n",
    "rdf_datim_I = dataframe_to_rows(datim.datim_agyw_prevI(),index=False,header=True)\n",
    "for ridx, row in enumerate(rdf_datim_I,1):\n",
    "    for cidx, value in enumerate(row,1):\n",
    "        cells = ws.cell(ridx+1,cidx,value)\n",
    "        cells.border = thin_border\n",
    "        cells\n",
    "\n",
    "rdf_datim_II = dataframe_to_rows(datim.datim_agyw_prevII(),index=False,header=True)\n",
    "for ridx, row in enumerate(rdf_datim_II,1):\n",
    "    for cidx, value in enumerate(row,1):\n",
    "        cells = ws.cell(ridx+9,cidx,value)\n",
    "        cells.border = thin_border\n",
    "        cells\n",
    "\n",
    "rdf_datim_III = dataframe_to_rows(datim.datim_agyw_prevIII(),index=False,header=True)\n",
    "for ridx, row in enumerate(rdf_datim_III,1):\n",
    "    for cidx, value in enumerate(row,1):\n",
    "        cells = ws.cell(ridx+17,cidx,value)\n",
    "        cells.border = thin_border\n",
    "        cells\n",
    "\n",
    "rdf_datim_IV = dataframe_to_rows(datim.datim_agyw_prevIV(),index=False,header=True)\n",
    "for ridx, row in enumerate(rdf_datim_IV,1):\n",
    "    for cidx, value in enumerate(row,1):\n",
    "        cells = ws.cell(ridx+24,cidx,value)\n",
    "        cells.border = thin_border\n",
    "        cells\n"
   ],
   "metadata": {}
  },
  {
   "cell_type": "markdown",
   "source": [],
   "metadata": {}
  }
 ],
 "metadata": {
  "orig_nbformat": 4,
  "language_info": {
   "name": "python",
   "version": "3.9.7",
   "mimetype": "text/x-python",
   "codemirror_mode": {
    "name": "ipython",
    "version": 3
   },
   "pygments_lexer": "ipython3",
   "nbconvert_exporter": "python",
   "file_extension": ".py"
  },
  "kernelspec": {
   "name": "python3",
   "display_name": "Python 3.9.7 64-bit"
  },
  "interpreter": {
   "hash": "aee8b7b246df8f9039afb4144a1f6fd8d2ca17a180786b69acc140d282b71a49"
  }
 },
 "nbformat": 4,
 "nbformat_minor": 2
}