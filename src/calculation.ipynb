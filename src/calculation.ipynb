{
 "cells": [
  {
   "cell_type": "code",
   "execution_count": 4,
   "source": [
    "from numpy import int16\r\n",
    "import pandas as pd\r\n",
    "from IPython.core.interactiveshell import InteractiveShell\r\n",
    "InteractiveShell.ast_node_interactivity = \"all\"\r\n",
    "\r\n",
    "from eda import mastersheet_served,agyw_served, agyw_served_period"
   ],
   "outputs": [],
   "metadata": {}
  },
  {
   "cell_type": "code",
   "execution_count": 5,
   "source": [
    "mastersheet_served=mastersheet_served.loc[:,~mastersheet_served.columns.duplicated()]\r\n",
    "\r\n",
    "actif_mastersheet = mastersheet_served[mastersheet_served.id_patient.isin(agyw_served_period.id_patient)]\r\n",
    "actif_served =agyw_served[agyw_served.id_patient.isin(agyw_served_period.id_patient)]\r\n",
    "ua_mastersheet = mastersheet_served[~mastersheet_served.id_patient.isin(agyw_served_period.id_patient)]\r\n",
    "ua_served = agyw_served[~agyw_served.id_patient.isin(agyw_served_period.id_patient)]\r\n",
    "\r\n",
    "actif_mastersheet.id_patient.count()\r\n",
    "actif_served.id_patient.count()\r\n",
    "ua_mastersheet.id_patient.count()\r\n",
    "ua_served.id_patient.count()"
   ],
   "outputs": [
    {
     "output_type": "execute_result",
     "data": {
      "text/plain": [
       "12752"
      ]
     },
     "metadata": {},
     "execution_count": 5
    },
    {
     "output_type": "execute_result",
     "data": {
      "text/plain": [
       "12752"
      ]
     },
     "metadata": {},
     "execution_count": 5
    },
    {
     "output_type": "execute_result",
     "data": {
      "text/plain": [
       "17076"
      ]
     },
     "metadata": {},
     "execution_count": 5
    },
    {
     "output_type": "execute_result",
     "data": {
      "text/plain": [
       "15638"
      ]
     },
     "metadata": {},
     "execution_count": 5
    }
   ],
   "metadata": {}
  }
 ],
 "metadata": {
  "orig_nbformat": 4,
  "language_info": {
   "name": "python",
   "version": "3.9.7",
   "mimetype": "text/x-python",
   "codemirror_mode": {
    "name": "ipython",
    "version": 3
   },
   "pygments_lexer": "ipython3",
   "nbconvert_exporter": "python",
   "file_extension": ".py"
  },
  "kernelspec": {
   "name": "python3",
   "display_name": "Python 3.9.7 64-bit"
  },
  "interpreter": {
   "hash": "4534460e0bdca1b390927d45471088fb3501d39abc4e3f2cee293892e17d7fc6"
  }
 },
 "nbformat": 4,
 "nbformat_minor": 2
}