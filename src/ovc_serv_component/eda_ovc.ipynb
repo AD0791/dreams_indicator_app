{
 "cells": [
  {
   "cell_type": "code",
   "execution_count": null,
   "source": [
    "%%capture\n",
    "from numpy import int16\n",
    "from pandas import NaT, to_datetime\n",
    "from IPython.core.interactiveshell import InteractiveShell\n",
    "InteractiveShell.ast_node_interactivity = \"all\"\n",
    "\n",
    "from ovc_actif import actif_in_Q3Q4, actif_in_Q3strict, actif_in_Q4strict\n",
    "from ovc_serv_functions import *"
   ],
   "outputs": [],
   "metadata": {}
  },
  {
   "cell_type": "code",
   "execution_count": 2,
   "source": [
    "actif_in_Q4strict.id_patient.count()\n",
    "actif_in_Q3strict.id_patient.count()\n",
    "actif_in_Q3Q4.id_patient.count()"
   ],
   "outputs": [
    {
     "output_type": "execute_result",
     "data": {
      "text/plain": [
       "6475"
      ]
     },
     "metadata": {},
     "execution_count": 2
    },
    {
     "output_type": "execute_result",
     "data": {
      "text/plain": [
       "4227"
      ]
     },
     "metadata": {},
     "execution_count": 2
    },
    {
     "output_type": "execute_result",
     "data": {
      "text/plain": [
       "5946"
      ]
     },
     "metadata": {},
     "execution_count": 2
    }
   ],
   "metadata": {}
  },
  {
   "cell_type": "code",
   "execution_count": 19,
   "source": [
    "def complete_at_least(df):\n",
    "    return \"yes\" if (df.curriculum==\"yes\" or df.condom==\"yes\" or df.hts==\"yes\" or df.post_violence_care==\"yes\" or df.socioeco_app==\"yes\" or df.prep==\"yes\" or df.parenting==\"yes\") else \"no\""
   ],
   "outputs": [],
   "metadata": {}
  },
  {
   "cell_type": "code",
   "execution_count": null,
   "source": [
    "actif_in_Q3strict['complete_at_least']= actif_in_Q3strict.apply(lambda df: complete_at_least(df),axis=1)\n",
    "actif_in_Q4strict['complete_at_least'] = actif_in_Q4strict.apply(lambda df: complete_at_least(df),axis=1)\n",
    "actif_in_Q3Q4['complete_at_least']= actif_in_Q3Q4.apply(lambda df: complete_at_least(df),axis=1)"
   ],
   "outputs": [],
   "metadata": {}
  },
  {
   "cell_type": "code",
   "execution_count": 34,
   "source": [
    "actif_in_Q4strict[actif_in_Q4strict.complete_at_least==\"yes\"].id_patient.count()\n",
    "actif_in_Q3strict[actif_in_Q3strict.complete_at_least==\"yes\"].id_patient.count()\n",
    "actif_in_Q3Q4[actif_in_Q3Q4.complete_at_least==\"yes\"].id_patient.count()"
   ],
   "outputs": [
    {
     "output_type": "execute_result",
     "data": {
      "text/plain": [
       "6368"
      ]
     },
     "metadata": {},
     "execution_count": 34
    },
    {
     "output_type": "execute_result",
     "data": {
      "text/plain": [
       "4062"
      ]
     },
     "metadata": {},
     "execution_count": 34
    },
    {
     "output_type": "execute_result",
     "data": {
      "text/plain": [
       "5927"
      ]
     },
     "metadata": {},
     "execution_count": 34
    }
   ],
   "metadata": {}
  },
  {
   "cell_type": "code",
   "execution_count": null,
   "source": [
    "actif_in_Q4strict.date_interview = to_datetime(actif_in_Q4strict.date_interview)\n",
    "actif_in_Q3strict.date_interview = to_datetime(actif_in_Q3strict.date_interview)\n",
    "actif_in_Q3Q4.date_interview= to_datetime(actif_in_Q3Q4.date_interview)"
   ],
   "outputs": [],
   "metadata": {}
  },
  {
   "cell_type": "code",
   "execution_count": 41,
   "source": [
    "def isEnrolledQ4(date):\n",
    "    return \"yes\" if (type(date)!=type(NaT)) and (date.year == 2021 and date.month>=7 and date.month<=9) else \"no\""
   ],
   "outputs": [],
   "metadata": {}
  },
  {
   "cell_type": "code",
   "execution_count": null,
   "source": [
    "actif_in_Q3strict['isEnrolledQ4']= actif_in_Q3strict.date_interview.map(isEnrolledQ4)\n",
    "actif_in_Q4strict['isEnrolledQ4'] = actif_in_Q4strict.date_interview.map(isEnrolledQ4)\n",
    "actif_in_Q3Q4['isEnrolledQ4']= actif_in_Q3Q4.date_interview.map(isEnrolledQ4)"
   ],
   "outputs": [],
   "metadata": {}
  },
  {
   "cell_type": "code",
   "execution_count": 43,
   "source": [
    "actif_in_Q3strict.isEnrolledQ4.unique()"
   ],
   "outputs": [
    {
     "output_type": "execute_result",
     "data": {
      "text/plain": [
       "array(['no', 'yes'], dtype=object)"
      ]
     },
     "metadata": {},
     "execution_count": 43
    }
   ],
   "metadata": {}
  },
  {
   "cell_type": "code",
   "execution_count": 44,
   "source": [
    "actif_in_Q4strict.isEnrolledQ4.unique()"
   ],
   "outputs": [
    {
     "output_type": "execute_result",
     "data": {
      "text/plain": [
       "array(['no', 'yes'], dtype=object)"
      ]
     },
     "metadata": {},
     "execution_count": 44
    }
   ],
   "metadata": {}
  },
  {
   "cell_type": "code",
   "execution_count": 45,
   "source": [
    "actif_in_Q3Q4.isEnrolledQ4.unique()"
   ],
   "outputs": [
    {
     "output_type": "execute_result",
     "data": {
      "text/plain": [
       "array(['no', 'yes'], dtype=object)"
      ]
     },
     "metadata": {},
     "execution_count": 45
    }
   ],
   "metadata": {}
  },
  {
   "cell_type": "code",
   "execution_count": 48,
   "source": [
    "actif_in_Q4strict[actif_in_Q4strict.isEnrolledQ4==\"yes\"].id_patient.count()\n",
    "actif_in_Q3strict[actif_in_Q3strict.isEnrolledQ4==\"yes\"].id_patient.count()\n",
    "actif_in_Q3Q4[actif_in_Q3Q4.isEnrolledQ4==\"yes\"].id_patient.count()"
   ],
   "outputs": [
    {
     "output_type": "execute_result",
     "data": {
      "text/plain": [
       "1225"
      ]
     },
     "metadata": {},
     "execution_count": 48
    },
    {
     "output_type": "execute_result",
     "data": {
      "text/plain": [
       "21"
      ]
     },
     "metadata": {},
     "execution_count": 48
    },
    {
     "output_type": "execute_result",
     "data": {
      "text/plain": [
       "682"
      ]
     },
     "metadata": {},
     "execution_count": 48
    }
   ],
   "metadata": {}
  },
  {
   "cell_type": "code",
   "execution_count": null,
   "source": [],
   "outputs": [],
   "metadata": {}
  }
 ],
 "metadata": {
  "orig_nbformat": 4,
  "language_info": {
   "name": "python",
   "version": "3.9.7",
   "mimetype": "text/x-python",
   "codemirror_mode": {
    "name": "ipython",
    "version": 3
   },
   "pygments_lexer": "ipython3",
   "nbconvert_exporter": "python",
   "file_extension": ".py"
  },
  "kernelspec": {
   "name": "python3",
   "display_name": "Python 3.9.7 64-bit"
  },
  "interpreter": {
   "hash": "aee8b7b246df8f9039afb4144a1f6fd8d2ca17a180786b69acc140d282b71a49"
  }
 },
 "nbformat": 4,
 "nbformat_minor": 2
}