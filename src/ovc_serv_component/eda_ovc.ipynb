{
 "cells": [
  {
   "cell_type": "code",
   "execution_count": 7,
   "source": [
    "from numpy import int16\r\n",
    "import pandas as pd\r\n",
    "from IPython.core.interactiveshell import InteractiveShell\r\n",
    "InteractiveShell.ast_node_interactivity = \"all\"\r\n",
    "\r\n",
    "from ovc_actif import actif_served_Qi as actif_Q3\r\n",
    "from ovc_actif import actif_served_Qj as actif_Q4\r\n",
    "from ovc_serv_functions import *"
   ],
   "outputs": [],
   "metadata": {}
  },
  {
   "cell_type": "code",
   "execution_count": 13,
   "source": [
    "\r\n",
    "\r\n",
    "actif_in_Q3Q4 = actif_Q3[actif_Q3.id_patient.isin(actif_Q4.id_patient)]\r\n",
    "actif_in_Q3Q4.id_patient.count()\r\n",
    "actif_in_Q3strict = actif_Q3[~actif_Q3.id_patient.isin(actif_Q4.id_patient)]\r\n",
    "actif_in_Q3strict.id_patient.count()\r\n",
    "actif_in_Q4strict = actif_Q4[~actif_Q4.id_patient.isin(actif_Q3.id_patient)]\r\n",
    "actif_in_Q4strict.id_patient.count()\r\n",
    "\r\n"
   ],
   "outputs": [
    {
     "output_type": "execute_result",
     "data": {
      "text/plain": [
       "3929"
      ]
     },
     "metadata": {},
     "execution_count": 13
    },
    {
     "output_type": "execute_result",
     "data": {
      "text/plain": [
       "4458"
      ]
     },
     "metadata": {},
     "execution_count": 13
    },
    {
     "output_type": "execute_result",
     "data": {
      "text/plain": [
       "3972"
      ]
     },
     "metadata": {},
     "execution_count": 13
    }
   ],
   "metadata": {}
  },
  {
   "cell_type": "code",
   "execution_count": null,
   "source": [
    "actif_in_Q3strict.nbre_pres_for_inter.fillna(0,inplace=True)\r\n",
    "actif_in_Q3strict.has_comdom_topic.fillna('no',inplace=True)\r\n",
    "actif_in_Q3strict.number_of_condoms_sensibilize.fillna(0,inplace=True)\r\n",
    "actif_in_Q3strict.number_condoms_reception_in_the_interval.fillna(0,inplace=True)\r\n",
    "actif_in_Q3strict.number_test_date_in_the_interval.fillna(0,inplace=True)\r\n",
    "actif_in_Q3strict.number_gynecological_care_date_in_the_interval.fillna(0,inplace=True)\r\n",
    "actif_in_Q3strict.number_vbg_treatment_date_in_the_interval.fillna(0,inplace=True)\r\n",
    "actif_in_Q3strict.number_prep_initiation_date_in_the_interval.fillna(0,inplace=True)\r\n",
    "\r\n",
    "\r\n",
    "actif_in_Q3strict.nbre_pres_for_inter = actif_in_Q3strict.nbre_pres_for_inter.astype(int16)\r\n",
    "actif_in_Q3strict.number_of_condoms_sensibilize = actif_in_Q3strict.number_of_condoms_sensibilize.astype(int16)\r\n",
    "actif_in_Q3strict.number_condoms_reception_in_the_interval= actif_in_Q3strict.number_condoms_reception_in_the_interval.astype(int16)\r\n",
    "actif_in_Q3strict.number_test_date_in_the_interval=actif_in_Q3strict.number_test_date_in_the_interval.astype(int16)\r\n",
    "actif_in_Q3strict.number_gynecological_care_date_in_the_interval=actif_in_Q3strict.number_gynecological_care_date_in_the_interval.astype(int16)\r\n",
    "actif_in_Q3strict.number_vbg_treatment_date_in_the_interval=actif_in_Q3strict.number_vbg_treatment_date_in_the_interval.astype(int16)\r\n",
    "actif_in_Q3strict.number_prep_initiation_date_in_the_interval=actif_in_Q3strict.number_prep_initiation_date_in_the_interval.astype(int16)\r\n",
    "\r\n",
    "### services\r\n",
    "actif_in_Q3strict['curriculum_detailed'] = actif_in_Q3strict.nbre_pres_for_inter.map(curriculum_detailed)\r\n",
    "actif_in_Q3strict['curriculum'] = actif_in_Q3strict.nbre_pres_for_inter.map(curriculum)\r\n",
    "actif_in_Q3strict['condom'] = actif_in_Q3strict.apply(lambda df: condom(df),axis=1 )\r\n",
    "actif_in_Q3strict['hts'] = actif_in_Q3strict.number_test_date_in_the_interval.map(hts)\r\n",
    "actif_in_Q3strict['post_violence_care'] = actif_in_Q3strict.apply(lambda df: postcare(df),axis=1 )\r\n",
    "actif_in_Q3strict['socioeco_app'] = actif_in_Q3strict.apply(lambda df: socioeco(df),axis=1 )\r\n",
    "actif_in_Q3strict['prep'] = actif_in_Q3strict.number_prep_initiation_date_in_the_interval.map(prep)\r\n",
    "\r\n",
    "actif_in_Q3strict['ps_1014'] = actif_in_Q3strict.apply(lambda df: prim_1014(df),axis=1 )\r\n",
    "actif_in_Q3strict['ps_1519'] = actif_in_Q3strict.apply(lambda df: prim_1519(df),axis=1 )\r\n",
    "actif_in_Q3strict['ps_2024'] = actif_in_Q3strict.apply(lambda df: prim_2024(df),axis=1 )\r\n",
    "actif_in_Q3strict['secondary_1014'] = actif_in_Q3strict.apply(lambda df: sec_1014(df),axis=1 )\r\n",
    "actif_in_Q3strict['secondary_1519'] = actif_in_Q3strict.apply(lambda df: sec_1519(df),axis=1 )\r\n",
    "actif_in_Q3strict['secondary_2024'] = actif_in_Q3strict.apply(lambda df: sec_2024(df),axis=1 )\r\n",
    "actif_in_Q3strict['complete_1014'] = actif_in_Q3strict.apply(lambda df: comp_1014(df),axis=1 )\r\n",
    "actif_in_Q3strict['complete_1519'] = actif_in_Q3strict.apply(lambda df: comp_1519(df),axis=1 )\r\n",
    "actif_in_Q3strict['complete_2024'] = actif_in_Q3strict.apply(lambda df: comp_2024(df),axis=1 )\r\n",
    "\r\n",
    "#######\r\n",
    "\r\n",
    "actif_in_Q3strict.nbre_pres_for_inter.fillna(0,inplace=True)\r\n",
    "actif_in_Q3strict.has_comdom_topic.fillna('no',inplace=True)\r\n",
    "actif_in_Q3strict.number_of_condoms_sensibilize.fillna(0,inplace=True)\r\n",
    "actif_in_Q3strict.number_condoms_reception_in_the_interval.fillna(0,inplace=True)\r\n",
    "actif_in_Q3strict.number_test_date_in_the_interval.fillna(0,inplace=True)\r\n",
    "actif_in_Q3strict.number_gynecological_care_date_in_the_interval.fillna(0,inplace=True)\r\n",
    "actif_in_Q3strict.number_vbg_treatment_date_in_the_interval.fillna(0,inplace=True)\r\n",
    "actif_in_Q3strict.number_prep_initiation_date_in_the_interval.fillna(0,inplace=True)\r\n",
    "\r\n",
    "\r\n",
    "actif_in_Q3strict.nbre_pres_for_inter = actif_in_Q3strict.nbre_pres_for_inter.astype(int16)\r\n",
    "actif_in_Q3strict.number_of_condoms_sensibilize = actif_in_Q3strict.number_of_condoms_sensibilize.astype(int16)\r\n",
    "actif_in_Q3strict.number_condoms_reception_in_the_interval= actif_in_Q3strict.number_condoms_reception_in_the_interval.astype(int16)\r\n",
    "actif_in_Q3strict.number_test_date_in_the_interval=actif_in_Q3strict.number_test_date_in_the_interval.astype(int16)\r\n",
    "actif_in_Q3strict.number_gynecological_care_date_in_the_interval=actif_in_Q3strict.number_gynecological_care_date_in_the_interval.astype(int16)\r\n",
    "actif_in_Q3strict.number_vbg_treatment_date_in_the_interval=actif_in_Q3strict.number_vbg_treatment_date_in_the_interval.astype(int16)\r\n",
    "actif_in_Q3strict.number_prep_initiation_date_in_the_interval=actif_in_Q3strict.number_prep_initiation_date_in_the_interval.astype(int16)\r\n",
    "\r\n",
    "### services\r\n",
    "actif_in_Q3strict['curriculum_detailed'] = actif_in_Q3strict.nbre_pres_for_inter.map(curriculum_detailed)\r\n",
    "actif_in_Q3strict['curriculum'] = actif_in_Q3strict.nbre_pres_for_inter.map(curriculum)\r\n",
    "actif_in_Q3strict['condom'] = actif_in_Q3strict.apply(lambda df: condom(df),axis=1 )\r\n",
    "actif_in_Q3strict['hts'] = actif_in_Q3strict.number_test_date_in_the_interval.map(hts)\r\n",
    "actif_in_Q3strict['post_violence_care'] = actif_in_Q3strict.apply(lambda df: postcare(df),axis=1 )\r\n",
    "actif_in_Q3strict['socioeco_app'] = actif_in_Q3strict.apply(lambda df: socioeco(df),axis=1 )\r\n",
    "actif_in_Q3strict['prep'] = actif_in_Q3strict.number_prep_initiation_date_in_the_interval.map(prep)\r\n",
    "\r\n",
    "actif_in_Q3strict['ps_1014'] = actif_in_Q3strict.apply(lambda df: prim_1014(df),axis=1 )\r\n",
    "actif_in_Q3strict['ps_1519'] = actif_in_Q3strict.apply(lambda df: prim_1519(df),axis=1 )\r\n",
    "actif_in_Q3strict['ps_2024'] = actif_in_Q3strict.apply(lambda df: prim_2024(df),axis=1 )\r\n",
    "actif_in_Q3strict['secondary_1014'] = actif_in_Q3strict.apply(lambda df: sec_1014(df),axis=1 )\r\n",
    "actif_in_Q3strict['secondary_1519'] = actif_in_Q3strict.apply(lambda df: sec_1519(df),axis=1 )\r\n",
    "actif_in_Q3strict['secondary_2024'] = actif_in_Q3strict.apply(lambda df: sec_2024(df),axis=1 )\r\n",
    "actif_in_Q3strict['complete_1014'] = actif_in_Q3strict.apply(lambda df: comp_1014(df),axis=1 )\r\n",
    "actif_in_Q3strict['complete_1519'] = actif_in_Q3strict.apply(lambda df: comp_1519(df),axis=1 )\r\n",
    "actif_in_Q3strict['complete_2024'] = actif_in_Q3strict.apply(lambda df: comp_2024(df),axis=1 )\r\n",
    "\r\n"
   ],
   "outputs": [],
   "metadata": {}
  },
  {
   "cell_type": "code",
   "execution_count": null,
   "source": [
    "actif_in_Q4strict.nbre_pres_for_inter.fillna(0,inplace=True)\r\n",
    "actif_in_Q4strict.has_comdom_topic.fillna('no',inplace=True)\r\n",
    "actif_in_Q4strict.number_of_condoms_sensibilize.fillna(0,inplace=True)\r\n",
    "actif_in_Q4strict.number_condoms_reception_in_the_interval.fillna(0,inplace=True)\r\n",
    "actif_in_Q4strict.number_test_date_in_the_interval.fillna(0,inplace=True)\r\n",
    "actif_in_Q4strict.number_gynecological_care_date_in_the_interval.fillna(0,inplace=True)\r\n",
    "actif_in_Q4strict.number_vbg_treatment_date_in_the_interval.fillna(0,inplace=True)\r\n",
    "actif_in_Q4strict.number_prep_initiation_date_in_the_interval.fillna(0,inplace=True)\r\n",
    "\r\n",
    "\r\n",
    "actif_in_Q4strict.nbre_pres_for_inter = actif_in_Q4strict.nbre_pres_for_inter.astype(int16)\r\n",
    "actif_in_Q4strict.number_of_condoms_sensibilize = actif_in_Q4strict.number_of_condoms_sensibilize.astype(int16)\r\n",
    "actif_in_Q4strict.number_condoms_reception_in_the_interval= actif_in_Q4strict.number_condoms_reception_in_the_interval.astype(int16)\r\n",
    "actif_in_Q4strict.number_test_date_in_the_interval=actif_in_Q4strict.number_test_date_in_the_interval.astype(int16)\r\n",
    "actif_in_Q4strict.number_gynecological_care_date_in_the_interval=actif_in_Q4strict.number_gynecological_care_date_in_the_interval.astype(int16)\r\n",
    "actif_in_Q4strict.number_vbg_treatment_date_in_the_interval=actif_in_Q4strict.number_vbg_treatment_date_in_the_interval.astype(int16)\r\n",
    "actif_in_Q4strict.number_prep_initiation_date_in_the_interval=actif_in_Q4strict.number_prep_initiation_date_in_the_interval.astype(int16)\r\n",
    "\r\n",
    "### services\r\n",
    "actif_in_Q4strict['curriculum_detailed'] = actif_in_Q4strict.nbre_pres_for_inter.map(curriculum_detailed)\r\n",
    "actif_in_Q4strict['curriculum'] = actif_in_Q4strict.nbre_pres_for_inter.map(curriculum)\r\n",
    "actif_in_Q4strict['condom'] = actif_in_Q4strict.apply(lambda df: condom(df),axis=1 )\r\n",
    "actif_in_Q4strict['hts'] = actif_in_Q4strict.number_test_date_in_the_interval.map(hts)\r\n",
    "actif_in_Q4strict['post_violence_care'] = actif_in_Q4strict.apply(lambda df: postcare(df),axis=1 )\r\n",
    "actif_in_Q4strict['socioeco_app'] = actif_in_Q4strict.apply(lambda df: socioeco(df),axis=1 )\r\n",
    "actif_in_Q4strict['prep'] = actif_in_Q4strict.number_prep_initiation_date_in_the_interval.map(prep)\r\n",
    "\r\n",
    "actif_in_Q4strict['ps_1014'] = actif_in_Q4strict.apply(lambda df: prim_1014(df),axis=1 )\r\n",
    "actif_in_Q4strict['ps_1519'] = actif_in_Q4strict.apply(lambda df: prim_1519(df),axis=1 )\r\n",
    "actif_in_Q4strict['ps_2024'] = actif_in_Q4strict.apply(lambda df: prim_2024(df),axis=1 )\r\n",
    "actif_in_Q4strict['secondary_1014'] = actif_in_Q4strict.apply(lambda df: sec_1014(df),axis=1 )\r\n",
    "actif_in_Q4strict['secondary_1519'] = actif_in_Q4strict.apply(lambda df: sec_1519(df),axis=1 )\r\n",
    "actif_in_Q4strict['secondary_2024'] = actif_in_Q4strict.apply(lambda df: sec_2024(df),axis=1 )\r\n",
    "actif_in_Q4strict['complete_1014'] = actif_in_Q4strict.apply(lambda df: comp_1014(df),axis=1 )\r\n",
    "actif_in_Q4strict['complete_1519'] = actif_in_Q4strict.apply(lambda df: comp_1519(df),axis=1 )\r\n",
    "actif_in_Q4strict['complete_2024'] = actif_in_Q4strict.apply(lambda df: comp_2024(df),axis=1 )\r\n",
    "\r\n",
    "#######\r\n",
    "\r\n",
    "actif_in_Q4strict.nbre_pres_for_inter.fillna(0,inplace=True)\r\n",
    "actif_in_Q4strict.has_comdom_topic.fillna('no',inplace=True)\r\n",
    "actif_in_Q4strict.number_of_condoms_sensibilize.fillna(0,inplace=True)\r\n",
    "actif_in_Q4strict.number_condoms_reception_in_the_interval.fillna(0,inplace=True)\r\n",
    "actif_in_Q4strict.number_test_date_in_the_interval.fillna(0,inplace=True)\r\n",
    "actif_in_Q4strict.number_gynecological_care_date_in_the_interval.fillna(0,inplace=True)\r\n",
    "actif_in_Q4strict.number_vbg_treatment_date_in_the_interval.fillna(0,inplace=True)\r\n",
    "actif_in_Q4strict.number_prep_initiation_date_in_the_interval.fillna(0,inplace=True)\r\n",
    "\r\n",
    "\r\n",
    "actif_in_Q4strict.nbre_pres_for_inter = actif_in_Q4strict.nbre_pres_for_inter.astype(int16)\r\n",
    "actif_in_Q4strict.number_of_condoms_sensibilize = actif_in_Q4strict.number_of_condoms_sensibilize.astype(int16)\r\n",
    "actif_in_Q4strict.number_condoms_reception_in_the_interval= actif_in_Q4strict.number_condoms_reception_in_the_interval.astype(int16)\r\n",
    "actif_in_Q4strict.number_test_date_in_the_interval=actif_in_Q4strict.number_test_date_in_the_interval.astype(int16)\r\n",
    "actif_in_Q4strict.number_gynecological_care_date_in_the_interval=actif_in_Q4strict.number_gynecological_care_date_in_the_interval.astype(int16)\r\n",
    "actif_in_Q4strict.number_vbg_treatment_date_in_the_interval=actif_in_Q4strict.number_vbg_treatment_date_in_the_interval.astype(int16)\r\n",
    "actif_in_Q4strict.number_prep_initiation_date_in_the_interval=actif_in_Q4strict.number_prep_initiation_date_in_the_interval.astype(int16)\r\n",
    "\r\n",
    "### services\r\n",
    "actif_in_Q4strict['curriculum_detailed'] = actif_in_Q4strict.nbre_pres_for_inter.map(curriculum_detailed)\r\n",
    "actif_in_Q4strict['curriculum'] = actif_in_Q4strict.nbre_pres_for_inter.map(curriculum)\r\n",
    "actif_in_Q4strict['condom'] = actif_in_Q4strict.apply(lambda df: condom(df),axis=1 )\r\n",
    "actif_in_Q4strict['hts'] = actif_in_Q4strict.number_test_date_in_the_interval.map(hts)\r\n",
    "actif_in_Q4strict['post_violence_care'] = actif_in_Q4strict.apply(lambda df: postcare(df),axis=1 )\r\n",
    "actif_in_Q4strict['socioeco_app'] = actif_in_Q4strict.apply(lambda df: socioeco(df),axis=1 )\r\n",
    "actif_in_Q4strict['prep'] = actif_in_Q4strict.number_prep_initiation_date_in_the_interval.map(prep)\r\n",
    "\r\n",
    "actif_in_Q4strict['ps_1014'] = actif_in_Q4strict.apply(lambda df: prim_1014(df),axis=1 )\r\n",
    "actif_in_Q4strict['ps_1519'] = actif_in_Q4strict.apply(lambda df: prim_1519(df),axis=1 )\r\n",
    "actif_in_Q4strict['ps_2024'] = actif_in_Q4strict.apply(lambda df: prim_2024(df),axis=1 )\r\n",
    "actif_in_Q4strict['secondary_1014'] = actif_in_Q4strict.apply(lambda df: sec_1014(df),axis=1 )\r\n",
    "actif_in_Q4strict['secondary_1519'] = actif_in_Q4strict.apply(lambda df: sec_1519(df),axis=1 )\r\n",
    "actif_in_Q4strict['secondary_2024'] = actif_in_Q4strict.apply(lambda df: sec_2024(df),axis=1 )\r\n",
    "actif_in_Q4strict['complete_1014'] = actif_in_Q4strict.apply(lambda df: comp_1014(df),axis=1 )\r\n",
    "actif_in_Q4strict['complete_1519'] = actif_in_Q4strict.apply(lambda df: comp_1519(df),axis=1 )\r\n",
    "actif_in_Q4strict['complete_2024'] = actif_in_Q4strict.apply(lambda df: comp_2024(df),axis=1 )\r\n",
    "\r\n"
   ],
   "outputs": [],
   "metadata": {}
  },
  {
   "cell_type": "code",
   "execution_count": null,
   "source": [],
   "outputs": [],
   "metadata": {}
  }
 ],
 "metadata": {
  "orig_nbformat": 4,
  "language_info": {
   "name": "python",
   "version": "3.9.7",
   "mimetype": "text/x-python",
   "codemirror_mode": {
    "name": "ipython",
    "version": 3
   },
   "pygments_lexer": "ipython3",
   "nbconvert_exporter": "python",
   "file_extension": ".py"
  },
  "kernelspec": {
   "name": "python3",
   "display_name": "Python 3.9.7 64-bit"
  },
  "interpreter": {
   "hash": "4534460e0bdca1b390927d45471088fb3501d39abc4e3f2cee293892e17d7fc6"
  }
 },
 "nbformat": 4,
 "nbformat_minor": 2
}