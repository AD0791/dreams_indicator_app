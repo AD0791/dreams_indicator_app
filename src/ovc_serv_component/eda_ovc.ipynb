{
 "cells": [
  {
   "cell_type": "code",
   "execution_count": 3,
   "source": [
    "from numpy import int16\r\n",
    "import pandas as pd\r\n",
    "from IPython.core.interactiveshell import InteractiveShell\r\n",
    "InteractiveShell.ast_node_interactivity = \"all\"\r\n",
    "\r\n",
    "from ovc_actif import actif_in_Q3Q4, actif_in_Q3strict, actif_in_Q4strict\r\n",
    "from ovc_serv_functions import *"
   ],
   "outputs": [],
   "metadata": {}
  },
  {
   "cell_type": "code",
   "execution_count": 4,
   "source": [
    "actif_in_Q4strict.id_patient.count()\r\n",
    "actif_in_Q3strict.id_patient.count()\r\n",
    "actif_in_Q3Q4.id_patient.count()"
   ],
   "outputs": [
    {
     "output_type": "execute_result",
     "data": {
      "text/plain": [
       "3972"
      ]
     },
     "metadata": {},
     "execution_count": 4
    },
    {
     "output_type": "execute_result",
     "data": {
      "text/plain": [
       "4458"
      ]
     },
     "metadata": {},
     "execution_count": 4
    },
    {
     "output_type": "execute_result",
     "data": {
      "text/plain": [
       "3929"
      ]
     },
     "metadata": {},
     "execution_count": 4
    }
   ],
   "metadata": {}
  },
  {
   "cell_type": "code",
   "execution_count": 12,
   "source": [
    "def complete_at_least(df):\r\n",
    "    \"yes\" if (df.curriculum==\"yes\" or df.condom==\"yes\" or df.hts==\"yes\" or df.post_violence_care==\"yes\" or df.socioeco_app==\"yes\" or df.prep==\"yes\") else \"no\""
   ],
   "outputs": [],
   "metadata": {}
  },
  {
   "cell_type": "code",
   "execution_count": null,
   "source": [
    "actif_in_Q3strict.apply(lambda df: complete_at_least(df),axis=1)\r\n",
    "actif_in_Q3Q4.apply(lambda df: complete_at_least(df),axis=1)"
   ],
   "outputs": [],
   "metadata": {}
  }
 ],
 "metadata": {
  "orig_nbformat": 4,
  "language_info": {
   "name": "python",
   "version": "3.9.7",
   "mimetype": "text/x-python",
   "codemirror_mode": {
    "name": "ipython",
    "version": 3
   },
   "pygments_lexer": "ipython3",
   "nbconvert_exporter": "python",
   "file_extension": ".py"
  },
  "kernelspec": {
   "name": "python3",
   "display_name": "Python 3.9.7 64-bit"
  },
  "interpreter": {
   "hash": "4534460e0bdca1b390927d45471088fb3501d39abc4e3f2cee293892e17d7fc6"
  }
 },
 "nbformat": 4,
 "nbformat_minor": 2
}