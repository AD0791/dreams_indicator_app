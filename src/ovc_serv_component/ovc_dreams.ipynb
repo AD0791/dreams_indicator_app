{
 "cells": [
  {
   "cell_type": "code",
   "execution_count": 1,
   "source": [
    "%%capture\n",
    "from numpy import int16\n",
    "from IPython.core.interactiveshell import InteractiveShell\n",
    "InteractiveShell.ast_node_interactivity = \"all\"\n",
    "\n",
    "from ovc_actif import actif_in_Q3Q4, actif_in_Q3strict, actif_in_Q4strict, actif_in_Q3, actif_in_Q4\n",
    "from ovc_serv_functions import *\n",
    "from pandas import concat"
   ],
   "outputs": [],
   "metadata": {}
  },
  {
   "cell_type": "code",
   "execution_count": 2,
   "source": [
    "actif_in_Q3.id_patient.count()\n",
    "actif_in_Q4.id_patient.count()\n",
    "\n",
    "if not ((actif_in_Q3.id_patient.count() == actif_in_Q3Q4.id_patient.count() + actif_in_Q3strict.id_patient.count()) and (actif_in_Q4.id_patient.count() == actif_in_Q3Q4.id_patient.count() + actif_in_Q4strict.id_patient.count())):\n",
    "    raise ValueError(\"Qi <> Qistrict + QiQj, bad logic\")\n",
    "else:\n",
    "    print(\"the logic  Qi = Qistrict + QiQj is valid\")"
   ],
   "outputs": [
    {
     "output_type": "execute_result",
     "data": {
      "text/plain": [
       "10457"
      ]
     },
     "metadata": {},
     "execution_count": 2
    },
    {
     "output_type": "execute_result",
     "data": {
      "text/plain": [
       "12985"
      ]
     },
     "metadata": {},
     "execution_count": 2
    },
    {
     "output_type": "stream",
     "name": "stdout",
     "text": [
      "the logic  Qi = Qistrict + QiQj is valid\n"
     ]
    }
   ],
   "metadata": {}
  },
  {
   "cell_type": "code",
   "execution_count": 3,
   "source": [
    "# actif_in_Q3Q4 = actif_in_Q3[actif_in_Q3.id_patient.isin(actif_in_Q4.id_patient)]\n",
    "\n",
    "#### check the symetrie\n",
    "\n",
    "actif_in_Q4Q3 = actif_in_Q4[actif_in_Q4.id_patient.isin(actif_in_Q3.id_patient)]\n",
    "actif_in_Q4Q3.id_patient.count()"
   ],
   "outputs": [
    {
     "output_type": "execute_result",
     "data": {
      "text/plain": [
       "6245"
      ]
     },
     "metadata": {},
     "execution_count": 3
    }
   ],
   "metadata": {}
  },
  {
   "cell_type": "code",
   "execution_count": 4,
   "source": [
    "actif_in_Q4strict.id_patient.count()\n",
    "actif_in_Q3strict.id_patient.count()\n",
    "actif_in_Q3Q4.id_patient.count()"
   ],
   "outputs": [
    {
     "output_type": "execute_result",
     "data": {
      "text/plain": [
       "6740"
      ]
     },
     "metadata": {},
     "execution_count": 4
    },
    {
     "output_type": "execute_result",
     "data": {
      "text/plain": [
       "4212"
      ]
     },
     "metadata": {},
     "execution_count": 4
    },
    {
     "output_type": "execute_result",
     "data": {
      "text/plain": [
       "6245"
      ]
     },
     "metadata": {},
     "execution_count": 4
    }
   ],
   "metadata": {}
  },
  {
   "cell_type": "code",
   "execution_count": 5,
   "source": [
    "completed_Q4strict =  actif_in_Q4strict[actif_in_Q4strict.complete_at_least==\"yes\"]\n",
    "completed_Q3strict =  actif_in_Q3strict[actif_in_Q3strict.complete_at_least==\"yes\"]\n",
    "completed_Q3Q4 =  actif_in_Q3Q4[actif_in_Q3Q4.complete_at_least==\"yes\"]\n",
    "\n",
    "completed_Q4strict.id_patient.count()\n",
    "completed_Q3strict.id_patient.count()\n",
    "completed_Q3Q4.id_patient.count()"
   ],
   "outputs": [
    {
     "output_type": "execute_result",
     "data": {
      "text/plain": [
       "6534"
      ]
     },
     "metadata": {},
     "execution_count": 5
    },
    {
     "output_type": "execute_result",
     "data": {
      "text/plain": [
       "4044"
      ]
     },
     "metadata": {},
     "execution_count": 5
    },
    {
     "output_type": "execute_result",
     "data": {
      "text/plain": [
       "6123"
      ]
     },
     "metadata": {},
     "execution_count": 5
    }
   ],
   "metadata": {}
  },
  {
   "cell_type": "markdown",
   "source": [
    "# Enrolled Q4"
   ],
   "metadata": {}
  },
  {
   "cell_type": "code",
   "execution_count": 6,
   "source": [
    "enrolledQ4_CQ4strict = completed_Q4strict[completed_Q4strict.isEnrolledQ4==\"yes\"]\n",
    "#enrolledQ4_CQ3strict = completed_Q3strict[completed_Q3strict.isEnrolledQ4==\"yes\"]\n",
    "#enrolledQ4_CQ3Q4 = completed_Q3Q4[completed_Q3Q4.isEnrolledQ4==\"yes\"]\n",
    "\n",
    "\n",
    "enrolledQ4_CQ4strict.id_patient.count()\n",
    "#enrolledQ4_CQ3strict.id_patient.count()\n",
    "#enrolledQ4_CQ3Q4.id_patient.count()\n",
    "\n",
    "\n",
    "\n",
    "\n",
    "#enrolledQ4_CQ3Q4[enrolledQ4_CQ3Q4.id_patient.isin(enrolledQ4_CQ4strict.id_patient)].id_patient.count()\n",
    "#enrolledQ4_CQ3Q4[enrolledQ4_CQ3Q4.id_patient.isin(enrolledQ4_CQ3strict.id_patient)].id_patient.count()\n",
    "#enrolledQ4_CQ4strict[enrolledQ4_CQ4strict.id_patient.isin(enrolledQ4_CQ3strict.id_patient)].id_patient.count()\n",
    "\n",
    "\n",
    "#enrolledQ4_CQ4strict[~enrolledQ4_CQ4strict.id_patient.isin(enrolledQ4_CQ3strict.id_patient)].id_patient.count()\n",
    "#enrolledQ4_CQ3Q4[~enrolledQ4_CQ3Q4.id_patient.isin(enrolledQ4_CQ3strict.id_patient)].id_patient.count()\n",
    "#enrolledQ4_CQ3Q4[~enrolledQ4_CQ3Q4.id_patient.isin(enrolledQ4_CQ4strict.id_patient)].id_patient.count()"
   ],
   "outputs": [
    {
     "output_type": "execute_result",
     "data": {
      "text/plain": [
       "1225"
      ]
     },
     "metadata": {},
     "execution_count": 6
    }
   ],
   "metadata": {}
  },
  {
   "cell_type": "markdown",
   "source": [
    "# Concatenation"
   ],
   "metadata": {}
  },
  {
   "cell_type": "code",
   "execution_count": 7,
   "source": [
    "all_ovc = concat([completed_Q3Q4,enrolledQ4_CQ4strict])"
   ],
   "outputs": [],
   "metadata": {}
  },
  {
   "cell_type": "code",
   "execution_count": 8,
   "source": [
    "all_ovc.drop_duplicates(\"id_patient\",inplace=True)\n",
    "all_ovc.id_patient.count()\n",
    "all_ovc.fillna(\"0,\",inplace=True)\n",
    "all_ovc.test_results.value_counts()"
   ],
   "outputs": [
    {
     "output_type": "execute_result",
     "data": {
      "text/plain": [
       "7348"
      ]
     },
     "metadata": {},
     "execution_count": 8
    },
    {
     "output_type": "execute_result",
     "data": {
      "text/plain": [
       "0,          5008\n",
       "0,,2,       1366\n",
       "2,           956\n",
       "1,             6\n",
       "0,,3,          4\n",
       "0,,1,,2,       2\n",
       "0,,1,          2\n",
       "3,             2\n",
       "0,,2,,3,       1\n",
       "2,,3,          1\n",
       "Name: test_results, dtype: int64"
      ]
     },
     "metadata": {},
     "execution_count": 8
    }
   ],
   "metadata": {}
  },
  {
   "cell_type": "code",
   "execution_count": 9,
   "source": [
    "ovc_data = all_ovc[\n",
    "    (all_ovc.test_results!=\"0,,3,\")&\n",
    "    (all_ovc.test_results!=\"0,,1,,2,\")&\n",
    "    (all_ovc.test_results!=\"0,,2,,3,\")&\n",
    "    (all_ovc.test_results!=\"3,\")&\n",
    "    (all_ovc.test_results!=\"2,,3,\")\n",
    "]\n",
    "ovc_data.id_patient.count()\n",
    "ovc_data.test_results.value_counts()"
   ],
   "outputs": [
    {
     "output_type": "execute_result",
     "data": {
      "text/plain": [
       "7338"
      ]
     },
     "metadata": {},
     "execution_count": 9
    },
    {
     "output_type": "execute_result",
     "data": {
      "text/plain": [
       "0,       5008\n",
       "0,,2,    1366\n",
       "2,        956\n",
       "1,          6\n",
       "0,,1,       2\n",
       "Name: test_results, dtype: int64"
      ]
     },
     "metadata": {},
     "execution_count": 9
    }
   ],
   "metadata": {}
  },
  {
   "cell_type": "markdown",
   "source": [
    "# postive OVC_DREAMS"
   ],
   "metadata": {}
  },
  {
   "cell_type": "code",
   "execution_count": 10,
   "source": [
    "positive_dreams= ovc_data[\n",
    "    (ovc_data.test_results==\"1,\")|\n",
    "    (ovc_data.test_results==\"0,,1,\")\n",
    "]\n",
    "positive_dreams.id_patient.count()"
   ],
   "outputs": [
    {
     "output_type": "execute_result",
     "data": {
      "text/plain": [
       "8"
      ]
     },
     "metadata": {},
     "execution_count": 10
    }
   ],
   "metadata": {}
  },
  {
   "cell_type": "code",
   "execution_count": 11,
   "source": [
    "positive_dreams"
   ],
   "outputs": [
    {
     "output_type": "execute_result",
     "data": {
      "text/html": [
       "<div>\n",
       "<style scoped>\n",
       "    .dataframe tbody tr th:only-of-type {\n",
       "        vertical-align: middle;\n",
       "    }\n",
       "\n",
       "    .dataframe tbody tr th {\n",
       "        vertical-align: top;\n",
       "    }\n",
       "\n",
       "    .dataframe thead th {\n",
       "        text-align: right;\n",
       "    }\n",
       "</style>\n",
       "<table border=\"1\" class=\"dataframe\">\n",
       "  <thead>\n",
       "    <tr style=\"text-align: right;\">\n",
       "      <th></th>\n",
       "      <th>id_patient</th>\n",
       "      <th>id_parenting_group</th>\n",
       "      <th>departement</th>\n",
       "      <th>commune</th>\n",
       "      <th>nbre_pres_for_inter</th>\n",
       "      <th>nbre_parenting_coupe_present</th>\n",
       "      <th>has_comdom_topic</th>\n",
       "      <th>number_of_condoms_sensibilize</th>\n",
       "      <th>number_condoms_reception_in_the_interval</th>\n",
       "      <th>number_test_date_in_the_interval</th>\n",
       "      <th>...</th>\n",
       "      <th>ps_1519</th>\n",
       "      <th>ps_2024</th>\n",
       "      <th>secondary_1014</th>\n",
       "      <th>secondary_1519</th>\n",
       "      <th>secondary_2024</th>\n",
       "      <th>complete_1014</th>\n",
       "      <th>complete_1519</th>\n",
       "      <th>complete_2024</th>\n",
       "      <th>complete_at_least</th>\n",
       "      <th>isEnrolledQ4</th>\n",
       "    </tr>\n",
       "  </thead>\n",
       "  <tbody>\n",
       "    <tr>\n",
       "      <th>479</th>\n",
       "      <td>85541</td>\n",
       "      <td>0,</td>\n",
       "      <td>Ouest</td>\n",
       "      <td>Delmas</td>\n",
       "      <td>0</td>\n",
       "      <td>0</td>\n",
       "      <td>no</td>\n",
       "      <td>1</td>\n",
       "      <td>0</td>\n",
       "      <td>0</td>\n",
       "      <td>...</td>\n",
       "      <td>no</td>\n",
       "      <td>no</td>\n",
       "      <td>no</td>\n",
       "      <td>no</td>\n",
       "      <td>no</td>\n",
       "      <td>no</td>\n",
       "      <td>no</td>\n",
       "      <td>no</td>\n",
       "      <td>yes</td>\n",
       "      <td>no</td>\n",
       "    </tr>\n",
       "    <tr>\n",
       "      <th>662</th>\n",
       "      <td>80897</td>\n",
       "      <td>0,</td>\n",
       "      <td>Artibonite</td>\n",
       "      <td>Grande Saline</td>\n",
       "      <td>0</td>\n",
       "      <td>0</td>\n",
       "      <td>no</td>\n",
       "      <td>1</td>\n",
       "      <td>0</td>\n",
       "      <td>0</td>\n",
       "      <td>...</td>\n",
       "      <td>no</td>\n",
       "      <td>no</td>\n",
       "      <td>no</td>\n",
       "      <td>no</td>\n",
       "      <td>secondary</td>\n",
       "      <td>no</td>\n",
       "      <td>no</td>\n",
       "      <td>complete</td>\n",
       "      <td>yes</td>\n",
       "      <td>no</td>\n",
       "    </tr>\n",
       "    <tr>\n",
       "      <th>1438</th>\n",
       "      <td>114955</td>\n",
       "      <td>0,</td>\n",
       "      <td>Artibonite</td>\n",
       "      <td>Verrettes</td>\n",
       "      <td>8</td>\n",
       "      <td>0</td>\n",
       "      <td>yes</td>\n",
       "      <td>2</td>\n",
       "      <td>1</td>\n",
       "      <td>0</td>\n",
       "      <td>...</td>\n",
       "      <td>no</td>\n",
       "      <td>no</td>\n",
       "      <td>no</td>\n",
       "      <td>no</td>\n",
       "      <td>no</td>\n",
       "      <td>no</td>\n",
       "      <td>no</td>\n",
       "      <td>no</td>\n",
       "      <td>yes</td>\n",
       "      <td>no</td>\n",
       "    </tr>\n",
       "    <tr>\n",
       "      <th>2384</th>\n",
       "      <td>119259</td>\n",
       "      <td>0,</td>\n",
       "      <td>Artibonite</td>\n",
       "      <td>Grande Saline</td>\n",
       "      <td>0</td>\n",
       "      <td>0</td>\n",
       "      <td>no</td>\n",
       "      <td>2</td>\n",
       "      <td>0</td>\n",
       "      <td>0</td>\n",
       "      <td>...</td>\n",
       "      <td>no</td>\n",
       "      <td>no</td>\n",
       "      <td>no</td>\n",
       "      <td>no</td>\n",
       "      <td>no</td>\n",
       "      <td>no</td>\n",
       "      <td>no</td>\n",
       "      <td>no</td>\n",
       "      <td>yes</td>\n",
       "      <td>no</td>\n",
       "    </tr>\n",
       "    <tr>\n",
       "      <th>2710</th>\n",
       "      <td>100506</td>\n",
       "      <td>0,</td>\n",
       "      <td>Ouest</td>\n",
       "      <td>Tabarre</td>\n",
       "      <td>0</td>\n",
       "      <td>0</td>\n",
       "      <td>no</td>\n",
       "      <td>1</td>\n",
       "      <td>0</td>\n",
       "      <td>0</td>\n",
       "      <td>...</td>\n",
       "      <td>no</td>\n",
       "      <td>no</td>\n",
       "      <td>no</td>\n",
       "      <td>no</td>\n",
       "      <td>no</td>\n",
       "      <td>no</td>\n",
       "      <td>no</td>\n",
       "      <td>no</td>\n",
       "      <td>yes</td>\n",
       "      <td>no</td>\n",
       "    </tr>\n",
       "    <tr>\n",
       "      <th>3345</th>\n",
       "      <td>109625</td>\n",
       "      <td>0,</td>\n",
       "      <td>Artibonite</td>\n",
       "      <td>Petite Rivière de l'Artibonite</td>\n",
       "      <td>0</td>\n",
       "      <td>0</td>\n",
       "      <td>no</td>\n",
       "      <td>1</td>\n",
       "      <td>0</td>\n",
       "      <td>0</td>\n",
       "      <td>...</td>\n",
       "      <td>no</td>\n",
       "      <td>no</td>\n",
       "      <td>no</td>\n",
       "      <td>no</td>\n",
       "      <td>no</td>\n",
       "      <td>no</td>\n",
       "      <td>no</td>\n",
       "      <td>no</td>\n",
       "      <td>yes</td>\n",
       "      <td>no</td>\n",
       "    </tr>\n",
       "    <tr>\n",
       "      <th>4726</th>\n",
       "      <td>125012</td>\n",
       "      <td>0,</td>\n",
       "      <td>Ouest</td>\n",
       "      <td>Port-au-Prince</td>\n",
       "      <td>0</td>\n",
       "      <td>0</td>\n",
       "      <td>no</td>\n",
       "      <td>1</td>\n",
       "      <td>0</td>\n",
       "      <td>0</td>\n",
       "      <td>...</td>\n",
       "      <td>no</td>\n",
       "      <td>no</td>\n",
       "      <td>secondary</td>\n",
       "      <td>no</td>\n",
       "      <td>no</td>\n",
       "      <td>complete</td>\n",
       "      <td>no</td>\n",
       "      <td>no</td>\n",
       "      <td>yes</td>\n",
       "      <td>yes</td>\n",
       "    </tr>\n",
       "    <tr>\n",
       "      <th>4672</th>\n",
       "      <td>125650</td>\n",
       "      <td>0,</td>\n",
       "      <td>Ouest</td>\n",
       "      <td>Port-au-Prince</td>\n",
       "      <td>21</td>\n",
       "      <td>0</td>\n",
       "      <td>yes</td>\n",
       "      <td>0</td>\n",
       "      <td>0</td>\n",
       "      <td>1</td>\n",
       "      <td>...</td>\n",
       "      <td>no</td>\n",
       "      <td>primary</td>\n",
       "      <td>no</td>\n",
       "      <td>no</td>\n",
       "      <td>secondary</td>\n",
       "      <td>no</td>\n",
       "      <td>no</td>\n",
       "      <td>no</td>\n",
       "      <td>yes</td>\n",
       "      <td>yes</td>\n",
       "    </tr>\n",
       "  </tbody>\n",
       "</table>\n",
       "<p>8 rows × 42 columns</p>\n",
       "</div>"
      ],
      "text/plain": [
       "      id_patient id_parenting_group departement  \\\n",
       "479        85541                 0,       Ouest   \n",
       "662        80897                 0,  Artibonite   \n",
       "1438      114955                 0,  Artibonite   \n",
       "2384      119259                 0,  Artibonite   \n",
       "2710      100506                 0,       Ouest   \n",
       "3345      109625                 0,  Artibonite   \n",
       "4726      125012                 0,       Ouest   \n",
       "4672      125650                 0,       Ouest   \n",
       "\n",
       "                             commune  nbre_pres_for_inter  \\\n",
       "479                           Delmas                    0   \n",
       "662                    Grande Saline                    0   \n",
       "1438                       Verrettes                    8   \n",
       "2384                   Grande Saline                    0   \n",
       "2710                         Tabarre                    0   \n",
       "3345  Petite Rivière de l'Artibonite                    0   \n",
       "4726                  Port-au-Prince                    0   \n",
       "4672                  Port-au-Prince                   21   \n",
       "\n",
       "      nbre_parenting_coupe_present has_comdom_topic  \\\n",
       "479                              0               no   \n",
       "662                              0               no   \n",
       "1438                             0              yes   \n",
       "2384                             0               no   \n",
       "2710                             0               no   \n",
       "3345                             0               no   \n",
       "4726                             0               no   \n",
       "4672                             0              yes   \n",
       "\n",
       "      number_of_condoms_sensibilize  number_condoms_reception_in_the_interval  \\\n",
       "479                               1                                         0   \n",
       "662                               1                                         0   \n",
       "1438                              2                                         1   \n",
       "2384                              2                                         0   \n",
       "2710                              1                                         0   \n",
       "3345                              1                                         0   \n",
       "4726                              1                                         0   \n",
       "4672                              0                                         0   \n",
       "\n",
       "      number_test_date_in_the_interval  ... ps_1519  ps_2024  secondary_1014  \\\n",
       "479                                  0  ...      no       no              no   \n",
       "662                                  0  ...      no       no              no   \n",
       "1438                                 0  ...      no       no              no   \n",
       "2384                                 0  ...      no       no              no   \n",
       "2710                                 0  ...      no       no              no   \n",
       "3345                                 0  ...      no       no              no   \n",
       "4726                                 0  ...      no       no       secondary   \n",
       "4672                                 1  ...      no  primary              no   \n",
       "\n",
       "      secondary_1519  secondary_2024 complete_1014 complete_1519  \\\n",
       "479               no              no            no            no   \n",
       "662               no       secondary            no            no   \n",
       "1438              no              no            no            no   \n",
       "2384              no              no            no            no   \n",
       "2710              no              no            no            no   \n",
       "3345              no              no            no            no   \n",
       "4726              no              no      complete            no   \n",
       "4672              no       secondary            no            no   \n",
       "\n",
       "     complete_2024 complete_at_least isEnrolledQ4  \n",
       "479             no               yes           no  \n",
       "662       complete               yes           no  \n",
       "1438            no               yes           no  \n",
       "2384            no               yes           no  \n",
       "2710            no               yes           no  \n",
       "3345            no               yes           no  \n",
       "4726            no               yes          yes  \n",
       "4672            no               yes          yes  \n",
       "\n",
       "[8 rows x 42 columns]"
      ]
     },
     "metadata": {},
     "execution_count": 11
    }
   ],
   "metadata": {}
  },
  {
   "cell_type": "markdown",
   "source": [
    "# OVC_SERV_DREAMS"
   ],
   "metadata": {}
  },
  {
   "cell_type": "code",
   "execution_count": 12,
   "source": [
    "ovc_data.ovc_age.unique()"
   ],
   "outputs": [
    {
     "output_type": "execute_result",
     "data": {
      "text/plain": [
       "array(['18-24', '10-14', '15-17', '25-29', 'not_valid_age'], dtype=object)"
      ]
     },
     "metadata": {},
     "execution_count": 12
    }
   ],
   "metadata": {}
  },
  {
   "cell_type": "code",
   "execution_count": 13,
   "source": [
    "ovcS_dreams = ovc_data[\n",
    "    (ovc_data.ovc_age==\"10-14\")|\n",
    "    (ovc_data.ovc_age==\"15-17\")\n",
    "]\n",
    "ovcS_dreams.id_patient.count()\n",
    "ovcS_dreams['Gender'] = \"Female\""
   ],
   "outputs": [
    {
     "output_type": "execute_result",
     "data": {
      "text/plain": [
       "3806"
      ]
     },
     "metadata": {},
     "execution_count": 13
    },
    {
     "output_type": "stream",
     "name": "stderr",
     "text": [
      "/var/folders/7v/rs0k237d6nj3vdxfc1h7xtcw0000gn/T/ipykernel_6752/4236012469.py:6: SettingWithCopyWarning: \n",
      "A value is trying to be set on a copy of a slice from a DataFrame.\n",
      "Try using .loc[row_indexer,col_indexer] = value instead\n",
      "\n",
      "See the caveats in the documentation: https://pandas.pydata.org/pandas-docs/stable/user_guide/indexing.html#returning-a-view-versus-a-copy\n",
      "  ovcS_dreams['Gender'] = \"Female\"\n"
     ]
    }
   ],
   "metadata": {}
  },
  {
   "cell_type": "markdown",
   "source": [
    "# Format Datim"
   ],
   "metadata": {}
  },
  {
   "cell_type": "code",
   "execution_count": 14,
   "source": [
    "datim_ovc_dreams = ovcS_dreams.pivot_table(index=\"commune\",values=\"id_patient\",columns=[\"Gender\",\"ovc_age\"],aggfunc='count',fill_value=0)"
   ],
   "outputs": [],
   "metadata": {}
  },
  {
   "cell_type": "code",
   "execution_count": 15,
   "source": [
    "datim_ovc_dreams[('Female','<1')] = 0\n",
    "datim_ovc_dreams[('Female','1-4')] = 0\n",
    "datim_ovc_dreams[('Female','5-9')] = 0\n",
    "datim_ovc_dreams[('Female','18+')] = 0\n",
    "\n",
    "columns_orientation =[\n",
    "    ('Female','<1'),\n",
    "    ('Female','1-4'),\n",
    "    ('Female','5-9'),\n",
    "    ('Female','10-14'),\n",
    "    ('Female','15-17'),   \n",
    "    ('Female','18+'),   \n",
    "]\n",
    "\n",
    "datim_ovc_dreams = datim_ovc_dreams.reindex(columns= columns_orientation)\n",
    "datim_ovc_dreams"
   ],
   "outputs": [
    {
     "output_type": "execute_result",
     "data": {
      "text/html": [
       "<div>\n",
       "<style scoped>\n",
       "    .dataframe tbody tr th:only-of-type {\n",
       "        vertical-align: middle;\n",
       "    }\n",
       "\n",
       "    .dataframe tbody tr th {\n",
       "        vertical-align: top;\n",
       "    }\n",
       "\n",
       "    .dataframe thead tr th {\n",
       "        text-align: left;\n",
       "    }\n",
       "\n",
       "    .dataframe thead tr:last-of-type th {\n",
       "        text-align: right;\n",
       "    }\n",
       "</style>\n",
       "<table border=\"1\" class=\"dataframe\">\n",
       "  <thead>\n",
       "    <tr>\n",
       "      <th>Gender</th>\n",
       "      <th colspan=\"6\" halign=\"left\">Female</th>\n",
       "    </tr>\n",
       "    <tr>\n",
       "      <th>ovc_age</th>\n",
       "      <th>&lt;1</th>\n",
       "      <th>1-4</th>\n",
       "      <th>5-9</th>\n",
       "      <th>10-14</th>\n",
       "      <th>15-17</th>\n",
       "      <th>18+</th>\n",
       "    </tr>\n",
       "    <tr>\n",
       "      <th>commune</th>\n",
       "      <th></th>\n",
       "      <th></th>\n",
       "      <th></th>\n",
       "      <th></th>\n",
       "      <th></th>\n",
       "      <th></th>\n",
       "    </tr>\n",
       "  </thead>\n",
       "  <tbody>\n",
       "    <tr>\n",
       "      <th>Cap-Haïtien</th>\n",
       "      <td>0</td>\n",
       "      <td>0</td>\n",
       "      <td>0</td>\n",
       "      <td>115</td>\n",
       "      <td>111</td>\n",
       "      <td>0</td>\n",
       "    </tr>\n",
       "    <tr>\n",
       "      <th>Carrefour</th>\n",
       "      <td>0</td>\n",
       "      <td>0</td>\n",
       "      <td>0</td>\n",
       "      <td>135</td>\n",
       "      <td>112</td>\n",
       "      <td>0</td>\n",
       "    </tr>\n",
       "    <tr>\n",
       "      <th>Delmas</th>\n",
       "      <td>0</td>\n",
       "      <td>0</td>\n",
       "      <td>0</td>\n",
       "      <td>78</td>\n",
       "      <td>45</td>\n",
       "      <td>0</td>\n",
       "    </tr>\n",
       "    <tr>\n",
       "      <th>Desdunes</th>\n",
       "      <td>0</td>\n",
       "      <td>0</td>\n",
       "      <td>0</td>\n",
       "      <td>91</td>\n",
       "      <td>75</td>\n",
       "      <td>0</td>\n",
       "    </tr>\n",
       "    <tr>\n",
       "      <th>Dessalines</th>\n",
       "      <td>0</td>\n",
       "      <td>0</td>\n",
       "      <td>0</td>\n",
       "      <td>193</td>\n",
       "      <td>89</td>\n",
       "      <td>0</td>\n",
       "    </tr>\n",
       "    <tr>\n",
       "      <th>Grande Saline</th>\n",
       "      <td>0</td>\n",
       "      <td>0</td>\n",
       "      <td>0</td>\n",
       "      <td>104</td>\n",
       "      <td>107</td>\n",
       "      <td>0</td>\n",
       "    </tr>\n",
       "    <tr>\n",
       "      <th>Gressier</th>\n",
       "      <td>0</td>\n",
       "      <td>0</td>\n",
       "      <td>0</td>\n",
       "      <td>75</td>\n",
       "      <td>34</td>\n",
       "      <td>0</td>\n",
       "    </tr>\n",
       "    <tr>\n",
       "      <th>Kenscoff</th>\n",
       "      <td>0</td>\n",
       "      <td>0</td>\n",
       "      <td>0</td>\n",
       "      <td>388</td>\n",
       "      <td>284</td>\n",
       "      <td>0</td>\n",
       "    </tr>\n",
       "    <tr>\n",
       "      <th>La Chapelle</th>\n",
       "      <td>0</td>\n",
       "      <td>0</td>\n",
       "      <td>0</td>\n",
       "      <td>26</td>\n",
       "      <td>31</td>\n",
       "      <td>0</td>\n",
       "    </tr>\n",
       "    <tr>\n",
       "      <th>Liancourt</th>\n",
       "      <td>0</td>\n",
       "      <td>0</td>\n",
       "      <td>0</td>\n",
       "      <td>51</td>\n",
       "      <td>63</td>\n",
       "      <td>0</td>\n",
       "    </tr>\n",
       "    <tr>\n",
       "      <th>Limonade</th>\n",
       "      <td>0</td>\n",
       "      <td>0</td>\n",
       "      <td>0</td>\n",
       "      <td>43</td>\n",
       "      <td>21</td>\n",
       "      <td>0</td>\n",
       "    </tr>\n",
       "    <tr>\n",
       "      <th>Milot</th>\n",
       "      <td>0</td>\n",
       "      <td>0</td>\n",
       "      <td>0</td>\n",
       "      <td>52</td>\n",
       "      <td>24</td>\n",
       "      <td>0</td>\n",
       "    </tr>\n",
       "    <tr>\n",
       "      <th>Montrouis</th>\n",
       "      <td>0</td>\n",
       "      <td>0</td>\n",
       "      <td>0</td>\n",
       "      <td>41</td>\n",
       "      <td>36</td>\n",
       "      <td>0</td>\n",
       "    </tr>\n",
       "    <tr>\n",
       "      <th>Petite Rivière de l'Artibonite</th>\n",
       "      <td>0</td>\n",
       "      <td>0</td>\n",
       "      <td>0</td>\n",
       "      <td>97</td>\n",
       "      <td>130</td>\n",
       "      <td>0</td>\n",
       "    </tr>\n",
       "    <tr>\n",
       "      <th>Plaine-du-Nord</th>\n",
       "      <td>0</td>\n",
       "      <td>0</td>\n",
       "      <td>0</td>\n",
       "      <td>37</td>\n",
       "      <td>17</td>\n",
       "      <td>0</td>\n",
       "    </tr>\n",
       "    <tr>\n",
       "      <th>Port-au-Prince</th>\n",
       "      <td>0</td>\n",
       "      <td>0</td>\n",
       "      <td>0</td>\n",
       "      <td>86</td>\n",
       "      <td>99</td>\n",
       "      <td>0</td>\n",
       "    </tr>\n",
       "    <tr>\n",
       "      <th>Pétionville</th>\n",
       "      <td>0</td>\n",
       "      <td>0</td>\n",
       "      <td>0</td>\n",
       "      <td>65</td>\n",
       "      <td>72</td>\n",
       "      <td>0</td>\n",
       "    </tr>\n",
       "    <tr>\n",
       "      <th>Quartier-Morin</th>\n",
       "      <td>0</td>\n",
       "      <td>0</td>\n",
       "      <td>0</td>\n",
       "      <td>29</td>\n",
       "      <td>22</td>\n",
       "      <td>0</td>\n",
       "    </tr>\n",
       "    <tr>\n",
       "      <th>Saint-Marc</th>\n",
       "      <td>0</td>\n",
       "      <td>0</td>\n",
       "      <td>0</td>\n",
       "      <td>246</td>\n",
       "      <td>257</td>\n",
       "      <td>0</td>\n",
       "    </tr>\n",
       "    <tr>\n",
       "      <th>Tabarre</th>\n",
       "      <td>0</td>\n",
       "      <td>0</td>\n",
       "      <td>0</td>\n",
       "      <td>30</td>\n",
       "      <td>24</td>\n",
       "      <td>0</td>\n",
       "    </tr>\n",
       "    <tr>\n",
       "      <th>Verrettes</th>\n",
       "      <td>0</td>\n",
       "      <td>0</td>\n",
       "      <td>0</td>\n",
       "      <td>79</td>\n",
       "      <td>92</td>\n",
       "      <td>0</td>\n",
       "    </tr>\n",
       "  </tbody>\n",
       "</table>\n",
       "</div>"
      ],
      "text/plain": [
       "Gender                         Female                        \n",
       "ovc_age                            <1 1-4 5-9 10-14 15-17 18+\n",
       "commune                                                      \n",
       "Cap-Haïtien                         0   0   0   115   111   0\n",
       "Carrefour                           0   0   0   135   112   0\n",
       "Delmas                              0   0   0    78    45   0\n",
       "Desdunes                            0   0   0    91    75   0\n",
       "Dessalines                          0   0   0   193    89   0\n",
       "Grande Saline                       0   0   0   104   107   0\n",
       "Gressier                            0   0   0    75    34   0\n",
       "Kenscoff                            0   0   0   388   284   0\n",
       "La Chapelle                         0   0   0    26    31   0\n",
       "Liancourt                           0   0   0    51    63   0\n",
       "Limonade                            0   0   0    43    21   0\n",
       "Milot                               0   0   0    52    24   0\n",
       "Montrouis                           0   0   0    41    36   0\n",
       "Petite Rivière de l'Artibonite      0   0   0    97   130   0\n",
       "Plaine-du-Nord                      0   0   0    37    17   0\n",
       "Port-au-Prince                      0   0   0    86    99   0\n",
       "Pétionville                         0   0   0    65    72   0\n",
       "Quartier-Morin                      0   0   0    29    22   0\n",
       "Saint-Marc                          0   0   0   246   257   0\n",
       "Tabarre                             0   0   0    30    24   0\n",
       "Verrettes                           0   0   0    79    92   0"
      ]
     },
     "metadata": {},
     "execution_count": 15
    }
   ],
   "metadata": {}
  },
  {
   "cell_type": "code",
   "execution_count": 16,
   "source": [
    "# datim_ovc_dreams.reset_index()"
   ],
   "outputs": [],
   "metadata": {}
  },
  {
   "cell_type": "code",
   "execution_count": null,
   "source": [],
   "outputs": [],
   "metadata": {}
  }
 ],
 "metadata": {
  "orig_nbformat": 4,
  "language_info": {
   "name": "python",
   "version": "3.9.7",
   "mimetype": "text/x-python",
   "codemirror_mode": {
    "name": "ipython",
    "version": 3
   },
   "pygments_lexer": "ipython3",
   "nbconvert_exporter": "python",
   "file_extension": ".py"
  },
  "kernelspec": {
   "name": "python3",
   "display_name": "Python 3.9.7 64-bit"
  },
  "interpreter": {
   "hash": "aee8b7b246df8f9039afb4144a1f6fd8d2ca17a180786b69acc140d282b71a49"
  }
 },
 "nbformat": 4,
 "nbformat_minor": 2
}