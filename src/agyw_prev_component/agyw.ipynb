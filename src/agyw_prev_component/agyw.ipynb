{
 "cells": [
  {
   "cell_type": "code",
   "execution_count": null,
   "source": [
    "from re import sub\r\n",
    "from pandas import DataFrame\r\n",
    "\r\n",
    "from agyw_actif import actif_served as AGYW_ACTIF\r\n",
    "\r\n",
    "from IPython.core.interactiveshell import InteractiveShell\r\n",
    "InteractiveShell.ast_node_interactivity = \"all\""
   ],
   "outputs": [],
   "metadata": {}
  },
  {
   "cell_type": "code",
   "execution_count": 9,
   "source": [
    "AGYW_ACTIF.dtypes"
   ],
   "outputs": [
    {
     "output_type": "execute_result",
     "data": {
      "text/plain": [
       "id_patient                                         int64\n",
       "departement                                       object\n",
       "commune                                           object\n",
       "nbre_pres_for_inter                                int16\n",
       "has_comdom_topic                                  object\n",
       "number_of_condoms_sensibilize                      int16\n",
       "number_condoms_reception_in_the_interval           int16\n",
       "number_test_date_in_the_interval                   int16\n",
       "number_vbg_treatment_date_in_the_interval          int16\n",
       "number_gynecological_care_date_in_the_interval     int16\n",
       "number_prep_initiation_date_in_the_interval        int16\n",
       "age_in_year                                        int64\n",
       "age_range                                         object\n",
       "month_in_program_range                            object\n",
       "muso                                              object\n",
       "gardening                                         object\n",
       "has_a_service_with_date_in_the_past               object\n",
       "curriculum_detailed                               object\n",
       "curriculum                                        object\n",
       "condom                                            object\n",
       "hts                                               object\n",
       "post_violence_care                                object\n",
       "socioeco_app                                      object\n",
       "prep                                              object\n",
       "ps_1014                                           object\n",
       "ps_1519                                           object\n",
       "ps_2024                                           object\n",
       "secondary_1014                                    object\n",
       "secondary_1519                                    object\n",
       "secondary_2024                                    object\n",
       "complete_1014                                     object\n",
       "complete_1519                                     object\n",
       "complete_2024                                     object\n",
       "dtype: object"
      ]
     },
     "metadata": {},
     "execution_count": 9
    }
   ],
   "metadata": {}
  },
  {
   "cell_type": "code",
   "execution_count": 10,
   "source": [
    "pipo = list(AGYW_ACTIF.month_in_program_range.unique())\r\n",
    "pipo.append(\"Total\")\r\n",
    "sorted(list(AGYW_ACTIF.age_range.unique())[0:3])\r\n",
    "sorted(pipo)"
   ],
   "outputs": [
    {
     "output_type": "execute_result",
     "data": {
      "text/plain": [
       "['10-14', '15-19', '20-24']"
      ]
     },
     "metadata": {},
     "execution_count": 10
    },
    {
     "output_type": "execute_result",
     "data": {
      "text/plain": [
       "['0-6 months', '07-12 months', '13-24 months', '25+ months', 'Total']"
      ]
     },
     "metadata": {},
     "execution_count": 10
    }
   ],
   "metadata": {}
  },
  {
   "cell_type": "markdown",
   "source": [
    "# Indicator"
   ],
   "metadata": {}
  },
  {
   "cell_type": "code",
   "execution_count": 50,
   "source": [
    "class AgywPrev:\r\n",
    "    \"\"\"A class with properties and methods given the results of the indicator AGYW_PREV DATIM\"\"\" \r\n",
    "    __who_am_I =\"DATIM\"\r\n",
    "    __datim1_title=\"Number of individual AGYW that have fully completed the entire DREAMS primary package of services but have not received any services beyond the primary package.\"\r\n",
    "    __datim2_title=\"Number of individual AGYW that have fully completed the entire DREAMS primary package of services AND at least one additional secondary service.\"\r\n",
    "    __datim3_title=\"Number of individual AGYW that have fully completed at least one DREAMS primary package of services but not the full primary package of services.\"\r\n",
    "    __datim4_title=\"Number of AGYW that have started a DREAMS service/intervention but have not yet completed it.\"\r\n",
    "    \r\n",
    "    def __repr__(self):\r\n",
    "        return f\"<AgywPrev {self.__i_am}>\"\r\n",
    "    \r\n",
    "    def __str__(self):\r\n",
    "        return f\"<AgywPrev {self.__i_am}>\"\r\n",
    "    \r\n",
    "    @classmethod\r\n",
    "    def datim_titleI(cls):\r\n",
    "        return cls.__datim1_title\r\n",
    "    \r\n",
    "    @classmethod\r\n",
    "    def datim_titleII(cls):\r\n",
    "        return cls.__datim2_title\r\n",
    "    \r\n",
    "    @classmethod\r\n",
    "    def datim_titleIII(cls):\r\n",
    "        return cls.__datim3_title\r\n",
    "    \r\n",
    "    @classmethod\r\n",
    "    def datim_titleIV(cls):\r\n",
    "        return cls.__datim4_title\r\n",
    "    \r\n",
    "    \r\n",
    "    def __init__(self,commune=None):\r\n",
    "        self.__commune = commune\r\n",
    "        self.__i_am = f\"{AgywPrev.__who_am_I}\"\r\n",
    "        self.__data =  AGYW_ACTIF\r\n",
    "        self. __total_mastersheet = self.__data.id_patient.count()\r\n",
    "        if self.__commune == None:\r\n",
    "            self.__dreams_valid = self.__data[(self.__data.age_range !=\"not_valid_age\") & (self.__data.age_range != \"25-29\")]\r\n",
    "        else:\r\n",
    "            self.__dreams_valid = self.__data[(self.__data.age_range !=\"not_valid_age\") & (self.__data.age_range != \"25-29\") &(self.__data.commune == f\"{self.__commune}\")]\r\n",
    "        self.__total_dreams_valid = self.__dreams_valid.id_patient.count()\r\n",
    "        self.__dreams_valid[\"primary_only\"] = self.__dreams_valid.apply(lambda df: self.__primFunc(df),axis=1)\r\n",
    "        self.__dreams_valid[\"primary_and_OneSecondary_services\"] = self.__dreams_valid.apply(lambda df: self.__primLeastOneSecFunc(df),axis=1)\r\n",
    "        self.__dreams_valid[\"completed_one_service\"] = self.__dreams_valid.apply(lambda df: self.__primPartFunc(df),axis=1)\r\n",
    "        self.__dreams_valid[\"has_started_one_service\"] = self.__dreams_valid.apply(lambda df: self.__hasStartedFunc(df),axis=1)\r\n",
    "        self.__agyw_prevI = self.__dreams_valid[self.__dreams_valid.primary_only == \"full_primary_only\"]\r\n",
    "        self.__agyw_prevII = self.__dreams_valid[self.__dreams_valid.primary_and_OneSecondary_services == \"full_primary_leastOneSecondary\"]\r\n",
    "        self.__agyw_prevIII = self.__dreams_valid[self.__dreams_valid.completed_one_service == \"primary_part_services\"]  \r\n",
    "        self.__agyw_prevIV = self.__dreams_valid[self.__dreams_valid.has_started_one_service == \"yes\"]  \r\n",
    "        self.__agyw_prevI_total = self.__agyw_prevI.id_patient.count()\r\n",
    "        self.__agyw_prevII_total = self.__agyw_prevII.id_patient.count()\r\n",
    "        self.__agyw_prevIII_total = self.__agyw_prevIII.id_patient.count()\r\n",
    "        self.__agyw_prevIV_total = self.__agyw_prevIV.id_patient.count()\r\n",
    "        self.__total_datim = self.__agyw_prevI_total + self.__agyw_prevII_total + self.__agyw_prevIII_total + self.__agyw_prevIV_total\r\n",
    "        \r\n",
    "        \r\n",
    "    @property\r\n",
    "    def who_am_i(self):\r\n",
    "        return self.__i_am\r\n",
    "    \r\n",
    "    @property\r\n",
    "    def data_mastersheet(self):\r\n",
    "        return self.__data\r\n",
    "    \r\n",
    "    @property\r\n",
    "    def data_dreams_valid(self):\r\n",
    "        return self.__dreams_valid\r\n",
    "\r\n",
    "    @property\r\n",
    "    def total_mastersheet(self):\r\n",
    "        return self.__total_mastersheet\r\n",
    "\r\n",
    "    @property\r\n",
    "    def total_dreams_valid(self):\r\n",
    "        return self.__total_dreams_valid\r\n",
    "    \r\n",
    "    def __primFunc(self,df):\r\n",
    "        if (df.ps_1014 == \"primary\" and df.hts == \"no\" and df.prep==\"no\" and df.condom == \"no\" and df.post_violence_care == \"no\" and df.socioeco_app == \"no\" ): \r\n",
    "            return \"full_primary_only\"\r\n",
    "        elif (df.ps_1519 == \"primary\" and df.hts == \"no\" and df.prep==\"no\"  and df.post_violence_care == \"no\" and df.socioeco_app == \"no\" ):\r\n",
    "            return \"full_primary_only\"\r\n",
    "        elif (df.ps_2024 == \"primary\" and df.hts == \"no\" and df.prep==\"no\"  and df.post_violence_care == \"no\" and df.socioeco_app == \"no\" ):\r\n",
    "            return \"full_primary_only\"\r\n",
    "        else:\r\n",
    "            return \"invalid\"\r\n",
    "    \r\n",
    "    def __primLeastOneSecFunc(self,df):\r\n",
    "        if (df.ps_1014 == \"primary\") and (df.hts == \"yes\" or df.prep==\"yes\" or df.condom == \"yes\" or df.post_violence_care == \"yes\" or df.socioeco_app == \"yes\" ):\r\n",
    "            return \"full_primary_leastOneSecondary\"\r\n",
    "        elif (df.ps_1519 == \"primary\") and (df.hts == \"yes\" or df.prep==\"yes\" or df.post_violence_care == \"yes\" or df.socioeco_app == \"yes\" ):\r\n",
    "            return \"full_primary_leastOneSecondary\"\r\n",
    "        elif (df.ps_2024 == \"primary\") and (df.hts == \"yes\" or df.prep==\"yes\"  or df.post_violence_care == \"yes\" or df.socioeco_app == \"yes\" ):\r\n",
    "            return \"full_primary_leastOneSecondary\"\r\n",
    "        else:\r\n",
    "            return \"invalid\"\r\n",
    "        \r\n",
    "    def __primPartFunc(self,df):\r\n",
    "        if (df.age_range==\"10-14\") and (df.primary_only==\"invalid\") and (df.primary_and_OneSecondary_services=='invalid') and ((df.hts == \"yes\" or df.prep==\"yes\" or df.condom == \"yes\" or df.post_violence_care == \"yes\" or df.socioeco_app == \"yes\" )):\r\n",
    "            return \"primary_part_services\"\r\n",
    "        elif (df.age_range == \"15-19\") and (df.primary_only==\"invalid\") and (df.primary_and_OneSecondary_services=='invalid') and (df.curriculum==\"yes\" or df.condom==\"yes\" or df.hts == \"yes\" or df.prep==\"yes\" or df.post_violence_care == \"yes\" or df.socioeco_app == \"yes\" ) : \r\n",
    "            return \"primary_part_services\"\r\n",
    "        elif (df.age_range == \"20-24\") and (df.primary_only==\"invalid\")and (df.primary_and_OneSecondary_services=='invalid') and(( df.curriculum==\"yes\" or df.condom==\"yes\" or df.hts == \"yes\" or df.prep==\"yes\"  or df.post_violence_care == \"yes\" or df.socioeco_app == \"yes\" )):\r\n",
    "            return \"primary_part_services\"\r\n",
    "        else:\r\n",
    "            return \"invalid\"\r\n",
    "    \r\n",
    "    def __hasStartedFunc(self,df):\r\n",
    "        if (df.age_range==\"10-14\") and (df.primary_only==\"invalid\") and (df.primary_and_OneSecondary_services=='invalid') and (df.completed_one_service==\"invalid\"):\r\n",
    "            return \"yes\"\r\n",
    "        elif (df.age_range == \"15-19\") and (df.primary_only==\"invalid\") and (df.primary_and_OneSecondary_services=='invalid') and (df.completed_one_service==\"invalid\") : \r\n",
    "            return \"yes\"\r\n",
    "        elif (df.age_range == \"20-24\") and (df.primary_only==\"invalid\")and (df.primary_and_OneSecondary_services=='invalid') and (df.completed_one_service==\"invalid\"):\r\n",
    "            return \"yes\"\r\n",
    "        else:\r\n",
    "            return \"no\"\r\n",
    "            \r\n",
    "    @property\r\n",
    "    def total_datimI(self):\r\n",
    "        return self.__agyw_prevI_total\r\n",
    "    \r\n",
    "    @property\r\n",
    "    def total_datimII(self):\r\n",
    "        return self.__agyw_prevII_total\r\n",
    "    \r\n",
    "    @property\r\n",
    "    def total_datimIII(self):\r\n",
    "        return self.__agyw_prevIII_total\r\n",
    "    \r\n",
    "    @property\r\n",
    "    def total_datimIV(self):\r\n",
    "        return self.__agyw_prevIV_total\r\n",
    "    \r\n",
    "    @property\r\n",
    "    def total_datim_general(self):\r\n",
    "        return self.__total_datim\r\n",
    "    \r\n",
    "    @property\r\n",
    "    def data_agyw_prevI(self):\r\n",
    "        return self.__agyw_prevI\r\n",
    "\r\n",
    "    @property\r\n",
    "    def data_agyw_prevII(self):\r\n",
    "        return self.__agyw_prevII\r\n",
    "\r\n",
    "    @property\r\n",
    "    def data_agyw_prevIII(self):\r\n",
    "        return self.__agyw_prevIII\r\n",
    "    \r\n",
    "    @property\r\n",
    "    def data_agyw_prevIV(self):\r\n",
    "        return self.__agyw_prevIV\r\n",
    "\r\n",
    "    __PERIOD_DATIM = sorted(list(AGYW_ACTIF.month_in_program_range.unique()))\r\n",
    "    __PERIOD_DATIM.append(\"Total\")\r\n",
    "    __AGE_DATIM = sorted(list(AGYW_ACTIF.age_range.unique())[0:3])\r\n",
    "    \r\n",
    "    def datim_agyw_prevI(self):\r\n",
    "        \r\n",
    "        try:\r\n",
    "            pivotableI = self.__agyw_prevI.rename(columns={\"age_range\":\"Age\", \"month_in_program_range\":\"Time\"})\r\n",
    "            agyw_prevI_pivot = pivotableI.pivot_table(index=\"Age\",columns=\"Time\", values=\"id_patient\",aggfunc=\"count\",fill_value=0,margins=True,margins_name=\"Total\",dropna=False)[:-1]\r\n",
    "            columns_pivotI = list(agyw_prevI_pivot.columns)\r\n",
    "            indexes_pivotI = list(agyw_prevI_pivot.index)\r\n",
    "            for period in AgywPrev.__PERIOD_DATIM:\r\n",
    "                if period not in columns_pivotI:\r\n",
    "                    agyw_prevI_pivot[period] = 0\r\n",
    "            for age in AgywPrev.__AGE_DATIM:\r\n",
    "                if age not in indexes_pivotI:\r\n",
    "                    agyw_prevI_pivot.loc[age] = 0\r\n",
    "            agyw_prevI_pivot = agyw_prevI_pivot.reindex(index=AgywPrev.__AGE_DATIM, columns =AgywPrev.__PERIOD_DATIM)\r\n",
    "            agyw_prevI_pivot_final = agyw_prevI_pivot.reset_index().rename_axis(None, axis=1)\r\n",
    "            agyw_prevI_results_final = DataFrame( agyw_prevI_pivot_final.to_records(index=False))\r\n",
    "        except ValueError:\r\n",
    "            agyw_prevI_results_final = DataFrame({\"Age\":[\"10-14\",\"15-19\",\r\n",
    "                \"20-24\"],\r\n",
    "                \"0-6 months\":[0,0,0],\r\n",
    "                \"07-12 months\":[0,0,0],\r\n",
    "                \"13-24 months\":[0,0,0],\r\n",
    "                \"25+ months\":[0,0,0],\r\n",
    "                \"Total\":[0,0,0]\r\n",
    "            })\r\n",
    "        return agyw_prevI_results_final\r\n",
    "    \r\n",
    "    def datim_agyw_prevII(self):\r\n",
    "        try:\r\n",
    "            pivotableII = self.__agyw_prevII.rename(columns={\"age_range\":\"Age\", \"month_in_program_range\":\"Time\"})\r\n",
    "            agyw_prevII_pivot = pivotableII.pivot_table(index=\"Age\",columns=\"Time\", values=\"id_patient\",aggfunc=\"count\",fill_value=0,margins=True,margins_name=\"Total\",dropna=False)[:-1]\r\n",
    "            columns_pivotII = list(agyw_prevII_pivot.columns)\r\n",
    "            indexes_pivotII = list(agyw_prevII_pivot.index)\r\n",
    "            for period in AgywPrev.__PERIOD_DATIM:\r\n",
    "                if period not in columns_pivotII:\r\n",
    "                    agyw_prevII_pivot[period] = 0\r\n",
    "            for age in AgywPrev.__AGE_DATIM:\r\n",
    "                if age not in indexes_pivotII:\r\n",
    "                    agyw_prevII_pivot.loc[age] = 0\r\n",
    "            agyw_prevII_pivot = agyw_prevII_pivot.reindex(index=AgywPrev.__AGE_DATIM,columns =AgywPrev.__PERIOD_DATIM)            \r\n",
    "            agyw_prevII_pivot_final = agyw_prevII_pivot.reset_index().rename_axis(None, axis=1)\r\n",
    "            agyw_prevII_results_final = DataFrame( agyw_prevII_pivot_final.to_records(index=False))\r\n",
    "        except ValueError:\r\n",
    "            agyw_prevII_results_final = DataFrame({\"Age\":[\"10-14\", \"15-19\",\r\n",
    "                \"20-24\"],\r\n",
    "                \"0-6 months\":[0,0,0],\r\n",
    "                \"07-12 months\":[0,0,0],\r\n",
    "                \"13-24 months\":[0,0,0],\r\n",
    "                \"25+ months\":[0,0,0],\r\n",
    "                \"Total\":[0,0,0]\r\n",
    "            })\r\n",
    "        return agyw_prevII_results_final\r\n",
    "    \r\n",
    "    def datim_agyw_prevIII(self):\r\n",
    "        try:\r\n",
    "            pivotableIII = self.__agyw_prevIII.rename(columns={\"age_range\":\"Age\", \"month_in_program_range\":\"Time\"})\r\n",
    "            agyw_prevIII_pivot = pivotableIII.pivot_table(index=\"Age\",columns=\"Time\", values=\"id_patient\",aggfunc=\"count\",fill_value=0,margins=True,margins_name=\"Total\",dropna=False)[:-1]\r\n",
    "            columns_pivotIII = list(agyw_prevIII_pivot.columns)\r\n",
    "            indexes_pivotIII = list(agyw_prevIII_pivot.index)\r\n",
    "            for period in AgywPrev.__PERIOD_DATIM:\r\n",
    "                if period not in columns_pivotIII:\r\n",
    "                    agyw_prevIII_pivot[period] = 0\r\n",
    "            for age in AgywPrev.__AGE_DATIM:\r\n",
    "                if age not in indexes_pivotIII:\r\n",
    "                    agyw_prevIII_pivot.loc[age] = 0\r\n",
    "            agyw_prevIII_pivot = agyw_prevIII_pivot.reindex(index=AgywPrev.__AGE_DATIM,columns =AgywPrev.__PERIOD_DATIM)\r\n",
    "            agyw_prevIII_pivot_final = agyw_prevIII_pivot.reset_index().rename_axis(None, axis=1)\r\n",
    "            agyw_prevIII_results_final = DataFrame( agyw_prevIII_pivot_final.to_records(index=False))\r\n",
    "        except ValueError:\r\n",
    "            agyw_prevIII_results_final = DataFrame({\"Age\":[\"10-14\",                     \"15-19\",\r\n",
    "                \"20-24\"],\r\n",
    "                \"0-6 months\":[0,0,0],\r\n",
    "                \"07-12 months\":[0,0,0],\r\n",
    "                \"13-24 months\":[0,0,0],\r\n",
    "                \"25+ months\":[0,0,0],\r\n",
    "                \"Total\":[0,0,0]\r\n",
    "            })\r\n",
    "        return agyw_prevIII_results_final\r\n",
    "    \r\n",
    "    def datim_agyw_prevIV(self):\r\n",
    "        try:\r\n",
    "            pivotableIV = self.__agyw_prevIV.rename(columns={\"age_range\":\"Age\", \"month_in_program_range\":\"Time\"})\r\n",
    "            agyw_prevIV_pivot = pivotableIV.pivot_table(index=\"Age\",columns=\"Time\", values=\"id_patient\",aggfunc=\"count\",fill_value=0,margins=True,margins_name=\"Total\",dropna=False)[:-1]\r\n",
    "            columns_pivotIII = list(agyw_prevIV_pivot.columns)\r\n",
    "            indexes_pivotIII = list(agyw_prevIV_pivot.index)\r\n",
    "            for period in AgywPrev.__PERIOD_DATIM:\r\n",
    "                if period not in columns_pivotIII:\r\n",
    "                    agyw_prevIV_pivot[period] = 0\r\n",
    "            for age in AgywPrev.__AGE_DATIM:\r\n",
    "                if age not in indexes_pivotIII:\r\n",
    "                    agyw_prevIV_pivot.loc[age] = 0\r\n",
    "            agyw_prevIV_pivot = agyw_prevIV_pivot.reindex(index=AgywPrev.__AGE_DATIM,columns =AgywPrev.__PERIOD_DATIM)\r\n",
    "            agyw_prevIV_pivot_final = agyw_prevIV_pivot.reset_index().rename_axis(None, axis=1)\r\n",
    "            agyw_prevIV_results_final = DataFrame( agyw_prevIV_pivot_final.to_records(index=False))\r\n",
    "        except ValueError:\r\n",
    "            agyw_prevIV_results_final = DataFrame({\"Age\":[\"10-14\",                     \"15-19\",\r\n",
    "                \"20-24\"],\r\n",
    "                \"0-6 months\":[0,0,0],\r\n",
    "                \"07-12 months\":[0,0,0],\r\n",
    "                \"13-24 months\":[0,0,0],\r\n",
    "                \"25+ months\":[0,0,0],\r\n",
    "                \"Total\":[0,0,0]\r\n",
    "            })\r\n",
    "        return agyw_prevIV_results_final"
   ],
   "outputs": [],
   "metadata": {}
  },
  {
   "cell_type": "code",
   "execution_count": 51,
   "source": [
    "%%capture\r\n",
    "datim = AgywPrev()"
   ],
   "outputs": [],
   "metadata": {}
  },
  {
   "cell_type": "code",
   "execution_count": 53,
   "source": [
    "datim.total_mastersheet \r\n",
    "datim.total_dreams_valid\r\n",
    "datim.who_am_i\r\n",
    "datim.total_datimI\r\n",
    "datim.total_datimII\r\n",
    "datim.total_datimIII\r\n",
    "datim.total_datimIV\r\n",
    "datim.total_datim_general\r\n",
    "AgywPrev.datim_titleI()\r\n",
    "datim.datim_agyw_prevI()\r\n",
    "AgywPrev.datim_titleII()\r\n",
    "datim.datim_agyw_prevII()\r\n",
    "AgywPrev.datim_titleIII()\r\n",
    "datim.datim_agyw_prevIII()\r\n",
    "AgywPrev.datim_titleIV()\r\n",
    "datim.datim_agyw_prevIV()"
   ],
   "outputs": [
    {
     "output_type": "execute_result",
     "data": {
      "text/plain": [
       "12757"
      ]
     },
     "metadata": {},
     "execution_count": 53
    },
    {
     "output_type": "execute_result",
     "data": {
      "text/plain": [
       "12526"
      ]
     },
     "metadata": {},
     "execution_count": 53
    },
    {
     "output_type": "execute_result",
     "data": {
      "text/plain": [
       "'DATIM'"
      ]
     },
     "metadata": {},
     "execution_count": 53
    },
    {
     "output_type": "execute_result",
     "data": {
      "text/plain": [
       "5462"
      ]
     },
     "metadata": {},
     "execution_count": 53
    },
    {
     "output_type": "execute_result",
     "data": {
      "text/plain": [
       "5361"
      ]
     },
     "metadata": {},
     "execution_count": 53
    },
    {
     "output_type": "execute_result",
     "data": {
      "text/plain": [
       "1247"
      ]
     },
     "metadata": {},
     "execution_count": 53
    },
    {
     "output_type": "execute_result",
     "data": {
      "text/plain": [
       "456"
      ]
     },
     "metadata": {},
     "execution_count": 53
    },
    {
     "output_type": "execute_result",
     "data": {
      "text/plain": [
       "12526"
      ]
     },
     "metadata": {},
     "execution_count": 53
    },
    {
     "output_type": "execute_result",
     "data": {
      "text/plain": [
       "'Number of individual AGYW that have fully completed the entire DREAMS primary package of services but have not received any services beyond the primary package.'"
      ]
     },
     "metadata": {},
     "execution_count": 53
    },
    {
     "output_type": "execute_result",
     "data": {
      "text/html": [
       "<div>\n",
       "<style scoped>\n",
       "    .dataframe tbody tr th:only-of-type {\n",
       "        vertical-align: middle;\n",
       "    }\n",
       "\n",
       "    .dataframe tbody tr th {\n",
       "        vertical-align: top;\n",
       "    }\n",
       "\n",
       "    .dataframe thead th {\n",
       "        text-align: right;\n",
       "    }\n",
       "</style>\n",
       "<table border=\"1\" class=\"dataframe\">\n",
       "  <thead>\n",
       "    <tr style=\"text-align: right;\">\n",
       "      <th></th>\n",
       "      <th>Age</th>\n",
       "      <th>0-6 months</th>\n",
       "      <th>07-12 months</th>\n",
       "      <th>13-24 months</th>\n",
       "      <th>25+ months</th>\n",
       "      <th>Total</th>\n",
       "    </tr>\n",
       "  </thead>\n",
       "  <tbody>\n",
       "    <tr>\n",
       "      <th>0</th>\n",
       "      <td>10-14</td>\n",
       "      <td>0</td>\n",
       "      <td>0</td>\n",
       "      <td>0</td>\n",
       "      <td>0</td>\n",
       "      <td>0</td>\n",
       "    </tr>\n",
       "    <tr>\n",
       "      <th>1</th>\n",
       "      <td>15-19</td>\n",
       "      <td>893</td>\n",
       "      <td>1060</td>\n",
       "      <td>792</td>\n",
       "      <td>980</td>\n",
       "      <td>3725</td>\n",
       "    </tr>\n",
       "    <tr>\n",
       "      <th>2</th>\n",
       "      <td>20-24</td>\n",
       "      <td>350</td>\n",
       "      <td>476</td>\n",
       "      <td>382</td>\n",
       "      <td>529</td>\n",
       "      <td>1737</td>\n",
       "    </tr>\n",
       "  </tbody>\n",
       "</table>\n",
       "</div>"
      ],
      "text/plain": [
       "     Age  0-6 months  07-12 months  13-24 months  25+ months  Total\n",
       "0  10-14           0             0             0           0      0\n",
       "1  15-19         893          1060           792         980   3725\n",
       "2  20-24         350           476           382         529   1737"
      ]
     },
     "metadata": {},
     "execution_count": 53
    },
    {
     "output_type": "execute_result",
     "data": {
      "text/plain": [
       "'Number of individual AGYW that have fully completed the entire DREAMS primary package of services AND at least one additional secondary service.'"
      ]
     },
     "metadata": {},
     "execution_count": 53
    },
    {
     "output_type": "execute_result",
     "data": {
      "text/html": [
       "<div>\n",
       "<style scoped>\n",
       "    .dataframe tbody tr th:only-of-type {\n",
       "        vertical-align: middle;\n",
       "    }\n",
       "\n",
       "    .dataframe tbody tr th {\n",
       "        vertical-align: top;\n",
       "    }\n",
       "\n",
       "    .dataframe thead th {\n",
       "        text-align: right;\n",
       "    }\n",
       "</style>\n",
       "<table border=\"1\" class=\"dataframe\">\n",
       "  <thead>\n",
       "    <tr style=\"text-align: right;\">\n",
       "      <th></th>\n",
       "      <th>Age</th>\n",
       "      <th>0-6 months</th>\n",
       "      <th>07-12 months</th>\n",
       "      <th>13-24 months</th>\n",
       "      <th>25+ months</th>\n",
       "      <th>Total</th>\n",
       "    </tr>\n",
       "  </thead>\n",
       "  <tbody>\n",
       "    <tr>\n",
       "      <th>0</th>\n",
       "      <td>10-14</td>\n",
       "      <td>1378</td>\n",
       "      <td>1180</td>\n",
       "      <td>943</td>\n",
       "      <td>336</td>\n",
       "      <td>3837</td>\n",
       "    </tr>\n",
       "    <tr>\n",
       "      <th>1</th>\n",
       "      <td>15-19</td>\n",
       "      <td>77</td>\n",
       "      <td>162</td>\n",
       "      <td>385</td>\n",
       "      <td>55</td>\n",
       "      <td>679</td>\n",
       "    </tr>\n",
       "    <tr>\n",
       "      <th>2</th>\n",
       "      <td>20-24</td>\n",
       "      <td>84</td>\n",
       "      <td>212</td>\n",
       "      <td>505</td>\n",
       "      <td>44</td>\n",
       "      <td>845</td>\n",
       "    </tr>\n",
       "  </tbody>\n",
       "</table>\n",
       "</div>"
      ],
      "text/plain": [
       "     Age  0-6 months  07-12 months  13-24 months  25+ months  Total\n",
       "0  10-14        1378          1180           943         336   3837\n",
       "1  15-19          77           162           385          55    679\n",
       "2  20-24          84           212           505          44    845"
      ]
     },
     "metadata": {},
     "execution_count": 53
    },
    {
     "output_type": "execute_result",
     "data": {
      "text/plain": [
       "'Number of individual AGYW that have fully completed at least one DREAMS primary package of services but not the full primary package of services.'"
      ]
     },
     "metadata": {},
     "execution_count": 53
    },
    {
     "output_type": "execute_result",
     "data": {
      "text/html": [
       "<div>\n",
       "<style scoped>\n",
       "    .dataframe tbody tr th:only-of-type {\n",
       "        vertical-align: middle;\n",
       "    }\n",
       "\n",
       "    .dataframe tbody tr th {\n",
       "        vertical-align: top;\n",
       "    }\n",
       "\n",
       "    .dataframe thead th {\n",
       "        text-align: right;\n",
       "    }\n",
       "</style>\n",
       "<table border=\"1\" class=\"dataframe\">\n",
       "  <thead>\n",
       "    <tr style=\"text-align: right;\">\n",
       "      <th></th>\n",
       "      <th>Age</th>\n",
       "      <th>0-6 months</th>\n",
       "      <th>07-12 months</th>\n",
       "      <th>13-24 months</th>\n",
       "      <th>25+ months</th>\n",
       "      <th>Total</th>\n",
       "    </tr>\n",
       "  </thead>\n",
       "  <tbody>\n",
       "    <tr>\n",
       "      <th>0</th>\n",
       "      <td>10-14</td>\n",
       "      <td>125</td>\n",
       "      <td>193</td>\n",
       "      <td>101</td>\n",
       "      <td>24</td>\n",
       "      <td>443</td>\n",
       "    </tr>\n",
       "    <tr>\n",
       "      <th>1</th>\n",
       "      <td>15-19</td>\n",
       "      <td>83</td>\n",
       "      <td>228</td>\n",
       "      <td>138</td>\n",
       "      <td>72</td>\n",
       "      <td>521</td>\n",
       "    </tr>\n",
       "    <tr>\n",
       "      <th>2</th>\n",
       "      <td>20-24</td>\n",
       "      <td>34</td>\n",
       "      <td>132</td>\n",
       "      <td>80</td>\n",
       "      <td>37</td>\n",
       "      <td>283</td>\n",
       "    </tr>\n",
       "  </tbody>\n",
       "</table>\n",
       "</div>"
      ],
      "text/plain": [
       "     Age  0-6 months  07-12 months  13-24 months  25+ months  Total\n",
       "0  10-14         125           193           101          24    443\n",
       "1  15-19          83           228           138          72    521\n",
       "2  20-24          34           132            80          37    283"
      ]
     },
     "metadata": {},
     "execution_count": 53
    },
    {
     "output_type": "execute_result",
     "data": {
      "text/plain": [
       "'Number of AGYW that have started a DREAMS service/intervention but have not yet completed it.'"
      ]
     },
     "metadata": {},
     "execution_count": 53
    },
    {
     "output_type": "execute_result",
     "data": {
      "text/html": [
       "<div>\n",
       "<style scoped>\n",
       "    .dataframe tbody tr th:only-of-type {\n",
       "        vertical-align: middle;\n",
       "    }\n",
       "\n",
       "    .dataframe tbody tr th {\n",
       "        vertical-align: top;\n",
       "    }\n",
       "\n",
       "    .dataframe thead th {\n",
       "        text-align: right;\n",
       "    }\n",
       "</style>\n",
       "<table border=\"1\" class=\"dataframe\">\n",
       "  <thead>\n",
       "    <tr style=\"text-align: right;\">\n",
       "      <th></th>\n",
       "      <th>Age</th>\n",
       "      <th>0-6 months</th>\n",
       "      <th>07-12 months</th>\n",
       "      <th>13-24 months</th>\n",
       "      <th>25+ months</th>\n",
       "      <th>Total</th>\n",
       "    </tr>\n",
       "  </thead>\n",
       "  <tbody>\n",
       "    <tr>\n",
       "      <th>0</th>\n",
       "      <td>10-14</td>\n",
       "      <td>103</td>\n",
       "      <td>90</td>\n",
       "      <td>19</td>\n",
       "      <td>13</td>\n",
       "      <td>225</td>\n",
       "    </tr>\n",
       "    <tr>\n",
       "      <th>1</th>\n",
       "      <td>15-19</td>\n",
       "      <td>37</td>\n",
       "      <td>74</td>\n",
       "      <td>12</td>\n",
       "      <td>32</td>\n",
       "      <td>155</td>\n",
       "    </tr>\n",
       "    <tr>\n",
       "      <th>2</th>\n",
       "      <td>20-24</td>\n",
       "      <td>27</td>\n",
       "      <td>24</td>\n",
       "      <td>7</td>\n",
       "      <td>18</td>\n",
       "      <td>76</td>\n",
       "    </tr>\n",
       "  </tbody>\n",
       "</table>\n",
       "</div>"
      ],
      "text/plain": [
       "     Age  0-6 months  07-12 months  13-24 months  25+ months  Total\n",
       "0  10-14         103            90            19          13    225\n",
       "1  15-19          37            74            12          32    155\n",
       "2  20-24          27            24             7          18     76"
      ]
     },
     "metadata": {},
     "execution_count": 53
    }
   ],
   "metadata": {}
  },
  {
   "cell_type": "markdown",
   "source": [
    "# Communes view"
   ],
   "metadata": {}
  },
  {
   "cell_type": "code",
   "execution_count": null,
   "source": [
    "class AgywPrevCommune(AgywPrev):\r\n",
    "    \"\"\"A class that extend AgywPrev with the purpose of the indicator AGYW_PREV DATIM by commune\"\"\"\r\n",
    "    __who_am_I =\"DATIM\"\r\n",
    "    def __init__(self,name):\r\n",
    "        self.__name = name\r\n",
    "        self.__i_am = f\"{AgywPrevCommune.__who_am_I} {self.__name}\"\r\n",
    "        super().__init__(self.__name)\r\n",
    "        \r\n",
    "    @property\r\n",
    "    def who_am_i(self):\r\n",
    "        return self.__i_am\r\n",
    "    \r\n",
    "    def __repr__(self):\r\n",
    "        return f\"<AgywPrevCommune {self.__i_am}>\"\r\n",
    "    \r\n",
    "    def __str__(self):\r\n",
    "        return f\"<AgywPrevCommune {self.__i_am}>\"\r\n",
    "      \r\n",
    "        \r\n",
    "\r\n",
    "%%capture\r\n",
    "def name_handler(s):\r\n",
    "    s = sub(r\"[^\\w\\s]\", '', s)\r\n",
    "    # Replace all runs of whitespace with a single dash\r\n",
    "    s = sub(r\"\\s+\", '_', s)\r\n",
    "    return s\r\n",
    "\r\n",
    "datimcommunes = []\r\n",
    "\r\n",
    "for columns in DREAMS_MASTERSHEET.actual_commune.unique():\r\n",
    "    globals()[f\"datim_{name_handler(columns)}\"] = AgywPrevCommune(f\"{columns}\")\r\n",
    "    datimcommunes.append(globals().get(f\"datim_{name_handler(columns)}\"))\r\n",
    "\r\n",
    "\r\n",
    "\r\n",
    "        \r\n",
    "        \r\n",
    "\r\n",
    "        "
   ],
   "outputs": [],
   "metadata": {}
  },
  {
   "cell_type": "markdown",
   "source": [
    "# Verification"
   ],
   "metadata": {}
  },
  {
   "cell_type": "code",
   "execution_count": 44,
   "source": [
    "datim.data_dreams_valid.to_excel('datim_verification.xlsx',index=False,na_rep=\"\")"
   ],
   "outputs": [],
   "metadata": {}
  },
  {
   "cell_type": "markdown",
   "source": [],
   "metadata": {}
  },
  {
   "cell_type": "code",
   "execution_count": null,
   "source": [],
   "outputs": [],
   "metadata": {}
  }
 ],
 "metadata": {
  "orig_nbformat": 4,
  "language_info": {
   "name": "python",
   "version": "3.9.7",
   "mimetype": "text/x-python",
   "codemirror_mode": {
    "name": "ipython",
    "version": 3
   },
   "pygments_lexer": "ipython3",
   "nbconvert_exporter": "python",
   "file_extension": ".py"
  },
  "kernelspec": {
   "name": "python3",
   "display_name": "Python 3.9.7 64-bit"
  },
  "interpreter": {
   "hash": "4534460e0bdca1b390927d45471088fb3501d39abc4e3f2cee293892e17d7fc6"
  }
 },
 "nbformat": 4,
 "nbformat_minor": 2
}