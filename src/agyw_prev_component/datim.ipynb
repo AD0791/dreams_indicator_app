{
 "cells": [
  {
   "cell_type": "code",
   "execution_count": 1,
   "source": [
    "%%capture\n",
    "from agyw import AgywPrev, AgywPrevCommune\n",
    "from re import sub\n",
    "from IPython.core.interactiveshell import InteractiveShell\n",
    "InteractiveShell.ast_node_interactivity = \"all\""
   ],
   "outputs": [],
   "metadata": {}
  },
  {
   "cell_type": "code",
   "execution_count": 2,
   "source": [
    "from openpyxl import Workbook\n",
    "from openpyxl.styles.colors import Color\n",
    "from openpyxl.styles.fills import PatternFill\n",
    "from openpyxl.styles import Font\n",
    "from openpyxl.styles.alignment import Alignment\n",
    "from openpyxl.utils.dataframe import dataframe_to_rows\n",
    "from openpyxl.styles.borders import Border, Side\n"
   ],
   "outputs": [],
   "metadata": {}
  },
  {
   "cell_type": "markdown",
   "source": [
    "# Build Excel Datim / Communes"
   ],
   "metadata": {}
  },
  {
   "cell_type": "code",
   "execution_count": 3,
   "source": [
    "%%capture\n",
    "datim = AgywPrev()"
   ],
   "outputs": [],
   "metadata": {}
  },
  {
   "cell_type": "code",
   "execution_count": 4,
   "source": [
    "my_blue = Color(rgb=\"0000FF\")\n",
    "blue_fill = PatternFill(patternType=\"solid\",fgColor=my_blue)\n",
    "my_red = Color(rgb=\"FF0000\")\n",
    "red_fill = PatternFill(patternType=\"solid\",fgColor=my_red)\n",
    "bold_12 = Font(size=12,bold=True)\n",
    "text_datim_title = Alignment(horizontal=\"center\",vertical=\"bottom\",wrapText=True)\n",
    "thin_border = Border(left=Side(style='thin'), \n",
    "                     right=Side(style='thin'), \n",
    "                     top=Side(style='thin'), \n",
    "                     bottom=Side(style='thin'))"
   ],
   "outputs": [],
   "metadata": {}
  },
  {
   "cell_type": "code",
   "execution_count": 5,
   "source": [
    "%%capture\n",
    "wb = Workbook()\n",
    "ws = wb.active\n",
    "ws.title = datim.who_am_i\n",
    "\n",
    "ws['A1'].fill = blue_fill\n",
    "ws['A9'].fill = blue_fill\n",
    "ws['A17'].fill = blue_fill\n",
    "ws['A24'].fill = blue_fill\n",
    "\n",
    "for rows in ws.iter_rows(min_row=7,max_row=7,min_col=1,max_col=40):\n",
    "    for cell in rows:\n",
    "        cell.fill = red_fill\n",
    "for rows in ws.iter_rows(min_row=8,max_row=8,min_col=1,max_col=40):\n",
    "    for cell in rows:\n",
    "        cell.fill = red_fill\n",
    "for rows in ws.iter_rows(min_row=15,max_row=15,min_col=1,max_col=40):\n",
    "    for cell in rows:\n",
    "        cell.fill = red_fill\n",
    "for rows in ws.iter_rows(min_row=16,max_row=16,min_col=1,max_col=40):\n",
    "    for cell in rows:\n",
    "        cell.fill = red_fill\n",
    "for rows in ws.iter_rows(min_row=22,max_row=22,min_col=1,max_col=40):\n",
    "    for cell in rows:\n",
    "        cell.fill = red_fill\n",
    "for rows in ws.iter_rows(min_row=23,max_row=23,min_col=1,max_col=40):\n",
    "    for cell in rows:\n",
    "        cell.fill = red_fill\n",
    "\n",
    "ws.merge_cells(\"B1:C1\")\n",
    "ws.cell(row=1,column=2).value = AgywPrev.datim_titleI()\n",
    "ws.cell(row=1,column=2).font = bold_12\n",
    "ws.cell(row=1,column=2).alignment =  text_datim_title\n",
    "\n",
    "ws.merge_cells(\"B9:C9\")\n",
    "ws.cell(row=9,column=2).value = AgywPrev.datim_titleII()\n",
    "ws.cell(row=9,column=2).font = bold_12\n",
    "ws.cell(row=9,column=2).alignment =  text_datim_title\n",
    "\n",
    "ws.merge_cells(\"B17:C17\")\n",
    "ws.cell(row=17,column=2).value = AgywPrev.datim_titleIII()\n",
    "ws.cell(row=17,column=2).font = bold_12\n",
    "ws.cell(row=17,column=2).alignment =  text_datim_title\n",
    "\n",
    "ws.merge_cells(\"B24:C24\")\n",
    "ws.cell(row=24,column=2).value = AgywPrev.datim_titleIV()\n",
    "ws.cell(row=24,column=2).font = bold_12\n",
    "ws.cell(row=24,column=2).alignment =  text_datim_title\n",
    "\n",
    "ws['G5'] = datim.total_datimI\n",
    "ws['G13'] = datim.total_datimII\n",
    "ws['G21'] = datim.total_datimIII\n",
    "ws['G27'] = datim.total_datimIV\n",
    "ws['I13'] = datim.total_datim_general\n",
    "\n",
    "rdf_datim_I = dataframe_to_rows(datim.datim_agyw_prevI(),index=False,header=True)\n",
    "for ridx, row in enumerate(rdf_datim_I,1):\n",
    "    for cidx, value in enumerate(row,1):\n",
    "        cells = ws.cell(ridx+1,cidx,value)\n",
    "        cells.border = thin_border\n",
    "        cells\n",
    "\n",
    "rdf_datim_II = dataframe_to_rows(datim.datim_agyw_prevII(),index=False,header=True)\n",
    "for ridx, row in enumerate(rdf_datim_II,1):\n",
    "    for cidx, value in enumerate(row,1):\n",
    "        cells = ws.cell(ridx+9,cidx,value)\n",
    "        cells.border = thin_border\n",
    "        cells\n",
    "\n",
    "rdf_datim_III = dataframe_to_rows(datim.datim_agyw_prevIII(),index=False,header=True)\n",
    "for ridx, row in enumerate(rdf_datim_III,1):\n",
    "    for cidx, value in enumerate(row,1):\n",
    "        cells = ws.cell(ridx+17,cidx,value)\n",
    "        cells.border = thin_border\n",
    "        cells\n",
    "\n",
    "rdf_datim_IV = dataframe_to_rows(datim.datim_agyw_prevIV(),index=False,header=True)\n",
    "for ridx, row in enumerate(rdf_datim_IV,1):\n",
    "    for cidx, value in enumerate(row,1):\n",
    "        cells = ws.cell(ridx+24,cidx,value)\n",
    "        cells.border = thin_border\n",
    "        cells\n"
   ],
   "outputs": [],
   "metadata": {}
  },
  {
   "cell_type": "code",
   "execution_count": 6,
   "source": [
    "#wb.sheetnames\n",
    "\n",
    "def name_handler(s):\n",
    "    s = sub(r\"[^\\w\\s]\", '', s)\n",
    "    # Replace all runs of whitespace with a single dash\n",
    "    s = sub(r\"\\s+\", '_', s)\n",
    "    return s\n",
    "\n"
   ],
   "outputs": [],
   "metadata": {}
  },
  {
   "cell_type": "code",
   "execution_count": 7,
   "source": [
    "%%capture\n",
    "worksheets = []\n",
    "datimcommunes = []\n",
    "for columns in datim.data_mastersheet.commune.unique():\n",
    "    globals()[f\"ws_{name_handler(columns)}\"] = wb.create_sheet(title=AgywPrevCommune(f\"{columns}\").who_am_i)\n",
    "    globals()[f\"datim_{name_handler(columns)}\"] =AgywPrevCommune(f\"{columns}\")\n",
    "    worksheets.append(globals().get(f\"ws_{name_handler(columns)}\"))\n",
    "    datimcommunes.append(globals().get(f\"datim_{name_handler(columns)}\"))\n"
   ],
   "outputs": [],
   "metadata": {}
  },
  {
   "cell_type": "code",
   "execution_count": 8,
   "source": [
    "%%capture\n",
    "worksheets\n",
    "datimcommunes"
   ],
   "outputs": [],
   "metadata": {}
  },
  {
   "cell_type": "code",
   "execution_count": 9,
   "source": [
    "%%capture\n",
    "for wscommunes, dcommunes in zip(worksheets,datimcommunes):\n",
    "    wscommunes['A1'].fill = blue_fill\n",
    "    wscommunes['A9'].fill = blue_fill\n",
    "    wscommunes['A17'].fill = blue_fill\n",
    "    wscommunes['A24'].fill = blue_fill\n",
    "    for rows in wscommunes.iter_rows(min_row=7,max_row=7,min_col=1,max_col=40):\n",
    "        for cell in rows:\n",
    "            cell.fill = red_fill\n",
    "    for rows in wscommunes.iter_rows(min_row=8,max_row=8,min_col=1,max_col=40):\n",
    "        for cell in rows:\n",
    "            cell.fill = red_fill\n",
    "    for rows in wscommunes.iter_rows(min_row=15,max_row=15,min_col=1,max_col=40):\n",
    "        for cell in rows:\n",
    "            cell.fill = red_fill\n",
    "    for rows in wscommunes.iter_rows(min_row=16,max_row=16,min_col=1,max_col=40):\n",
    "        for cell in rows:\n",
    "            cell.fill = red_fill\n",
    "    for rows in ws.iter_rows(min_row=22,max_row=22,min_col=1,max_col=40):\n",
    "        for cell in rows:\n",
    "            cell.fill = red_fill\n",
    "    for rows in ws.iter_rows(min_row=23,max_row=23,min_col=1,max_col=40):\n",
    "        for cell in rows:\n",
    "            cell.fill = red_fill\n",
    "\n",
    "    wscommunes.merge_cells(\"B1:C1\")\n",
    "    wscommunes.cell(row=1,column=2).value = AgywPrevCommune.datim_titleI()\n",
    "    wscommunes.cell(row=1,column=2).font = bold_12\n",
    "    wscommunes.cell(row=1,column=2).alignment =  text_datim_title\n",
    "    wscommunes.merge_cells(\"B9:C9\")\n",
    "    wscommunes.cell(row=9,column=2).value = AgywPrevCommune.datim_titleII()\n",
    "    wscommunes.cell(row=9,column=2).font = bold_12\n",
    "    wscommunes.cell(row=9,column=2).alignment =  text_datim_title\n",
    "    wscommunes.merge_cells(\"B17:C17\")\n",
    "    wscommunes.cell(row=17,column=2).value = AgywPrevCommune.datim_titleIII()\n",
    "    wscommunes.cell(row=17,column=2).font = bold_12\n",
    "    wscommunes.cell(row=17,column=2).alignment =  text_datim_title\n",
    "    wscommunes.merge_cells(\"B24:C24\")\n",
    "    wscommunes.cell(row=24,column=2).value = AgywPrevCommune.datim_titleIV()\n",
    "    wscommunes.cell(row=24,column=2).font = bold_12\n",
    "    wscommunes.cell(row=24,column=2).alignment =  text_datim_title\n",
    "    wscommunes['G5'] = dcommunes.total_datimI\n",
    "    wscommunes['G13'] = dcommunes.total_datimII\n",
    "    wscommunes['G20'] = dcommunes.total_datimIII\n",
    "    wscommunes['G27'] = dcommunes.total_datimIV\n",
    "    wscommunes['I13'] = dcommunes.total_datim_general\n",
    "\n",
    "    for ridx, row in enumerate(dataframe_to_rows(dcommunes.datim_agyw_prevI(),index=False,header=True),1):\n",
    "        for cidx, value in enumerate(row,1):\n",
    "            cells = wscommunes.cell(ridx+1,cidx,value)\n",
    "            cells.border = thin_border\n",
    "            cells\n",
    "\n",
    "    for ridx, row in enumerate(dataframe_to_rows(dcommunes.datim_agyw_prevII(),index=False,header=True),1):\n",
    "        for cidx, value in enumerate(row,1):\n",
    "            cells = wscommunes.cell(ridx+9,cidx,value)\n",
    "            cells.border = thin_border\n",
    "            cells\n",
    "\n",
    "    for ridx, row in enumerate(dataframe_to_rows(dcommunes.datim_agyw_prevIII(),index=False,header=True),1):\n",
    "        for cidx, value in enumerate(row,1):\n",
    "            cells = wscommunes.cell(ridx+17,cidx,value)\n",
    "            cells.border = thin_border\n",
    "            cells\n",
    "    \n",
    "    for ridx, row in enumerate(dataframe_to_rows(dcommunes.datim_agyw_prevIV(),index=False,header=True),1):\n",
    "        for cidx, value in enumerate(row,1):\n",
    "            cells = wscommunes.cell(ridx+24,cidx,value)\n",
    "            cells.border = thin_border\n",
    "            cells\n"
   ],
   "outputs": [],
   "metadata": {}
  },
  {
   "cell_type": "code",
   "execution_count": 10,
   "source": [
    "from datetime import datetime\n",
    "date_du_jour = datetime.today().strftime(\"%d_%m_%Y\")"
   ],
   "outputs": [],
   "metadata": {}
  },
  {
   "cell_type": "code",
   "execution_count": 11,
   "source": [
    "wb.save(f\"./datim_results/AGYWPREV_{date_du_jour}.xlsx\")\n",
    "#wb.save(f\"./datim_results/different_period/AGYWPREV_{date_du_jour}_FY20Q4.xlsx\")"
   ],
   "outputs": [],
   "metadata": {}
  },
  {
   "cell_type": "code",
   "execution_count": null,
   "source": [],
   "outputs": [],
   "metadata": {}
  }
 ],
 "metadata": {
  "interpreter": {
   "hash": "aee8b7b246df8f9039afb4144a1f6fd8d2ca17a180786b69acc140d282b71a49"
  },
  "kernelspec": {
   "name": "python3",
   "display_name": "Python 3.9.7 64-bit"
  },
  "language_info": {
   "codemirror_mode": {
    "name": "ipython",
    "version": 3
   },
   "file_extension": ".py",
   "mimetype": "text/x-python",
   "name": "python",
   "nbconvert_exporter": "python",
   "pygments_lexer": "ipython3",
   "version": "3.9.7"
  }
 },
 "nbformat": 4,
 "nbformat_minor": 4
}