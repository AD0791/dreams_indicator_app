{
 "cells": [
  {
   "cell_type": "code",
   "execution_count": 1,
   "source": [
    "%%capture\r\n",
    "from agyw import AgywPrev, AgywPrevCommune\r\n",
    "from re import sub\r\n",
    "from IPython.core.interactiveshell import InteractiveShell\r\n",
    "InteractiveShell.ast_node_interactivity = \"all\""
   ],
   "outputs": [],
   "metadata": {}
  },
  {
   "cell_type": "code",
   "execution_count": 2,
   "source": [
    "from openpyxl import Workbook\r\n",
    "from openpyxl.styles.colors import Color\r\n",
    "from openpyxl.styles.fills import PatternFill\r\n",
    "from openpyxl.styles import Font\r\n",
    "from openpyxl.styles.alignment import Alignment\r\n",
    "from openpyxl.utils.dataframe import dataframe_to_rows\r\n",
    "from openpyxl.styles.borders import Border, Side\r\n"
   ],
   "outputs": [],
   "metadata": {}
  },
  {
   "cell_type": "markdown",
   "source": [
    "# Build Excel Datim / Communes"
   ],
   "metadata": {}
  },
  {
   "cell_type": "code",
   "execution_count": 3,
   "source": [
    "%%capture\r\n",
    "datim = AgywPrev()"
   ],
   "outputs": [],
   "metadata": {}
  },
  {
   "cell_type": "code",
   "execution_count": 4,
   "source": [
    "my_blue = Color(rgb=\"0000FF\")\r\n",
    "blue_fill = PatternFill(patternType=\"solid\",fgColor=my_blue)\r\n",
    "my_red = Color(rgb=\"FF0000\")\r\n",
    "red_fill = PatternFill(patternType=\"solid\",fgColor=my_red)\r\n",
    "bold_12 = Font(size=12,bold=True)\r\n",
    "text_datim_title = Alignment(horizontal=\"center\",vertical=\"bottom\",wrapText=True)\r\n",
    "thin_border = Border(left=Side(style='thin'), \r\n",
    "                     right=Side(style='thin'), \r\n",
    "                     top=Side(style='thin'), \r\n",
    "                     bottom=Side(style='thin'))"
   ],
   "outputs": [],
   "metadata": {}
  },
  {
   "cell_type": "code",
   "execution_count": 5,
   "source": [
    "%%capture\r\n",
    "wb = Workbook()\r\n",
    "ws = wb.active\r\n",
    "ws.title = datim.who_am_i\r\n",
    "\r\n",
    "ws['A1'].fill = blue_fill\r\n",
    "ws['A9'].fill = blue_fill\r\n",
    "ws['A17'].fill = blue_fill\r\n",
    "ws['A24'].fill = blue_fill\r\n",
    "\r\n",
    "for rows in ws.iter_rows(min_row=7,max_row=7,min_col=1,max_col=40):\r\n",
    "    for cell in rows:\r\n",
    "        cell.fill = red_fill\r\n",
    "for rows in ws.iter_rows(min_row=8,max_row=8,min_col=1,max_col=40):\r\n",
    "    for cell in rows:\r\n",
    "        cell.fill = red_fill\r\n",
    "for rows in ws.iter_rows(min_row=15,max_row=15,min_col=1,max_col=40):\r\n",
    "    for cell in rows:\r\n",
    "        cell.fill = red_fill\r\n",
    "for rows in ws.iter_rows(min_row=16,max_row=16,min_col=1,max_col=40):\r\n",
    "    for cell in rows:\r\n",
    "        cell.fill = red_fill\r\n",
    "for rows in ws.iter_rows(min_row=22,max_row=22,min_col=1,max_col=40):\r\n",
    "    for cell in rows:\r\n",
    "        cell.fill = red_fill\r\n",
    "for rows in ws.iter_rows(min_row=23,max_row=23,min_col=1,max_col=40):\r\n",
    "    for cell in rows:\r\n",
    "        cell.fill = red_fill\r\n",
    "\r\n",
    "ws.merge_cells(\"B1:C1\")\r\n",
    "ws.cell(row=1,column=2).value = AgywPrev.datim_titleI()\r\n",
    "ws.cell(row=1,column=2).font = bold_12\r\n",
    "ws.cell(row=1,column=2).alignment =  text_datim_title\r\n",
    "\r\n",
    "ws.merge_cells(\"B9:C9\")\r\n",
    "ws.cell(row=9,column=2).value = AgywPrev.datim_titleII()\r\n",
    "ws.cell(row=9,column=2).font = bold_12\r\n",
    "ws.cell(row=9,column=2).alignment =  text_datim_title\r\n",
    "\r\n",
    "ws.merge_cells(\"B17:C17\")\r\n",
    "ws.cell(row=17,column=2).value = AgywPrev.datim_titleIII()\r\n",
    "ws.cell(row=17,column=2).font = bold_12\r\n",
    "ws.cell(row=17,column=2).alignment =  text_datim_title\r\n",
    "\r\n",
    "ws.merge_cells(\"B24:C24\")\r\n",
    "ws.cell(row=24,column=2).value = AgywPrev.datim_titleIV()\r\n",
    "ws.cell(row=24,column=2).font = bold_12\r\n",
    "ws.cell(row=24,column=2).alignment =  text_datim_title\r\n",
    "\r\n",
    "ws['G5'] = datim.total_datimI\r\n",
    "ws['G13'] = datim.total_datimII\r\n",
    "ws['G21'] = datim.total_datimIII\r\n",
    "ws['G27'] = datim.total_datimIV\r\n",
    "ws['I13'] = datim.total_datim_general\r\n",
    "\r\n",
    "rdf_datim_I = dataframe_to_rows(datim.datim_agyw_prevI(),index=False,header=True)\r\n",
    "for ridx, row in enumerate(rdf_datim_I,1):\r\n",
    "    for cidx, value in enumerate(row,1):\r\n",
    "        cells = ws.cell(ridx+1,cidx,value)\r\n",
    "        cells.border = thin_border\r\n",
    "        cells\r\n",
    "\r\n",
    "rdf_datim_II = dataframe_to_rows(datim.datim_agyw_prevII(),index=False,header=True)\r\n",
    "for ridx, row in enumerate(rdf_datim_II,1):\r\n",
    "    for cidx, value in enumerate(row,1):\r\n",
    "        cells = ws.cell(ridx+9,cidx,value)\r\n",
    "        cells.border = thin_border\r\n",
    "        cells\r\n",
    "\r\n",
    "rdf_datim_III = dataframe_to_rows(datim.datim_agyw_prevIII(),index=False,header=True)\r\n",
    "for ridx, row in enumerate(rdf_datim_III,1):\r\n",
    "    for cidx, value in enumerate(row,1):\r\n",
    "        cells = ws.cell(ridx+17,cidx,value)\r\n",
    "        cells.border = thin_border\r\n",
    "        cells\r\n",
    "\r\n",
    "rdf_datim_IV = dataframe_to_rows(datim.datim_agyw_prevIV(),index=False,header=True)\r\n",
    "for ridx, row in enumerate(rdf_datim_IV,1):\r\n",
    "    for cidx, value in enumerate(row,1):\r\n",
    "        cells = ws.cell(ridx+24,cidx,value)\r\n",
    "        cells.border = thin_border\r\n",
    "        cells\r\n"
   ],
   "outputs": [],
   "metadata": {}
  },
  {
   "cell_type": "code",
   "execution_count": 6,
   "source": [
    "#wb.sheetnames\r\n",
    "\r\n",
    "def name_handler(s):\r\n",
    "    s = sub(r\"[^\\w\\s]\", '', s)\r\n",
    "    # Replace all runs of whitespace with a single dash\r\n",
    "    s = sub(r\"\\s+\", '_', s)\r\n",
    "    return s\r\n",
    "\r\n"
   ],
   "outputs": [],
   "metadata": {}
  },
  {
   "cell_type": "code",
   "execution_count": 7,
   "source": [
    "%%capture\r\n",
    "worksheets = []\r\n",
    "datimcommunes = []\r\n",
    "for columns in datim.data_mastersheet.commune.unique():\r\n",
    "    globals()[f\"ws_{name_handler(columns)}\"] = wb.create_sheet(title=AgywPrevCommune(f\"{columns}\").who_am_i)\r\n",
    "    globals()[f\"datim_{name_handler(columns)}\"] =AgywPrevCommune(f\"{columns}\")\r\n",
    "    worksheets.append(globals().get(f\"ws_{name_handler(columns)}\"))\r\n",
    "    datimcommunes.append(globals().get(f\"datim_{name_handler(columns)}\"))\r\n"
   ],
   "outputs": [],
   "metadata": {}
  },
  {
   "cell_type": "code",
   "execution_count": 8,
   "source": [
    "%%capture\r\n",
    "worksheets\r\n",
    "datimcommunes"
   ],
   "outputs": [],
   "metadata": {}
  },
  {
   "cell_type": "code",
   "execution_count": 9,
   "source": [
    "%%capture\r\n",
    "for wscommunes, dcommunes in zip(worksheets,datimcommunes):\r\n",
    "    wscommunes['A1'].fill = blue_fill\r\n",
    "    wscommunes['A9'].fill = blue_fill\r\n",
    "    wscommunes['A17'].fill = blue_fill\r\n",
    "    wscommunes['A24'].fill = blue_fill\r\n",
    "    for rows in wscommunes.iter_rows(min_row=7,max_row=7,min_col=1,max_col=40):\r\n",
    "        for cell in rows:\r\n",
    "            cell.fill = red_fill\r\n",
    "    for rows in wscommunes.iter_rows(min_row=8,max_row=8,min_col=1,max_col=40):\r\n",
    "        for cell in rows:\r\n",
    "            cell.fill = red_fill\r\n",
    "    for rows in wscommunes.iter_rows(min_row=15,max_row=15,min_col=1,max_col=40):\r\n",
    "        for cell in rows:\r\n",
    "            cell.fill = red_fill\r\n",
    "    for rows in wscommunes.iter_rows(min_row=16,max_row=16,min_col=1,max_col=40):\r\n",
    "        for cell in rows:\r\n",
    "            cell.fill = red_fill\r\n",
    "    for rows in ws.iter_rows(min_row=22,max_row=22,min_col=1,max_col=40):\r\n",
    "        for cell in rows:\r\n",
    "            cell.fill = red_fill\r\n",
    "    for rows in ws.iter_rows(min_row=23,max_row=23,min_col=1,max_col=40):\r\n",
    "        for cell in rows:\r\n",
    "            cell.fill = red_fill\r\n",
    "\r\n",
    "    wscommunes.merge_cells(\"B1:C1\")\r\n",
    "    wscommunes.cell(row=1,column=2).value = AgywPrevCommune.datim_titleI()\r\n",
    "    wscommunes.cell(row=1,column=2).font = bold_12\r\n",
    "    wscommunes.cell(row=1,column=2).alignment =  text_datim_title\r\n",
    "    wscommunes.merge_cells(\"B9:C9\")\r\n",
    "    wscommunes.cell(row=9,column=2).value = AgywPrevCommune.datim_titleII()\r\n",
    "    wscommunes.cell(row=9,column=2).font = bold_12\r\n",
    "    wscommunes.cell(row=9,column=2).alignment =  text_datim_title\r\n",
    "    wscommunes.merge_cells(\"B17:C17\")\r\n",
    "    wscommunes.cell(row=17,column=2).value = AgywPrevCommune.datim_titleIII()\r\n",
    "    wscommunes.cell(row=17,column=2).font = bold_12\r\n",
    "    wscommunes.cell(row=17,column=2).alignment =  text_datim_title\r\n",
    "    wscommunes.merge_cells(\"B24:C24\")\r\n",
    "    wscommunes.cell(row=24,column=2).value = AgywPrevCommune.datim_titleIV()\r\n",
    "    wscommunes.cell(row=24,column=2).font = bold_12\r\n",
    "    wscommunes.cell(row=24,column=2).alignment =  text_datim_title\r\n",
    "    wscommunes['G5'] = dcommunes.total_datimI\r\n",
    "    wscommunes['G13'] = dcommunes.total_datimII\r\n",
    "    wscommunes['G20'] = dcommunes.total_datimIII\r\n",
    "    wscommunes['G27'] = dcommunes.total_datimIV\r\n",
    "    wscommunes['I13'] = dcommunes.total_datim_general\r\n",
    "\r\n",
    "    for ridx, row in enumerate(dataframe_to_rows(dcommunes.datim_agyw_prevI(),index=False,header=True),1):\r\n",
    "        for cidx, value in enumerate(row,1):\r\n",
    "            cells = wscommunes.cell(ridx+1,cidx,value)\r\n",
    "            cells.border = thin_border\r\n",
    "            cells\r\n",
    "\r\n",
    "    for ridx, row in enumerate(dataframe_to_rows(dcommunes.datim_agyw_prevII(),index=False,header=True),1):\r\n",
    "        for cidx, value in enumerate(row,1):\r\n",
    "            cells = wscommunes.cell(ridx+9,cidx,value)\r\n",
    "            cells.border = thin_border\r\n",
    "            cells\r\n",
    "\r\n",
    "    for ridx, row in enumerate(dataframe_to_rows(dcommunes.datim_agyw_prevIII(),index=False,header=True),1):\r\n",
    "        for cidx, value in enumerate(row,1):\r\n",
    "            cells = wscommunes.cell(ridx+17,cidx,value)\r\n",
    "            cells.border = thin_border\r\n",
    "            cells\r\n",
    "    \r\n",
    "    for ridx, row in enumerate(dataframe_to_rows(dcommunes.datim_agyw_prevIV(),index=False,header=True),1):\r\n",
    "        for cidx, value in enumerate(row,1):\r\n",
    "            cells = wscommunes.cell(ridx+24,cidx,value)\r\n",
    "            cells.border = thin_border\r\n",
    "            cells\r\n"
   ],
   "outputs": [],
   "metadata": {}
  },
  {
   "cell_type": "code",
   "execution_count": 10,
   "source": [
    "from datetime import datetime\r\n",
    "date_du_jour = datetime.today().strftime(\"%d_%m_%Y\")"
   ],
   "outputs": [],
   "metadata": {}
  },
  {
   "cell_type": "code",
   "execution_count": 11,
   "source": [
    "#wb.save(f\"./datim_results/AGYWPREV_{date_du_jour}.xlsx\")\r\n",
    "wb.save(f\"./datim_results/different_period/AGYWPREV_{date_du_jour}_FY20Q4.xlsx\")"
   ],
   "outputs": [],
   "metadata": {}
  },
  {
   "cell_type": "code",
   "execution_count": null,
   "source": [],
   "outputs": [],
   "metadata": {}
  }
 ],
 "metadata": {
  "interpreter": {
   "hash": "4534460e0bdca1b390927d45471088fb3501d39abc4e3f2cee293892e17d7fc6"
  },
  "kernelspec": {
   "name": "python3",
   "display_name": "Python 3.9.7 64-bit"
  },
  "language_info": {
   "codemirror_mode": {
    "name": "ipython",
    "version": 3
   },
   "file_extension": ".py",
   "mimetype": "text/x-python",
   "name": "python",
   "nbconvert_exporter": "python",
   "pygments_lexer": "ipython3",
   "version": "3.9.7"
  }
 },
 "nbformat": 4,
 "nbformat_minor": 4
}