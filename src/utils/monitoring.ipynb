{
 "cells": [
  {
   "cell_type": "code",
   "execution_count": 1,
   "source": [
    "%%capture\n",
    "#from re import sub\n",
    "from pandas import DataFrame, read_excel\n",
    "from datetime import datetime, timedelta\n",
    "from enum import Enum\n",
    "import matplotlib.pyplot as plt\n",
    "import seaborn as sns\n",
    "%matplotlib inline\n",
    "\n",
    "from agyw import AgywPrev\n",
    "\n",
    "from IPython.core.interactiveshell import InteractiveShell\n",
    "InteractiveShell.ast_node_interactivity = \"all\""
   ],
   "outputs": [],
   "metadata": {}
  },
  {
   "cell_type": "code",
   "execution_count": 2,
   "source": [
    "current_Date = datetime.today()\n",
    "previous_Date = datetime.today() - timedelta(days=1)\n",
    "\n",
    "\n",
    "\n",
    "class Monitoring_date(Enum):\n",
    "   previous = previous_Date.strftime(\"%d_%m_%Y\")\n",
    "   current = current_Date.strftime(\"%d_%m_%Y\")\n",
    "   \n",
    "   "
   ],
   "outputs": [],
   "metadata": {}
  },
  {
   "cell_type": "code",
   "execution_count": 3,
   "source": [
    "%%capture\n",
    "datim = AgywPrev()"
   ],
   "outputs": [],
   "metadata": {}
  },
  {
   "cell_type": "code",
   "execution_count": 4,
   "source": [
    "datim.total_datim_general"
   ],
   "outputs": [
    {
     "output_type": "execute_result",
     "data": {
      "text/plain": [
       "13867"
      ]
     },
     "metadata": {},
     "execution_count": 4
    }
   ],
   "metadata": {}
  },
  {
   "cell_type": "markdown",
   "source": [
    "temp_solution = DataFrame.from_dict({f\"datim_{Monitoring_date.current.value}\":[datim.total_datim_general],\r\n",
    "                     f\"datim_{Monitoring_date.previous.value}\": [12622],\r\n",
    "                     \"Evolution de l'indicateur\": [datim.total_datim_general - 12622]\r\n",
    "},orient=\"columns\")\r\n",
    "\r\n",
    "temp_solution.to_excel(f\"./monitoring_results/monitoring_du_{Monitoring_date.current.value}.xlsx\")"
   ],
   "metadata": {}
  },
  {
   "cell_type": "code",
   "execution_count": 5,
   "source": [
    "past_data = read_excel(f\"./monitoring_results/monitoring_du_{Monitoring_date.previous.value}.xlsx\")\n",
    "performant_solution = DataFrame.from_dict({f\"datim_{Monitoring_date.current.value}\":[datim.total_datim_general],\n",
    "                     f\"datim_{Monitoring_date.previous.value}\": past_data[f\"datim_{Monitoring_date.previous.value}\"].values.tolist(),\n",
    "                     \"Evolution de l'indicateur\": [datim.total_datim_general - past_data[f\"datim_{Monitoring_date.previous.value}\"].values.tolist()[0]]\n",
    "},orient=\"columns\")\n",
    "\n",
    "performant_solution.to_excel(f\"./monitoring_results/monitoring_du_{Monitoring_date.current.value}.xlsx\",index=False)\n",
    "performant_solution"
   ],
   "outputs": [
    {
     "output_type": "execute_result",
     "data": {
      "text/html": [
       "<div>\n",
       "<style scoped>\n",
       "    .dataframe tbody tr th:only-of-type {\n",
       "        vertical-align: middle;\n",
       "    }\n",
       "\n",
       "    .dataframe tbody tr th {\n",
       "        vertical-align: top;\n",
       "    }\n",
       "\n",
       "    .dataframe thead th {\n",
       "        text-align: right;\n",
       "    }\n",
       "</style>\n",
       "<table border=\"1\" class=\"dataframe\">\n",
       "  <thead>\n",
       "    <tr style=\"text-align: right;\">\n",
       "      <th></th>\n",
       "      <th>datim_28_09_2021</th>\n",
       "      <th>datim_27_09_2021</th>\n",
       "      <th>Evolution de l'indicateur</th>\n",
       "    </tr>\n",
       "  </thead>\n",
       "  <tbody>\n",
       "    <tr>\n",
       "      <th>0</th>\n",
       "      <td>13867</td>\n",
       "      <td>13453</td>\n",
       "      <td>414</td>\n",
       "    </tr>\n",
       "  </tbody>\n",
       "</table>\n",
       "</div>"
      ],
      "text/plain": [
       "   datim_28_09_2021  datim_27_09_2021  Evolution de l'indicateur\n",
       "0             13867             13453                        414"
      ]
     },
     "metadata": {},
     "execution_count": 5
    }
   ],
   "metadata": {}
  },
  {
   "cell_type": "code",
   "execution_count": 6,
   "source": [
    "data_plot = DataFrame({\"state\":[f\"datim_{Monitoring_date.current.value}\",f\"datim_{Monitoring_date.previous.value}\",\"Evolution de l'indicateur\"],\n",
    "                            \"data\": [datim.total_datim_general,past_data[f\"datim_{Monitoring_date.previous.value}\"].values.tolist()[0],datim.total_datim_general - past_data[f\"datim_{Monitoring_date.previous.value}\"].values.tolist()[0]]                        \n",
    "})\n",
    "\n",
    "\n",
    "plt.figure(figsize=(16,8))\n",
    "sns.set_style(\"darkgrid\")\n",
    "splot = sns.barplot(x=\"data\",y=\"state\",data=data_plot)\n",
    "splot.set_xlabel(\"\")\n",
    "splot.set_ylabel(\"\")\n",
    "plt.suptitle(\"AGYW, monitoring for FY21\")\n",
    "for p in splot.patches:\n",
    "    width = p.get_width()\n",
    "    plt.text(2+p.get_width(), p.get_y()+0.50*p.get_height(),\n",
    "             '{:1.0f}'.format(width), fontdict=dict(color=\"red\",fontsize=12))\n",
    "    \n",
    "plt.annotate(\n",
    "    \"source: HIVHaiti\",(0,0), (-80,-20), fontsize=10, \n",
    "             xycoords='axes fraction', textcoords='offset points', va='top'\n",
    ")\n",
    "\n",
    "plt.savefig(\"monitoring_indicator\",dpi=400)"
   ],
   "outputs": [
    {
     "output_type": "execute_result",
     "data": {
      "text/plain": [
       "<Figure size 1152x576 with 0 Axes>"
      ]
     },
     "metadata": {},
     "execution_count": 6
    },
    {
     "output_type": "execute_result",
     "data": {
      "text/plain": [
       "Text(0.5, 0, '')"
      ]
     },
     "metadata": {},
     "execution_count": 6
    },
    {
     "output_type": "execute_result",
     "data": {
      "text/plain": [
       "Text(0, 0.5, '')"
      ]
     },
     "metadata": {},
     "execution_count": 6
    },
    {
     "output_type": "execute_result",
     "data": {
      "text/plain": [
       "Text(0.5, 0.98, 'AGYW, monitoring for FY21')"
      ]
     },
     "metadata": {},
     "execution_count": 6
    },
    {
     "output_type": "execute_result",
     "data": {
      "text/plain": [
       "Text(13869.0, 0.0, '13867')"
      ]
     },
     "metadata": {},
     "execution_count": 6
    },
    {
     "output_type": "execute_result",
     "data": {
      "text/plain": [
       "Text(13455.0, 1.0, '13453')"
      ]
     },
     "metadata": {},
     "execution_count": 6
    },
    {
     "output_type": "execute_result",
     "data": {
      "text/plain": [
       "Text(416.0, 2.0, '414')"
      ]
     },
     "metadata": {},
     "execution_count": 6
    },
    {
     "output_type": "execute_result",
     "data": {
      "text/plain": [
       "Text(-80, -20, 'source: HIVHaiti')"
      ]
     },
     "metadata": {},
     "execution_count": 6
    },
    {
     "output_type": "display_data",
     "data": {
      "image/png": "[encoded data removed]",
      "text/plain": [
       "<Figure size 1152x576 with 1 Axes>"
      ]
     },
     "metadata": {
      "needs_background": "light"
     }
    }
   ],
   "metadata": {}
  },
  {
   "cell_type": "code",
   "execution_count": null,
   "source": [],
   "outputs": [],
   "metadata": {}
  }
 ],
 "metadata": {
  "orig_nbformat": 4,
  "language_info": {
   "name": "python",
   "version": "3.9.7",
   "mimetype": "text/x-python",
   "codemirror_mode": {
    "name": "ipython",
    "version": 3
   },
   "pygments_lexer": "ipython3",
   "nbconvert_exporter": "python",
   "file_extension": ".py"
  },
  "kernelspec": {
   "name": "python3",
   "display_name": "Python 3.9.7 64-bit"
  },
  "interpreter": {
   "hash": "aee8b7b246df8f9039afb4144a1f6fd8d2ca17a180786b69acc140d282b71a49"
  }
 },
 "nbformat": 4,
 "nbformat_minor": 2
}