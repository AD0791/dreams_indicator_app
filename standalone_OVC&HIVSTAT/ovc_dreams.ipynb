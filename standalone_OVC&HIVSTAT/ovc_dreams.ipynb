{
 "cells": [
  {
   "cell_type": "code",
   "execution_count": 1,
   "metadata": {},
   "outputs": [],
   "source": [
    "%%capture\n",
    "from numpy import int16\n",
    "from IPython.core.interactiveshell import InteractiveShell\n",
    "InteractiveShell.ast_node_interactivity = \"all\"\n",
    "\n",
    "from components.ovc_actif import actif_in_Q3Q4, actif_in_Q3strict, actif_in_Q4strict, actif_in_Q3, actif_in_Q4\n",
    "from pandas import concat\n",
    "\n",
    "from datetime import datetime\n",
    "date_du_jour = datetime.today().strftime(\"%d_%m_%Y\")"
   ]
  },
  {
   "cell_type": "code",
   "execution_count": 2,
   "metadata": {},
   "outputs": [
    {
     "data": {
      "text/plain": [
       "10925"
      ]
     },
     "execution_count": 2,
     "metadata": {},
     "output_type": "execute_result"
    },
    {
     "data": {
      "text/plain": [
       "14712"
      ]
     },
     "execution_count": 2,
     "metadata": {},
     "output_type": "execute_result"
    },
    {
     "name": "stdout",
     "output_type": "stream",
     "text": [
      "the logic  Qi = Qistrict + QiQj is valid\n"
     ]
    }
   ],
   "source": [
    "actif_in_Q3.id_patient.count()\n",
    "actif_in_Q4.id_patient.count()\n",
    "\n",
    "if not ((actif_in_Q3.id_patient.count() == actif_in_Q3Q4.id_patient.count() + actif_in_Q3strict.id_patient.count()) and (actif_in_Q4.id_patient.count() == actif_in_Q3Q4.id_patient.count() + actif_in_Q4strict.id_patient.count())):\n",
    "    raise ValueError(\"Qi <> Qistrict + QiQj, bad logic\")\n",
    "else:\n",
    "    print(\"the logic  Qi = Qistrict + QiQj is valid\")"
   ]
  },
  {
   "cell_type": "code",
   "execution_count": 3,
   "metadata": {},
   "outputs": [
    {
     "data": {
      "text/plain": [
       "6920"
      ]
     },
     "execution_count": 3,
     "metadata": {},
     "output_type": "execute_result"
    }
   ],
   "source": [
    "# actif_in_Q3Q4 = actif_in_Q3[actif_in_Q3.id_patient.isin(actif_in_Q4.id_patient)]\n",
    "\n",
    "#### check the symetrie\n",
    "\n",
    "actif_in_Q4Q3 = actif_in_Q4[actif_in_Q4.id_patient.isin(actif_in_Q3.id_patient)]\n",
    "actif_in_Q4Q3.id_patient.count()"
   ]
  },
  {
   "cell_type": "code",
   "execution_count": 4,
   "metadata": {},
   "outputs": [
    {
     "data": {
      "text/plain": [
       "7792"
      ]
     },
     "execution_count": 4,
     "metadata": {},
     "output_type": "execute_result"
    },
    {
     "data": {
      "text/plain": [
       "4005"
      ]
     },
     "execution_count": 4,
     "metadata": {},
     "output_type": "execute_result"
    },
    {
     "data": {
      "text/plain": [
       "6920"
      ]
     },
     "execution_count": 4,
     "metadata": {},
     "output_type": "execute_result"
    }
   ],
   "source": [
    "actif_in_Q4strict.id_patient.count()\n",
    "actif_in_Q3strict.id_patient.count()\n",
    "actif_in_Q3Q4.id_patient.count()"
   ]
  },
  {
   "cell_type": "code",
   "execution_count": 5,
   "metadata": {},
   "outputs": [
    {
     "data": {
      "text/plain": [
       "7564"
      ]
     },
     "execution_count": 5,
     "metadata": {},
     "output_type": "execute_result"
    },
    {
     "data": {
      "text/plain": [
       "3868"
      ]
     },
     "execution_count": 5,
     "metadata": {},
     "output_type": "execute_result"
    },
    {
     "data": {
      "text/plain": [
       "6768"
      ]
     },
     "execution_count": 5,
     "metadata": {},
     "output_type": "execute_result"
    }
   ],
   "source": [
    "completed_Q4strict =  actif_in_Q4strict[actif_in_Q4strict.complete_at_least==\"yes\"]\n",
    "completed_Q3strict =  actif_in_Q3strict[actif_in_Q3strict.complete_at_least==\"yes\"]\n",
    "completed_Q3Q4 =  actif_in_Q3Q4[actif_in_Q3Q4.complete_at_least==\"yes\"]\n",
    "\n",
    "completed_Q4strict.id_patient.count()\n",
    "completed_Q3strict.id_patient.count()\n",
    "completed_Q3Q4.id_patient.count()"
   ]
  },
  {
   "cell_type": "markdown",
   "metadata": {},
   "source": [
    "# Enrolled Q4"
   ]
  },
  {
   "cell_type": "code",
   "execution_count": 6,
   "metadata": {},
   "outputs": [
    {
     "data": {
      "text/plain": [
       "1378"
      ]
     },
     "execution_count": 6,
     "metadata": {},
     "output_type": "execute_result"
    },
    {
     "data": {
      "text/plain": [
       "0"
      ]
     },
     "execution_count": 6,
     "metadata": {},
     "output_type": "execute_result"
    }
   ],
   "source": [
    "enrolledQ4_CQ4strict = completed_Q4strict[completed_Q4strict.isEnrolledQ4==\"yes\"]\n",
    "#enrolledQ4_CQ3strict = completed_Q3strict[completed_Q3strict.isEnrolledQ4==\"yes\"]\n",
    "enrolledQ4_CQ3Q4 = completed_Q3Q4[completed_Q3Q4.isEnrolledQ4==\"yes\"]\n",
    "\n",
    "\n",
    "enrolledQ4_CQ4strict.id_patient.count()\n",
    "#enrolledQ4_CQ3strict.id_patient.count()\n",
    "#enrolledQ4_CQ3Q4.id_patient.count()\n",
    "\n",
    "\n",
    "\n",
    "\n",
    "enrolledQ4_CQ3Q4[enrolledQ4_CQ3Q4.id_patient.isin(enrolledQ4_CQ4strict.id_patient)].id_patient.count()\n",
    "#enrolledQ4_CQ3Q4[enrolledQ4_CQ3Q4.id_patient.isin(enrolledQ4_CQ3strict.id_patient)].id_patient.count()\n",
    "#enrolledQ4_CQ4strict[enrolledQ4_CQ4strict.id_patient.isin(enrolledQ4_CQ3strict.id_patient)].id_patient.count()\n",
    "\n",
    "\n",
    "#enrolledQ4_CQ4strict[~enrolledQ4_CQ4strict.id_patient.isin(enrolledQ4_CQ3strict.id_patient)].id_patient.count()\n",
    "#enrolledQ4_CQ3Q4[~enrolledQ4_CQ3Q4.id_patient.isin(enrolledQ4_CQ3strict.id_patient)].id_patient.count()\n",
    "#enrolledQ4_CQ3Q4[~enrolledQ4_CQ3Q4.id_patient.isin(enrolledQ4_CQ4strict.id_patient)].id_patient.count()"
   ]
  },
  {
   "cell_type": "markdown",
   "metadata": {},
   "source": [
    "# Concatenation"
   ]
  },
  {
   "cell_type": "code",
   "execution_count": 7,
   "metadata": {},
   "outputs": [],
   "source": [
    "all_ovc = concat([completed_Q3Q4,enrolledQ4_CQ4strict])"
   ]
  },
  {
   "cell_type": "code",
   "execution_count": 8,
   "metadata": {},
   "outputs": [
    {
     "data": {
      "text/plain": [
       "8146"
      ]
     },
     "execution_count": 8,
     "metadata": {},
     "output_type": "execute_result"
    },
    {
     "data": {
      "text/plain": [
       "0,          5683\n",
       "0,,2,       1436\n",
       "2,          1009\n",
       "1,             6\n",
       "0,,3,          4\n",
       "0,,1,,2,       2\n",
       "0,,1,          2\n",
       "3,             2\n",
       "0,,2,,3,       1\n",
       "2,,3,          1\n",
       "Name: test_results, dtype: int64"
      ]
     },
     "execution_count": 8,
     "metadata": {},
     "output_type": "execute_result"
    }
   ],
   "source": [
    "all_ovc.drop_duplicates(\"id_patient\",inplace=True)\n",
    "all_ovc.id_patient.count()\n",
    "all_ovc.test_results.fillna(\"0,\",inplace=True)\n",
    "all_ovc.test_results.value_counts()"
   ]
  },
  {
   "cell_type": "code",
   "execution_count": 9,
   "metadata": {},
   "outputs": [
    {
     "data": {
      "text/plain": [
       "8136"
      ]
     },
     "execution_count": 9,
     "metadata": {},
     "output_type": "execute_result"
    },
    {
     "data": {
      "text/plain": [
       "0,       5683\n",
       "0,,2,    1436\n",
       "2,       1009\n",
       "1,          6\n",
       "0,,1,       2\n",
       "Name: test_results, dtype: int64"
      ]
     },
     "execution_count": 9,
     "metadata": {},
     "output_type": "execute_result"
    }
   ],
   "source": [
    "ovc_data = all_ovc[\n",
    "    (all_ovc.test_results!=\"0,,3,\")&\n",
    "    (all_ovc.test_results!=\"0,,1,,2,\")&\n",
    "    (all_ovc.test_results!=\"0,,2,,3,\")&\n",
    "    (all_ovc.test_results!=\"3,\")&\n",
    "    (all_ovc.test_results!=\"2,,3,\")\n",
    "]\n",
    "ovc_data.id_patient.count()\n",
    "ovc_data.test_results.value_counts()"
   ]
  },
  {
   "cell_type": "markdown",
   "metadata": {},
   "source": [
    "# postive OVC_DREAMS"
   ]
  },
  {
   "cell_type": "code",
   "execution_count": 10,
   "metadata": {},
   "outputs": [
    {
     "data": {
      "text/plain": [
       "8"
      ]
     },
     "execution_count": 10,
     "metadata": {},
     "output_type": "execute_result"
    }
   ],
   "source": [
    "positive_dreams= ovc_data[\n",
    "    (ovc_data.test_results==\"1,\")|\n",
    "    (ovc_data.test_results==\"0,,1,\")\n",
    "]\n",
    "positive_dreams.id_patient.count()"
   ]
  },
  {
   "cell_type": "code",
   "execution_count": 11,
   "metadata": {},
   "outputs": [
    {
     "data": {
      "text/html": [
       "<div>\n",
       "<style scoped>\n",
       "    .dataframe tbody tr th:only-of-type {\n",
       "        vertical-align: middle;\n",
       "    }\n",
       "\n",
       "    .dataframe tbody tr th {\n",
       "        vertical-align: top;\n",
       "    }\n",
       "\n",
       "    .dataframe thead th {\n",
       "        text-align: right;\n",
       "    }\n",
       "</style>\n",
       "<table border=\"1\" class=\"dataframe\">\n",
       "  <thead>\n",
       "    <tr style=\"text-align: right;\">\n",
       "      <th></th>\n",
       "      <th>id_patient</th>\n",
       "      <th>id_parenting_group</th>\n",
       "      <th>departement</th>\n",
       "      <th>commune</th>\n",
       "      <th>nbre_pres_for_inter</th>\n",
       "      <th>nbre_parenting_coupe_present</th>\n",
       "      <th>has_comdom_topic</th>\n",
       "      <th>number_of_condoms_sensibilize</th>\n",
       "      <th>number_condoms_reception_in_the_interval</th>\n",
       "      <th>number_test_date_in_the_interval</th>\n",
       "      <th>...</th>\n",
       "      <th>ps_1519</th>\n",
       "      <th>ps_2024</th>\n",
       "      <th>secondary_1014</th>\n",
       "      <th>secondary_1519</th>\n",
       "      <th>secondary_2024</th>\n",
       "      <th>complete_1014</th>\n",
       "      <th>complete_1519</th>\n",
       "      <th>complete_2024</th>\n",
       "      <th>complete_at_least</th>\n",
       "      <th>isEnrolledQ4</th>\n",
       "    </tr>\n",
       "  </thead>\n",
       "  <tbody>\n",
       "    <tr>\n",
       "      <th>568</th>\n",
       "      <td>85541</td>\n",
       "      <td>None</td>\n",
       "      <td>Ouest</td>\n",
       "      <td>Delmas</td>\n",
       "      <td>0</td>\n",
       "      <td>0</td>\n",
       "      <td>no</td>\n",
       "      <td>1</td>\n",
       "      <td>0</td>\n",
       "      <td>0</td>\n",
       "      <td>...</td>\n",
       "      <td>no</td>\n",
       "      <td>no</td>\n",
       "      <td>no</td>\n",
       "      <td>no</td>\n",
       "      <td>no</td>\n",
       "      <td>no</td>\n",
       "      <td>no</td>\n",
       "      <td>no</td>\n",
       "      <td>yes</td>\n",
       "      <td>no</td>\n",
       "    </tr>\n",
       "    <tr>\n",
       "      <th>751</th>\n",
       "      <td>80897</td>\n",
       "      <td>None</td>\n",
       "      <td>Artibonite</td>\n",
       "      <td>Grande Saline</td>\n",
       "      <td>0</td>\n",
       "      <td>0</td>\n",
       "      <td>no</td>\n",
       "      <td>1</td>\n",
       "      <td>0</td>\n",
       "      <td>0</td>\n",
       "      <td>...</td>\n",
       "      <td>no</td>\n",
       "      <td>no</td>\n",
       "      <td>no</td>\n",
       "      <td>no</td>\n",
       "      <td>secondary</td>\n",
       "      <td>no</td>\n",
       "      <td>no</td>\n",
       "      <td>complete</td>\n",
       "      <td>yes</td>\n",
       "      <td>no</td>\n",
       "    </tr>\n",
       "    <tr>\n",
       "      <th>1529</th>\n",
       "      <td>114955</td>\n",
       "      <td>None</td>\n",
       "      <td>Artibonite</td>\n",
       "      <td>Verrettes</td>\n",
       "      <td>8</td>\n",
       "      <td>0</td>\n",
       "      <td>yes</td>\n",
       "      <td>2</td>\n",
       "      <td>1</td>\n",
       "      <td>0</td>\n",
       "      <td>...</td>\n",
       "      <td>no</td>\n",
       "      <td>no</td>\n",
       "      <td>no</td>\n",
       "      <td>no</td>\n",
       "      <td>no</td>\n",
       "      <td>no</td>\n",
       "      <td>no</td>\n",
       "      <td>no</td>\n",
       "      <td>yes</td>\n",
       "      <td>no</td>\n",
       "    </tr>\n",
       "    <tr>\n",
       "      <th>2505</th>\n",
       "      <td>119259</td>\n",
       "      <td>None</td>\n",
       "      <td>Artibonite</td>\n",
       "      <td>Grande Saline</td>\n",
       "      <td>0</td>\n",
       "      <td>0</td>\n",
       "      <td>no</td>\n",
       "      <td>2</td>\n",
       "      <td>0</td>\n",
       "      <td>0</td>\n",
       "      <td>...</td>\n",
       "      <td>no</td>\n",
       "      <td>no</td>\n",
       "      <td>no</td>\n",
       "      <td>no</td>\n",
       "      <td>no</td>\n",
       "      <td>no</td>\n",
       "      <td>no</td>\n",
       "      <td>no</td>\n",
       "      <td>yes</td>\n",
       "      <td>no</td>\n",
       "    </tr>\n",
       "    <tr>\n",
       "      <th>2837</th>\n",
       "      <td>100506</td>\n",
       "      <td>None</td>\n",
       "      <td>Ouest</td>\n",
       "      <td>Tabarre</td>\n",
       "      <td>0</td>\n",
       "      <td>0</td>\n",
       "      <td>no</td>\n",
       "      <td>1</td>\n",
       "      <td>0</td>\n",
       "      <td>0</td>\n",
       "      <td>...</td>\n",
       "      <td>no</td>\n",
       "      <td>no</td>\n",
       "      <td>no</td>\n",
       "      <td>no</td>\n",
       "      <td>no</td>\n",
       "      <td>no</td>\n",
       "      <td>no</td>\n",
       "      <td>no</td>\n",
       "      <td>yes</td>\n",
       "      <td>no</td>\n",
       "    </tr>\n",
       "    <tr>\n",
       "      <th>3473</th>\n",
       "      <td>109625</td>\n",
       "      <td>None</td>\n",
       "      <td>Artibonite</td>\n",
       "      <td>Petite Rivière de l'Artibonite</td>\n",
       "      <td>0</td>\n",
       "      <td>0</td>\n",
       "      <td>no</td>\n",
       "      <td>1</td>\n",
       "      <td>0</td>\n",
       "      <td>0</td>\n",
       "      <td>...</td>\n",
       "      <td>no</td>\n",
       "      <td>no</td>\n",
       "      <td>no</td>\n",
       "      <td>no</td>\n",
       "      <td>no</td>\n",
       "      <td>no</td>\n",
       "      <td>no</td>\n",
       "      <td>no</td>\n",
       "      <td>yes</td>\n",
       "      <td>no</td>\n",
       "    </tr>\n",
       "    <tr>\n",
       "      <th>4856</th>\n",
       "      <td>125012</td>\n",
       "      <td>None</td>\n",
       "      <td>Ouest</td>\n",
       "      <td>Port-au-Prince</td>\n",
       "      <td>0</td>\n",
       "      <td>0</td>\n",
       "      <td>no</td>\n",
       "      <td>1</td>\n",
       "      <td>0</td>\n",
       "      <td>0</td>\n",
       "      <td>...</td>\n",
       "      <td>no</td>\n",
       "      <td>no</td>\n",
       "      <td>secondary</td>\n",
       "      <td>no</td>\n",
       "      <td>no</td>\n",
       "      <td>complete</td>\n",
       "      <td>no</td>\n",
       "      <td>no</td>\n",
       "      <td>yes</td>\n",
       "      <td>yes</td>\n",
       "    </tr>\n",
       "    <tr>\n",
       "      <th>4789</th>\n",
       "      <td>125650</td>\n",
       "      <td>NaN</td>\n",
       "      <td>Ouest</td>\n",
       "      <td>Port-au-Prince</td>\n",
       "      <td>21</td>\n",
       "      <td>0</td>\n",
       "      <td>yes</td>\n",
       "      <td>0</td>\n",
       "      <td>0</td>\n",
       "      <td>1</td>\n",
       "      <td>...</td>\n",
       "      <td>no</td>\n",
       "      <td>primary</td>\n",
       "      <td>no</td>\n",
       "      <td>no</td>\n",
       "      <td>secondary</td>\n",
       "      <td>no</td>\n",
       "      <td>no</td>\n",
       "      <td>no</td>\n",
       "      <td>yes</td>\n",
       "      <td>yes</td>\n",
       "    </tr>\n",
       "  </tbody>\n",
       "</table>\n",
       "<p>8 rows × 42 columns</p>\n",
       "</div>"
      ],
      "text/plain": [
       "      id_patient id_parenting_group departement  \\\n",
       "568        85541               None       Ouest   \n",
       "751        80897               None  Artibonite   \n",
       "1529      114955               None  Artibonite   \n",
       "2505      119259               None  Artibonite   \n",
       "2837      100506               None       Ouest   \n",
       "3473      109625               None  Artibonite   \n",
       "4856      125012               None       Ouest   \n",
       "4789      125650                NaN       Ouest   \n",
       "\n",
       "                             commune  nbre_pres_for_inter  \\\n",
       "568                           Delmas                    0   \n",
       "751                    Grande Saline                    0   \n",
       "1529                       Verrettes                    8   \n",
       "2505                   Grande Saline                    0   \n",
       "2837                         Tabarre                    0   \n",
       "3473  Petite Rivière de l'Artibonite                    0   \n",
       "4856                  Port-au-Prince                    0   \n",
       "4789                  Port-au-Prince                   21   \n",
       "\n",
       "      nbre_parenting_coupe_present has_comdom_topic  \\\n",
       "568                              0               no   \n",
       "751                              0               no   \n",
       "1529                             0              yes   \n",
       "2505                             0               no   \n",
       "2837                             0               no   \n",
       "3473                             0               no   \n",
       "4856                             0               no   \n",
       "4789                             0              yes   \n",
       "\n",
       "      number_of_condoms_sensibilize  number_condoms_reception_in_the_interval  \\\n",
       "568                               1                                         0   \n",
       "751                               1                                         0   \n",
       "1529                              2                                         1   \n",
       "2505                              2                                         0   \n",
       "2837                              1                                         0   \n",
       "3473                              1                                         0   \n",
       "4856                              1                                         0   \n",
       "4789                              0                                         0   \n",
       "\n",
       "      number_test_date_in_the_interval  ... ps_1519  ps_2024  secondary_1014  \\\n",
       "568                                  0  ...      no       no              no   \n",
       "751                                  0  ...      no       no              no   \n",
       "1529                                 0  ...      no       no              no   \n",
       "2505                                 0  ...      no       no              no   \n",
       "2837                                 0  ...      no       no              no   \n",
       "3473                                 0  ...      no       no              no   \n",
       "4856                                 0  ...      no       no       secondary   \n",
       "4789                                 1  ...      no  primary              no   \n",
       "\n",
       "      secondary_1519  secondary_2024 complete_1014 complete_1519  \\\n",
       "568               no              no            no            no   \n",
       "751               no       secondary            no            no   \n",
       "1529              no              no            no            no   \n",
       "2505              no              no            no            no   \n",
       "2837              no              no            no            no   \n",
       "3473              no              no            no            no   \n",
       "4856              no              no      complete            no   \n",
       "4789              no       secondary            no            no   \n",
       "\n",
       "     complete_2024 complete_at_least isEnrolledQ4  \n",
       "568             no               yes           no  \n",
       "751       complete               yes           no  \n",
       "1529            no               yes           no  \n",
       "2505            no               yes           no  \n",
       "2837            no               yes           no  \n",
       "3473            no               yes           no  \n",
       "4856            no               yes          yes  \n",
       "4789            no               yes          yes  \n",
       "\n",
       "[8 rows x 42 columns]"
      ]
     },
     "execution_count": 11,
     "metadata": {},
     "output_type": "execute_result"
    }
   ],
   "source": [
    "positive_dreams"
   ]
  },
  {
   "cell_type": "markdown",
   "metadata": {},
   "source": [
    "# OVC_SERV_DREAMS"
   ]
  },
  {
   "cell_type": "code",
   "execution_count": 12,
   "metadata": {},
   "outputs": [
    {
     "data": {
      "text/plain": [
       "array(['10-14', '18-24', '15-17', '25-29', 'not_valid_age'], dtype=object)"
      ]
     },
     "execution_count": 12,
     "metadata": {},
     "output_type": "execute_result"
    }
   ],
   "source": [
    "ovc_data.ovc_age.unique()"
   ]
  },
  {
   "cell_type": "code",
   "execution_count": 13,
   "metadata": {},
   "outputs": [
    {
     "data": {
      "text/plain": [
       "4304"
      ]
     },
     "execution_count": 13,
     "metadata": {},
     "output_type": "execute_result"
    },
    {
     "name": "stderr",
     "output_type": "stream",
     "text": [
      "/var/folders/7v/rs0k237d6nj3vdxfc1h7xtcw0000gn/T/ipykernel_4194/4236012469.py:6: SettingWithCopyWarning: \n",
      "A value is trying to be set on a copy of a slice from a DataFrame.\n",
      "Try using .loc[row_indexer,col_indexer] = value instead\n",
      "\n",
      "See the caveats in the documentation: https://pandas.pydata.org/pandas-docs/stable/user_guide/indexing.html#returning-a-view-versus-a-copy\n",
      "  ovcS_dreams['Gender'] = \"Female\"\n"
     ]
    }
   ],
   "source": [
    "ovcS_dreams = ovc_data[\n",
    "    (ovc_data.ovc_age==\"10-14\")|\n",
    "    (ovc_data.ovc_age==\"15-17\")\n",
    "]\n",
    "ovcS_dreams.id_patient.count()\n",
    "ovcS_dreams['Gender'] = \"Female\""
   ]
  },
  {
   "cell_type": "code",
   "execution_count": 14,
   "metadata": {},
   "outputs": [
    {
     "data": {
      "text/plain": [
       "array(['no'], dtype=object)"
      ]
     },
     "execution_count": 14,
     "metadata": {},
     "output_type": "execute_result"
    }
   ],
   "source": [
    "ovcS_dreams.parenting_detailed.unique()"
   ]
  },
  {
   "cell_type": "markdown",
   "metadata": {},
   "source": [
    "# Format Datim"
   ]
  },
  {
   "cell_type": "code",
   "execution_count": 15,
   "metadata": {},
   "outputs": [],
   "source": [
    "datim_ovc_dreams = ovcS_dreams.pivot_table(index=\"commune\",values=\"id_patient\",columns=[\"Gender\",\"ovc_age\"],aggfunc='count',fill_value=0)"
   ]
  },
  {
   "cell_type": "code",
   "execution_count": 16,
   "metadata": {},
   "outputs": [
    {
     "data": {
      "text/html": [
       "<div>\n",
       "<style scoped>\n",
       "    .dataframe tbody tr th:only-of-type {\n",
       "        vertical-align: middle;\n",
       "    }\n",
       "\n",
       "    .dataframe tbody tr th {\n",
       "        vertical-align: top;\n",
       "    }\n",
       "\n",
       "    .dataframe thead tr th {\n",
       "        text-align: left;\n",
       "    }\n",
       "\n",
       "    .dataframe thead tr:last-of-type th {\n",
       "        text-align: right;\n",
       "    }\n",
       "</style>\n",
       "<table border=\"1\" class=\"dataframe\">\n",
       "  <thead>\n",
       "    <tr>\n",
       "      <th>Gender</th>\n",
       "      <th colspan=\"6\" halign=\"left\">Female</th>\n",
       "      <th colspan=\"6\" halign=\"left\">Male</th>\n",
       "    </tr>\n",
       "    <tr>\n",
       "      <th>ovc_age</th>\n",
       "      <th>&lt;1</th>\n",
       "      <th>1-4</th>\n",
       "      <th>5-9</th>\n",
       "      <th>10-14</th>\n",
       "      <th>15-17</th>\n",
       "      <th>18+</th>\n",
       "      <th>&lt;1</th>\n",
       "      <th>1-4</th>\n",
       "      <th>5-9</th>\n",
       "      <th>10-14</th>\n",
       "      <th>15-17</th>\n",
       "      <th>18+</th>\n",
       "    </tr>\n",
       "    <tr>\n",
       "      <th>commune</th>\n",
       "      <th></th>\n",
       "      <th></th>\n",
       "      <th></th>\n",
       "      <th></th>\n",
       "      <th></th>\n",
       "      <th></th>\n",
       "      <th></th>\n",
       "      <th></th>\n",
       "      <th></th>\n",
       "      <th></th>\n",
       "      <th></th>\n",
       "      <th></th>\n",
       "    </tr>\n",
       "  </thead>\n",
       "  <tbody>\n",
       "    <tr>\n",
       "      <th>Cap-Haïtien</th>\n",
       "      <td>0</td>\n",
       "      <td>0</td>\n",
       "      <td>0</td>\n",
       "      <td>217</td>\n",
       "      <td>214</td>\n",
       "      <td>0</td>\n",
       "      <td>0</td>\n",
       "      <td>0</td>\n",
       "      <td>0</td>\n",
       "      <td>0</td>\n",
       "      <td>0</td>\n",
       "      <td>0</td>\n",
       "    </tr>\n",
       "    <tr>\n",
       "      <th>Carrefour</th>\n",
       "      <td>0</td>\n",
       "      <td>0</td>\n",
       "      <td>0</td>\n",
       "      <td>137</td>\n",
       "      <td>113</td>\n",
       "      <td>0</td>\n",
       "      <td>0</td>\n",
       "      <td>0</td>\n",
       "      <td>0</td>\n",
       "      <td>0</td>\n",
       "      <td>0</td>\n",
       "      <td>0</td>\n",
       "    </tr>\n",
       "    <tr>\n",
       "      <th>Delmas</th>\n",
       "      <td>0</td>\n",
       "      <td>0</td>\n",
       "      <td>0</td>\n",
       "      <td>82</td>\n",
       "      <td>50</td>\n",
       "      <td>0</td>\n",
       "      <td>0</td>\n",
       "      <td>0</td>\n",
       "      <td>0</td>\n",
       "      <td>0</td>\n",
       "      <td>0</td>\n",
       "      <td>0</td>\n",
       "    </tr>\n",
       "    <tr>\n",
       "      <th>Desdunes</th>\n",
       "      <td>0</td>\n",
       "      <td>0</td>\n",
       "      <td>0</td>\n",
       "      <td>91</td>\n",
       "      <td>74</td>\n",
       "      <td>0</td>\n",
       "      <td>0</td>\n",
       "      <td>0</td>\n",
       "      <td>0</td>\n",
       "      <td>0</td>\n",
       "      <td>0</td>\n",
       "      <td>0</td>\n",
       "    </tr>\n",
       "    <tr>\n",
       "      <th>Dessalines</th>\n",
       "      <td>0</td>\n",
       "      <td>0</td>\n",
       "      <td>0</td>\n",
       "      <td>193</td>\n",
       "      <td>87</td>\n",
       "      <td>0</td>\n",
       "      <td>0</td>\n",
       "      <td>0</td>\n",
       "      <td>0</td>\n",
       "      <td>0</td>\n",
       "      <td>0</td>\n",
       "      <td>0</td>\n",
       "    </tr>\n",
       "    <tr>\n",
       "      <th>Grande Saline</th>\n",
       "      <td>0</td>\n",
       "      <td>0</td>\n",
       "      <td>0</td>\n",
       "      <td>112</td>\n",
       "      <td>118</td>\n",
       "      <td>0</td>\n",
       "      <td>0</td>\n",
       "      <td>0</td>\n",
       "      <td>0</td>\n",
       "      <td>0</td>\n",
       "      <td>0</td>\n",
       "      <td>0</td>\n",
       "    </tr>\n",
       "    <tr>\n",
       "      <th>Gressier</th>\n",
       "      <td>0</td>\n",
       "      <td>0</td>\n",
       "      <td>0</td>\n",
       "      <td>77</td>\n",
       "      <td>41</td>\n",
       "      <td>0</td>\n",
       "      <td>0</td>\n",
       "      <td>0</td>\n",
       "      <td>0</td>\n",
       "      <td>0</td>\n",
       "      <td>0</td>\n",
       "      <td>0</td>\n",
       "    </tr>\n",
       "    <tr>\n",
       "      <th>Kenscoff</th>\n",
       "      <td>0</td>\n",
       "      <td>0</td>\n",
       "      <td>0</td>\n",
       "      <td>392</td>\n",
       "      <td>333</td>\n",
       "      <td>0</td>\n",
       "      <td>0</td>\n",
       "      <td>0</td>\n",
       "      <td>0</td>\n",
       "      <td>0</td>\n",
       "      <td>0</td>\n",
       "      <td>0</td>\n",
       "    </tr>\n",
       "    <tr>\n",
       "      <th>La Chapelle</th>\n",
       "      <td>0</td>\n",
       "      <td>0</td>\n",
       "      <td>0</td>\n",
       "      <td>33</td>\n",
       "      <td>33</td>\n",
       "      <td>0</td>\n",
       "      <td>0</td>\n",
       "      <td>0</td>\n",
       "      <td>0</td>\n",
       "      <td>0</td>\n",
       "      <td>0</td>\n",
       "      <td>0</td>\n",
       "    </tr>\n",
       "    <tr>\n",
       "      <th>Liancourt</th>\n",
       "      <td>0</td>\n",
       "      <td>0</td>\n",
       "      <td>0</td>\n",
       "      <td>51</td>\n",
       "      <td>63</td>\n",
       "      <td>0</td>\n",
       "      <td>0</td>\n",
       "      <td>0</td>\n",
       "      <td>0</td>\n",
       "      <td>0</td>\n",
       "      <td>0</td>\n",
       "      <td>0</td>\n",
       "    </tr>\n",
       "    <tr>\n",
       "      <th>Limonade</th>\n",
       "      <td>0</td>\n",
       "      <td>0</td>\n",
       "      <td>0</td>\n",
       "      <td>93</td>\n",
       "      <td>62</td>\n",
       "      <td>0</td>\n",
       "      <td>0</td>\n",
       "      <td>0</td>\n",
       "      <td>0</td>\n",
       "      <td>0</td>\n",
       "      <td>0</td>\n",
       "      <td>0</td>\n",
       "    </tr>\n",
       "    <tr>\n",
       "      <th>Milot</th>\n",
       "      <td>0</td>\n",
       "      <td>0</td>\n",
       "      <td>0</td>\n",
       "      <td>56</td>\n",
       "      <td>29</td>\n",
       "      <td>0</td>\n",
       "      <td>0</td>\n",
       "      <td>0</td>\n",
       "      <td>0</td>\n",
       "      <td>0</td>\n",
       "      <td>0</td>\n",
       "      <td>0</td>\n",
       "    </tr>\n",
       "    <tr>\n",
       "      <th>Montrouis</th>\n",
       "      <td>0</td>\n",
       "      <td>0</td>\n",
       "      <td>0</td>\n",
       "      <td>41</td>\n",
       "      <td>36</td>\n",
       "      <td>0</td>\n",
       "      <td>0</td>\n",
       "      <td>0</td>\n",
       "      <td>0</td>\n",
       "      <td>0</td>\n",
       "      <td>0</td>\n",
       "      <td>0</td>\n",
       "    </tr>\n",
       "    <tr>\n",
       "      <th>Petite Rivière de l'Artibonite</th>\n",
       "      <td>0</td>\n",
       "      <td>0</td>\n",
       "      <td>0</td>\n",
       "      <td>97</td>\n",
       "      <td>136</td>\n",
       "      <td>0</td>\n",
       "      <td>0</td>\n",
       "      <td>0</td>\n",
       "      <td>0</td>\n",
       "      <td>0</td>\n",
       "      <td>0</td>\n",
       "      <td>0</td>\n",
       "    </tr>\n",
       "    <tr>\n",
       "      <th>Plaine-du-Nord</th>\n",
       "      <td>0</td>\n",
       "      <td>0</td>\n",
       "      <td>0</td>\n",
       "      <td>37</td>\n",
       "      <td>18</td>\n",
       "      <td>0</td>\n",
       "      <td>0</td>\n",
       "      <td>0</td>\n",
       "      <td>0</td>\n",
       "      <td>0</td>\n",
       "      <td>0</td>\n",
       "      <td>0</td>\n",
       "    </tr>\n",
       "    <tr>\n",
       "      <th>Port-au-Prince</th>\n",
       "      <td>0</td>\n",
       "      <td>0</td>\n",
       "      <td>0</td>\n",
       "      <td>90</td>\n",
       "      <td>100</td>\n",
       "      <td>0</td>\n",
       "      <td>0</td>\n",
       "      <td>0</td>\n",
       "      <td>0</td>\n",
       "      <td>0</td>\n",
       "      <td>0</td>\n",
       "      <td>0</td>\n",
       "    </tr>\n",
       "    <tr>\n",
       "      <th>Pétionville</th>\n",
       "      <td>0</td>\n",
       "      <td>0</td>\n",
       "      <td>0</td>\n",
       "      <td>81</td>\n",
       "      <td>86</td>\n",
       "      <td>0</td>\n",
       "      <td>0</td>\n",
       "      <td>0</td>\n",
       "      <td>0</td>\n",
       "      <td>0</td>\n",
       "      <td>0</td>\n",
       "      <td>0</td>\n",
       "    </tr>\n",
       "    <tr>\n",
       "      <th>Quartier-Morin</th>\n",
       "      <td>0</td>\n",
       "      <td>0</td>\n",
       "      <td>0</td>\n",
       "      <td>35</td>\n",
       "      <td>23</td>\n",
       "      <td>0</td>\n",
       "      <td>0</td>\n",
       "      <td>0</td>\n",
       "      <td>0</td>\n",
       "      <td>0</td>\n",
       "      <td>0</td>\n",
       "      <td>0</td>\n",
       "    </tr>\n",
       "    <tr>\n",
       "      <th>Saint-Marc</th>\n",
       "      <td>0</td>\n",
       "      <td>0</td>\n",
       "      <td>0</td>\n",
       "      <td>275</td>\n",
       "      <td>273</td>\n",
       "      <td>0</td>\n",
       "      <td>0</td>\n",
       "      <td>0</td>\n",
       "      <td>0</td>\n",
       "      <td>0</td>\n",
       "      <td>0</td>\n",
       "      <td>0</td>\n",
       "    </tr>\n",
       "    <tr>\n",
       "      <th>Tabarre</th>\n",
       "      <td>0</td>\n",
       "      <td>0</td>\n",
       "      <td>0</td>\n",
       "      <td>30</td>\n",
       "      <td>24</td>\n",
       "      <td>0</td>\n",
       "      <td>0</td>\n",
       "      <td>0</td>\n",
       "      <td>0</td>\n",
       "      <td>0</td>\n",
       "      <td>0</td>\n",
       "      <td>0</td>\n",
       "    </tr>\n",
       "    <tr>\n",
       "      <th>Verrettes</th>\n",
       "      <td>0</td>\n",
       "      <td>0</td>\n",
       "      <td>0</td>\n",
       "      <td>79</td>\n",
       "      <td>92</td>\n",
       "      <td>0</td>\n",
       "      <td>0</td>\n",
       "      <td>0</td>\n",
       "      <td>0</td>\n",
       "      <td>0</td>\n",
       "      <td>0</td>\n",
       "      <td>0</td>\n",
       "    </tr>\n",
       "  </tbody>\n",
       "</table>\n",
       "</div>"
      ],
      "text/plain": [
       "Gender                         Female                         Male          \\\n",
       "ovc_age                            <1 1-4 5-9 10-14 15-17 18+   <1 1-4 5-9   \n",
       "commune                                                                      \n",
       "Cap-Haïtien                         0   0   0   217   214   0    0   0   0   \n",
       "Carrefour                           0   0   0   137   113   0    0   0   0   \n",
       "Delmas                              0   0   0    82    50   0    0   0   0   \n",
       "Desdunes                            0   0   0    91    74   0    0   0   0   \n",
       "Dessalines                          0   0   0   193    87   0    0   0   0   \n",
       "Grande Saline                       0   0   0   112   118   0    0   0   0   \n",
       "Gressier                            0   0   0    77    41   0    0   0   0   \n",
       "Kenscoff                            0   0   0   392   333   0    0   0   0   \n",
       "La Chapelle                         0   0   0    33    33   0    0   0   0   \n",
       "Liancourt                           0   0   0    51    63   0    0   0   0   \n",
       "Limonade                            0   0   0    93    62   0    0   0   0   \n",
       "Milot                               0   0   0    56    29   0    0   0   0   \n",
       "Montrouis                           0   0   0    41    36   0    0   0   0   \n",
       "Petite Rivière de l'Artibonite      0   0   0    97   136   0    0   0   0   \n",
       "Plaine-du-Nord                      0   0   0    37    18   0    0   0   0   \n",
       "Port-au-Prince                      0   0   0    90   100   0    0   0   0   \n",
       "Pétionville                         0   0   0    81    86   0    0   0   0   \n",
       "Quartier-Morin                      0   0   0    35    23   0    0   0   0   \n",
       "Saint-Marc                          0   0   0   275   273   0    0   0   0   \n",
       "Tabarre                             0   0   0    30    24   0    0   0   0   \n",
       "Verrettes                           0   0   0    79    92   0    0   0   0   \n",
       "\n",
       "Gender                                          \n",
       "ovc_age                        10-14 15-17 18+  \n",
       "commune                                         \n",
       "Cap-Haïtien                        0     0   0  \n",
       "Carrefour                          0     0   0  \n",
       "Delmas                             0     0   0  \n",
       "Desdunes                           0     0   0  \n",
       "Dessalines                         0     0   0  \n",
       "Grande Saline                      0     0   0  \n",
       "Gressier                           0     0   0  \n",
       "Kenscoff                           0     0   0  \n",
       "La Chapelle                        0     0   0  \n",
       "Liancourt                          0     0   0  \n",
       "Limonade                           0     0   0  \n",
       "Milot                              0     0   0  \n",
       "Montrouis                          0     0   0  \n",
       "Petite Rivière de l'Artibonite     0     0   0  \n",
       "Plaine-du-Nord                     0     0   0  \n",
       "Port-au-Prince                     0     0   0  \n",
       "Pétionville                        0     0   0  \n",
       "Quartier-Morin                     0     0   0  \n",
       "Saint-Marc                         0     0   0  \n",
       "Tabarre                            0     0   0  \n",
       "Verrettes                          0     0   0  "
      ]
     },
     "execution_count": 16,
     "metadata": {},
     "output_type": "execute_result"
    }
   ],
   "source": [
    "datim_ovc_dreams[('Female','<1')] = 0\n",
    "datim_ovc_dreams[('Female','1-4')] = 0\n",
    "datim_ovc_dreams[('Female','5-9')] = 0\n",
    "datim_ovc_dreams[('Female','18+')] = 0\n",
    "datim_ovc_dreams[('Male','<1')] = 0\n",
    "datim_ovc_dreams[('Male','1-4')] = 0\n",
    "datim_ovc_dreams[('Male','5-9')] = 0\n",
    "datim_ovc_dreams[('Male','10-14')] = 0\n",
    "datim_ovc_dreams[('Male','15-17')] = 0\n",
    "datim_ovc_dreams[('Male','18+')] = 0\n",
    "\n",
    "columns_orientation =[\n",
    "    ('Female','<1'),\n",
    "    ('Female','1-4'),\n",
    "    ('Female','5-9'),\n",
    "    ('Female','10-14'),\n",
    "    ('Female','15-17'),   \n",
    "    ('Female','18+'),  \n",
    "    ('Male','<1'),\n",
    "    ('Male','1-4'),\n",
    "    ('Male','5-9'),\n",
    "    ('Male','10-14'),\n",
    "    ('Male','15-17'),   \n",
    "    ('Male','18+'),   \n",
    "]\n",
    "\n",
    "datim_ovc_dreams = datim_ovc_dreams.reindex(columns= columns_orientation)\n",
    "datim_ovc_dreams"
   ]
  },
  {
   "cell_type": "code",
   "execution_count": 17,
   "metadata": {},
   "outputs": [],
   "source": [
    "# datim_ovc_dreams.reset_index()"
   ]
  },
  {
   "cell_type": "markdown",
   "metadata": {},
   "source": [
    "# Save the data"
   ]
  },
  {
   "cell_type": "code",
   "execution_count": 18,
   "metadata": {},
   "outputs": [],
   "source": [
    "positive_dreams.to_excel('./ovc_results/positive_data/positive_dreams.xlsx',na_rep=\"\",index=False)\n",
    "datim_ovc_dreams.to_excel('./ovc_results/datim_ovc_dreams.xlsx',na_rep=\"\",index=True)\n",
    "\n",
    "\n",
    "#positive_dreams.to_excel(f\"./ovc_results/positive_data/positive_dreams_{date_du_jour}.xlsx\",na_rep=\"\",index=False)\n",
    "#datim_ovc_dreams.to_excel(f\"./ovc_results/datim_ovc_dreams_{date_du_jour}.xlsx\",na_rep=\"\",index=True)\n",
    "\n"
   ]
  },
  {
   "cell_type": "markdown",
   "metadata": {},
   "source": []
  },
  {
   "cell_type": "code",
   "execution_count": null,
   "metadata": {},
   "outputs": [],
   "source": []
  }
 ],
 "metadata": {
  "interpreter": {
   "hash": "aee8b7b246df8f9039afb4144a1f6fd8d2ca17a180786b69acc140d282b71a49"
  },
  "kernelspec": {
   "display_name": "Python 3.9.7 64-bit",
   "name": "python3"
  },
  "language_info": {
   "codemirror_mode": {
    "name": "ipython",
    "version": 3
   },
   "file_extension": ".py",
   "mimetype": "text/x-python",
   "name": "python",
   "nbconvert_exporter": "python",
   "pygments_lexer": "ipython3",
   "version": "3.9.7"
  },
  "orig_nbformat": 4
 },
 "nbformat": 4,
 "nbformat_minor": 2
}
