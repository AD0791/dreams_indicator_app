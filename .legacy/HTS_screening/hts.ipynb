{
 "cells": [
  {
   "cell_type": "code",
   "execution_count": 1,
   "metadata": {},
   "outputs": [],
   "source": [
    "%%capture\n",
    "from IPython.core.interactiveshell import InteractiveShell\n",
    "from datetime import datetime\n",
    "\n",
    "from hts import (\n",
    "    screening_vih,\n",
    "    sdata, \n",
    "    base,\n",
    "    hts,\n",
    "    fy22\n",
    ")\n",
    "\n",
    "\n",
    "InteractiveShell.ast_node_interactivity = \"all\"\n",
    "date_du_jour = datetime.today().strftime(\"%d_%m_%Y\")"
   ]
  },
  {
   "cell_type": "code",
   "execution_count": 2,
   "metadata": {},
   "outputs": [
    {
     "data": {
      "text/plain": [
       "66932"
      ]
     },
     "execution_count": 2,
     "metadata": {},
     "output_type": "execute_result"
    },
    {
     "data": {
      "text/plain": [
       "66932"
      ]
     },
     "execution_count": 2,
     "metadata": {},
     "output_type": "execute_result"
    },
    {
     "data": {
      "text/plain": [
       "12878"
      ]
     },
     "execution_count": 2,
     "metadata": {},
     "output_type": "execute_result"
    },
    {
     "data": {
      "text/plain": [
       "9922"
      ]
     },
     "execution_count": 2,
     "metadata": {},
     "output_type": "execute_result"
    },
    {
     "data": {
      "text/plain": [
       "1379"
      ]
     },
     "execution_count": 2,
     "metadata": {},
     "output_type": "execute_result"
    }
   ],
   "source": [
    "screening_vih.case_id.count()\n",
    "sdata.case_id.count()\n",
    "base.id_patient.count()\n",
    "fy22.case_id.count()\n",
    "hts.id_patient.count()"
   ]
  },
  {
   "cell_type": "code",
   "execution_count": 3,
   "metadata": {},
   "outputs": [
    {
     "data": {
      "text/html": [
       "<div>\n",
       "<style scoped>\n",
       "    .dataframe tbody tr th:only-of-type {\n",
       "        vertical-align: middle;\n",
       "    }\n",
       "\n",
       "    .dataframe tbody tr th {\n",
       "        vertical-align: top;\n",
       "    }\n",
       "\n",
       "    .dataframe thead th {\n",
       "        text-align: right;\n",
       "    }\n",
       "</style>\n",
       "<table border=\"1\" class=\"dataframe\">\n",
       "  <thead>\n",
       "    <tr style=\"text-align: right;\">\n",
       "      <th>hts</th>\n",
       "      <th>no</th>\n",
       "      <th>yes</th>\n",
       "      <th>Total</th>\n",
       "    </tr>\n",
       "    <tr>\n",
       "      <th>ovc_age</th>\n",
       "      <th></th>\n",
       "      <th></th>\n",
       "      <th></th>\n",
       "    </tr>\n",
       "  </thead>\n",
       "  <tbody>\n",
       "    <tr>\n",
       "      <th>10-14</th>\n",
       "      <td>4917</td>\n",
       "      <td>154</td>\n",
       "      <td>5071</td>\n",
       "    </tr>\n",
       "    <tr>\n",
       "      <th>15-17</th>\n",
       "      <td>3113</td>\n",
       "      <td>323</td>\n",
       "      <td>3436</td>\n",
       "    </tr>\n",
       "    <tr>\n",
       "      <th>18-24</th>\n",
       "      <td>3469</td>\n",
       "      <td>902</td>\n",
       "      <td>4371</td>\n",
       "    </tr>\n",
       "    <tr>\n",
       "      <th>Total</th>\n",
       "      <td>11499</td>\n",
       "      <td>1379</td>\n",
       "      <td>12878</td>\n",
       "    </tr>\n",
       "  </tbody>\n",
       "</table>\n",
       "</div>"
      ],
      "text/plain": [
       "hts         no   yes  Total\n",
       "ovc_age                    \n",
       "10-14     4917   154   5071\n",
       "15-17     3113   323   3436\n",
       "18-24     3469   902   4371\n",
       "Total    11499  1379  12878"
      ]
     },
     "execution_count": 3,
     "metadata": {},
     "output_type": "execute_result"
    },
    {
     "data": {
      "text/plain": [
       "1379"
      ]
     },
     "execution_count": 3,
     "metadata": {},
     "output_type": "execute_result"
    }
   ],
   "source": [
    "base.pivot_table(\n",
    "    values='id_patient',\n",
    "    index = 'ovc_age',\n",
    "    columns = 'hts',\n",
    "    aggfunc='count',\n",
    "    fill_value=0,\n",
    "    margins=True,\n",
    "    margins_name='Total'\n",
    ")\n",
    "\n",
    "hts.id_patient.count()"
   ]
  },
  {
   "cell_type": "code",
   "execution_count": 4,
   "metadata": {},
   "outputs": [],
   "source": [
    "HTS = hts[['id_patient','departement','commune','age_in_year','ovc_age','hts']]"
   ]
  },
  {
   "cell_type": "code",
   "execution_count": 20,
   "metadata": {},
   "outputs": [
    {
     "name": "stderr",
     "output_type": "stream",
     "text": [
      "/var/folders/7v/rs0k237d6nj3vdxfc1h7xtcw0000gn/T/ipykernel_2348/2321592977.py:2: SettingWithCopyWarning: \n",
      "A value is trying to be set on a copy of a slice from a DataFrame\n",
      "\n",
      "See the caveats in the documentation: https://pandas.pydata.org/pandas-docs/stable/user_guide/indexing.html#returning-a-view-versus-a-copy\n",
      "  sc_vih.rename(\n",
      "/var/folders/7v/rs0k237d6nj3vdxfc1h7xtcw0000gn/T/ipykernel_2348/2321592977.py:10: SettingWithCopyWarning: \n",
      "A value is trying to be set on a copy of a slice from a DataFrame\n",
      "\n",
      "See the caveats in the documentation: https://pandas.pydata.org/pandas-docs/stable/user_guide/indexing.html#returning-a-view-versus-a-copy\n",
      "  sc_vih_id.rename(\n"
     ]
    }
   ],
   "source": [
    "sc_vih = screening_vih[['case_id','ovc_age','total_score']]\n",
    "sc_vih.rename(\n",
    "    columns={\n",
    "        'ovc_age': 'age_int'\n",
    "    },\n",
    "    inplace=True\n",
    ")\n",
    "\n",
    "sc_vih_id = screening_vih[['case_id','id_patient','ovc_age','total_score']]\n",
    "sc_vih_id.rename(\n",
    "    columns={\n",
    "        'ovc_age': 'age_int'\n",
    "    },\n",
    "    inplace=True\n",
    ")\n"
   ]
  },
  {
   "cell_type": "code",
   "execution_count": 21,
   "metadata": {},
   "outputs": [
    {
     "name": "stderr",
     "output_type": "stream",
     "text": [
      "/var/folders/7v/rs0k237d6nj3vdxfc1h7xtcw0000gn/T/ipykernel_2348/3878049164.py:3: SettingWithCopyWarning: \n",
      "A value is trying to be set on a copy of a slice from a DataFrame\n",
      "\n",
      "See the caveats in the documentation: https://pandas.pydata.org/pandas-docs/stable/user_guide/indexing.html#returning-a-view-versus-a-copy\n",
      "  screens.rename(\n",
      "/var/folders/7v/rs0k237d6nj3vdxfc1h7xtcw0000gn/T/ipykernel_2348/3878049164.py:11: SettingWithCopyWarning: \n",
      "A value is trying to be set on a copy of a slice from a DataFrame\n",
      "\n",
      "See the caveats in the documentation: https://pandas.pydata.org/pandas-docs/stable/user_guide/indexing.html#returning-a-view-versus-a-copy\n",
      "  screens_id.rename(\n"
     ]
    }
   ],
   "source": [
    "screens_score20 = fy22[fy22.total_score>=20]\n",
    "screens = screens_score20[['case_id','ovc_age','total_score']]\n",
    "screens.rename(\n",
    "    columns={\n",
    "        'ovc_age': 'age_int'\n",
    "    },\n",
    "    inplace=True\n",
    ")\n",
    "\n",
    "screens_id = screens_score20[['case_id','id_patient','ovc_age','total_score']]\n",
    "screens_id.rename(\n",
    "    columns={\n",
    "        'ovc_age': 'age_int'\n",
    "    },\n",
    "    inplace=True\n",
    ")\n"
   ]
  },
  {
   "cell_type": "code",
   "execution_count": 22,
   "metadata": {},
   "outputs": [
    {
     "data": {
      "text/plain": [
       "3764"
      ]
     },
     "execution_count": 22,
     "metadata": {},
     "output_type": "execute_result"
    },
    {
     "data": {
      "text/plain": [
       "26    856\n",
       "24    830\n",
       "32    668\n",
       "34    368\n",
       "22    303\n",
       "28    301\n",
       "30    281\n",
       "20     85\n",
       "36     38\n",
       "40     21\n",
       "38     13\n",
       "Name: total_score, dtype: int64"
      ]
     },
     "execution_count": 22,
     "metadata": {},
     "output_type": "execute_result"
    }
   ],
   "source": [
    "screens.case_id.count()\n",
    "screens.total_score.value_counts()"
   ]
  },
  {
   "cell_type": "code",
   "execution_count": 42,
   "metadata": {},
   "outputs": [
    {
     "data": {
      "text/plain": [
       "3764"
      ]
     },
     "execution_count": 42,
     "metadata": {},
     "output_type": "execute_result"
    }
   ],
   "source": [
    "ELIGIBLE = screens.merge(sdata,how='left',on='case_id')\n",
    "ELIGIBLE.case_id.count()\n"
   ]
  },
  {
   "cell_type": "code",
   "execution_count": 47,
   "metadata": {},
   "outputs": [],
   "source": [
    "ELIGIBLE.sort_values(by=['total_score'],ascending=False,inplace=True)\n",
    "ELIGIBLE.to_excel('./results/eligibles_vih.xlsx',na_rep=\"\",index=False)"
   ]
  },
  {
   "cell_type": "markdown",
   "metadata": {},
   "source": [
    "# Found"
   ]
  },
  {
   "cell_type": "code",
   "execution_count": 56,
   "metadata": {},
   "outputs": [
    {
     "data": {
      "text/plain": [
       "1379"
      ]
     },
     "execution_count": 56,
     "metadata": {},
     "output_type": "execute_result"
    }
   ],
   "source": [
    "HTS.id_patient.count()"
   ]
  },
  {
   "cell_type": "code",
   "execution_count": 60,
   "metadata": {},
   "outputs": [
    {
     "data": {
      "text/html": [
       "<div>\n",
       "<style scoped>\n",
       "    .dataframe tbody tr th:only-of-type {\n",
       "        vertical-align: middle;\n",
       "    }\n",
       "\n",
       "    .dataframe tbody tr th {\n",
       "        vertical-align: top;\n",
       "    }\n",
       "\n",
       "    .dataframe thead th {\n",
       "        text-align: right;\n",
       "    }\n",
       "</style>\n",
       "<table border=\"1\" class=\"dataframe\">\n",
       "  <thead>\n",
       "    <tr style=\"text-align: right;\">\n",
       "      <th></th>\n",
       "      <th>case_id</th>\n",
       "      <th>id_patient</th>\n",
       "      <th>age_int</th>\n",
       "      <th>total_score</th>\n",
       "    </tr>\n",
       "  </thead>\n",
       "  <tbody>\n",
       "    <tr>\n",
       "      <th>75</th>\n",
       "      <td>004997ef-357b-495a-ab49-f042d9583b64</td>\n",
       "      <td>129775</td>\n",
       "      <td>18-24</td>\n",
       "      <td>24</td>\n",
       "    </tr>\n",
       "    <tr>\n",
       "      <th>973</th>\n",
       "      <td>03ae16f8-a58c-4a19-bb50-d7f567f13587</td>\n",
       "      <td>155008</td>\n",
       "      <td>15-17</td>\n",
       "      <td>32</td>\n",
       "    </tr>\n",
       "    <tr>\n",
       "      <th>1333</th>\n",
       "      <td>0518a3ab-753c-4df9-a162-f09b47b5e154</td>\n",
       "      <td>129776</td>\n",
       "      <td>18-24</td>\n",
       "      <td>34</td>\n",
       "    </tr>\n",
       "    <tr>\n",
       "      <th>1999</th>\n",
       "      <td>07aecd46-7c9e-436e-9815-0705f3146b9a</td>\n",
       "      <td>129077</td>\n",
       "      <td>18-24</td>\n",
       "      <td>24</td>\n",
       "    </tr>\n",
       "    <tr>\n",
       "      <th>2365</th>\n",
       "      <td>091b6cf7-d694-4be4-af13-3f33cd47c42a</td>\n",
       "      <td>131202</td>\n",
       "      <td>15-17</td>\n",
       "      <td>26</td>\n",
       "    </tr>\n",
       "    <tr>\n",
       "      <th>...</th>\n",
       "      <td>...</td>\n",
       "      <td>...</td>\n",
       "      <td>...</td>\n",
       "      <td>...</td>\n",
       "    </tr>\n",
       "    <tr>\n",
       "      <th>64092</th>\n",
       "      <td>f56bc5b4-dc98-418e-b993-eb5d43e8a04a</td>\n",
       "      <td>131199</td>\n",
       "      <td>15-17</td>\n",
       "      <td>32</td>\n",
       "    </tr>\n",
       "    <tr>\n",
       "      <th>64331</th>\n",
       "      <td>f65971fc-55a1-48d5-b524-eefa43563f15</td>\n",
       "      <td>131302</td>\n",
       "      <td>18-24</td>\n",
       "      <td>32</td>\n",
       "    </tr>\n",
       "    <tr>\n",
       "      <th>64629</th>\n",
       "      <td>f7655f41-17b6-45d9-b7d6-f3686bb69a53</td>\n",
       "      <td>154151</td>\n",
       "      <td>15-17</td>\n",
       "      <td>22</td>\n",
       "    </tr>\n",
       "    <tr>\n",
       "      <th>65123</th>\n",
       "      <td>f93d5c11-50cb-4bf1-8d0d-67d801e936a9</td>\n",
       "      <td>129107</td>\n",
       "      <td>18-24</td>\n",
       "      <td>24</td>\n",
       "    </tr>\n",
       "    <tr>\n",
       "      <th>66644</th>\n",
       "      <td>fef9eac7-7587-489c-b026-30dfb4c77b9b</td>\n",
       "      <td>135056</td>\n",
       "      <td>15-17</td>\n",
       "      <td>32</td>\n",
       "    </tr>\n",
       "  </tbody>\n",
       "</table>\n",
       "<p>198 rows × 4 columns</p>\n",
       "</div>"
      ],
      "text/plain": [
       "                                    case_id  id_patient age_int  total_score\n",
       "75     004997ef-357b-495a-ab49-f042d9583b64      129775   18-24           24\n",
       "973    03ae16f8-a58c-4a19-bb50-d7f567f13587      155008   15-17           32\n",
       "1333   0518a3ab-753c-4df9-a162-f09b47b5e154      129776   18-24           34\n",
       "1999   07aecd46-7c9e-436e-9815-0705f3146b9a      129077   18-24           24\n",
       "2365   091b6cf7-d694-4be4-af13-3f33cd47c42a      131202   15-17           26\n",
       "...                                     ...         ...     ...          ...\n",
       "64092  f56bc5b4-dc98-418e-b993-eb5d43e8a04a      131199   15-17           32\n",
       "64331  f65971fc-55a1-48d5-b524-eefa43563f15      131302   18-24           32\n",
       "64629  f7655f41-17b6-45d9-b7d6-f3686bb69a53      154151   15-17           22\n",
       "65123  f93d5c11-50cb-4bf1-8d0d-67d801e936a9      129107   18-24           24\n",
       "66644  fef9eac7-7587-489c-b026-30dfb4c77b9b      135056   15-17           32\n",
       "\n",
       "[198 rows x 4 columns]"
      ]
     },
     "execution_count": 60,
     "metadata": {},
     "output_type": "execute_result"
    }
   ],
   "source": [
    "screens_id[screens_id.id_patient.isin(HTS.id_patient)]"
   ]
  },
  {
   "cell_type": "code",
   "execution_count": 63,
   "metadata": {},
   "outputs": [
    {
     "data": {
      "text/html": [
       "<div>\n",
       "<style scoped>\n",
       "    .dataframe tbody tr th:only-of-type {\n",
       "        vertical-align: middle;\n",
       "    }\n",
       "\n",
       "    .dataframe tbody tr th {\n",
       "        vertical-align: top;\n",
       "    }\n",
       "\n",
       "    .dataframe thead th {\n",
       "        text-align: right;\n",
       "    }\n",
       "</style>\n",
       "<table border=\"1\" class=\"dataframe\">\n",
       "  <thead>\n",
       "    <tr style=\"text-align: right;\">\n",
       "      <th></th>\n",
       "      <th>case_id</th>\n",
       "      <th>id_patient</th>\n",
       "      <th>age_int</th>\n",
       "      <th>total_score</th>\n",
       "    </tr>\n",
       "  </thead>\n",
       "  <tbody>\n",
       "    <tr>\n",
       "      <th>66</th>\n",
       "      <td>003f6422-8e9b-4a49-ab2f-b4e8bc9d01c4</td>\n",
       "      <td>96862</td>\n",
       "      <td>10-14</td>\n",
       "      <td>32</td>\n",
       "    </tr>\n",
       "    <tr>\n",
       "      <th>75</th>\n",
       "      <td>004997ef-357b-495a-ab49-f042d9583b64</td>\n",
       "      <td>129775</td>\n",
       "      <td>18-24</td>\n",
       "      <td>24</td>\n",
       "    </tr>\n",
       "    <tr>\n",
       "      <th>97</th>\n",
       "      <td>0064b6e7-c478-494d-9ea0-695d45f687f1</td>\n",
       "      <td>124125</td>\n",
       "      <td>15-17</td>\n",
       "      <td>34</td>\n",
       "    </tr>\n",
       "    <tr>\n",
       "      <th>110</th>\n",
       "      <td>00738651-aab7-4fd0-a237-faaf6f6f305a</td>\n",
       "      <td>79404</td>\n",
       "      <td>18-24</td>\n",
       "      <td>16</td>\n",
       "    </tr>\n",
       "    <tr>\n",
       "      <th>122</th>\n",
       "      <td>007b9fe9-d032-41eb-b362-6a09352c1502</td>\n",
       "      <td>83412</td>\n",
       "      <td>18-24</td>\n",
       "      <td>24</td>\n",
       "    </tr>\n",
       "    <tr>\n",
       "      <th>...</th>\n",
       "      <td>...</td>\n",
       "      <td>...</td>\n",
       "      <td>...</td>\n",
       "      <td>...</td>\n",
       "    </tr>\n",
       "    <tr>\n",
       "      <th>66644</th>\n",
       "      <td>fef9eac7-7587-489c-b026-30dfb4c77b9b</td>\n",
       "      <td>135056</td>\n",
       "      <td>15-17</td>\n",
       "      <td>32</td>\n",
       "    </tr>\n",
       "    <tr>\n",
       "      <th>66761</th>\n",
       "      <td>ff613f31-2e06-49ed-88e8-304dec19678e</td>\n",
       "      <td>94150</td>\n",
       "      <td>18-24</td>\n",
       "      <td>0</td>\n",
       "    </tr>\n",
       "    <tr>\n",
       "      <th>66793</th>\n",
       "      <td>ff7b960b-48ce-4100-99f0-c42f517377ce</td>\n",
       "      <td>79861</td>\n",
       "      <td>10-14</td>\n",
       "      <td>26</td>\n",
       "    </tr>\n",
       "    <tr>\n",
       "      <th>66821</th>\n",
       "      <td>ff99b278-5cae-4d6a-b4b4-6e1dd8208a8a</td>\n",
       "      <td>88161</td>\n",
       "      <td>15-17</td>\n",
       "      <td>4</td>\n",
       "    </tr>\n",
       "    <tr>\n",
       "      <th>66855</th>\n",
       "      <td>ffb880f1-a804-438c-ac7a-2642e1e6aa97</td>\n",
       "      <td>123855</td>\n",
       "      <td>18-24</td>\n",
       "      <td>24</td>\n",
       "    </tr>\n",
       "  </tbody>\n",
       "</table>\n",
       "<p>1379 rows × 4 columns</p>\n",
       "</div>"
      ],
      "text/plain": [
       "                                    case_id  id_patient age_int  total_score\n",
       "66     003f6422-8e9b-4a49-ab2f-b4e8bc9d01c4       96862   10-14           32\n",
       "75     004997ef-357b-495a-ab49-f042d9583b64      129775   18-24           24\n",
       "97     0064b6e7-c478-494d-9ea0-695d45f687f1      124125   15-17           34\n",
       "110    00738651-aab7-4fd0-a237-faaf6f6f305a       79404   18-24           16\n",
       "122    007b9fe9-d032-41eb-b362-6a09352c1502       83412   18-24           24\n",
       "...                                     ...         ...     ...          ...\n",
       "66644  fef9eac7-7587-489c-b026-30dfb4c77b9b      135056   15-17           32\n",
       "66761  ff613f31-2e06-49ed-88e8-304dec19678e       94150   18-24            0\n",
       "66793  ff7b960b-48ce-4100-99f0-c42f517377ce       79861   10-14           26\n",
       "66821  ff99b278-5cae-4d6a-b4b4-6e1dd8208a8a       88161   15-17            4\n",
       "66855  ffb880f1-a804-438c-ac7a-2642e1e6aa97      123855   18-24           24\n",
       "\n",
       "[1379 rows x 4 columns]"
      ]
     },
     "execution_count": 63,
     "metadata": {},
     "output_type": "execute_result"
    }
   ],
   "source": [
    "sc_vih_id[sc_vih_id.id_patient.isin(HTS.id_patient)]"
   ]
  },
  {
   "cell_type": "markdown",
   "metadata": {},
   "source": [
    "# Score dreams des zero"
   ]
  },
  {
   "cell_type": "code",
   "execution_count": 55,
   "metadata": {},
   "outputs": [
    {
     "data": {
      "text/plain": [
       "array([25., 18., 17., 19., 26., 22., 20., 14., 33., 15., 29., 16., 24.,\n",
       "       23., 21., 30., 34.])"
      ]
     },
     "execution_count": 55,
     "metadata": {},
     "output_type": "execute_result"
    }
   ],
   "source": [
    "zero = fy22[fy22.total_score==0][['case_id']]\n",
    "\n",
    "zero.merge(sdata,how='left',on='case_id')['total'].unique()"
   ]
  },
  {
   "cell_type": "code",
   "execution_count": null,
   "metadata": {},
   "outputs": [],
   "source": []
  }
 ],
 "metadata": {
  "interpreter": {
   "hash": "b460384b52104c1e5b9cf54bee46a255d22b2bef338f75ac4ad5d48196028d3c"
  },
  "kernelspec": {
   "display_name": "Python 3.10.2 64-bit",
   "language": "python",
   "name": "python3"
  },
  "language_info": {
   "codemirror_mode": {
    "name": "ipython",
    "version": 3
   },
   "file_extension": ".py",
   "mimetype": "text/x-python",
   "name": "python",
   "nbconvert_exporter": "python",
   "pygments_lexer": "ipython3",
   "version": "3.10.8"
  },
  "orig_nbformat": 4
 },
 "nbformat": 4,
 "nbformat_minor": 2
}
