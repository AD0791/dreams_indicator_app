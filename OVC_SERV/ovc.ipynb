{
 "cells": [
  {
   "cell_type": "code",
   "execution_count": 1,
   "metadata": {},
   "outputs": [],
   "source": [
    "%%capture\n",
    "from numpy import int16\n",
    "from IPython.core.interactiveshell import InteractiveShell\n",
    "InteractiveShell.ast_node_interactivity = \"all\"\n",
    "from datetime import datetime\n",
    "from threading import Timer\n",
    "from pandas import read_excel\n",
    "\n",
    "from oactf import actif, patient, driver\n",
    "\n",
    "date_du_jour = datetime.today().strftime(\"%d_%m_%Y\")"
   ]
  },
  {
   "cell_type": "code",
   "execution_count": 2,
   "metadata": {},
   "outputs": [],
   "source": [
    "def the_upload():\n",
    "    schooling_dreams = read_excel(f\"~/Downloads/schooling_dreams {str(datetime.today().strftime('%Y-%m-%d'))}.xlsx\")\n",
    "    schooling_dreams = schooling_dreams[schooling_dreams.closed == False]\n",
    "    payed_schooling_dreams = schooling_dreams[schooling_dreams.eskew_peye == \"1\"]\n",
    "    return schooling_dreams, payed_schooling_dreams\n",
    "\n",
    "t = Timer(1000.0,the_upload)\n",
    "t.start()\n",
    "schooling_dreams,payed_schooling_dreams = the_upload()"
   ]
  },
  {
   "cell_type": "code",
   "execution_count": 3,
   "metadata": {},
   "outputs": [],
   "source": [
    "driver.quit()"
   ]
  },
  {
   "cell_type": "code",
   "execution_count": 4,
   "metadata": {},
   "outputs": [
    {
     "data": {
      "text/plain": [
       "array([False])"
      ]
     },
     "execution_count": 4,
     "metadata": {},
     "output_type": "execute_result"
    },
    {
     "data": {
      "text/plain": [
       "array(['1', '---'], dtype=object)"
      ]
     },
     "execution_count": 4,
     "metadata": {},
     "output_type": "execute_result"
    },
    {
     "data": {
      "text/plain": [
       "array(['1'], dtype=object)"
      ]
     },
     "execution_count": 4,
     "metadata": {},
     "output_type": "execute_result"
    }
   ],
   "source": [
    "schooling_dreams.closed.unique()\n",
    "schooling_dreams.eskew_peye.unique()\n",
    "payed_schooling_dreams.eskew_peye.unique()"
   ]
  },
  {
   "cell_type": "code",
   "execution_count": 5,
   "metadata": {},
   "outputs": [
    {
     "data": {
      "text/plain": [
       "18760"
      ]
     },
     "execution_count": 5,
     "metadata": {},
     "output_type": "execute_result"
    },
    {
     "data": {
      "text/plain": [
       "165767"
      ]
     },
     "execution_count": 5,
     "metadata": {},
     "output_type": "execute_result"
    },
    {
     "data": {
      "text/plain": [
       "162"
      ]
     },
     "execution_count": 5,
     "metadata": {},
     "output_type": "execute_result"
    },
    {
     "data": {
      "text/plain": [
       "153"
      ]
     },
     "execution_count": 5,
     "metadata": {},
     "output_type": "execute_result"
    }
   ],
   "source": [
    "actif.id_patient.count()\n",
    "patient.id_patient.count()\n",
    "schooling_dreams.caseid.count()\n",
    "payed_schooling_dreams.caseid.count()"
   ]
  },
  {
   "cell_type": "code",
   "execution_count": null,
   "metadata": {},
   "outputs": [],
   "source": [
    "actif.to_excel('actif.xlsx',index=False)"
   ]
  },
  {
   "cell_type": "code",
   "execution_count": 6,
   "metadata": {},
   "outputs": [
    {
     "data": {
      "text/plain": [
       "17483"
      ]
     },
     "execution_count": 6,
     "metadata": {},
     "output_type": "execute_result"
    },
    {
     "name": "stderr",
     "output_type": "stream",
     "text": [
      "/var/folders/7v/rs0k237d6nj3vdxfc1h7xtcw0000gn/T/ipykernel_91922/319073030.py:3: SettingWithCopyWarning: \n",
      "A value is trying to be set on a copy of a slice from a DataFrame\n",
      "\n",
      "See the caveats in the documentation: https://pandas.pydata.org/pandas-docs/stable/user_guide/indexing.html#returning-a-view-versus-a-copy\n",
      "  comp.test_results.fillna(\"0,\",inplace=True)\n"
     ]
    },
    {
     "data": {
      "text/plain": [
       "0,          15960\n",
       "0,,2,         866\n",
       "2,            647\n",
       "0,,3,           4\n",
       "1,              2\n",
       "0,,2,,3,        1\n",
       "0,,1,           1\n",
       "2,,3,           1\n",
       "3,              1\n",
       "Name: test_results, dtype: int64"
      ]
     },
     "execution_count": 6,
     "metadata": {},
     "output_type": "execute_result"
    }
   ],
   "source": [
    "comp = actif[actif.complete_at_least==\"yes\"]\n",
    "comp.id_patient.count()\n",
    "comp.test_results.fillna(\"0,\",inplace=True)\n",
    "comp.test_results.value_counts()"
   ]
  },
  {
   "cell_type": "code",
   "execution_count": 7,
   "metadata": {},
   "outputs": [
    {
     "data": {
      "text/plain": [
       "17483"
      ]
     },
     "execution_count": 7,
     "metadata": {},
     "output_type": "execute_result"
    },
    {
     "data": {
      "text/plain": [
       "17476"
      ]
     },
     "execution_count": 7,
     "metadata": {},
     "output_type": "execute_result"
    },
    {
     "data": {
      "text/plain": [
       "0,       15960\n",
       "0,,2,      866\n",
       "2,         647\n",
       "1,           2\n",
       "0,,1,        1\n",
       "Name: test_results, dtype: int64"
      ]
     },
     "execution_count": 7,
     "metadata": {},
     "output_type": "execute_result"
    }
   ],
   "source": [
    "ovc_data= comp\n",
    "neg_data = comp[\n",
    "    (comp.test_results!=\"0,,3,\")&\n",
    "    (comp.test_results!=\"0,,1,,2,\")&\n",
    "    (comp.test_results!=\"0,,2,,3,\")&\n",
    "    (comp.test_results!=\"3,\")&\n",
    "    (comp.test_results!=\"2,,3,\")\n",
    "]\n",
    "ovc_data.id_patient.count()\n",
    "neg_data.id_patient.count()\n",
    "neg_data.test_results.value_counts()"
   ]
  },
  {
   "cell_type": "code",
   "execution_count": 8,
   "metadata": {},
   "outputs": [
    {
     "data": {
      "text/plain": [
       "3"
      ]
     },
     "execution_count": 8,
     "metadata": {},
     "output_type": "execute_result"
    }
   ],
   "source": [
    "positive_dreams= ovc_data[\n",
    "    (ovc_data.test_results==\"1,\")|\n",
    "    (ovc_data.test_results==\"0,,1,\")\n",
    "]\n",
    "positive_dreams.id_patient.count()"
   ]
  },
  {
   "cell_type": "code",
   "execution_count": 9,
   "metadata": {},
   "outputs": [
    {
     "data": {
      "text/html": [
       "<div>\n",
       "<style scoped>\n",
       "    .dataframe tbody tr th:only-of-type {\n",
       "        vertical-align: middle;\n",
       "    }\n",
       "\n",
       "    .dataframe tbody tr th {\n",
       "        vertical-align: top;\n",
       "    }\n",
       "\n",
       "    .dataframe thead th {\n",
       "        text-align: right;\n",
       "    }\n",
       "</style>\n",
       "<table border=\"1\" class=\"dataframe\">\n",
       "  <thead>\n",
       "    <tr style=\"text-align: right;\">\n",
       "      <th></th>\n",
       "      <th>id_patient</th>\n",
       "      <th>id_parenting_group</th>\n",
       "      <th>departement</th>\n",
       "      <th>commune</th>\n",
       "      <th>nbre_pres_for_inter</th>\n",
       "      <th>nbre_parenting_coupe_present</th>\n",
       "      <th>has_comdom_topic</th>\n",
       "      <th>has_preventive_vbg</th>\n",
       "      <th>number_of_condoms_sensibilize</th>\n",
       "      <th>number_condoms_sensibilization_date_in_the_interval</th>\n",
       "      <th>...</th>\n",
       "      <th>ps_1519</th>\n",
       "      <th>ps_2024</th>\n",
       "      <th>secondary_1014</th>\n",
       "      <th>secondary_1519</th>\n",
       "      <th>secondary_2024</th>\n",
       "      <th>complete_1014</th>\n",
       "      <th>complete_1519</th>\n",
       "      <th>complete_2024</th>\n",
       "      <th>complete_at_least</th>\n",
       "      <th>isEnrolledQ4</th>\n",
       "    </tr>\n",
       "  </thead>\n",
       "  <tbody>\n",
       "    <tr>\n",
       "      <th>3076</th>\n",
       "      <td>151637</td>\n",
       "      <td>NaN</td>\n",
       "      <td>Artibonite</td>\n",
       "      <td>Grande Saline</td>\n",
       "      <td>21</td>\n",
       "      <td>0</td>\n",
       "      <td>yes</td>\n",
       "      <td>yes</td>\n",
       "      <td>1</td>\n",
       "      <td>1</td>\n",
       "      <td>...</td>\n",
       "      <td>no</td>\n",
       "      <td>primary</td>\n",
       "      <td>no</td>\n",
       "      <td>no</td>\n",
       "      <td>secondary</td>\n",
       "      <td>no</td>\n",
       "      <td>no</td>\n",
       "      <td>no</td>\n",
       "      <td>yes</td>\n",
       "      <td>no</td>\n",
       "    </tr>\n",
       "    <tr>\n",
       "      <th>3963</th>\n",
       "      <td>162212</td>\n",
       "      <td>NaN</td>\n",
       "      <td>Nord</td>\n",
       "      <td>Cap-Haïtien</td>\n",
       "      <td>21</td>\n",
       "      <td>0</td>\n",
       "      <td>yes</td>\n",
       "      <td>yes</td>\n",
       "      <td>1</td>\n",
       "      <td>1</td>\n",
       "      <td>...</td>\n",
       "      <td>primary</td>\n",
       "      <td>no</td>\n",
       "      <td>no</td>\n",
       "      <td>secondary</td>\n",
       "      <td>no</td>\n",
       "      <td>no</td>\n",
       "      <td>no</td>\n",
       "      <td>no</td>\n",
       "      <td>yes</td>\n",
       "      <td>no</td>\n",
       "    </tr>\n",
       "    <tr>\n",
       "      <th>13021</th>\n",
       "      <td>85541</td>\n",
       "      <td>NaN</td>\n",
       "      <td>Ouest</td>\n",
       "      <td>Delmas</td>\n",
       "      <td>21</td>\n",
       "      <td>0</td>\n",
       "      <td>yes</td>\n",
       "      <td>yes</td>\n",
       "      <td>2</td>\n",
       "      <td>0</td>\n",
       "      <td>...</td>\n",
       "      <td>no</td>\n",
       "      <td>primary</td>\n",
       "      <td>no</td>\n",
       "      <td>no</td>\n",
       "      <td>no</td>\n",
       "      <td>no</td>\n",
       "      <td>no</td>\n",
       "      <td>no</td>\n",
       "      <td>yes</td>\n",
       "      <td>no</td>\n",
       "    </tr>\n",
       "  </tbody>\n",
       "</table>\n",
       "<p>3 rows × 56 columns</p>\n",
       "</div>"
      ],
      "text/plain": [
       "       id_patient  id_parenting_group departement        commune  \\\n",
       "3076       151637                 NaN  Artibonite  Grande Saline   \n",
       "3963       162212                 NaN        Nord    Cap-Haïtien   \n",
       "13021       85541                 NaN       Ouest         Delmas   \n",
       "\n",
       "       nbre_pres_for_inter  nbre_parenting_coupe_present has_comdom_topic  \\\n",
       "3076                    21                             0              yes   \n",
       "3963                    21                             0              yes   \n",
       "13021                   21                             0              yes   \n",
       "\n",
       "      has_preventive_vbg  number_of_condoms_sensibilize  \\\n",
       "3076                 yes                              1   \n",
       "3963                 yes                              1   \n",
       "13021                yes                              2   \n",
       "\n",
       "       number_condoms_sensibilization_date_in_the_interval  ...  ps_1519  \\\n",
       "3076                                                   1    ...       no   \n",
       "3963                                                   1    ...  primary   \n",
       "13021                                                  0    ...       no   \n",
       "\n",
       "       ps_2024 secondary_1014  secondary_1519  secondary_2024 complete_1014  \\\n",
       "3076   primary             no              no       secondary            no   \n",
       "3963        no             no       secondary              no            no   \n",
       "13021  primary             no              no              no            no   \n",
       "\n",
       "      complete_1519  complete_2024  complete_at_least  isEnrolledQ4  \n",
       "3076             no             no                yes            no  \n",
       "3963             no             no                yes            no  \n",
       "13021            no             no                yes            no  \n",
       "\n",
       "[3 rows x 56 columns]"
      ]
     },
     "execution_count": 9,
     "metadata": {},
     "output_type": "execute_result"
    }
   ],
   "source": [
    "positive_dreams"
   ]
  },
  {
   "cell_type": "code",
   "execution_count": 10,
   "metadata": {},
   "outputs": [
    {
     "data": {
      "text/plain": [
       "array(['18-24', '15-17', '25-29', '10-14', 'not_valid_age'], dtype=object)"
      ]
     },
     "execution_count": 10,
     "metadata": {},
     "output_type": "execute_result"
    },
    {
     "data": {
      "text/plain": [
       "array(['no', 'yes'], dtype=object)"
      ]
     },
     "execution_count": 10,
     "metadata": {},
     "output_type": "execute_result"
    },
    {
     "data": {
      "text/plain": [
       "array(['no', 'yes', 'has_started'], dtype=object)"
      ]
     },
     "execution_count": 10,
     "metadata": {},
     "output_type": "execute_result"
    }
   ],
   "source": [
    "ovc_data.ovc_age.unique()\n",
    "ovc_data.parenting.unique()\n",
    "ovc_data.parenting_detailed.unique()"
   ]
  },
  {
   "cell_type": "code",
   "execution_count": 11,
   "metadata": {},
   "outputs": [
    {
     "name": "stderr",
     "output_type": "stream",
     "text": [
      "/var/folders/7v/rs0k237d6nj3vdxfc1h7xtcw0000gn/T/ipykernel_91922/39440959.py:5: SettingWithCopyWarning: \n",
      "A value is trying to be set on a copy of a slice from a DataFrame.\n",
      "Try using .loc[row_indexer,col_indexer] = value instead\n",
      "\n",
      "See the caveats in the documentation: https://pandas.pydata.org/pandas-docs/stable/user_guide/indexing.html#returning-a-view-versus-a-copy\n",
      "  ovcS_dreams['Gender'] = \"Female\"\n"
     ]
    },
    {
     "data": {
      "text/plain": [
       "11275"
      ]
     },
     "execution_count": 11,
     "metadata": {},
     "output_type": "execute_result"
    }
   ],
   "source": [
    "ovcS_dreams = ovc_data[\n",
    "    (ovc_data.ovc_age==\"10-14\")|\n",
    "    (ovc_data.ovc_age==\"15-17\")\n",
    "]\n",
    "ovcS_dreams['Gender'] = \"Female\"\n",
    "ovcS_dreams.id_patient.count()"
   ]
  },
  {
   "cell_type": "code",
   "execution_count": 12,
   "metadata": {},
   "outputs": [],
   "source": [
    "ovcS_dreams = patient.merge(ovcS_dreams,on=\"id_patient\",how=\"right\")\n"
   ]
  },
  {
   "cell_type": "code",
   "execution_count": 13,
   "metadata": {},
   "outputs": [
    {
     "data": {
      "text/plain": [
       "135"
      ]
     },
     "execution_count": 13,
     "metadata": {},
     "output_type": "execute_result"
    },
    {
     "data": {
      "text/plain": [
       "11140"
      ]
     },
     "execution_count": 13,
     "metadata": {},
     "output_type": "execute_result"
    }
   ],
   "source": [
    "ovcS_dreams[ovcS_dreams.dreams_code.isin(payed_schooling_dreams.dreams_code)].id_patient.count()\n",
    "ovcS_dreams = ovcS_dreams[~ovcS_dreams.dreams_code.isin(payed_schooling_dreams.dreams_code)]\n",
    "ovcS_dreams.id_patient.count()"
   ]
  },
  {
   "cell_type": "code",
   "execution_count": 14,
   "metadata": {},
   "outputs": [
    {
     "data": {
      "text/plain": [
       "array(['no', 'yes', 'has_started'], dtype=object)"
      ]
     },
     "execution_count": 14,
     "metadata": {},
     "output_type": "execute_result"
    }
   ],
   "source": [
    "ovcS_dreams.parenting_detailed.unique()"
   ]
  },
  {
   "cell_type": "code",
   "execution_count": 15,
   "metadata": {},
   "outputs": [
    {
     "data": {
      "text/html": [
       "<div>\n",
       "<style scoped>\n",
       "    .dataframe tbody tr th:only-of-type {\n",
       "        vertical-align: middle;\n",
       "    }\n",
       "\n",
       "    .dataframe tbody tr th {\n",
       "        vertical-align: top;\n",
       "    }\n",
       "\n",
       "    .dataframe thead tr th {\n",
       "        text-align: left;\n",
       "    }\n",
       "\n",
       "    .dataframe thead tr:last-of-type th {\n",
       "        text-align: right;\n",
       "    }\n",
       "</style>\n",
       "<table border=\"1\" class=\"dataframe\">\n",
       "  <thead>\n",
       "    <tr>\n",
       "      <th>Gender</th>\n",
       "      <th colspan=\"2\" halign=\"left\">Female</th>\n",
       "    </tr>\n",
       "    <tr>\n",
       "      <th>ovc_age</th>\n",
       "      <th>10-14</th>\n",
       "      <th>15-17</th>\n",
       "    </tr>\n",
       "    <tr>\n",
       "      <th>commune</th>\n",
       "      <th></th>\n",
       "      <th></th>\n",
       "    </tr>\n",
       "  </thead>\n",
       "  <tbody>\n",
       "    <tr>\n",
       "      <th>Cap-Haïtien</th>\n",
       "      <td>344</td>\n",
       "      <td>224</td>\n",
       "    </tr>\n",
       "    <tr>\n",
       "      <th>Carrefour</th>\n",
       "      <td>368</td>\n",
       "      <td>271</td>\n",
       "    </tr>\n",
       "    <tr>\n",
       "      <th>Delmas</th>\n",
       "      <td>75</td>\n",
       "      <td>128</td>\n",
       "    </tr>\n",
       "    <tr>\n",
       "      <th>Desdunes</th>\n",
       "      <td>264</td>\n",
       "      <td>187</td>\n",
       "    </tr>\n",
       "    <tr>\n",
       "      <th>Dessalines</th>\n",
       "      <td>757</td>\n",
       "      <td>188</td>\n",
       "    </tr>\n",
       "    <tr>\n",
       "      <th>Grande Saline</th>\n",
       "      <td>438</td>\n",
       "      <td>217</td>\n",
       "    </tr>\n",
       "    <tr>\n",
       "      <th>Gressier</th>\n",
       "      <td>181</td>\n",
       "      <td>144</td>\n",
       "    </tr>\n",
       "    <tr>\n",
       "      <th>Kenscoff</th>\n",
       "      <td>999</td>\n",
       "      <td>688</td>\n",
       "    </tr>\n",
       "    <tr>\n",
       "      <th>La Chapelle</th>\n",
       "      <td>225</td>\n",
       "      <td>161</td>\n",
       "    </tr>\n",
       "    <tr>\n",
       "      <th>Liancourt</th>\n",
       "      <td>149</td>\n",
       "      <td>115</td>\n",
       "    </tr>\n",
       "    <tr>\n",
       "      <th>Limonade</th>\n",
       "      <td>132</td>\n",
       "      <td>108</td>\n",
       "    </tr>\n",
       "    <tr>\n",
       "      <th>Milot</th>\n",
       "      <td>47</td>\n",
       "      <td>41</td>\n",
       "    </tr>\n",
       "    <tr>\n",
       "      <th>Montrouis</th>\n",
       "      <td>120</td>\n",
       "      <td>106</td>\n",
       "    </tr>\n",
       "    <tr>\n",
       "      <th>Petite Rivière de l'Artibonite</th>\n",
       "      <td>285</td>\n",
       "      <td>187</td>\n",
       "    </tr>\n",
       "    <tr>\n",
       "      <th>Plaine-du-Nord</th>\n",
       "      <td>100</td>\n",
       "      <td>67</td>\n",
       "    </tr>\n",
       "    <tr>\n",
       "      <th>Port-au-Prince</th>\n",
       "      <td>320</td>\n",
       "      <td>332</td>\n",
       "    </tr>\n",
       "    <tr>\n",
       "      <th>Pétionville</th>\n",
       "      <td>231</td>\n",
       "      <td>208</td>\n",
       "    </tr>\n",
       "    <tr>\n",
       "      <th>Quartier-Morin</th>\n",
       "      <td>59</td>\n",
       "      <td>45</td>\n",
       "    </tr>\n",
       "    <tr>\n",
       "      <th>Saint-Marc</th>\n",
       "      <td>581</td>\n",
       "      <td>531</td>\n",
       "    </tr>\n",
       "    <tr>\n",
       "      <th>Tabarre</th>\n",
       "      <td>176</td>\n",
       "      <td>146</td>\n",
       "    </tr>\n",
       "    <tr>\n",
       "      <th>Verrettes</th>\n",
       "      <td>749</td>\n",
       "      <td>446</td>\n",
       "    </tr>\n",
       "  </tbody>\n",
       "</table>\n",
       "</div>"
      ],
      "text/plain": [
       "Gender                         Female      \n",
       "ovc_age                         10-14 15-17\n",
       "commune                                    \n",
       "Cap-Haïtien                       344   224\n",
       "Carrefour                         368   271\n",
       "Delmas                             75   128\n",
       "Desdunes                          264   187\n",
       "Dessalines                        757   188\n",
       "Grande Saline                     438   217\n",
       "Gressier                          181   144\n",
       "Kenscoff                          999   688\n",
       "La Chapelle                       225   161\n",
       "Liancourt                         149   115\n",
       "Limonade                          132   108\n",
       "Milot                              47    41\n",
       "Montrouis                         120   106\n",
       "Petite Rivière de l'Artibonite    285   187\n",
       "Plaine-du-Nord                    100    67\n",
       "Port-au-Prince                    320   332\n",
       "Pétionville                       231   208\n",
       "Quartier-Morin                     59    45\n",
       "Saint-Marc                        581   531\n",
       "Tabarre                           176   146\n",
       "Verrettes                         749   446"
      ]
     },
     "execution_count": 15,
     "metadata": {},
     "output_type": "execute_result"
    }
   ],
   "source": [
    "datim_ovc_dreams = ovcS_dreams.pivot_table(index=\"commune\",values=\"id_patient\",columns=[\"Gender\",\"ovc_age\"],aggfunc='count',fill_value=0)\n",
    "datim_ovc_dreams"
   ]
  },
  {
   "cell_type": "code",
   "execution_count": 16,
   "metadata": {},
   "outputs": [
    {
     "data": {
      "text/html": [
       "<div>\n",
       "<style scoped>\n",
       "    .dataframe tbody tr th:only-of-type {\n",
       "        vertical-align: middle;\n",
       "    }\n",
       "\n",
       "    .dataframe tbody tr th {\n",
       "        vertical-align: top;\n",
       "    }\n",
       "\n",
       "    .dataframe thead tr th {\n",
       "        text-align: left;\n",
       "    }\n",
       "\n",
       "    .dataframe thead tr:last-of-type th {\n",
       "        text-align: right;\n",
       "    }\n",
       "</style>\n",
       "<table border=\"1\" class=\"dataframe\">\n",
       "  <thead>\n",
       "    <tr>\n",
       "      <th>Gender</th>\n",
       "      <th colspan=\"6\" halign=\"left\">Female</th>\n",
       "      <th colspan=\"6\" halign=\"left\">Male</th>\n",
       "    </tr>\n",
       "    <tr>\n",
       "      <th>ovc_age</th>\n",
       "      <th>&lt;1</th>\n",
       "      <th>1-4</th>\n",
       "      <th>5-9</th>\n",
       "      <th>10-14</th>\n",
       "      <th>15-17</th>\n",
       "      <th>18+</th>\n",
       "      <th>&lt;1</th>\n",
       "      <th>1-4</th>\n",
       "      <th>5-9</th>\n",
       "      <th>10-14</th>\n",
       "      <th>15-17</th>\n",
       "      <th>18+</th>\n",
       "    </tr>\n",
       "    <tr>\n",
       "      <th>commune</th>\n",
       "      <th></th>\n",
       "      <th></th>\n",
       "      <th></th>\n",
       "      <th></th>\n",
       "      <th></th>\n",
       "      <th></th>\n",
       "      <th></th>\n",
       "      <th></th>\n",
       "      <th></th>\n",
       "      <th></th>\n",
       "      <th></th>\n",
       "      <th></th>\n",
       "    </tr>\n",
       "  </thead>\n",
       "  <tbody>\n",
       "    <tr>\n",
       "      <th>Cap-Haïtien</th>\n",
       "      <td>0</td>\n",
       "      <td>0</td>\n",
       "      <td>0</td>\n",
       "      <td>344</td>\n",
       "      <td>224</td>\n",
       "      <td>0</td>\n",
       "      <td>0</td>\n",
       "      <td>0</td>\n",
       "      <td>0</td>\n",
       "      <td>0</td>\n",
       "      <td>0</td>\n",
       "      <td>0</td>\n",
       "    </tr>\n",
       "    <tr>\n",
       "      <th>Carrefour</th>\n",
       "      <td>0</td>\n",
       "      <td>0</td>\n",
       "      <td>0</td>\n",
       "      <td>368</td>\n",
       "      <td>271</td>\n",
       "      <td>0</td>\n",
       "      <td>0</td>\n",
       "      <td>0</td>\n",
       "      <td>0</td>\n",
       "      <td>0</td>\n",
       "      <td>0</td>\n",
       "      <td>0</td>\n",
       "    </tr>\n",
       "    <tr>\n",
       "      <th>Delmas</th>\n",
       "      <td>0</td>\n",
       "      <td>0</td>\n",
       "      <td>0</td>\n",
       "      <td>75</td>\n",
       "      <td>128</td>\n",
       "      <td>0</td>\n",
       "      <td>0</td>\n",
       "      <td>0</td>\n",
       "      <td>0</td>\n",
       "      <td>0</td>\n",
       "      <td>0</td>\n",
       "      <td>0</td>\n",
       "    </tr>\n",
       "    <tr>\n",
       "      <th>Desdunes</th>\n",
       "      <td>0</td>\n",
       "      <td>0</td>\n",
       "      <td>0</td>\n",
       "      <td>264</td>\n",
       "      <td>187</td>\n",
       "      <td>0</td>\n",
       "      <td>0</td>\n",
       "      <td>0</td>\n",
       "      <td>0</td>\n",
       "      <td>0</td>\n",
       "      <td>0</td>\n",
       "      <td>0</td>\n",
       "    </tr>\n",
       "    <tr>\n",
       "      <th>Dessalines</th>\n",
       "      <td>0</td>\n",
       "      <td>0</td>\n",
       "      <td>0</td>\n",
       "      <td>757</td>\n",
       "      <td>188</td>\n",
       "      <td>0</td>\n",
       "      <td>0</td>\n",
       "      <td>0</td>\n",
       "      <td>0</td>\n",
       "      <td>0</td>\n",
       "      <td>0</td>\n",
       "      <td>0</td>\n",
       "    </tr>\n",
       "    <tr>\n",
       "      <th>Grande Saline</th>\n",
       "      <td>0</td>\n",
       "      <td>0</td>\n",
       "      <td>0</td>\n",
       "      <td>438</td>\n",
       "      <td>217</td>\n",
       "      <td>0</td>\n",
       "      <td>0</td>\n",
       "      <td>0</td>\n",
       "      <td>0</td>\n",
       "      <td>0</td>\n",
       "      <td>0</td>\n",
       "      <td>0</td>\n",
       "    </tr>\n",
       "    <tr>\n",
       "      <th>Gressier</th>\n",
       "      <td>0</td>\n",
       "      <td>0</td>\n",
       "      <td>0</td>\n",
       "      <td>181</td>\n",
       "      <td>144</td>\n",
       "      <td>0</td>\n",
       "      <td>0</td>\n",
       "      <td>0</td>\n",
       "      <td>0</td>\n",
       "      <td>0</td>\n",
       "      <td>0</td>\n",
       "      <td>0</td>\n",
       "    </tr>\n",
       "    <tr>\n",
       "      <th>Kenscoff</th>\n",
       "      <td>0</td>\n",
       "      <td>0</td>\n",
       "      <td>0</td>\n",
       "      <td>999</td>\n",
       "      <td>688</td>\n",
       "      <td>0</td>\n",
       "      <td>0</td>\n",
       "      <td>0</td>\n",
       "      <td>0</td>\n",
       "      <td>0</td>\n",
       "      <td>0</td>\n",
       "      <td>0</td>\n",
       "    </tr>\n",
       "    <tr>\n",
       "      <th>La Chapelle</th>\n",
       "      <td>0</td>\n",
       "      <td>0</td>\n",
       "      <td>0</td>\n",
       "      <td>225</td>\n",
       "      <td>161</td>\n",
       "      <td>0</td>\n",
       "      <td>0</td>\n",
       "      <td>0</td>\n",
       "      <td>0</td>\n",
       "      <td>0</td>\n",
       "      <td>0</td>\n",
       "      <td>0</td>\n",
       "    </tr>\n",
       "    <tr>\n",
       "      <th>Liancourt</th>\n",
       "      <td>0</td>\n",
       "      <td>0</td>\n",
       "      <td>0</td>\n",
       "      <td>149</td>\n",
       "      <td>115</td>\n",
       "      <td>0</td>\n",
       "      <td>0</td>\n",
       "      <td>0</td>\n",
       "      <td>0</td>\n",
       "      <td>0</td>\n",
       "      <td>0</td>\n",
       "      <td>0</td>\n",
       "    </tr>\n",
       "    <tr>\n",
       "      <th>Limonade</th>\n",
       "      <td>0</td>\n",
       "      <td>0</td>\n",
       "      <td>0</td>\n",
       "      <td>132</td>\n",
       "      <td>108</td>\n",
       "      <td>0</td>\n",
       "      <td>0</td>\n",
       "      <td>0</td>\n",
       "      <td>0</td>\n",
       "      <td>0</td>\n",
       "      <td>0</td>\n",
       "      <td>0</td>\n",
       "    </tr>\n",
       "    <tr>\n",
       "      <th>Milot</th>\n",
       "      <td>0</td>\n",
       "      <td>0</td>\n",
       "      <td>0</td>\n",
       "      <td>47</td>\n",
       "      <td>41</td>\n",
       "      <td>0</td>\n",
       "      <td>0</td>\n",
       "      <td>0</td>\n",
       "      <td>0</td>\n",
       "      <td>0</td>\n",
       "      <td>0</td>\n",
       "      <td>0</td>\n",
       "    </tr>\n",
       "    <tr>\n",
       "      <th>Montrouis</th>\n",
       "      <td>0</td>\n",
       "      <td>0</td>\n",
       "      <td>0</td>\n",
       "      <td>120</td>\n",
       "      <td>106</td>\n",
       "      <td>0</td>\n",
       "      <td>0</td>\n",
       "      <td>0</td>\n",
       "      <td>0</td>\n",
       "      <td>0</td>\n",
       "      <td>0</td>\n",
       "      <td>0</td>\n",
       "    </tr>\n",
       "    <tr>\n",
       "      <th>Petite Rivière de l'Artibonite</th>\n",
       "      <td>0</td>\n",
       "      <td>0</td>\n",
       "      <td>0</td>\n",
       "      <td>285</td>\n",
       "      <td>187</td>\n",
       "      <td>0</td>\n",
       "      <td>0</td>\n",
       "      <td>0</td>\n",
       "      <td>0</td>\n",
       "      <td>0</td>\n",
       "      <td>0</td>\n",
       "      <td>0</td>\n",
       "    </tr>\n",
       "    <tr>\n",
       "      <th>Plaine-du-Nord</th>\n",
       "      <td>0</td>\n",
       "      <td>0</td>\n",
       "      <td>0</td>\n",
       "      <td>100</td>\n",
       "      <td>67</td>\n",
       "      <td>0</td>\n",
       "      <td>0</td>\n",
       "      <td>0</td>\n",
       "      <td>0</td>\n",
       "      <td>0</td>\n",
       "      <td>0</td>\n",
       "      <td>0</td>\n",
       "    </tr>\n",
       "    <tr>\n",
       "      <th>Port-au-Prince</th>\n",
       "      <td>0</td>\n",
       "      <td>0</td>\n",
       "      <td>0</td>\n",
       "      <td>320</td>\n",
       "      <td>332</td>\n",
       "      <td>0</td>\n",
       "      <td>0</td>\n",
       "      <td>0</td>\n",
       "      <td>0</td>\n",
       "      <td>0</td>\n",
       "      <td>0</td>\n",
       "      <td>0</td>\n",
       "    </tr>\n",
       "    <tr>\n",
       "      <th>Pétionville</th>\n",
       "      <td>0</td>\n",
       "      <td>0</td>\n",
       "      <td>0</td>\n",
       "      <td>231</td>\n",
       "      <td>208</td>\n",
       "      <td>0</td>\n",
       "      <td>0</td>\n",
       "      <td>0</td>\n",
       "      <td>0</td>\n",
       "      <td>0</td>\n",
       "      <td>0</td>\n",
       "      <td>0</td>\n",
       "    </tr>\n",
       "    <tr>\n",
       "      <th>Quartier-Morin</th>\n",
       "      <td>0</td>\n",
       "      <td>0</td>\n",
       "      <td>0</td>\n",
       "      <td>59</td>\n",
       "      <td>45</td>\n",
       "      <td>0</td>\n",
       "      <td>0</td>\n",
       "      <td>0</td>\n",
       "      <td>0</td>\n",
       "      <td>0</td>\n",
       "      <td>0</td>\n",
       "      <td>0</td>\n",
       "    </tr>\n",
       "    <tr>\n",
       "      <th>Saint-Marc</th>\n",
       "      <td>0</td>\n",
       "      <td>0</td>\n",
       "      <td>0</td>\n",
       "      <td>581</td>\n",
       "      <td>531</td>\n",
       "      <td>0</td>\n",
       "      <td>0</td>\n",
       "      <td>0</td>\n",
       "      <td>0</td>\n",
       "      <td>0</td>\n",
       "      <td>0</td>\n",
       "      <td>0</td>\n",
       "    </tr>\n",
       "    <tr>\n",
       "      <th>Tabarre</th>\n",
       "      <td>0</td>\n",
       "      <td>0</td>\n",
       "      <td>0</td>\n",
       "      <td>176</td>\n",
       "      <td>146</td>\n",
       "      <td>0</td>\n",
       "      <td>0</td>\n",
       "      <td>0</td>\n",
       "      <td>0</td>\n",
       "      <td>0</td>\n",
       "      <td>0</td>\n",
       "      <td>0</td>\n",
       "    </tr>\n",
       "    <tr>\n",
       "      <th>Verrettes</th>\n",
       "      <td>0</td>\n",
       "      <td>0</td>\n",
       "      <td>0</td>\n",
       "      <td>749</td>\n",
       "      <td>446</td>\n",
       "      <td>0</td>\n",
       "      <td>0</td>\n",
       "      <td>0</td>\n",
       "      <td>0</td>\n",
       "      <td>0</td>\n",
       "      <td>0</td>\n",
       "      <td>0</td>\n",
       "    </tr>\n",
       "  </tbody>\n",
       "</table>\n",
       "</div>"
      ],
      "text/plain": [
       "Gender                         Female                         Male          \\\n",
       "ovc_age                            <1 1-4 5-9 10-14 15-17 18+   <1 1-4 5-9   \n",
       "commune                                                                      \n",
       "Cap-Haïtien                         0   0   0   344   224   0    0   0   0   \n",
       "Carrefour                           0   0   0   368   271   0    0   0   0   \n",
       "Delmas                              0   0   0    75   128   0    0   0   0   \n",
       "Desdunes                            0   0   0   264   187   0    0   0   0   \n",
       "Dessalines                          0   0   0   757   188   0    0   0   0   \n",
       "Grande Saline                       0   0   0   438   217   0    0   0   0   \n",
       "Gressier                            0   0   0   181   144   0    0   0   0   \n",
       "Kenscoff                            0   0   0   999   688   0    0   0   0   \n",
       "La Chapelle                         0   0   0   225   161   0    0   0   0   \n",
       "Liancourt                           0   0   0   149   115   0    0   0   0   \n",
       "Limonade                            0   0   0   132   108   0    0   0   0   \n",
       "Milot                               0   0   0    47    41   0    0   0   0   \n",
       "Montrouis                           0   0   0   120   106   0    0   0   0   \n",
       "Petite Rivière de l'Artibonite      0   0   0   285   187   0    0   0   0   \n",
       "Plaine-du-Nord                      0   0   0   100    67   0    0   0   0   \n",
       "Port-au-Prince                      0   0   0   320   332   0    0   0   0   \n",
       "Pétionville                         0   0   0   231   208   0    0   0   0   \n",
       "Quartier-Morin                      0   0   0    59    45   0    0   0   0   \n",
       "Saint-Marc                          0   0   0   581   531   0    0   0   0   \n",
       "Tabarre                             0   0   0   176   146   0    0   0   0   \n",
       "Verrettes                           0   0   0   749   446   0    0   0   0   \n",
       "\n",
       "Gender                                          \n",
       "ovc_age                        10-14 15-17 18+  \n",
       "commune                                         \n",
       "Cap-Haïtien                        0     0   0  \n",
       "Carrefour                          0     0   0  \n",
       "Delmas                             0     0   0  \n",
       "Desdunes                           0     0   0  \n",
       "Dessalines                         0     0   0  \n",
       "Grande Saline                      0     0   0  \n",
       "Gressier                           0     0   0  \n",
       "Kenscoff                           0     0   0  \n",
       "La Chapelle                        0     0   0  \n",
       "Liancourt                          0     0   0  \n",
       "Limonade                           0     0   0  \n",
       "Milot                              0     0   0  \n",
       "Montrouis                          0     0   0  \n",
       "Petite Rivière de l'Artibonite     0     0   0  \n",
       "Plaine-du-Nord                     0     0   0  \n",
       "Port-au-Prince                     0     0   0  \n",
       "Pétionville                        0     0   0  \n",
       "Quartier-Morin                     0     0   0  \n",
       "Saint-Marc                         0     0   0  \n",
       "Tabarre                            0     0   0  \n",
       "Verrettes                          0     0   0  "
      ]
     },
     "execution_count": 16,
     "metadata": {},
     "output_type": "execute_result"
    }
   ],
   "source": [
    "datim_ovc_dreams[('Female','<1')] = 0\n",
    "datim_ovc_dreams[('Female','1-4')] = 0\n",
    "datim_ovc_dreams[('Female','5-9')] = 0\n",
    "datim_ovc_dreams[('Female','18+')] = 0\n",
    "datim_ovc_dreams[('Male','<1')] = 0\n",
    "datim_ovc_dreams[('Male','1-4')] = 0\n",
    "datim_ovc_dreams[('Male','5-9')] = 0\n",
    "datim_ovc_dreams[('Male','10-14')] = 0\n",
    "datim_ovc_dreams[('Male','15-17')] = 0\n",
    "datim_ovc_dreams[('Male','18+')] = 0\n",
    "\n",
    "columns_orientation =[\n",
    "    ('Female','<1'),\n",
    "    ('Female','1-4'),\n",
    "    ('Female','5-9'),\n",
    "    ('Female','10-14'),\n",
    "    ('Female','15-17'),   \n",
    "    ('Female','18+'),  \n",
    "    ('Male','<1'),\n",
    "    ('Male','1-4'),\n",
    "    ('Male','5-9'),\n",
    "    ('Male','10-14'),\n",
    "    ('Male','15-17'),   \n",
    "    ('Male','18+'),   \n",
    "]\n",
    "\n",
    "datim_ovc_dreams = datim_ovc_dreams.reindex(columns= columns_orientation)\n",
    "datim_ovc_dreams"
   ]
  },
  {
   "cell_type": "code",
   "execution_count": 17,
   "metadata": {},
   "outputs": [],
   "source": [
    "#positive_dreams.to_excel('./ovc_results/positive_data/positive_dreams.xlsx',na_rep=\"\",index=False)\n",
    "#datim_ovc_dreams.to_excel('./ovc_results/datim_ovc_dreams.xlsx',na_rep=\"\",index=True)\n",
    "\n",
    "ovcS_dreams.to_excel(f\"./ovc_results/valid_ovc_data_{date_du_jour}.xlsx\",na_rep=\"\",index=False)\n",
    "positive_dreams.to_excel(f\"./ovc_results/positive_data/positive_dreams_{date_du_jour}.xlsx\",na_rep=\"\",index=False)\n",
    "datim_ovc_dreams.to_excel(f\"./ovc_results/datim_ovc_dreams_{date_du_jour}.xlsx\",na_rep=\"\",index=True)\n",
    "\n"
   ]
  },
  {
   "cell_type": "code",
   "execution_count": null,
   "metadata": {},
   "outputs": [],
   "source": []
  }
 ],
 "metadata": {
  "kernelspec": {
   "display_name": "Python 3.10.7 64-bit",
   "language": "python",
   "name": "python3"
  },
  "language_info": {
   "codemirror_mode": {
    "name": "ipython",
    "version": 3
   },
   "file_extension": ".py",
   "mimetype": "text/x-python",
   "name": "python",
   "nbconvert_exporter": "python",
   "pygments_lexer": "ipython3",
   "version": "3.10.7"
  },
  "orig_nbformat": 4,
  "vscode": {
   "interpreter": {
    "hash": "aee8b7b246df8f9039afb4144a1f6fd8d2ca17a180786b69acc140d282b71a49"
   }
  }
 },
 "nbformat": 4,
 "nbformat_minor": 2
}
