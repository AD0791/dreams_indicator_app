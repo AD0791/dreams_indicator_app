{
 "cells": [
  {
   "cell_type": "code",
   "execution_count": null,
   "metadata": {},
   "outputs": [],
   "source": [
    "from IPython.core.interactiveshell import InteractiveShell\n",
    "from pandas import ExcelWriter, DataFrame\n",
    "import openpyxl\n",
    "\n",
    "from strategie import (\n",
    "    composanteI,\n",
    "    composanteIII,\n",
    "    composanteIV,\n",
    "    sdata\n",
    ")\n",
    "\n",
    "InteractiveShell.ast_node_interactivity = \"all\"\n",
    "\n",
    "%%capture"
   ]
  },
  {
   "cell_type": "code",
   "execution_count": 3,
   "metadata": {},
   "outputs": [
    {
     "data": {
      "text/plain": [
       "66812"
      ]
     },
     "execution_count": 3,
     "metadata": {},
     "output_type": "execute_result"
    },
    {
     "data": {
      "text/plain": [
       "5112"
      ]
     },
     "execution_count": 3,
     "metadata": {},
     "output_type": "execute_result"
    },
    {
     "data": {
      "text/plain": [
       "1623"
      ]
     },
     "execution_count": 3,
     "metadata": {},
     "output_type": "execute_result"
    },
    {
     "data": {
      "text/plain": [
       "114"
      ]
     },
     "execution_count": 3,
     "metadata": {},
     "output_type": "execute_result"
    }
   ],
   "source": [
    "sdata.case_id.count()\n",
    "composanteI.id_patient.count()\n",
    "composanteIII.id_patient.count()\n",
    "composanteIV.id_patient.count()"
   ]
  },
  {
   "cell_type": "markdown",
   "metadata": {},
   "source": [
    "# Composante I\n",
    "\n",
    "---\n",
    "\n",
    "- agyw 15-17 pour la sensibilisation muso et Jardinage\n",
    "- les 18-24 pour le depistage hts"
   ]
  },
  {
   "cell_type": "code",
   "execution_count": 25,
   "metadata": {},
   "outputs": [
    {
     "data": {
      "text/plain": [
       "2500"
      ]
     },
     "execution_count": 25,
     "metadata": {},
     "output_type": "execute_result"
    },
    {
     "data": {
      "text/plain": [
       "2612"
      ]
     },
     "execution_count": 25,
     "metadata": {},
     "output_type": "execute_result"
    },
    {
     "name": "stderr",
     "output_type": "stream",
     "text": [
      "/var/folders/7v/rs0k237d6nj3vdxfc1h7xtcw0000gn/T/ipykernel_885/2757229142.py:10: SettingWithCopyWarning: \n",
      "A value is trying to be set on a copy of a slice from a DataFrame\n",
      "\n",
      "See the caveats in the documentation: https://pandas.pydata.org/pandas-docs/stable/user_guide/indexing.html#returning-a-view-versus-a-copy\n",
      "  vc_1517.rename(columns={'commune':'actual_commune'},inplace=True)\n",
      "/var/folders/7v/rs0k237d6nj3vdxfc1h7xtcw0000gn/T/ipykernel_885/2757229142.py:11: SettingWithCopyWarning: \n",
      "A value is trying to be set on a copy of a slice from a DataFrame\n",
      "\n",
      "See the caveats in the documentation: https://pandas.pydata.org/pandas-docs/stable/user_guide/indexing.html#returning-a-view-versus-a-copy\n",
      "  vc_1824.rename(columns={'commune':'actual_commune'},inplace=True)\n"
     ]
    },
    {
     "data": {
      "text/plain": [
       "2500"
      ]
     },
     "execution_count": 25,
     "metadata": {},
     "output_type": "execute_result"
    },
    {
     "data": {
      "text/plain": [
       "2612"
      ]
     },
     "execution_count": 25,
     "metadata": {},
     "output_type": "execute_result"
    }
   ],
   "source": [
    "agyw1517_cI = composanteI[composanteI.ovc_age=='15-17']\n",
    "agyw1824_cI = composanteI[composanteI.ovc_age=='18-24']\n",
    "\n",
    "agyw1517_cI.id_patient.count()\n",
    "agyw1824_cI.id_patient.count()\n",
    "\n",
    "vc_1517 = agyw1517_cI[['id_patient','commune']]\n",
    "vc_1824 = agyw1824_cI[['id_patient','commune']]\n",
    "\n",
    "vc_1517.rename(columns={'commune':'actual_commune'},inplace=True)\n",
    "vc_1824.rename(columns={'commune':'actual_commune'},inplace=True)\n",
    "\n",
    "\n",
    "cI_1517 = sdata[sdata.id_patient.isin(agyw1517_cI.id_patient)]\n",
    "cI_1824 = sdata[sdata.id_patient.isin(agyw1824_cI.id_patient)]\n",
    "\n",
    "cI_1517.id_patient.count()\n",
    "cI_1824.id_patient.count()"
   ]
  },
  {
   "cell_type": "code",
   "execution_count": 27,
   "metadata": {},
   "outputs": [],
   "source": [
    "cI_1517 = cI_1517.merge(vc_1517,how='left',on='id_patient')\n",
    "cI_1824 = cI_1824.merge(vc_1824,how='left',on='id_patient')\n",
    "cI_1517.drop(columns=['commune'],inplace=True)\n",
    "cI_1824.drop(columns=['commune'],inplace=True)"
   ]
  },
  {
   "cell_type": "code",
   "execution_count": 10,
   "metadata": {},
   "outputs": [],
   "source": [
    "resCom1517_cI = DataFrame.from_dict(agyw1517_cI.commune.value_counts().to_dict(),orient='index',columns=['nombre_de_beneficiaires'])\n",
    "resCom1824_cI = DataFrame.from_dict(agyw1824_cI.commune.value_counts().to_dict(),orient='index',columns=['nombre_de_beneficiaires'])"
   ]
  },
  {
   "cell_type": "code",
   "execution_count": 33,
   "metadata": {},
   "outputs": [],
   "source": [
    "stratQ3_cI = ExcelWriter('./data/agyw_cI_Q3aservir.xlsx', engine='openpyxl')\n",
    "resCom1517_cI.to_excel(stratQ3_cI,sheet_name=\"res1517_compI\",index=True,na_rep=\"\") \n",
    "cI_1517.to_excel(stratQ3_cI,sheet_name=\"cI_1517\",index=False,na_rep=\"\")\n",
    "resCom1824_cI.to_excel(stratQ3_cI,sheet_name=\"res1824_compI\",index=True,na_rep=\"\") \n",
    "cI_1824.to_excel(stratQ3_cI,sheet_name=\"cI_1824\",index=False,na_rep=\"\")\n",
    "stratQ3_cI.save()"
   ]
  },
  {
   "cell_type": "code",
   "execution_count": null,
   "metadata": {},
   "outputs": [],
   "source": [
    "DataFrame({\n",
    "    \"15-17 Composante I\": [agyw1517_cI.id_patient.count()],\n",
    "    \"18-24 Composante I\": [agyw1824_cI.id_patient.count()]\n",
    "}).to_excel('./data/repartition_total_composanteI.xlsx',index=False,na_rep=\"\")"
   ]
  },
  {
   "cell_type": "markdown",
   "metadata": {},
   "source": [
    "# Composante III\n",
    "---\n",
    "-  10_14: curriculum\n",
    "- 15_24: curriculum&condoms\n",
    "\n"
   ]
  },
  {
   "cell_type": "code",
   "execution_count": 38,
   "metadata": {},
   "outputs": [
    {
     "data": {
      "text/plain": [
       "array(['15-19', '20-24', '10-14'], dtype=object)"
      ]
     },
     "execution_count": 38,
     "metadata": {},
     "output_type": "execute_result"
    }
   ],
   "source": [
    "composanteIII.age_range.unique()"
   ]
  },
  {
   "cell_type": "code",
   "execution_count": 44,
   "metadata": {},
   "outputs": [
    {
     "data": {
      "text/plain": [
       "690"
      ]
     },
     "execution_count": 44,
     "metadata": {},
     "output_type": "execute_result"
    },
    {
     "data": {
      "text/plain": [
       "933"
      ]
     },
     "execution_count": 44,
     "metadata": {},
     "output_type": "execute_result"
    },
    {
     "data": {
      "text/plain": [
       "690"
      ]
     },
     "execution_count": 44,
     "metadata": {},
     "output_type": "execute_result"
    },
    {
     "data": {
      "text/plain": [
       "933"
      ]
     },
     "execution_count": 44,
     "metadata": {},
     "output_type": "execute_result"
    },
    {
     "name": "stderr",
     "output_type": "stream",
     "text": [
      "/var/folders/7v/rs0k237d6nj3vdxfc1h7xtcw0000gn/T/ipykernel_885/4090694204.py:18: SettingWithCopyWarning: \n",
      "A value is trying to be set on a copy of a slice from a DataFrame\n",
      "\n",
      "See the caveats in the documentation: https://pandas.pydata.org/pandas-docs/stable/user_guide/indexing.html#returning-a-view-versus-a-copy\n",
      "  d_1014.rename(\n",
      "/var/folders/7v/rs0k237d6nj3vdxfc1h7xtcw0000gn/T/ipykernel_885/4090694204.py:26: SettingWithCopyWarning: \n",
      "A value is trying to be set on a copy of a slice from a DataFrame\n",
      "\n",
      "See the caveats in the documentation: https://pandas.pydata.org/pandas-docs/stable/user_guide/indexing.html#returning-a-view-versus-a-copy\n",
      "  d_1524.rename(\n"
     ]
    }
   ],
   "source": [
    "agyw1014_cIII = composanteIII[composanteIII.age_range==\"10-14\"]\n",
    "agyw1524_cIII = composanteIII[composanteIII.age_range!=\"10-14\"]\n",
    "\n",
    "cIII_1014 = sdata[sdata.id_patient.isin(agyw1014_cIII.id_patient)]\n",
    "cIII_1524 = sdata[sdata.id_patient.isin(agyw1524_cIII.id_patient)]\n",
    "\n",
    "cIII_1014.id_patient.count()\n",
    "cIII_1524.id_patient.count()\n",
    "\n",
    "agyw1014_cIII.id_patient.count()\n",
    "agyw1524_cIII.id_patient.count()\n",
    "\n",
    "\n",
    "\n",
    "d_1014 = agyw1014_cIII[['id_patient','nbre_pres_for_inter','nbre_parenting_coupe_present','commune']]\n",
    "d_1524 = agyw1524_cIII[['id_patient','nbre_pres_for_inter','nbre_parenting_coupe_present','commune']]\n",
    "\n",
    "d_1014.rename(\n",
    "    columns={\n",
    "        'commune':'actual_commune',\n",
    "        'nbre_pres_for_inter': 'np_curriculum',\n",
    "        'nbre_parenting_coupe_present': 'np_parenting'\n",
    "    }\n",
    "    ,inplace=True\n",
    ")\n",
    "d_1524.rename(\n",
    "    columns={\n",
    "        'commune':'actual_commune',\n",
    "        'nbre_pres_for_inter': 'np_curriculum',\n",
    "        'nbre_parenting_coupe_present': 'np_parenting'\n",
    "    }\n",
    "    ,inplace=True\n",
    ")"
   ]
  },
  {
   "cell_type": "code",
   "execution_count": 47,
   "metadata": {},
   "outputs": [],
   "source": [
    "cIII_1014 = d_1014.merge(cIII_1014,how='left',on='id_patient')\n",
    "cIII_1524 = d_1524.merge(cIII_1524,how='left',on='id_patient')\n",
    "cIII_1014.drop(columns=['commune'],inplace=True)\n",
    "cIII_1524.drop(columns=['commune'],inplace=True)"
   ]
  },
  {
   "cell_type": "code",
   "execution_count": 48,
   "metadata": {},
   "outputs": [],
   "source": [
    "resCom1014_cIII = DataFrame.from_dict(agyw1014_cIII.commune.value_counts().to_dict(),orient='index',columns=['nombre_de_beneficiaires'])\n",
    "resCom1524_cIII = DataFrame.from_dict(agyw1524_cIII.commune.value_counts().to_dict(),orient='index',columns=['nombre_de_beneficiaires'])\n",
    "\n",
    "\n",
    "stratQ3_cIII = ExcelWriter('./data/agyw_cIII_Q3aservir.xlsx', engine='openpyxl')\n",
    "resCom1014_cIII.to_excel(stratQ3_cIII,sheet_name=\"res1014_compIII\",index=True,na_rep=\"\") \n",
    "cIII_1014.to_excel(stratQ3_cIII,sheet_name=\"cIII_1014\",index=False,na_rep=\"\")\n",
    "resCom1524_cIII.to_excel(stratQ3_cIII,sheet_name=\"res1524_compIII\",index=True,na_rep=\"\") \n",
    "cIII_1524.to_excel(stratQ3_cIII,sheet_name=\"cIII_1524\",index=False,na_rep=\"\")\n",
    "stratQ3_cIII.save()"
   ]
  },
  {
   "cell_type": "code",
   "execution_count": 49,
   "metadata": {},
   "outputs": [],
   "source": [
    "DataFrame({\n",
    "    \"10-14 Composante III\": [agyw1014_cIII.id_patient.count()],\n",
    "    \"15-24 Composante III\": [agyw1524_cIII.id_patient.count()]\n",
    "}).to_excel('./data/repartition_total_composanteIII.xlsx',index=False,na_rep=\"\")"
   ]
  },
  {
   "cell_type": "markdown",
   "metadata": {},
   "source": [
    "# Composante IV\n",
    "---\n",
    "\n",
    "- has_started"
   ]
  },
  {
   "cell_type": "code",
   "execution_count": 57,
   "metadata": {},
   "outputs": [
    {
     "data": {
      "text/plain": [
       "array([10,  0,  4], dtype=int16)"
      ]
     },
     "execution_count": 57,
     "metadata": {},
     "output_type": "execute_result"
    },
    {
     "data": {
      "text/plain": [
       "array([ 9,  4,  6,  7, 10,  5,  3, 11,  8], dtype=int16)"
      ]
     },
     "execution_count": 57,
     "metadata": {},
     "output_type": "execute_result"
    }
   ],
   "source": [
    "composanteIV.nbre_parenting_coupe_present.unique()\n",
    "composanteIV.nbre_pres_for_inter.unique()"
   ]
  },
  {
   "cell_type": "code",
   "execution_count": 60,
   "metadata": {},
   "outputs": [
    {
     "data": {
      "text/plain": [
       "114"
      ]
     },
     "execution_count": 60,
     "metadata": {},
     "output_type": "execute_result"
    },
    {
     "data": {
      "text/plain": [
       "114"
      ]
     },
     "execution_count": 60,
     "metadata": {},
     "output_type": "execute_result"
    },
    {
     "name": "stderr",
     "output_type": "stream",
     "text": [
      "/var/folders/7v/rs0k237d6nj3vdxfc1h7xtcw0000gn/T/ipykernel_885/1441100645.py:8: SettingWithCopyWarning: \n",
      "A value is trying to be set on a copy of a slice from a DataFrame\n",
      "\n",
      "See the caveats in the documentation: https://pandas.pydata.org/pandas-docs/stable/user_guide/indexing.html#returning-a-view-versus-a-copy\n",
      "  dIV.rename(\n"
     ]
    }
   ],
   "source": [
    "composanteIV.id_patient.count()\n",
    "\n",
    "cIV = sdata[sdata.id_patient.isin(composanteIV.id_patient)]\n",
    "cIV.id_patient.count()\n",
    "\n",
    "dIV = composanteIV[['id_patient','nbre_pres_for_inter','nbre_parenting_coupe_present','commune']]\n",
    "\n",
    "dIV.rename(\n",
    "    columns={\n",
    "        'commune':'actual_commune',\n",
    "        'nbre_pres_for_inter': 'np_curriculum',\n",
    "        'nbre_parenting_coupe_present': 'np_parenting'\n",
    "    }\n",
    "    ,inplace=True\n",
    ")\n"
   ]
  },
  {
   "cell_type": "code",
   "execution_count": 61,
   "metadata": {},
   "outputs": [],
   "source": [
    "cIV = dIV.merge(cIV,how='left',on='id_patient')\n",
    "cIV.drop(columns=['commune'],inplace=True)"
   ]
  },
  {
   "cell_type": "code",
   "execution_count": 63,
   "metadata": {},
   "outputs": [],
   "source": [
    "resCom_cIV = DataFrame.from_dict(composanteIV.commune.value_counts().to_dict(),orient='index',columns=['nombre_de_beneficiaires'])\n",
    "\n",
    "stratQ3_cIV = ExcelWriter('./data/agyw_cIV_Q3aservir.xlsx', engine='openpyxl')\n",
    "resCom_cIV.to_excel(stratQ3_cIV,sheet_name=\"res_compIV\",index=True,na_rep=\"\") \n",
    "cIV.to_excel(stratQ3_cIV,sheet_name=\"cIV\",index=False,na_rep=\"\")\n",
    "stratQ3_cIV.save()"
   ]
  },
  {
   "cell_type": "code",
   "execution_count": 64,
   "metadata": {},
   "outputs": [],
   "source": [
    "DataFrame({\n",
    "    \"Composante IV\": [cIV.id_patient.count()]\n",
    "}).to_excel('./data/repartition_total_composanteIV.xlsx',index=False,na_rep=\"\")"
   ]
  },
  {
   "cell_type": "code",
   "execution_count": null,
   "metadata": {},
   "outputs": [],
   "source": []
  }
 ],
 "metadata": {
  "interpreter": {
   "hash": "4534460e0bdca1b390927d45471088fb3501d39abc4e3f2cee293892e17d7fc6"
  },
  "kernelspec": {
   "display_name": "Python 3.9.6 64-bit",
   "name": "python3"
  },
  "language_info": {
   "codemirror_mode": {
    "name": "ipython",
    "version": 3
   },
   "file_extension": ".py",
   "mimetype": "text/x-python",
   "name": "python",
   "nbconvert_exporter": "python",
   "pygments_lexer": "ipython3",
   "version": "3.10.2"
  },
  "orig_nbformat": 4
 },
 "nbformat": 4,
 "nbformat_minor": 2
}
