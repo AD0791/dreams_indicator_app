{
 "cells": [
  {
   "cell_type": "code",
   "execution_count": 1,
   "metadata": {},
   "outputs": [],
   "source": [
    "%%capture\n",
    "from IPython.core.interactiveshell import InteractiveShell\n",
    "InteractiveShell.ast_node_interactivity = \"all\"\n",
    "from monitor import(\n",
    "    hts,\n",
    "    base,\n",
    "    sdata,\n",
    "    base_positive,\n",
    "    hts_positive,\n",
    "    base_prep,\n",
    "    hts_prep,\n",
    "    base_ind,\n",
    "    hts_ind\n",
    ")\n"
   ]
  },
  {
   "cell_type": "markdown",
   "metadata": {},
   "source": [
    "# Public cible PrEP et les agyw positives\n",
    "---\n",
    "\n",
    "- positives \n",
    "- negatives : publiques cibles PrEP (not PrEP sensisibilize)"
   ]
  },
  {
   "cell_type": "code",
   "execution_count": 2,
   "metadata": {},
   "outputs": [
    {
     "data": {
      "text/plain": [
       "66964"
      ]
     },
     "execution_count": 2,
     "metadata": {},
     "output_type": "execute_result"
    },
    {
     "data": {
      "text/plain": [
       "1379"
      ]
     },
     "execution_count": 2,
     "metadata": {},
     "output_type": "execute_result"
    },
    {
     "data": {
      "text/plain": [
       "12944"
      ]
     },
     "execution_count": 2,
     "metadata": {},
     "output_type": "execute_result"
    }
   ],
   "source": [
    "sdata.case_id.count()\n",
    "hts.id_patient.count()\n",
    "base.id_patient.count()"
   ]
  },
  {
   "cell_type": "markdown",
   "metadata": {},
   "source": [
    "## resume global"
   ]
  },
  {
   "cell_type": "code",
   "execution_count": 3,
   "metadata": {},
   "outputs": [
    {
     "data": {
      "text/plain": [
       "0,          6166\n",
       "0,,2,        806\n",
       "2,           495\n",
       "1,             5\n",
       "0,,3,          3\n",
       "0,,1,          3\n",
       "0,,2,,3,       1\n",
       "2,,3,          1\n",
       "3,             1\n",
       "Name: test_results, dtype: int64"
      ]
     },
     "execution_count": 3,
     "metadata": {},
     "output_type": "execute_result"
    },
    {
     "data": {
      "text/plain": [
       "0,,2,       806\n",
       "2,          495\n",
       "0,           64\n",
       "1,            5\n",
       "0,,3,         3\n",
       "0,,1,         3\n",
       "0,,2,,3,      1\n",
       "2,,3,         1\n",
       "3,            1\n",
       "Name: test_results, dtype: int64"
      ]
     },
     "execution_count": 3,
     "metadata": {},
     "output_type": "execute_result"
    }
   ],
   "source": [
    "base.test_results.value_counts()\n",
    "#--------\n",
    "hts.test_results.value_counts()\n"
   ]
  },
  {
   "cell_type": "markdown",
   "metadata": {},
   "source": [
    "# positive, prep elgible and indeterminee"
   ]
  },
  {
   "cell_type": "code",
   "execution_count": 4,
   "metadata": {},
   "outputs": [
    {
     "data": {
      "text/plain": [
       "8"
      ]
     },
     "execution_count": 4,
     "metadata": {},
     "output_type": "execute_result"
    },
    {
     "data": {
      "text/plain": [
       "1067"
      ]
     },
     "execution_count": 4,
     "metadata": {},
     "output_type": "execute_result"
    },
    {
     "data": {
      "text/plain": [
       "6"
      ]
     },
     "execution_count": 4,
     "metadata": {},
     "output_type": "execute_result"
    },
    {
     "data": {
      "text/plain": [
       "0"
      ]
     },
     "execution_count": 4,
     "metadata": {},
     "output_type": "execute_result"
    },
    {
     "data": {
      "text/plain": [
       "0"
      ]
     },
     "execution_count": 4,
     "metadata": {},
     "output_type": "execute_result"
    },
    {
     "data": {
      "text/plain": [
       "0"
      ]
     },
     "execution_count": 4,
     "metadata": {},
     "output_type": "execute_result"
    }
   ],
   "source": [
    "pos = base_positive[base_positive.id_patient.isin(hts_positive.id_patient)]\n",
    "prep = base_prep[base_prep.id_patient.isin(hts_prep.id_patient)]\n",
    "ind = base_ind[base_ind.id_patient.isin(hts_ind.id_patient)]\n",
    "\n",
    "not_pos = base_positive[~base_positive.id_patient.isin(hts_positive.id_patient)]\n",
    "not_prep = base_prep[~base_prep.id_patient.isin(hts_prep.id_patient)]\n",
    "not_ind = base_ind[~base_ind.id_patient.isin(hts_ind.id_patient)]\n",
    "\n",
    "\n",
    "pos.id_patient.count()\n",
    "prep.id_patient.count()\n",
    "ind.id_patient.count()\n",
    "\n",
    "not_pos.id_patient.count()\n",
    "not_prep.id_patient.count()\n",
    "not_ind.id_patient.count()"
   ]
  },
  {
   "cell_type": "code",
   "execution_count": 5,
   "metadata": {},
   "outputs": [],
   "source": [
    "pos = pos[['id_patient', 'test_results','departement','commune']]\n",
    "prep = prep[['id_patient', 'test_results','departement','commune']]\n",
    "ind = ind[['id_patient', 'test_results','departement','commune']]\n",
    "\n",
    "\n",
    "pos.rename(columns={'commune':'actual_commune'},inplace=True)\n",
    "prep.rename(columns={'commune':'actual_commune'},inplace=True)\n",
    "ind.rename(columns={'commune':'actual_commune'},inplace=True)"
   ]
  },
  {
   "cell_type": "code",
   "execution_count": 6,
   "metadata": {},
   "outputs": [
    {
     "data": {
      "text/plain": [
       "8"
      ]
     },
     "execution_count": 6,
     "metadata": {},
     "output_type": "execute_result"
    },
    {
     "data": {
      "text/plain": [
       "1067"
      ]
     },
     "execution_count": 6,
     "metadata": {},
     "output_type": "execute_result"
    },
    {
     "data": {
      "text/plain": [
       "6"
      ]
     },
     "execution_count": 6,
     "metadata": {},
     "output_type": "execute_result"
    }
   ],
   "source": [
    "positive= pos.merge(\n",
    "    sdata[sdata.id_patient.isin(pos.id_patient)],\n",
    "    how='left',\n",
    "    on='id_patient'\n",
    ")\n",
    "prep_public= prep.merge(\n",
    "    sdata[sdata.id_patient.isin(prep.id_patient)],\n",
    "    how='left',\n",
    "    on='id_patient'\n",
    ")\n",
    "indetermine= ind.merge(\n",
    "    sdata[sdata.id_patient.isin(ind.id_patient)],\n",
    "    how='left',\n",
    "    on='id_patient'\n",
    ")\n",
    "\n",
    "positive.id_patient.count()\n",
    "prep_public.id_patient.count()\n",
    "indetermine.id_patient.count()"
   ]
  },
  {
   "cell_type": "code",
   "execution_count": 7,
   "metadata": {},
   "outputs": [],
   "source": [
    "positive.to_excel('./positive/agyw_positive_onHIVHAITI.xlsx',index=False,na_rep=\"\")\n",
    "indetermine.to_excel('./indetermine/agyw_indetermine_onHIVHAITI.xlsx',index=False,na_rep=\"\")\n",
    "prep_public.to_excel('./prep_public/agyw_prep_public_onHIVHAITI.xlsx',index=False,na_rep=\"\")"
   ]
  },
  {
   "cell_type": "code",
   "execution_count": null,
   "metadata": {},
   "outputs": [],
   "source": []
  }
 ],
 "metadata": {
  "interpreter": {
   "hash": "b460384b52104c1e5b9cf54bee46a255d22b2bef338f75ac4ad5d48196028d3c"
  },
  "kernelspec": {
   "display_name": "Python 3.10.2 64-bit",
   "language": "python",
   "name": "python3"
  },
  "language_info": {
   "codemirror_mode": {
    "name": "ipython",
    "version": 3
   },
   "file_extension": ".py",
   "mimetype": "text/x-python",
   "name": "python",
   "nbconvert_exporter": "python",
   "pygments_lexer": "ipython3",
   "version": "3.10.2"
  },
  "orig_nbformat": 4
 },
 "nbformat": 4,
 "nbformat_minor": 2
}
