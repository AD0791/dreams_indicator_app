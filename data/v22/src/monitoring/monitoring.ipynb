{
 "cells": [
  {
   "cell_type": "code",
   "execution_count": 1,
   "metadata": {},
   "outputs": [],
   "source": [
    "%%capture\n",
    "#from re import sub\n",
    "from sys import path\n",
    "path.insert(0, '../static')\n",
    "from agyw import AgywPrev\n",
    "\n",
    "#from src.static.agyw import AgywPrev\n",
    "\n",
    "\n",
    "from pandas import DataFrame, read_excel\n",
    "from datetime import datetime, timedelta\n",
    "from enum import Enum\n",
    "import matplotlib.pyplot as plt\n",
    "import seaborn as sns\n",
    "%matplotlib inline \n",
    "\n",
    "\n",
    "from IPython.core.interactiveshell import InteractiveShell\n",
    "InteractiveShell.ast_node_interactivity = \"all\""
   ]
  },
  {
   "cell_type": "code",
   "execution_count": 2,
   "metadata": {},
   "outputs": [],
   "source": [
    "current_Date = datetime.today()\n",
    "previous_Date = datetime.today() - timedelta(days=1)\n",
    "\n",
    "\n",
    "\n",
    "class Monitoring_date(Enum):\n",
    "   previous = previous_Date.strftime(\"%d_%m_%Y\")\n",
    "   current = current_Date.strftime(\"%d_%m_%Y\")\n",
    "   \n",
    "   "
   ]
  },
  {
   "cell_type": "code",
   "execution_count": 3,
   "metadata": {},
   "outputs": [],
   "source": [
    "%%capture\n",
    "datim = AgywPrev()"
   ]
  },
  {
   "cell_type": "code",
   "execution_count": 4,
   "metadata": {},
   "outputs": [
    {
     "data": {
      "text/plain": [
       "12471"
      ]
     },
     "execution_count": 4,
     "metadata": {},
     "output_type": "execute_result"
    }
   ],
   "source": [
    "datim.total_datim_general"
   ]
  },
  {
   "cell_type": "code",
   "execution_count": 5,
   "metadata": {},
   "outputs": [
    {
     "data": {
      "text/html": [
       "<div>\n",
       "<style scoped>\n",
       "    .dataframe tbody tr th:only-of-type {\n",
       "        vertical-align: middle;\n",
       "    }\n",
       "\n",
       "    .dataframe tbody tr th {\n",
       "        vertical-align: top;\n",
       "    }\n",
       "\n",
       "    .dataframe thead th {\n",
       "        text-align: right;\n",
       "    }\n",
       "</style>\n",
       "<table border=\"1\" class=\"dataframe\">\n",
       "  <thead>\n",
       "    <tr style=\"text-align: right;\">\n",
       "      <th></th>\n",
       "      <th>datim_06_04_2022</th>\n",
       "      <th>datim_05_04_2022</th>\n",
       "      <th>Evolution de l'indicateur</th>\n",
       "      <th>Evolution since inception of control</th>\n",
       "    </tr>\n",
       "  </thead>\n",
       "  <tbody>\n",
       "    <tr>\n",
       "      <th>0</th>\n",
       "      <td>12471</td>\n",
       "      <td>12372</td>\n",
       "      <td>99</td>\n",
       "      <td>691</td>\n",
       "    </tr>\n",
       "  </tbody>\n",
       "</table>\n",
       "</div>"
      ],
      "text/plain": [
       "   datim_06_04_2022  datim_05_04_2022  Evolution de l'indicateur  \\\n",
       "0             12471             12372                         99   \n",
       "\n",
       "   Evolution since inception of control  \n",
       "0                                   691  "
      ]
     },
     "execution_count": 5,
     "metadata": {},
     "output_type": "execute_result"
    }
   ],
   "source": [
    "inception_data = read_excel(f\"./monitoring_results/monitoring_du_31_03_2022.xlsx\")\n",
    "past_data = read_excel(f\"./monitoring_results/monitoring_du_{Monitoring_date.previous.value}.xlsx\")\n",
    "past_data_exist =True\n",
    "\n",
    "if past_data_exist:\n",
    "    performant_solution = DataFrame.from_dict({f\"datim_{Monitoring_date.current.value}\":[datim.total_datim_general],\n",
    "                        f\"datim_{Monitoring_date.previous.value}\": past_data[f\"datim_{Monitoring_date.previous.value}\"].values.tolist(),\n",
    "                        \"Evolution de l'indicateur\": [datim.total_datim_general - past_data[f\"datim_{Monitoring_date.previous.value}\"].values.tolist()[0]],\n",
    "                        \"Evolution since inception of control\": [datim.total_datim_general - inception_data['datim_31_03_2022'].values.tolist()[0]]                    \n",
    "    },orient=\"columns\")\n",
    "\n",
    "    performant_solution.to_excel(f\"./monitoring_results/monitoring_du_{Monitoring_date.current.value}.xlsx\",index=False)\n",
    "    performant_solution\n",
    "else:\n",
    "    performant_solution = DataFrame.from_dict({f\"datim_{Monitoring_date.current.value}\":[datim.total_datim_general],\n",
    "                        f\"datim_{Monitoring_date.previous.value}\": [0],\n",
    "                        \"Evolution de l'indicateur\": [datim.total_datim_general - 0],\n",
    "                        \"Evolution since inception of control\": [datim.total_datim_general - 0]                    \n",
    "    },orient=\"columns\")\n",
    "\n",
    "    performant_solution.to_excel(f\"./monitoring_results/monitoring_du_{Monitoring_date.current.value}.xlsx\",index=False)\n",
    "    performant_solution    "
   ]
  },
  {
   "cell_type": "code",
   "execution_count": 6,
   "metadata": {},
   "outputs": [
    {
     "data": {
      "text/plain": [
       "<Figure size 1152x576 with 0 Axes>"
      ]
     },
     "execution_count": 6,
     "metadata": {},
     "output_type": "execute_result"
    },
    {
     "data": {
      "text/plain": [
       "Text(0.5, 0, '')"
      ]
     },
     "execution_count": 6,
     "metadata": {},
     "output_type": "execute_result"
    },
    {
     "data": {
      "text/plain": [
       "Text(0, 0.5, '')"
      ]
     },
     "execution_count": 6,
     "metadata": {},
     "output_type": "execute_result"
    },
    {
     "data": {
      "text/plain": [
       "Text(0.5, 0.98, 'AGYW, monitoring for FY22')"
      ]
     },
     "execution_count": 6,
     "metadata": {},
     "output_type": "execute_result"
    },
    {
     "data": {
      "text/plain": [
       "Text(12702.0, 0.0, '12700')"
      ]
     },
     "execution_count": 6,
     "metadata": {},
     "output_type": "execute_result"
    },
    {
     "data": {
      "text/plain": [
       "Text(12473.0, 1.0, '12471')"
      ]
     },
     "execution_count": 6,
     "metadata": {},
     "output_type": "execute_result"
    },
    {
     "data": {
      "text/plain": [
       "Text(12374.0, 2.0, '12372')"
      ]
     },
     "execution_count": 6,
     "metadata": {},
     "output_type": "execute_result"
    },
    {
     "data": {
      "text/plain": [
       "Text(101.0, 3.0, '99')"
      ]
     },
     "execution_count": 6,
     "metadata": {},
     "output_type": "execute_result"
    },
    {
     "data": {
      "text/plain": [
       "Text(693.0, 4.0, '691')"
      ]
     },
     "execution_count": 6,
     "metadata": {},
     "output_type": "execute_result"
    },
    {
     "data": {
      "text/plain": [
       "Text(-80, -20, 'source: HIVHaiti')"
      ]
     },
     "execution_count": 6,
     "metadata": {},
     "output_type": "execute_result"
    },
    {
     "data": {
      "image/png": "[encoded data removed]",
      "text/plain": [
       "<Figure size 1152x576 with 1 Axes>"
      ]
     },
     "metadata": {
      "needs_background": "light"
     },
     "output_type": "display_data"
    }
   ],
   "source": [
    "if past_data_exist:\n",
    "    data_plot = DataFrame({\n",
    "        \"state\":[\n",
    "            'Target_Q2',\n",
    "            f\"datim_{Monitoring_date.current.value}\",\n",
    "            f\"datim_{Monitoring_date.previous.value}\",\n",
    "            \"Evolution de l'indicateur\",\n",
    "            \"Since Inception\"\n",
    "        ],\n",
    "        \"data\": [\n",
    "            12700,\n",
    "            datim.total_datim_general,past_data[f\"datim_{Monitoring_date.previous.value}\"].values.tolist()[0],\n",
    "            datim.total_datim_general - past_data[f\"datim_{Monitoring_date.previous.value}\"].values.tolist()[0], \n",
    "            datim.total_datim_general - inception_data['datim_31_03_2022'].values.tolist()[0] \n",
    "        ]                        \n",
    "    })\n",
    "else:\n",
    "    data_plot = DataFrame({\n",
    "        \"state\":[f\"datim_{Monitoring_date.current.value}\",f\"datim_{Monitoring_date.previous.value}\",\"Evolution de l'indicateur\", \"Since Inception\"],\n",
    "        \"data\": [\n",
    "            datim.total_datim_general,\n",
    "            0,\n",
    "            datim.total_datim_general - 0, \n",
    "            datim.total_datim_general - 0 \n",
    "        ]                        \n",
    "    })\n",
    "\n",
    "plt.figure(figsize=(16,8))\n",
    "sns.set_style(\"darkgrid\")\n",
    "splot = sns.barplot(x=\"data\",y=\"state\",data=data_plot)\n",
    "splot.set_xlabel(\"\")\n",
    "splot.set_ylabel(\"\")\n",
    "plt.suptitle(\"AGYW, monitoring for FY22\")\n",
    "for p in splot.patches:\n",
    "    width = p.get_width()\n",
    "    plt.text(2+p.get_width(), p.get_y()+0.50*p.get_height(),\n",
    "             '{:1.0f}'.format(width), fontdict=dict(color=\"red\",fontsize=12))\n",
    "    \n",
    "plt.annotate(\n",
    "    \"source: HIVHaiti\",(0,0), (-80,-20), fontsize=10, \n",
    "             xycoords='axes fraction', textcoords='offset points', va='top'\n",
    ")\n",
    "\n",
    "plt.savefig(\"monitoring_indicator\",dpi=400)"
   ]
  },
  {
   "cell_type": "code",
   "execution_count": null,
   "metadata": {},
   "outputs": [],
   "source": []
  }
 ],
 "metadata": {
  "interpreter": {
   "hash": "aee8b7b246df8f9039afb4144a1f6fd8d2ca17a180786b69acc140d282b71a49"
  },
  "kernelspec": {
   "display_name": "Python 3.9.7 64-bit",
   "name": "python3"
  },
  "language_info": {
   "codemirror_mode": {
    "name": "ipython",
    "version": 3
   },
   "file_extension": ".py",
   "mimetype": "text/x-python",
   "name": "python",
   "nbconvert_exporter": "python",
   "pygments_lexer": "ipython3",
   "version": "3.10.2"
  },
  "orig_nbformat": 4
 },
 "nbformat": 4,
 "nbformat_minor": 2
}
