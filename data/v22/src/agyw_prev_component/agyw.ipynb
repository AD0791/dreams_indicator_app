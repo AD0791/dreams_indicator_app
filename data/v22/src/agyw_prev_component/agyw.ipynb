{
 "cells": [
  {
   "cell_type": "code",
   "execution_count": 1,
   "metadata": {},
   "outputs": [],
   "source": [
    "%%capture\n",
    "from re import sub\n",
    "from pandas import DataFrame, ExcelWriter\n",
    "from datetime import datetime\n",
    "\n",
    "from sys import path \n",
    "path.insert(0, '../static')\n",
    "\n",
    "from active import actif_served as AGYW_ACTIF\n",
    "\n",
    "from IPython.core.interactiveshell import InteractiveShell\n",
    "InteractiveShell.ast_node_interactivity = \"all\"\n",
    "\n",
    "date_du_jour = datetime.today().strftime(\"%d_%m_%Y\")"
   ]
  },
  {
   "cell_type": "code",
   "execution_count": 2,
   "metadata": {},
   "outputs": [
    {
     "data": {
      "text/plain": [
       "id_patient                                               int64\n",
       "id_parenting_group                                     float64\n",
       "departement                                             object\n",
       "commune                                                 object\n",
       "nbre_pres_for_inter                                      int16\n",
       "nbre_parenting_coupe_present                             int16\n",
       "has_comdom_topic                                        object\n",
       "has_preventive_vbg                                      object\n",
       "number_of_condoms_sensibilize                            int16\n",
       "number_condoms_sensibilization_date_in_the_interval      int16\n",
       "number_condoms_reception_in_the_interval                 int16\n",
       "number_test_date_in_the_interval                         int16\n",
       "test_results                                            object\n",
       "number_vbg_treatment_date_in_the_interval                int16\n",
       "number_gynecological_care_date_in_the_interval           int16\n",
       "number_prep_initiation_date_in_the_interval              int16\n",
       "number_contraceptive_reception_in_the_interval           int16\n",
       "age_in_year                                              int64\n",
       "age_range                                               object\n",
       "ovc_age                                                 object\n",
       "date_interview                                          object\n",
       "month_in_program_range                                  object\n",
       "muso                                                    object\n",
       "gardening                                               object\n",
       "has_a_service_with_date_in_the_past                     object\n",
       "parenting_detailed                                      object\n",
       "parenting                                               object\n",
       "curriculum_detailed                                     object\n",
       "curriculum                                              object\n",
       "condom                                                  object\n",
       "hts                                                     object\n",
       "vbg                                                     object\n",
       "gyneco                                                  object\n",
       "post_violence_care                                      object\n",
       "socioeco_app                                            object\n",
       "prep                                                    object\n",
       "contraceptive                                           object\n",
       "ps_1014                                                 object\n",
       "ps_1519                                                 object\n",
       "ps_2024                                                 object\n",
       "dtype: object"
      ]
     },
     "execution_count": 2,
     "metadata": {},
     "output_type": "execute_result"
    }
   ],
   "source": [
    "AGYW_ACTIF.dtypes"
   ]
  },
  {
   "cell_type": "code",
   "execution_count": 3,
   "metadata": {},
   "outputs": [
    {
     "data": {
      "text/plain": [
       "['10-14', '15-19', '20-24']"
      ]
     },
     "execution_count": 3,
     "metadata": {},
     "output_type": "execute_result"
    },
    {
     "data": {
      "text/plain": [
       "['0-6 months', '07-12 months', '13-24 months', '25+ months', 'Total']"
      ]
     },
     "execution_count": 3,
     "metadata": {},
     "output_type": "execute_result"
    }
   ],
   "source": [
    "pipo = list(AGYW_ACTIF.month_in_program_range.unique())\n",
    "pipo.append(\"Total\")\n",
    "sorted(list(AGYW_ACTIF.age_range.unique())[0:3])\n",
    "sorted(pipo)"
   ]
  },
  {
   "cell_type": "code",
   "execution_count": 4,
   "metadata": {},
   "outputs": [
    {
     "data": {
      "text/plain": [
       "['Milot',\n",
       " 'Cap-Haïtien',\n",
       " 'Kenscoff',\n",
       " 'Dessalines',\n",
       " 'Liancourt',\n",
       " 'Verrettes',\n",
       " 'Delmas',\n",
       " \"Petite Rivière de l'Artibonite\",\n",
       " 'Tabarre',\n",
       " 'Port-au-Prince',\n",
       " 'Pétionville',\n",
       " 'Gressier',\n",
       " 'Grande Saline',\n",
       " 'Desdunes',\n",
       " 'Montrouis',\n",
       " 'Saint-Marc',\n",
       " 'Plaine-du-Nord',\n",
       " 'Limonade',\n",
       " 'La Chapelle',\n",
       " 'Carrefour',\n",
       " 'Quartier-Morin']"
      ]
     },
     "execution_count": 4,
     "metadata": {},
     "output_type": "execute_result"
    }
   ],
   "source": [
    "list(AGYW_ACTIF.commune.unique())"
   ]
  },
  {
   "cell_type": "markdown",
   "metadata": {},
   "source": [
    "# Indicator"
   ]
  },
  {
   "cell_type": "code",
   "execution_count": 5,
   "metadata": {},
   "outputs": [],
   "source": [
    "class AgywPrev:\n",
    "    \"\"\"A class with properties and methods given the results of the indicator AGYW_PREV DATIM\"\"\"\n",
    "    __who_am_I = \"DATIM\"\n",
    "    __datim1_title = \"Number of individual AGYW that have fully completed the entire DREAMS primary package of services/interventions but no additional services/interventions.\"\n",
    "    __datim2_title = \"Number of individual AGYW that have fully completed the entire DREAMS primary package of services/interventions AND at least one secondary service/intervention.\"\n",
    "    __datim3_title = \"Number of individual AGYW that have completed at least one DREAMS service/intervention but not the full primary package.\"\n",
    "    __datim4_title = \"Number of AGYW that have started a DREAMS service/intervention but have not yet completed it.\"\n",
    "\n",
    "    def __repr__(self):\n",
    "        return f\"<AgywPrev {self.__i_am}>\"\n",
    "\n",
    "    def __str__(self):\n",
    "        return f\"<AgywPrev {self.__i_am}>\"\n",
    "\n",
    "    @classmethod\n",
    "    def datim_titleI(cls):\n",
    "        return cls.__datim1_title\n",
    "\n",
    "    @classmethod\n",
    "    def datim_titleII(cls):\n",
    "        return cls.__datim2_title\n",
    "\n",
    "    @classmethod\n",
    "    def datim_titleIII(cls):\n",
    "        return cls.__datim3_title\n",
    "\n",
    "    @classmethod\n",
    "    def datim_titleIV(cls):\n",
    "        return cls.__datim4_title\n",
    "\n",
    "    def __init__(self, commune=None):\n",
    "        self.__commune = commune\n",
    "        self.__i_am = f\"{AgywPrev.__who_am_I}\"\n",
    "        self.__data = AGYW_ACTIF\n",
    "        self. __total_mastersheet = self.__data.id_patient.count()\n",
    "        if self.__commune == None:\n",
    "            self.__dreams_valid = self.__data[(self.__data.age_range != \"not_valid_age\") & (\n",
    "                self.__data.age_range != \"25-29\")]\n",
    "        else:\n",
    "            self.__dreams_valid = self.__data[(self.__data.age_range != \"not_valid_age\") & (\n",
    "                self.__data.age_range != \"25-29\") & (self.__data.commune == f\"{self.__commune}\")]\n",
    "        self.__total_dreams_valid = self.__dreams_valid.id_patient.count()\n",
    "        self.__dreams_valid[\"primary_only\"] = self.__dreams_valid.apply(\n",
    "            lambda df: self.__primFunc(df), axis=1)\n",
    "        self.__dreams_valid[\"primary_and_OneSecondary_services\"] = self.__dreams_valid.apply(\n",
    "            lambda df: self.__primLeastOneSecFunc(df), axis=1)\n",
    "        self.__dreams_valid[\"completed_one_service\"] = self.__dreams_valid.apply(\n",
    "            lambda df: self.__primPartFunc(df), axis=1)\n",
    "        self.__dreams_valid[\"has_started_one_service\"] = self.__dreams_valid.apply(\n",
    "            lambda df: self.__hasStartedFunc(df), axis=1)\n",
    "        self.__agyw_prevI = self.__dreams_valid[self.__dreams_valid.primary_only ==\n",
    "                                                \"full_primary_only\"]\n",
    "        self.__agyw_prevII = self.__dreams_valid[self.__dreams_valid.primary_and_OneSecondary_services ==\n",
    "                                                 \"full_primary_leastOneSecondary\"]\n",
    "        self.__agyw_prevIII = self.__dreams_valid[self.__dreams_valid.completed_one_service ==\n",
    "                                                  \"primary_part_services\"]\n",
    "        self.__agyw_prevIV = self.__dreams_valid[self.__dreams_valid.has_started_one_service == \"yes\"]\n",
    "        self.__agyw_prevI_total = self.__agyw_prevI.id_patient.count()\n",
    "        self.__agyw_prevII_total = self.__agyw_prevII.id_patient.count()\n",
    "        self.__agyw_prevIII_total = self.__agyw_prevIII.id_patient.count()\n",
    "        self.__agyw_prevIV_total = self.__agyw_prevIV.id_patient.count()\n",
    "        self.__total_datim = self.__agyw_prevI_total + self.__agyw_prevII_total + \\\n",
    "            self.__agyw_prevIII_total + self.__agyw_prevIV_total\n",
    "\n",
    "    @property\n",
    "    def who_am_i(self):\n",
    "        return self.__i_am\n",
    "\n",
    "    @property\n",
    "    def data_mastersheet(self):\n",
    "        return self.__data\n",
    "\n",
    "    @property\n",
    "    def data_dreams_valid(self):\n",
    "        return self.__dreams_valid\n",
    "\n",
    "    @property\n",
    "    def total_mastersheet(self):\n",
    "        return self.__total_mastersheet\n",
    "\n",
    "    @property\n",
    "    def total_dreams_valid(self):\n",
    "        return self.__total_dreams_valid\n",
    "\n",
    "    def __primFunc(self, df):\n",
    "        if (df.ps_1014 == \"primary\" and df.hts == \"no\" and df.prep == \"no\" and df.condom == \"no\" and df.post_violence_care == \"no\" and df.socioeco_app == \"no\" and df.parenting == \"no\" and df.contraceptive == \"no\"):\n",
    "            return \"full_primary_only\"\n",
    "        elif (df.ps_1519 == \"primary\" and df.hts == \"no\" and df.prep == \"no\" and df.post_violence_care == \"no\" and df.socioeco_app == \"no\" and df.parenting == \"no\" and df.contraceptive == \"no\"):\n",
    "            return \"full_primary_only\"\n",
    "        elif (df.ps_2024 == \"primary\" and df.hts == \"no\" and df.prep == \"no\" and df.post_violence_care == \"no\" and df.socioeco_app == \"no\" and df.parenting == \"no\" and df.contraceptive == \"no\"):\n",
    "            return \"full_primary_only\"\n",
    "        else:\n",
    "            return \"invalid\"\n",
    "\n",
    "    def __primLeastOneSecFunc(self, df):\n",
    "        if (df.ps_1014 == \"primary\") and (df.hts == \"yes\" or df.prep == \"yes\" or df.condom == \"yes\" or df.post_violence_care == \"yes\" or df.socioeco_app == \"yes\" or df.parenting == \"yes\" or df.contraceptive == \"yes\"):\n",
    "            return \"full_primary_leastOneSecondary\"\n",
    "        elif (df.ps_1519 == \"primary\") and (df.hts == \"yes\" or df.prep == \"yes\" or df.post_violence_care == \"yes\" or df.socioeco_app == \"yes\" or df.parenting == \"yes\" or df.contraceptive == \"yes\"):\n",
    "            return \"full_primary_leastOneSecondary\"\n",
    "        elif (df.ps_2024 == \"primary\") and (df.hts == \"yes\" or df.prep == \"yes\" or df.post_violence_care == \"yes\" or df.socioeco_app == \"yes\" or df.parenting == \"yes\" or df.contraceptive == \"yes\"):\n",
    "            return \"full_primary_leastOneSecondary\"\n",
    "        else:\n",
    "            return \"invalid\"\n",
    "\n",
    "    def __primPartFunc(self, df):\n",
    "        if (df.age_range == \"10-14\") and (df.primary_only == \"invalid\") and (df.primary_and_OneSecondary_services == 'invalid') and ((df.hts == \"yes\" or df.prep == \"yes\" or df.condom == \"yes\" or df.post_violence_care == \"yes\" or df.socioeco_app == \"yes\" or df.parenting == \"yes\" or df.contraceptive == \"yes\")):\n",
    "            return \"primary_part_services\"\n",
    "        elif (df.age_range == \"15-19\") and (df.primary_only == \"invalid\") and (df.primary_and_OneSecondary_services == 'invalid') and (df.curriculum == \"yes\" or df.condom == \"yes\" or df.hts == \"yes\" or df.prep == \"yes\" or df.post_violence_care == \"yes\" or df.socioeco_app == \"yes\" or df.parenting == \"yes\" or df.contraceptive == \"yes\"):\n",
    "            return \"primary_part_services\"\n",
    "        elif (df.age_range == \"20-24\") and (df.primary_only == \"invalid\") and (df.primary_and_OneSecondary_services == 'invalid') and ((df.curriculum == \"yes\" or df.condom == \"yes\" or df.hts == \"yes\" or df.prep == \"yes\" or df.post_violence_care == \"yes\" or df.socioeco_app == \"yes\" or df.parenting == \"yes\" or df.contraceptive == \"yes\")):\n",
    "            return \"primary_part_services\"\n",
    "        else:\n",
    "            return \"invalid\"\n",
    "\n",
    "    def __hasStartedFunc(self, df):\n",
    "        if (df.age_range == \"10-14\") and (df.primary_only == \"invalid\") and (df.primary_and_OneSecondary_services == 'invalid') and (df.completed_one_service == \"invalid\"):\n",
    "            return \"yes\"\n",
    "        elif (df.age_range == \"15-19\") and (df.primary_only == \"invalid\") and (df.primary_and_OneSecondary_services == 'invalid') and (df.completed_one_service == \"invalid\"):\n",
    "            return \"yes\"\n",
    "        elif (df.age_range == \"20-24\") and (df.primary_only == \"invalid\") and (df.primary_and_OneSecondary_services == 'invalid') and (df.completed_one_service == \"invalid\"):\n",
    "            return \"yes\"\n",
    "        else:\n",
    "            return \"no\"\n",
    "\n",
    "    @property\n",
    "    def total_datimI(self):\n",
    "        return self.__agyw_prevI_total\n",
    "\n",
    "    @property\n",
    "    def total_datimII(self):\n",
    "        return self.__agyw_prevII_total\n",
    "\n",
    "    @property\n",
    "    def total_datimIII(self):\n",
    "        return self.__agyw_prevIII_total\n",
    "\n",
    "    @property\n",
    "    def total_datimIV(self):\n",
    "        return self.__agyw_prevIV_total\n",
    "\n",
    "    @property\n",
    "    def total_datim_general(self):\n",
    "        return self.__total_datim\n",
    "\n",
    "    @property\n",
    "    def data_agyw_prevI(self):\n",
    "        return self.__agyw_prevI\n",
    "\n",
    "    @property\n",
    "    def data_agyw_prevII(self):\n",
    "        return self.__agyw_prevII\n",
    "\n",
    "    @property\n",
    "    def data_agyw_prevIII(self):\n",
    "        return self.__agyw_prevIII\n",
    "\n",
    "    @property\n",
    "    def data_agyw_prevIV(self):\n",
    "        return self.__agyw_prevIV\n",
    "\n",
    "    __PERIOD_DATIM = sorted(list(AGYW_ACTIF.month_in_program_range.unique()))\n",
    "    __PERIOD_DATIM.append(\"Total\")\n",
    "    __AGE_DATIM = sorted(list(AGYW_ACTIF.age_range.unique())[0:3])\n",
    "\n",
    "    def datim_agyw_prevI(self):\n",
    "\n",
    "        try:\n",
    "            pivotableI = self.__agyw_prevI.rename(\n",
    "                columns={\"age_range\": \"Age\", \"month_in_program_range\": \"Time\"})\n",
    "            agyw_prevI_pivot = pivotableI.pivot_table(index=\"Age\", columns=\"Time\", values=\"id_patient\",\n",
    "                                                      aggfunc=\"count\", fill_value=0, margins=True, margins_name=\"Total\", dropna=False)[:-1]\n",
    "            columns_pivotI = list(agyw_prevI_pivot.columns)\n",
    "            indexes_pivotI = list(agyw_prevI_pivot.index)\n",
    "            for period in AgywPrev.__PERIOD_DATIM:\n",
    "                if period not in columns_pivotI:\n",
    "                    agyw_prevI_pivot[period] = 0\n",
    "            for age in AgywPrev.__AGE_DATIM:\n",
    "                if age not in indexes_pivotI:\n",
    "                    agyw_prevI_pivot.loc[age] = 0\n",
    "            agyw_prevI_pivot = agyw_prevI_pivot.reindex(\n",
    "                index=AgywPrev.__AGE_DATIM, columns=AgywPrev.__PERIOD_DATIM)\n",
    "            agyw_prevI_pivot_final = agyw_prevI_pivot.reset_index().rename_axis(None, axis=1)\n",
    "            agyw_prevI_results_final = DataFrame(\n",
    "                agyw_prevI_pivot_final.to_records(index=False))\n",
    "        except ValueError:\n",
    "            agyw_prevI_results_final = DataFrame({\"Age\": [\"10-14\", \"15-19\",\n",
    "                                                          \"20-24\"],\n",
    "                                                  \"0-6 months\": [0, 0, 0],\n",
    "                                                  \"07-12 months\": [0, 0, 0],\n",
    "                                                  \"13-24 months\": [0, 0, 0],\n",
    "                                                  \"25+ months\": [0, 0, 0],\n",
    "                                                  \"Total\": [0, 0, 0]\n",
    "                                                  })\n",
    "        return agyw_prevI_results_final\n",
    "\n",
    "    def datim_agyw_prevII(self):\n",
    "        try:\n",
    "            pivotableII = self.__agyw_prevII.rename(\n",
    "                columns={\"age_range\": \"Age\", \"month_in_program_range\": \"Time\"})\n",
    "            agyw_prevII_pivot = pivotableII.pivot_table(\n",
    "                index=\"Age\", columns=\"Time\", values=\"id_patient\", aggfunc=\"count\", fill_value=0, margins=True, margins_name=\"Total\", dropna=False)[:-1]\n",
    "            columns_pivotII = list(agyw_prevII_pivot.columns)\n",
    "            indexes_pivotII = list(agyw_prevII_pivot.index)\n",
    "            for period in AgywPrev.__PERIOD_DATIM:\n",
    "                if period not in columns_pivotII:\n",
    "                    agyw_prevII_pivot[period] = 0\n",
    "            for age in AgywPrev.__AGE_DATIM:\n",
    "                if age not in indexes_pivotII:\n",
    "                    agyw_prevII_pivot.loc[age] = 0\n",
    "            agyw_prevII_pivot = agyw_prevII_pivot.reindex(\n",
    "                index=AgywPrev.__AGE_DATIM, columns=AgywPrev.__PERIOD_DATIM)\n",
    "            agyw_prevII_pivot_final = agyw_prevII_pivot.reset_index().rename_axis(None, axis=1)\n",
    "            agyw_prevII_results_final = DataFrame(\n",
    "                agyw_prevII_pivot_final.to_records(index=False))\n",
    "        except ValueError:\n",
    "            agyw_prevII_results_final = DataFrame({\"Age\": [\"10-14\", \"15-19\",\n",
    "                                                           \"20-24\"],\n",
    "                                                   \"0-6 months\": [0, 0, 0],\n",
    "                                                   \"07-12 months\": [0, 0, 0],\n",
    "                                                   \"13-24 months\": [0, 0, 0],\n",
    "                                                   \"25+ months\": [0, 0, 0],\n",
    "                                                   \"Total\": [0, 0, 0]\n",
    "                                                   })\n",
    "        return agyw_prevII_results_final\n",
    "\n",
    "    def datim_agyw_prevIII(self):\n",
    "        try:\n",
    "            pivotableIII = self.__agyw_prevIII.rename(\n",
    "                columns={\"age_range\": \"Age\", \"month_in_program_range\": \"Time\"})\n",
    "            agyw_prevIII_pivot = pivotableIII.pivot_table(\n",
    "                index=\"Age\", columns=\"Time\", values=\"id_patient\", aggfunc=\"count\", fill_value=0, margins=True, margins_name=\"Total\", dropna=False)[:-1]\n",
    "            columns_pivotIII = list(agyw_prevIII_pivot.columns)\n",
    "            indexes_pivotIII = list(agyw_prevIII_pivot.index)\n",
    "            for period in AgywPrev.__PERIOD_DATIM:\n",
    "                if period not in columns_pivotIII:\n",
    "                    agyw_prevIII_pivot[period] = 0\n",
    "            for age in AgywPrev.__AGE_DATIM:\n",
    "                if age not in indexes_pivotIII:\n",
    "                    agyw_prevIII_pivot.loc[age] = 0\n",
    "            agyw_prevIII_pivot = agyw_prevIII_pivot.reindex(\n",
    "                index=AgywPrev.__AGE_DATIM, columns=AgywPrev.__PERIOD_DATIM)\n",
    "            agyw_prevIII_pivot_final = agyw_prevIII_pivot.reset_index().rename_axis(None, axis=1)\n",
    "            agyw_prevIII_results_final = DataFrame(\n",
    "                agyw_prevIII_pivot_final.to_records(index=False))\n",
    "        except ValueError:\n",
    "            agyw_prevIII_results_final = DataFrame({\"Age\": [\"10-14\",                     \"15-19\",\n",
    "                                                            \"20-24\"],\n",
    "                                                    \"0-6 months\": [0, 0, 0],\n",
    "                                                    \"07-12 months\": [0, 0, 0],\n",
    "                                                    \"13-24 months\": [0, 0, 0],\n",
    "                                                    \"25+ months\": [0, 0, 0],\n",
    "                                                    \"Total\": [0, 0, 0]\n",
    "                                                    })\n",
    "        return agyw_prevIII_results_final\n",
    "\n",
    "    def datim_agyw_prevIV(self):\n",
    "        try:\n",
    "            pivotableIV = self.__agyw_prevIV.rename(\n",
    "                columns={\"age_range\": \"Age\", \"month_in_program_range\": \"Time\"})\n",
    "            agyw_prevIV_pivot = pivotableIV.pivot_table(\n",
    "                index=\"Age\", columns=\"Time\", values=\"id_patient\", aggfunc=\"count\", fill_value=0, margins=True, margins_name=\"Total\", dropna=False)[:-1]\n",
    "            columns_pivotIII = list(agyw_prevIV_pivot.columns)\n",
    "            indexes_pivotIII = list(agyw_prevIV_pivot.index)\n",
    "            for period in AgywPrev.__PERIOD_DATIM:\n",
    "                if period not in columns_pivotIII:\n",
    "                    agyw_prevIV_pivot[period] = 0\n",
    "            for age in AgywPrev.__AGE_DATIM:\n",
    "                if age not in indexes_pivotIII:\n",
    "                    agyw_prevIV_pivot.loc[age] = 0\n",
    "            agyw_prevIV_pivot = agyw_prevIV_pivot.reindex(\n",
    "                index=AgywPrev.__AGE_DATIM, columns=AgywPrev.__PERIOD_DATIM)\n",
    "            agyw_prevIV_pivot_final = agyw_prevIV_pivot.reset_index().rename_axis(None, axis=1)\n",
    "            agyw_prevIV_results_final = DataFrame(\n",
    "                agyw_prevIV_pivot_final.to_records(index=False))\n",
    "        except ValueError:\n",
    "            agyw_prevIV_results_final = DataFrame({\"Age\": [\"10-14\",                     \"15-19\",\n",
    "                                                           \"20-24\"],\n",
    "                                                   \"0-6 months\": [0, 0, 0],\n",
    "                                                   \"07-12 months\": [0, 0, 0],\n",
    "                                                   \"13-24 months\": [0, 0, 0],\n",
    "                                                   \"25+ months\": [0, 0, 0],\n",
    "                                                   \"Total\": [0, 0, 0]\n",
    "                                                   })\n",
    "        return agyw_prevIV_results_final\n"
   ]
  },
  {
   "cell_type": "code",
   "execution_count": 6,
   "metadata": {},
   "outputs": [],
   "source": [
    "%%capture\n",
    "datim = AgywPrev()"
   ]
  },
  {
   "cell_type": "code",
   "execution_count": 7,
   "metadata": {},
   "outputs": [
    {
     "data": {
      "text/plain": [
       "10034"
      ]
     },
     "execution_count": 7,
     "metadata": {},
     "output_type": "execute_result"
    },
    {
     "data": {
      "text/plain": [
       "9834"
      ]
     },
     "execution_count": 7,
     "metadata": {},
     "output_type": "execute_result"
    },
    {
     "data": {
      "text/plain": [
       "'DATIM'"
      ]
     },
     "execution_count": 7,
     "metadata": {},
     "output_type": "execute_result"
    },
    {
     "data": {
      "text/plain": [
       "4060"
      ]
     },
     "execution_count": 7,
     "metadata": {},
     "output_type": "execute_result"
    },
    {
     "data": {
      "text/plain": [
       "4649"
      ]
     },
     "execution_count": 7,
     "metadata": {},
     "output_type": "execute_result"
    },
    {
     "data": {
      "text/plain": [
       "1038"
      ]
     },
     "execution_count": 7,
     "metadata": {},
     "output_type": "execute_result"
    },
    {
     "data": {
      "text/plain": [
       "87"
      ]
     },
     "execution_count": 7,
     "metadata": {},
     "output_type": "execute_result"
    },
    {
     "data": {
      "text/plain": [
       "9834"
      ]
     },
     "execution_count": 7,
     "metadata": {},
     "output_type": "execute_result"
    },
    {
     "data": {
      "text/plain": [
       "'Number of individual AGYW that have fully completed the entire DREAMS primary package of services/interventions but no additional services/interventions.'"
      ]
     },
     "execution_count": 7,
     "metadata": {},
     "output_type": "execute_result"
    },
    {
     "data": {
      "text/html": [
       "<div>\n",
       "<style scoped>\n",
       "    .dataframe tbody tr th:only-of-type {\n",
       "        vertical-align: middle;\n",
       "    }\n",
       "\n",
       "    .dataframe tbody tr th {\n",
       "        vertical-align: top;\n",
       "    }\n",
       "\n",
       "    .dataframe thead th {\n",
       "        text-align: right;\n",
       "    }\n",
       "</style>\n",
       "<table border=\"1\" class=\"dataframe\">\n",
       "  <thead>\n",
       "    <tr style=\"text-align: right;\">\n",
       "      <th></th>\n",
       "      <th>Age</th>\n",
       "      <th>0-6 months</th>\n",
       "      <th>07-12 months</th>\n",
       "      <th>13-24 months</th>\n",
       "      <th>25+ months</th>\n",
       "      <th>Total</th>\n",
       "    </tr>\n",
       "  </thead>\n",
       "  <tbody>\n",
       "    <tr>\n",
       "      <th>0</th>\n",
       "      <td>10-14</td>\n",
       "      <td>0</td>\n",
       "      <td>0</td>\n",
       "      <td>0</td>\n",
       "      <td>0</td>\n",
       "      <td>0</td>\n",
       "    </tr>\n",
       "    <tr>\n",
       "      <th>1</th>\n",
       "      <td>15-19</td>\n",
       "      <td>1099</td>\n",
       "      <td>263</td>\n",
       "      <td>882</td>\n",
       "      <td>681</td>\n",
       "      <td>2925</td>\n",
       "    </tr>\n",
       "    <tr>\n",
       "      <th>2</th>\n",
       "      <td>20-24</td>\n",
       "      <td>306</td>\n",
       "      <td>95</td>\n",
       "      <td>385</td>\n",
       "      <td>349</td>\n",
       "      <td>1135</td>\n",
       "    </tr>\n",
       "  </tbody>\n",
       "</table>\n",
       "</div>"
      ],
      "text/plain": [
       "     Age  0-6 months  07-12 months  13-24 months  25+ months  Total\n",
       "0  10-14           0             0             0           0      0\n",
       "1  15-19        1099           263           882         681   2925\n",
       "2  20-24         306            95           385         349   1135"
      ]
     },
     "execution_count": 7,
     "metadata": {},
     "output_type": "execute_result"
    },
    {
     "data": {
      "text/plain": [
       "'Number of individual AGYW that have fully completed the entire DREAMS primary package of services/interventions AND at least one secondary service/intervention.'"
      ]
     },
     "execution_count": 7,
     "metadata": {},
     "output_type": "execute_result"
    },
    {
     "data": {
      "text/html": [
       "<div>\n",
       "<style scoped>\n",
       "    .dataframe tbody tr th:only-of-type {\n",
       "        vertical-align: middle;\n",
       "    }\n",
       "\n",
       "    .dataframe tbody tr th {\n",
       "        vertical-align: top;\n",
       "    }\n",
       "\n",
       "    .dataframe thead th {\n",
       "        text-align: right;\n",
       "    }\n",
       "</style>\n",
       "<table border=\"1\" class=\"dataframe\">\n",
       "  <thead>\n",
       "    <tr style=\"text-align: right;\">\n",
       "      <th></th>\n",
       "      <th>Age</th>\n",
       "      <th>0-6 months</th>\n",
       "      <th>07-12 months</th>\n",
       "      <th>13-24 months</th>\n",
       "      <th>25+ months</th>\n",
       "      <th>Total</th>\n",
       "    </tr>\n",
       "  </thead>\n",
       "  <tbody>\n",
       "    <tr>\n",
       "      <th>0</th>\n",
       "      <td>10-14</td>\n",
       "      <td>1800</td>\n",
       "      <td>327</td>\n",
       "      <td>953</td>\n",
       "      <td>205</td>\n",
       "      <td>3285</td>\n",
       "    </tr>\n",
       "    <tr>\n",
       "      <th>1</th>\n",
       "      <td>15-19</td>\n",
       "      <td>157</td>\n",
       "      <td>51</td>\n",
       "      <td>402</td>\n",
       "      <td>98</td>\n",
       "      <td>708</td>\n",
       "    </tr>\n",
       "    <tr>\n",
       "      <th>2</th>\n",
       "      <td>20-24</td>\n",
       "      <td>99</td>\n",
       "      <td>47</td>\n",
       "      <td>426</td>\n",
       "      <td>84</td>\n",
       "      <td>656</td>\n",
       "    </tr>\n",
       "  </tbody>\n",
       "</table>\n",
       "</div>"
      ],
      "text/plain": [
       "     Age  0-6 months  07-12 months  13-24 months  25+ months  Total\n",
       "0  10-14        1800           327           953         205   3285\n",
       "1  15-19         157            51           402          98    708\n",
       "2  20-24          99            47           426          84    656"
      ]
     },
     "execution_count": 7,
     "metadata": {},
     "output_type": "execute_result"
    },
    {
     "data": {
      "text/plain": [
       "'Number of individual AGYW that have completed at least one DREAMS service/intervention but not the full primary package.'"
      ]
     },
     "execution_count": 7,
     "metadata": {},
     "output_type": "execute_result"
    },
    {
     "data": {
      "text/html": [
       "<div>\n",
       "<style scoped>\n",
       "    .dataframe tbody tr th:only-of-type {\n",
       "        vertical-align: middle;\n",
       "    }\n",
       "\n",
       "    .dataframe tbody tr th {\n",
       "        vertical-align: top;\n",
       "    }\n",
       "\n",
       "    .dataframe thead th {\n",
       "        text-align: right;\n",
       "    }\n",
       "</style>\n",
       "<table border=\"1\" class=\"dataframe\">\n",
       "  <thead>\n",
       "    <tr style=\"text-align: right;\">\n",
       "      <th></th>\n",
       "      <th>Age</th>\n",
       "      <th>0-6 months</th>\n",
       "      <th>07-12 months</th>\n",
       "      <th>13-24 months</th>\n",
       "      <th>25+ months</th>\n",
       "      <th>Total</th>\n",
       "    </tr>\n",
       "  </thead>\n",
       "  <tbody>\n",
       "    <tr>\n",
       "      <th>0</th>\n",
       "      <td>10-14</td>\n",
       "      <td>363</td>\n",
       "      <td>28</td>\n",
       "      <td>90</td>\n",
       "      <td>11</td>\n",
       "      <td>492</td>\n",
       "    </tr>\n",
       "    <tr>\n",
       "      <th>1</th>\n",
       "      <td>15-19</td>\n",
       "      <td>214</td>\n",
       "      <td>21</td>\n",
       "      <td>112</td>\n",
       "      <td>35</td>\n",
       "      <td>382</td>\n",
       "    </tr>\n",
       "    <tr>\n",
       "      <th>2</th>\n",
       "      <td>20-24</td>\n",
       "      <td>51</td>\n",
       "      <td>11</td>\n",
       "      <td>80</td>\n",
       "      <td>22</td>\n",
       "      <td>164</td>\n",
       "    </tr>\n",
       "  </tbody>\n",
       "</table>\n",
       "</div>"
      ],
      "text/plain": [
       "     Age  0-6 months  07-12 months  13-24 months  25+ months  Total\n",
       "0  10-14         363            28            90          11    492\n",
       "1  15-19         214            21           112          35    382\n",
       "2  20-24          51            11            80          22    164"
      ]
     },
     "execution_count": 7,
     "metadata": {},
     "output_type": "execute_result"
    },
    {
     "data": {
      "text/plain": [
       "'Number of AGYW that have started a DREAMS service/intervention but have not yet completed it.'"
      ]
     },
     "execution_count": 7,
     "metadata": {},
     "output_type": "execute_result"
    },
    {
     "data": {
      "text/html": [
       "<div>\n",
       "<style scoped>\n",
       "    .dataframe tbody tr th:only-of-type {\n",
       "        vertical-align: middle;\n",
       "    }\n",
       "\n",
       "    .dataframe tbody tr th {\n",
       "        vertical-align: top;\n",
       "    }\n",
       "\n",
       "    .dataframe thead th {\n",
       "        text-align: right;\n",
       "    }\n",
       "</style>\n",
       "<table border=\"1\" class=\"dataframe\">\n",
       "  <thead>\n",
       "    <tr style=\"text-align: right;\">\n",
       "      <th></th>\n",
       "      <th>Age</th>\n",
       "      <th>0-6 months</th>\n",
       "      <th>07-12 months</th>\n",
       "      <th>13-24 months</th>\n",
       "      <th>25+ months</th>\n",
       "      <th>Total</th>\n",
       "    </tr>\n",
       "  </thead>\n",
       "  <tbody>\n",
       "    <tr>\n",
       "      <th>0</th>\n",
       "      <td>10-14</td>\n",
       "      <td>36</td>\n",
       "      <td>6</td>\n",
       "      <td>6</td>\n",
       "      <td>1</td>\n",
       "      <td>49</td>\n",
       "    </tr>\n",
       "    <tr>\n",
       "      <th>1</th>\n",
       "      <td>15-19</td>\n",
       "      <td>19</td>\n",
       "      <td>3</td>\n",
       "      <td>7</td>\n",
       "      <td>2</td>\n",
       "      <td>31</td>\n",
       "    </tr>\n",
       "    <tr>\n",
       "      <th>2</th>\n",
       "      <td>20-24</td>\n",
       "      <td>4</td>\n",
       "      <td>0</td>\n",
       "      <td>2</td>\n",
       "      <td>1</td>\n",
       "      <td>7</td>\n",
       "    </tr>\n",
       "  </tbody>\n",
       "</table>\n",
       "</div>"
      ],
      "text/plain": [
       "     Age  0-6 months  07-12 months  13-24 months  25+ months  Total\n",
       "0  10-14          36             6             6           1     49\n",
       "1  15-19          19             3             7           2     31\n",
       "2  20-24           4             0             2           1      7"
      ]
     },
     "execution_count": 7,
     "metadata": {},
     "output_type": "execute_result"
    }
   ],
   "source": [
    "datim.total_mastersheet \n",
    "datim.total_dreams_valid\n",
    "datim.who_am_i\n",
    "datim.total_datimI\n",
    "datim.total_datimII\n",
    "datim.total_datimIII\n",
    "datim.total_datimIV\n",
    "datim.total_datim_general\n",
    "AgywPrev.datim_titleI()\n",
    "datim.datim_agyw_prevI()\n",
    "AgywPrev.datim_titleII()\n",
    "datim.datim_agyw_prevII()\n",
    "AgywPrev.datim_titleIII()\n",
    "datim.datim_agyw_prevIII()\n",
    "AgywPrev.datim_titleIV()\n",
    "datim.datim_agyw_prevIV()"
   ]
  },
  {
   "cell_type": "markdown",
   "metadata": {},
   "source": [
    "# Communes view"
   ]
  },
  {
   "cell_type": "code",
   "execution_count": 8,
   "metadata": {},
   "outputs": [],
   "source": [
    "%%capture\n",
    "\n",
    "class AgywPrevCommune(AgywPrev):\n",
    "    \"\"\"A class that extend AgywPrev with the purpose of the indicator AGYW_PREV DATIM by commune\"\"\"\n",
    "    __who_am_I =\"DATIM\"\n",
    "    def __init__(self,name):\n",
    "        self.__name = name\n",
    "        self.__i_am = f\"{AgywPrevCommune.__who_am_I} {self.__name}\"\n",
    "        super().__init__(self.__name)\n",
    "        \n",
    "    @property\n",
    "    def who_am_i(self):\n",
    "        return self.__i_am\n",
    "    \n",
    "    def __repr__(self):\n",
    "        return f\"<AgywPrevCommune {self.__i_am}>\"\n",
    "    \n",
    "    def __str__(self):\n",
    "        return f\"<AgywPrevCommune {self.__i_am}>\"\n",
    "      \n",
    "        \n",
    "\n",
    "def name_handler(s):\n",
    "    s = sub(r\"[^\\w\\s]\", '', s)\n",
    "    # Replace all runs of whitespace with a single dash\n",
    "    s = sub(r\"\\s+\", '_', s)\n",
    "    return s\n",
    "\n",
    "datimcommunes = []\n",
    "\n",
    "for columns in AGYW_ACTIF.commune.unique():\n",
    "    globals()[f\"datim_{name_handler(columns)}\"] = AgywPrevCommune(f\"{columns}\")\n",
    "    datimcommunes.append(globals().get(f\"datim_{name_handler(columns)}\"))\n",
    "\n",
    "\n",
    "for dcommunes in datimcommunes:\n",
    "  dcommunes.total_mastersheet \n",
    "  dcommunes.total_dreams_valid\n",
    "  dcommunes.who_am_i\n",
    "  dcommunes.total_datimI\n",
    "  dcommunes.total_datimII\n",
    "  dcommunes.total_datimIII\n",
    "  dcommunes.total_datimIV\n",
    "  dcommunes.total_datim_general\n",
    "  AgywPrevCommune.datim_titleI()\n",
    "  dcommunes.datim_agyw_prevI()\n",
    "  AgywPrevCommune.datim_titleII()\n",
    "  dcommunes.datim_agyw_prevII()\n",
    "  AgywPrevCommune.datim_titleIII()\n",
    "  dcommunes.datim_agyw_prevIII()\n",
    "  AgywPrevCommune.datim_titleIV()\n",
    "  dcommunes.datim_agyw_prevIV()\n",
    "  print(\" \")\n",
    "  print(\" \")\n",
    "  print(\" \")\n",
    "  print(\" \")\n",
    "        \n",
    "        \n",
    "\n",
    "        "
   ]
  },
  {
   "cell_type": "markdown",
   "metadata": {},
   "source": [
    "# Verification"
   ]
  },
  {
   "cell_type": "code",
   "execution_count": 9,
   "metadata": {},
   "outputs": [
    {
     "data": {
      "text/plain": [
       "' usaid_verification = ExcelWriter(f\"./datim_results/tables_verification/Q1/datim_verification_{date_du_jour}.xlsx\",engine=\"xlsxwriter\")\\ndatim.data_agyw_prevI.to_excel(usaid_verification,sheet_name=\"composante I\",index=False,na_rep=\"\")\\ndatim.data_agyw_prevII.to_excel(usaid_verification,sheet_name=\"composante II\",index=False,na_rep=\"\")\\ndatim.data_agyw_prevIII.to_excel(usaid_verification,sheet_name=\"Composante III\",index=False,na_rep=\"\")\\ndatim.data_agyw_prevIV.to_excel(usaid_verification,sheet_name=\"Composante IV\",index=False,na_rep=\"\")\\ndatim.data_dreams_valid.to_excel(usaid_verification,sheet_name=\"table_global\",index=False,na_rep=\"\")\\nusaid_verification.save() '"
      ]
     },
     "execution_count": 9,
     "metadata": {},
     "output_type": "execute_result"
    }
   ],
   "source": [
    "usaid_verification = ExcelWriter(f\"./datim_results/tables_verification/datim_verification_{date_du_jour}.xlsx\",engine=\"xlsxwriter\")\n",
    "datim.data_agyw_prevI.to_excel(usaid_verification,sheet_name=\"composante I\",index=False,na_rep=\"\")\n",
    "datim.data_agyw_prevII.to_excel(usaid_verification,sheet_name=\"composante II\",index=False,na_rep=\"\")\n",
    "datim.data_agyw_prevIII.to_excel(usaid_verification,sheet_name=\"Composante III\",index=False,na_rep=\"\")\n",
    "datim.data_agyw_prevIV.to_excel(usaid_verification,sheet_name=\"Composante IV\",index=False,na_rep=\"\")\n",
    "datim.data_dreams_valid.to_excel(usaid_verification,sheet_name=\"table_global\",index=False,na_rep=\"\")\n",
    "usaid_verification.save()\n",
    "\n",
    "\"\"\" usaid_verification = ExcelWriter(f\"./datim_results/tables_verification/Q1/datim_verification_{date_du_jour}.xlsx\",engine=\"xlsxwriter\")\n",
    "datim.data_agyw_prevI.to_excel(usaid_verification,sheet_name=\"composante I\",index=False,na_rep=\"\")\n",
    "datim.data_agyw_prevII.to_excel(usaid_verification,sheet_name=\"composante II\",index=False,na_rep=\"\")\n",
    "datim.data_agyw_prevIII.to_excel(usaid_verification,sheet_name=\"Composante III\",index=False,na_rep=\"\")\n",
    "datim.data_agyw_prevIV.to_excel(usaid_verification,sheet_name=\"Composante IV\",index=False,na_rep=\"\")\n",
    "datim.data_dreams_valid.to_excel(usaid_verification,sheet_name=\"table_global\",index=False,na_rep=\"\")\n",
    "usaid_verification.save() \"\"\""
   ]
  },
  {
   "cell_type": "markdown",
   "metadata": {},
   "source": [
    "# Plot for the indicator"
   ]
  },
  {
   "cell_type": "code",
   "execution_count": 10,
   "metadata": {},
   "outputs": [],
   "source": [
    "import matplotlib.pyplot as plt\n",
    "%matplotlib inline\n",
    "import seaborn as sns\n",
    "from plotnine import *\n"
   ]
  },
  {
   "cell_type": "code",
   "execution_count": 11,
   "metadata": {},
   "outputs": [
    {
     "data": {
      "text/plain": [
       "9834"
      ]
     },
     "execution_count": 11,
     "metadata": {},
     "output_type": "execute_result"
    },
    {
     "data": {
      "text/plain": [
       "(<Figure size 1152x576 with 1 Axes>, <AxesSubplot:>)"
      ]
     },
     "execution_count": 11,
     "metadata": {},
     "output_type": "execute_result"
    },
    {
     "data": {
      "text/plain": [
       "Text(0.5, 0, '')"
      ]
     },
     "execution_count": 11,
     "metadata": {},
     "output_type": "execute_result"
    },
    {
     "data": {
      "text/plain": [
       "Text(0, 0.5, '')"
      ]
     },
     "execution_count": 11,
     "metadata": {},
     "output_type": "execute_result"
    },
    {
     "data": {
      "text/plain": [
       "Text(0.5, 0.98, 'AGYW_PREV datim indicator  and the periodic target')"
      ]
     },
     "execution_count": 11,
     "metadata": {},
     "output_type": "execute_result"
    },
    {
     "data": {
      "text/plain": [
       "Text(0.0, 6350.0, '12700')"
      ]
     },
     "execution_count": 11,
     "metadata": {},
     "output_type": "execute_result"
    },
    {
     "data": {
      "text/plain": [
       "Text(1.0, 4917.0, '9834')"
      ]
     },
     "execution_count": 11,
     "metadata": {},
     "output_type": "execute_result"
    },
    {
     "data": {
      "text/plain": [
       "Text(-80, -20, 'source: HIVHaiti')"
      ]
     },
     "execution_count": 11,
     "metadata": {},
     "output_type": "execute_result"
    },
    {
     "data": {
      "image/png": "[encoded data removed]",
      "text/plain": [
       "<Figure size 1152x576 with 1 Axes>"
      ]
     },
     "metadata": {
      "needs_background": "light"
     },
     "output_type": "display_data"
    }
   ],
   "source": [
    "\n",
    "\n",
    "\n",
    "datim.total_datim_general\n",
    "target= 12700\n",
    "\n",
    "data_plot = DataFrame({\"state\":[\"Target\",\"AGYW_PREV results\"],\n",
    "                            \"data\": [target,datim.total_datim_general]                        \n",
    "})\n",
    "\n",
    "\n",
    "plt.subplots(figsize=(16,8))\n",
    "sns.set_theme(style=\"whitegrid\", context=\"talk\")\n",
    "sns.set_style(\"darkgrid\")\n",
    "sns.set_palette('Set1')\n",
    "splot = sns.barplot(x=\"state\",y=\"data\",data=data_plot)\n",
    "splot.set_xlabel(\"\")\n",
    "splot.set_ylabel(\"\")\n",
    "plt.suptitle(\"AGYW_PREV datim indicator  and the periodic target\")\n",
    "for p in splot.patches:\n",
    "    height = p.get_height()\n",
    "    plt.text(\n",
    "                p.get_x() + p.get_width()/2, \n",
    "                0.5*p.get_height() + p.get_y(),\n",
    "                '{:1.0f}'.format(height), \n",
    "                ha='center', va='center',\n",
    "                size=15,\n",
    "                fontdict=dict(color=\"white\")\n",
    "            )\n",
    "    \n",
    "plt.annotate(\n",
    "    \"source: HIVHaiti\",(0,0), (-80,-20), fontsize=10, \n",
    "             xycoords='axes fraction', textcoords='offset points', va='top'\n",
    ")\n",
    "plt.savefig(\"agyw_prev_evolution\",dpi=1000)"
   ]
  },
  {
   "cell_type": "code",
   "execution_count": 12,
   "metadata": {},
   "outputs": [
    {
     "data": {
      "image/png": "[encoded data removed]",
      "text/plain": [
       "<Figure size 640x480 with 1 Axes>"
      ]
     },
     "metadata": {},
     "output_type": "display_data"
    },
    {
     "data": {
      "text/plain": [
       "<ggplot: (320139171)>"
      ]
     },
     "execution_count": 12,
     "metadata": {},
     "output_type": "execute_result"
    },
    {
     "name": "stderr",
     "output_type": "stream",
     "text": [
      "/usr/local/lib/python3.10/site-packages/plotnine/ggplot.py:719: PlotnineWarning: Saving 6.4 x 4.8 in image.\n",
      "/usr/local/lib/python3.10/site-packages/plotnine/ggplot.py:722: PlotnineWarning: Filename: composante_agywprev.png\n"
     ]
    }
   ],
   "source": [
    "stack_data = DataFrame( \n",
    "                  {     \n",
    "                        \"supp\":[\"target\",\"indicateur\",\"indicateur\",\"indicateur\",'indicateur'],\n",
    "                        \"label\": [\"target\",\"composante I\",\"composante II\",\"composante III\", 'composante IV'],\n",
    "                        \"data\": [target,datim.total_datimI,\n",
    "                                datim.total_datimII,\n",
    "                                datim.total_datimIII,datim.total_datimIV]\n",
    "})\n",
    "\n",
    "p = (ggplot(stack_data,aes(x=\"supp\",y=\"data\",fill=\"label\",width=0.7)) \n",
    " + geom_bar(position=position_stack(vjust=0.5),stat=\"identity\")\n",
    " + geom_text(aes(label=\"data\"),position=position_stack(vjust=0.5))\n",
    " + ggtitle(\" Les composantes AGYW PREV face au Target\")\n",
    " + xlab(\"\")\n",
    " +ylab(\"\")\n",
    " +labs(caption =  \"HIVHaiti\")\n",
    " + theme_seaborn()\n",
    ")\n",
    "p\n",
    "ggsave(plot=p,filename=\"composante_agywprev.png\",dpi=1000)"
   ]
  },
  {
   "cell_type": "code",
   "execution_count": null,
   "metadata": {},
   "outputs": [],
   "source": []
  }
 ],
 "metadata": {
  "interpreter": {
   "hash": "aee8b7b246df8f9039afb4144a1f6fd8d2ca17a180786b69acc140d282b71a49"
  },
  "kernelspec": {
   "display_name": "Python 3.9.7 64-bit",
   "name": "python3"
  },
  "language_info": {
   "codemirror_mode": {
    "name": "ipython",
    "version": 3
   },
   "file_extension": ".py",
   "mimetype": "text/x-python",
   "name": "python",
   "nbconvert_exporter": "python",
   "pygments_lexer": "ipython3",
   "version": "3.10.2"
  },
  "orig_nbformat": 4
 },
 "nbformat": 4,
 "nbformat_minor": 2
}
