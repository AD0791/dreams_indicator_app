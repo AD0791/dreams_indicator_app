{
 "cells": [
  {
   "cell_type": "code",
   "execution_count": 1,
   "metadata": {},
   "outputs": [],
   "source": [
    "%%capture\n",
    "from sys import path\n",
    "path.insert(0, '../static')\n",
    "from preventive import Preventive, PreventiveCommune\n",
    "from re import sub\n",
    "from IPython.core.interactiveshell import InteractiveShell\n",
    "InteractiveShell.ast_node_interactivity = \"all\""
   ]
  },
  {
   "cell_type": "code",
   "execution_count": 2,
   "metadata": {},
   "outputs": [],
   "source": [
    "from openpyxl import Workbook\n",
    "from openpyxl.styles.colors import Color\n",
    "from openpyxl.styles.fills import PatternFill\n",
    "from openpyxl.styles import Font\n",
    "from openpyxl.styles.alignment import Alignment\n",
    "from openpyxl.utils.dataframe import dataframe_to_rows\n",
    "from openpyxl.styles.borders import Border, Side\n"
   ]
  },
  {
   "cell_type": "markdown",
   "metadata": {},
   "source": [
    "# Build Excel Datim / Communes"
   ]
  },
  {
   "cell_type": "code",
   "execution_count": 3,
   "metadata": {},
   "outputs": [],
   "source": [
    "%%capture\n",
    "datim = Preventive()"
   ]
  },
  {
   "cell_type": "code",
   "execution_count": 4,
   "metadata": {},
   "outputs": [],
   "source": [
    "my_blue = Color(rgb=\"0000FF\")\n",
    "blue_fill = PatternFill(patternType=\"solid\",fgColor=my_blue)\n",
    "my_red = Color(rgb=\"FF0000\")\n",
    "red_fill = PatternFill(patternType=\"solid\",fgColor=my_red)\n",
    "bold_12 = Font(size=12,bold=True)\n",
    "text_datim_title = Alignment(horizontal=\"center\",vertical=\"bottom\",wrapText=True)\n",
    "thin_border = Border(left=Side(style='thin'), \n",
    "                     right=Side(style='thin'), \n",
    "                     top=Side(style='thin'), \n",
    "                     bottom=Side(style='thin'))"
   ]
  },
  {
   "cell_type": "code",
   "execution_count": 5,
   "metadata": {},
   "outputs": [],
   "source": [
    "#wb.sheetnames\n",
    "\n",
    "def name_handler(s):\n",
    "    s = sub(r\"[^\\w\\s]\", '', s)\n",
    "    # Replace all runs of whitespace with a single dash\n",
    "    s = sub(r\"\\s+\", '_', s)\n",
    "    return s\n",
    "\n"
   ]
  },
  {
   "cell_type": "code",
   "execution_count": 6,
   "metadata": {},
   "outputs": [],
   "source": [
    "%%capture\n",
    "#worksheets = []\n",
    "datimcommunes = []\n",
    "for columns in datim.data_mastersheet.commune.unique():\n",
    "    #globals()[f\"ws_{name_handler(columns)}\"] = wb.create_sheet(title=PreventiveCommune(f\"{columns}\").who_am_i)\n",
    "    globals()[f\"datim_{name_handler(columns)}\"] =PreventiveCommune(f\"{columns}\")\n",
    "    #worksheets.append(globals().get(f\"ws_{name_handler(columns)}\"))\n",
    "    datimcommunes.append(globals().get(f\"datim_{name_handler(columns)}\"))\n"
   ]
  },
  {
   "cell_type": "code",
   "execution_count": 7,
   "metadata": {},
   "outputs": [],
   "source": [
    "from datetime import datetime\n",
    "date_du_jour = datetime.today().strftime(\"%d_%m_%Y\")"
   ]
  },
  {
   "cell_type": "markdown",
   "metadata": {},
   "source": [
    "# Arrondissement"
   ]
  },
  {
   "cell_type": "code",
   "execution_count": 9,
   "metadata": {},
   "outputs": [],
   "source": [
    "%%capture\n",
    "wb_arrondissment = Workbook()\n",
    "ws1 = wb_arrondissment.active\n",
    "ws1.title = datim.who_am_i\n",
    "\n",
    "ws1['A1'].fill = blue_fill\n",
    "\n",
    "\n",
    "\n",
    "\n",
    "ws1.merge_cells(\"B1:C1\")\n",
    "ws1.cell(row=1,column=2).value = Preventive.title()\n",
    "ws1.cell(row=1,column=2).font = bold_12\n",
    "ws1.cell(row=1,column=2).alignment =  text_datim_title\n",
    "\n",
    "\n",
    "ws1['G5'] = datim.total_preventive_violence\n",
    "\n",
    "rdf_datim_I = dataframe_to_rows(datim.datim_preventive_violence(),index=False,header=True)\n",
    "for ridx, row in enumerate(rdf_datim_I,1):\n",
    "    for cidx, value in enumerate(row,1):\n",
    "        cells = ws1.cell(ridx+1,cidx,value)\n",
    "        cells.border = thin_border\n",
    "        cells\n"
   ]
  },
  {
   "cell_type": "code",
   "execution_count": 10,
   "metadata": {},
   "outputs": [],
   "source": [
    "%%capture\n",
    "\n",
    "wsPAP = wb_arrondissment.create_sheet(\"Arrondissment_PAP\")\n",
    "wsPAP['A1'].fill = blue_fill\n",
    "\n",
    "wsPAP.merge_cells(\"B1:C1\")\n",
    "wsPAP.cell(row=1,column=2).value = Preventive.title()\n",
    "wsPAP.cell(row=1,column=2).font = bold_12\n",
    "wsPAP.cell(row=1,column=2).alignment =  text_datim_title\n",
    "\n",
    "total_preventive_violence_PAP = sum([\n",
    "    datim_PortauPrince.total_preventive_violence,\n",
    "    datim_Delmas.total_preventive_violence,\n",
    "    datim_Pétionville.total_preventive_violence,\n",
    "    datim_Tabarre.total_preventive_violence,\n",
    "    datim_Gressier.total_preventive_violence,\n",
    "    datim_Kenscoff.total_preventive_violence,\n",
    "    datim_Carrefour.total_preventive_violence\n",
    "])\n",
    "\n",
    "wsPAP['G5'] = total_preventive_violence_PAP\n",
    "\n",
    "datimI_PAP = datim_PortauPrince.datim_preventive_violence().set_index(\"Age\")\\\n",
    "    .add(datim_Delmas.datim_preventive_violence().set_index(\"Age\"))\\\n",
    "    .add(datim_Pétionville.datim_preventive_violence().set_index(\"Age\"))\\\n",
    "    .add(datim_Tabarre.datim_preventive_violence().set_index(\"Age\"))\\\n",
    "    .add(datim_Gressier.datim_preventive_violence().set_index(\"Age\"))\\\n",
    "    .add(datim_Kenscoff.datim_preventive_violence().set_index(\"Age\"))\\\n",
    "    .add(datim_Carrefour.datim_preventive_violence().set_index(\"Age\"))\\\n",
    "        .reset_index().rename_axis(None, axis=1)\n",
    "        \n",
    "\n",
    "rdf_datim_I = dataframe_to_rows(datimI_PAP,index=False,header=True)\n",
    "for ridx, row in enumerate(rdf_datim_I,1):\n",
    "    for cidx, value in enumerate(row,1):\n",
    "        cells = wsPAP.cell(ridx+1,cidx,value)\n",
    "        cells.border = thin_border\n",
    "        cells\n",
    "\n"
   ]
  },
  {
   "cell_type": "code",
   "execution_count": 11,
   "metadata": {},
   "outputs": [],
   "source": [
    "%%capture\n",
    "\n",
    "wsCAP = wb_arrondissment.create_sheet(\"Arrondissment_CAP\")\n",
    "wsCAP['A1'].fill = blue_fill\n",
    "\n",
    "wsCAP.merge_cells(\"B1:C1\")\n",
    "wsCAP.cell(row=1,column=2).value = Preventive.title()\n",
    "wsCAP.cell(row=1,column=2).font = bold_12\n",
    "wsCAP.cell(row=1,column=2).alignment =  text_datim_title\n",
    "\n",
    "\n",
    "total_preventive_violence_CAP = sum([\n",
    "    datim_CapHaïtien.total_preventive_violence,\n",
    "    datim_PlaineduNord.total_preventive_violence,\n",
    "    datim_Milot.total_preventive_violence,\n",
    "    datim_Limonade.total_preventive_violence,\n",
    "    datim_QuartierMorin.total_preventive_violence\n",
    "])\n",
    "\n",
    "wsCAP['G5'] = total_preventive_violence_CAP\n",
    "\n",
    "\n",
    "datimI_CAP = datim_CapHaïtien.datim_preventive_violence().set_index(\"Age\")\\\n",
    "    .add(datim_PlaineduNord.datim_preventive_violence().set_index(\"Age\"))\\\n",
    "    .add(datim_Milot.datim_preventive_violence().set_index(\"Age\"))\\\n",
    "    .add(datim_Limonade.datim_preventive_violence().set_index(\"Age\"))\\\n",
    "    .add(datim_QuartierMorin.datim_preventive_violence().set_index(\"Age\"))\\\n",
    "        .reset_index().rename_axis(None, axis=1)\n",
    "        \n",
    "rdf_datim_I = dataframe_to_rows(datimI_CAP,index=False,header=True)\n",
    "for ridx, row in enumerate(rdf_datim_I,1):\n",
    "    for cidx, value in enumerate(row,1):\n",
    "        cells = wsCAP.cell(ridx+1,cidx,value)\n",
    "        cells.border = thin_border\n",
    "        cells\n",
    "\n"
   ]
  },
  {
   "cell_type": "code",
   "execution_count": 12,
   "metadata": {},
   "outputs": [],
   "source": [
    "%%capture\n",
    "\n",
    "wsSM = wb_arrondissment.create_sheet(\"Arrondissment_SM\")\n",
    "wsSM['A1'].fill = blue_fill\n",
    "\n",
    "wsSM.merge_cells(\"B1:C1\")\n",
    "wsSM.cell(row=1,column=2).value = Preventive.title()\n",
    "wsSM.cell(row=1,column=2).font = bold_12\n",
    "wsSM.cell(row=1,column=2).alignment =  text_datim_title\n",
    "\n",
    "\n",
    "total_preventive_violence_SM = sum([\n",
    "    datim_SaintMarc.total_preventive_violence,\n",
    "    datim_Verrettes.total_preventive_violence,\n",
    "    datim_La_Chapelle.total_preventive_violence,\n",
    "    datim_Montrouis.total_preventive_violence,\n",
    "    datim_Liancourt.total_preventive_violence\n",
    "])\n",
    "\n",
    "wsSM['G5'] = total_preventive_violence_SM\n",
    "\n",
    "\n",
    "datimI_SM = datim_SaintMarc.datim_preventive_violence().set_index(\"Age\")\\\n",
    "    .add(datim_Verrettes.datim_preventive_violence().set_index(\"Age\"))\\\n",
    "    .add(datim_La_Chapelle.datim_preventive_violence().set_index(\"Age\"))\\\n",
    "    .add(datim_Montrouis.datim_preventive_violence().set_index(\"Age\"))\\\n",
    "    .add(datim_Liancourt.datim_preventive_violence().set_index(\"Age\"))\\\n",
    "        .reset_index().rename_axis(None, axis=1)\n",
    "        \n",
    "rdf_datim_I = dataframe_to_rows(datimI_SM,index=False,header=True)\n",
    "for ridx, row in enumerate(rdf_datim_I,1):\n",
    "    for cidx, value in enumerate(row,1):\n",
    "        cells = wsSM.cell(ridx+1,cidx,value)\n",
    "        cells.border = thin_border\n",
    "        cells\n",
    "\n"
   ]
  },
  {
   "cell_type": "code",
   "execution_count": 13,
   "metadata": {},
   "outputs": [],
   "source": [
    "%%capture\n",
    "\n",
    "wsDESS = wb_arrondissment.create_sheet(\"Arrondissment_DESS\")\n",
    "wsDESS['A1'].fill = blue_fill\n",
    "\n",
    "wsDESS.merge_cells(\"B1:C1\")\n",
    "wsDESS.cell(row=1,column=2).value = Preventive.title()\n",
    "wsDESS.cell(row=1,column=2).font = bold_12\n",
    "wsDESS.cell(row=1,column=2).alignment =  text_datim_title\n",
    "\n",
    "\n",
    "total_preventive_violence_DESS = sum([\n",
    "    datim_Dessalines.total_preventive_violence,\n",
    "    datim_Desdunes.total_preventive_violence,\n",
    "    datim_Grande_Saline.total_preventive_violence,\n",
    "    datim_Petite_Rivière_de_lArtibonite.total_preventive_violence\n",
    "])\n",
    "\n",
    "wsDESS['G5'] = total_preventive_violence_DESS\n",
    "\n",
    "\n",
    "datimI_DESS = datim_Dessalines.datim_preventive_violence().set_index(\"Age\")\\\n",
    "    .add(datim_Desdunes.datim_preventive_violence().set_index(\"Age\"))\\\n",
    "    .add(datim_Grande_Saline.datim_preventive_violence().set_index(\"Age\"))\\\n",
    "    .add(datim_Petite_Rivière_de_lArtibonite.datim_preventive_violence().set_index(\"Age\"))\\\n",
    "        .reset_index().rename_axis(None, axis=1)\n",
    "        \n",
    "\n",
    "rdf_datim_I = dataframe_to_rows(datimI_DESS,index=False,header=True)\n",
    "for ridx, row in enumerate(rdf_datim_I,1):\n",
    "    for cidx, value in enumerate(row,1):\n",
    "        cells = wsDESS.cell(ridx+1,cidx,value)\n",
    "        cells.border = thin_border\n",
    "        cells\n"
   ]
  },
  {
   "cell_type": "code",
   "execution_count": 14,
   "metadata": {},
   "outputs": [],
   "source": [
    "wb_arrondissment.save(f\"./datim_format/PREVENTIVE_ARRONDISSEMENT_{date_du_jour}.xlsx\")"
   ]
  }
 ],
 "metadata": {
  "interpreter": {
   "hash": "aee8b7b246df8f9039afb4144a1f6fd8d2ca17a180786b69acc140d282b71a49"
  },
  "kernelspec": {
   "display_name": "Python 3.9.7 64-bit",
   "name": "python3"
  },
  "language_info": {
   "codemirror_mode": {
    "name": "ipython",
    "version": 3
   },
   "file_extension": ".py",
   "mimetype": "text/x-python",
   "name": "python",
   "nbconvert_exporter": "python",
   "pygments_lexer": "ipython3",
   "version": "3.9.7"
  }
 },
 "nbformat": 4,
 "nbformat_minor": 4
}
