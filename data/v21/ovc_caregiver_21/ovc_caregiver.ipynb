{
 "cells": [
  {
   "cell_type": "code",
   "execution_count": 1,
   "metadata": {},
   "outputs": [],
   "source": [
    "%%capture\n",
    "\n",
    "from IPython.core.interactiveshell import InteractiveShell\n",
    "InteractiveShell.ast_node_interactivity = \"all\"\n",
    "from datetime import datetime\n",
    "date_du_jour = datetime.today().strftime(\"%d_%m_%Y\")\n",
    "from pandas import DataFrame, ExcelWriter\n",
    "import openpyxl\n",
    "\n",
    "\n",
    "from caregiver import id_parent_served, parents, sdata, id_parent_completed\n",
    "from handler import name_handler"
   ]
  },
  {
   "cell_type": "code",
   "execution_count": 2,
   "metadata": {},
   "outputs": [
    {
     "name": "stderr",
     "output_type": "stream",
     "text": [
      "/var/folders/7v/rs0k237d6nj3vdxfc1h7xtcw0000gn/T/ipykernel_16402/1617343120.py:1: SettingWithCopyWarning: \n",
      "A value is trying to be set on a copy of a slice from a DataFrame\n",
      "\n",
      "See the caveats in the documentation: https://pandas.pydata.org/pandas-docs/stable/user_guide/indexing.html#returning-a-view-versus-a-copy\n",
      "  id_parent_served.drop_duplicates('id_patient',inplace=True)\n",
      "/var/folders/7v/rs0k237d6nj3vdxfc1h7xtcw0000gn/T/ipykernel_16402/1617343120.py:2: SettingWithCopyWarning: \n",
      "A value is trying to be set on a copy of a slice from a DataFrame\n",
      "\n",
      "See the caveats in the documentation: https://pandas.pydata.org/pandas-docs/stable/user_guide/indexing.html#returning-a-view-versus-a-copy\n",
      "  id_parent_completed.drop_duplicates('id_patient',inplace=True)\n",
      "/var/folders/7v/rs0k237d6nj3vdxfc1h7xtcw0000gn/T/ipykernel_16402/1617343120.py:3: SettingWithCopyWarning: \n",
      "A value is trying to be set on a copy of a slice from a DataFrame\n",
      "\n",
      "See the caveats in the documentation: https://pandas.pydata.org/pandas-docs/stable/user_guide/indexing.html#returning-a-view-versus-a-copy\n",
      "  parents.drop_duplicates('code',inplace=True)\n"
     ]
    }
   ],
   "source": [
    "\n",
    "id_parent_served.drop_duplicates('id_patient',inplace=True)\n",
    "id_parent_completed.drop_duplicates('id_patient',inplace=True)\n",
    "parents.drop_duplicates('code',inplace=True)\n",
    "sdata.drop_duplicates('case_id',inplace=True)"
   ]
  },
  {
   "cell_type": "code",
   "execution_count": 3,
   "metadata": {},
   "outputs": [
    {
     "data": {
      "text/plain": [
       "422"
      ]
     },
     "execution_count": 3,
     "metadata": {},
     "output_type": "execute_result"
    },
    {
     "data": {
      "text/plain": [
       "321"
      ]
     },
     "execution_count": 3,
     "metadata": {},
     "output_type": "execute_result"
    },
    {
     "data": {
      "text/plain": [
       "486"
      ]
     },
     "execution_count": 3,
     "metadata": {},
     "output_type": "execute_result"
    },
    {
     "data": {
      "text/plain": [
       "69811"
      ]
     },
     "execution_count": 3,
     "metadata": {},
     "output_type": "execute_result"
    }
   ],
   "source": [
    "id_parent_served.id_patient.count()\n",
    "id_parent_completed.id_patient.count()\n",
    "parents.code.count()\n",
    "sdata.case_id.count()\n",
    "\n"
   ]
  },
  {
   "cell_type": "code",
   "execution_count": 4,
   "metadata": {},
   "outputs": [
    {
     "data": {
      "text/plain": [
       "422"
      ]
     },
     "execution_count": 4,
     "metadata": {},
     "output_type": "execute_result"
    },
    {
     "data": {
      "text/plain": [
       "422"
      ]
     },
     "execution_count": 4,
     "metadata": {},
     "output_type": "execute_result"
    }
   ],
   "source": [
    "lc_idparentserved = sdata[sdata.id_patient.isin(id_parent_served.id_patient)]\n",
    "lc_ips = lc_idparentserved[['id_patient','code']]\n",
    "lc_idparentserved.code.count()\n",
    "lc_ips.code.count()"
   ]
  },
  {
   "cell_type": "code",
   "execution_count": 5,
   "metadata": {},
   "outputs": [
    {
     "data": {
      "text/plain": [
       "319"
      ]
     },
     "execution_count": 5,
     "metadata": {},
     "output_type": "execute_result"
    },
    {
     "data": {
      "text/plain": [
       "103"
      ]
     },
     "execution_count": 5,
     "metadata": {},
     "output_type": "execute_result"
    }
   ],
   "source": [
    "code_in_parents = lc_ips[lc_ips.code.isin(parents.code)]\n",
    "code_notIn_parents = lc_ips[~lc_ips.code.isin(parents.code)]\n",
    "\n",
    "\n",
    "code_in_parents.code.count()\n",
    "code_notIn_parents.code.count()"
   ]
  },
  {
   "cell_type": "markdown",
   "metadata": {},
   "source": [
    "# the completed"
   ]
  },
  {
   "cell_type": "code",
   "execution_count": 6,
   "metadata": {},
   "outputs": [
    {
     "data": {
      "text/plain": [
       "246"
      ]
     },
     "execution_count": 6,
     "metadata": {},
     "output_type": "execute_result"
    },
    {
     "data": {
      "text/plain": [
       "75"
      ]
     },
     "execution_count": 6,
     "metadata": {},
     "output_type": "execute_result"
    }
   ],
   "source": [
    "id_parent_completed[id_parent_completed.id_patient.isin(code_in_parents.id_patient)].id_patient.count()\n",
    "id_parent_completed[~id_parent_completed.id_patient.isin(code_in_parents.id_patient)].id_patient.count()\n",
    "\n",
    "\n",
    "\n",
    "importantMissing = id_parent_completed[~id_parent_completed.id_patient.isin(code_in_parents.id_patient)]\n",
    "importantMissing = sdata[sdata.id_patient.isin(importantMissing.id_patient)]"
   ]
  },
  {
   "cell_type": "markdown",
   "metadata": {},
   "source": [
    "\n",
    "# COnclusion\n",
    "\n",
    "\n",
    "- fosref must add \"Code_notIn_parents\" for the caregiver\n",
    "- code_in_parents are Datim whorty"
   ]
  },
  {
   "cell_type": "markdown",
   "metadata": {},
   "source": [
    "## not in parents"
   ]
  },
  {
   "cell_type": "code",
   "execution_count": 7,
   "metadata": {},
   "outputs": [
    {
     "data": {
      "text/plain": [
       "103"
      ]
     },
     "execution_count": 7,
     "metadata": {},
     "output_type": "execute_result"
    }
   ],
   "source": [
    "missing_FAP = sdata[sdata.id_patient.isin(code_notIn_parents.id_patient)]\n",
    "missing_FAP.id_patient.count()"
   ]
  },
  {
   "cell_type": "markdown",
   "metadata": {},
   "source": [
    "# in parents - datim"
   ]
  },
  {
   "cell_type": "code",
   "execution_count": 8,
   "metadata": {},
   "outputs": [
    {
     "data": {
      "text/plain": [
       "319"
      ]
     },
     "execution_count": 8,
     "metadata": {},
     "output_type": "execute_result"
    },
    {
     "data": {
      "text/plain": [
       "319"
      ]
     },
     "execution_count": 8,
     "metadata": {},
     "output_type": "execute_result"
    }
   ],
   "source": [
    "found_FAP = sdata[sdata.id_patient.isin(code_in_parents.id_patient)]\n",
    "found_FAP.id_patient.count()\n",
    "\n",
    "cip = code_in_parents[['code']]\n",
    "parents_reportable = cip.merge(parents,how='left',on='code')\n",
    "parents_reportable.code.count()"
   ]
  },
  {
   "cell_type": "code",
   "execution_count": 9,
   "metadata": {},
   "outputs": [
    {
     "data": {
      "text/html": [
       "<div>\n",
       "<style scoped>\n",
       "    .dataframe tbody tr th:only-of-type {\n",
       "        vertical-align: middle;\n",
       "    }\n",
       "\n",
       "    .dataframe tbody tr th {\n",
       "        vertical-align: top;\n",
       "    }\n",
       "\n",
       "    .dataframe thead tr th {\n",
       "        text-align: left;\n",
       "    }\n",
       "\n",
       "    .dataframe thead tr:last-of-type th {\n",
       "        text-align: right;\n",
       "    }\n",
       "</style>\n",
       "<table border=\"1\" class=\"dataframe\">\n",
       "  <thead>\n",
       "    <tr>\n",
       "      <th>Gender</th>\n",
       "      <th>Female</th>\n",
       "      <th>Male</th>\n",
       "    </tr>\n",
       "    <tr>\n",
       "      <th>age_ovc</th>\n",
       "      <th>18+</th>\n",
       "      <th>18+</th>\n",
       "    </tr>\n",
       "    <tr>\n",
       "      <th>commune</th>\n",
       "      <th></th>\n",
       "      <th></th>\n",
       "    </tr>\n",
       "  </thead>\n",
       "  <tbody>\n",
       "    <tr>\n",
       "      <th>cap-hatien</th>\n",
       "      <td>15</td>\n",
       "      <td>6</td>\n",
       "    </tr>\n",
       "    <tr>\n",
       "      <th>delmas</th>\n",
       "      <td>7</td>\n",
       "      <td>0</td>\n",
       "    </tr>\n",
       "    <tr>\n",
       "      <th>desdunes</th>\n",
       "      <td>25</td>\n",
       "      <td>9</td>\n",
       "    </tr>\n",
       "    <tr>\n",
       "      <th>dessalines</th>\n",
       "      <td>21</td>\n",
       "      <td>1</td>\n",
       "    </tr>\n",
       "    <tr>\n",
       "      <th>grande-saline</th>\n",
       "      <td>22</td>\n",
       "      <td>2</td>\n",
       "    </tr>\n",
       "    <tr>\n",
       "      <th>gressier</th>\n",
       "      <td>6</td>\n",
       "      <td>0</td>\n",
       "    </tr>\n",
       "    <tr>\n",
       "      <th>kenscoff</th>\n",
       "      <td>63</td>\n",
       "      <td>34</td>\n",
       "    </tr>\n",
       "    <tr>\n",
       "      <th>la_chapelle</th>\n",
       "      <td>10</td>\n",
       "      <td>1</td>\n",
       "    </tr>\n",
       "    <tr>\n",
       "      <th>liancourt</th>\n",
       "      <td>9</td>\n",
       "      <td>0</td>\n",
       "    </tr>\n",
       "    <tr>\n",
       "      <th>limonade</th>\n",
       "      <td>4</td>\n",
       "      <td>1</td>\n",
       "    </tr>\n",
       "    <tr>\n",
       "      <th>montrouis</th>\n",
       "      <td>5</td>\n",
       "      <td>2</td>\n",
       "    </tr>\n",
       "    <tr>\n",
       "      <th>petion_ville</th>\n",
       "      <td>3</td>\n",
       "      <td>0</td>\n",
       "    </tr>\n",
       "    <tr>\n",
       "      <th>petite_rivire_de_lartibonite</th>\n",
       "      <td>5</td>\n",
       "      <td>1</td>\n",
       "    </tr>\n",
       "    <tr>\n",
       "      <th>saint-marc</th>\n",
       "      <td>6</td>\n",
       "      <td>0</td>\n",
       "    </tr>\n",
       "    <tr>\n",
       "      <th>tabarre</th>\n",
       "      <td>21</td>\n",
       "      <td>5</td>\n",
       "    </tr>\n",
       "    <tr>\n",
       "      <th>verrettes</th>\n",
       "      <td>32</td>\n",
       "      <td>3</td>\n",
       "    </tr>\n",
       "  </tbody>\n",
       "</table>\n",
       "</div>"
      ],
      "text/plain": [
       "Gender                       Female Male\n",
       "age_ovc                         18+  18+\n",
       "commune                                 \n",
       "cap-hatien                       15    6\n",
       "delmas                            7    0\n",
       "desdunes                         25    9\n",
       "dessalines                       21    1\n",
       "grande-saline                    22    2\n",
       "gressier                          6    0\n",
       "kenscoff                         63   34\n",
       "la_chapelle                      10    1\n",
       "liancourt                         9    0\n",
       "limonade                          4    1\n",
       "montrouis                         5    2\n",
       "petion_ville                      3    0\n",
       "petite_rivire_de_lartibonite      5    1\n",
       "saint-marc                        6    0\n",
       "tabarre                          21    5\n",
       "verrettes                        32    3"
      ]
     },
     "execution_count": 9,
     "metadata": {},
     "output_type": "execute_result"
    }
   ],
   "source": [
    "parents_reportable.pivot_table(index=\"commune\",values=\"code\",columns=[\"Gender\",\"age_ovc\"],aggfunc='count',fill_value=0)"
   ]
  },
  {
   "cell_type": "code",
   "execution_count": 10,
   "metadata": {},
   "outputs": [],
   "source": [
    "datim = parents_reportable.pivot_table(index=\"commune\",values=\"code\",columns=[\"Gender\",\"age_ovc\"],aggfunc='count',fill_value=0)\n"
   ]
  },
  {
   "cell_type": "code",
   "execution_count": 11,
   "metadata": {},
   "outputs": [
    {
     "data": {
      "text/html": [
       "<div>\n",
       "<style scoped>\n",
       "    .dataframe tbody tr th:only-of-type {\n",
       "        vertical-align: middle;\n",
       "    }\n",
       "\n",
       "    .dataframe tbody tr th {\n",
       "        vertical-align: top;\n",
       "    }\n",
       "\n",
       "    .dataframe thead tr th {\n",
       "        text-align: left;\n",
       "    }\n",
       "\n",
       "    .dataframe thead tr:last-of-type th {\n",
       "        text-align: right;\n",
       "    }\n",
       "</style>\n",
       "<table border=\"1\" class=\"dataframe\">\n",
       "  <thead>\n",
       "    <tr>\n",
       "      <th>Gender</th>\n",
       "      <th colspan=\"6\" halign=\"left\">Female</th>\n",
       "      <th colspan=\"6\" halign=\"left\">Male</th>\n",
       "    </tr>\n",
       "    <tr>\n",
       "      <th>age_ovc</th>\n",
       "      <th>&lt;1</th>\n",
       "      <th>1-4</th>\n",
       "      <th>5-9</th>\n",
       "      <th>10-14</th>\n",
       "      <th>15-17</th>\n",
       "      <th>18+</th>\n",
       "      <th>&lt;1</th>\n",
       "      <th>1-4</th>\n",
       "      <th>5-9</th>\n",
       "      <th>10-14</th>\n",
       "      <th>15-17</th>\n",
       "      <th>18+</th>\n",
       "    </tr>\n",
       "    <tr>\n",
       "      <th>commune</th>\n",
       "      <th></th>\n",
       "      <th></th>\n",
       "      <th></th>\n",
       "      <th></th>\n",
       "      <th></th>\n",
       "      <th></th>\n",
       "      <th></th>\n",
       "      <th></th>\n",
       "      <th></th>\n",
       "      <th></th>\n",
       "      <th></th>\n",
       "      <th></th>\n",
       "    </tr>\n",
       "  </thead>\n",
       "  <tbody>\n",
       "    <tr>\n",
       "      <th>cap-hatien</th>\n",
       "      <td>0</td>\n",
       "      <td>0</td>\n",
       "      <td>0</td>\n",
       "      <td>0</td>\n",
       "      <td>0</td>\n",
       "      <td>15</td>\n",
       "      <td>0</td>\n",
       "      <td>0</td>\n",
       "      <td>0</td>\n",
       "      <td>0</td>\n",
       "      <td>0</td>\n",
       "      <td>6</td>\n",
       "    </tr>\n",
       "    <tr>\n",
       "      <th>delmas</th>\n",
       "      <td>0</td>\n",
       "      <td>0</td>\n",
       "      <td>0</td>\n",
       "      <td>0</td>\n",
       "      <td>0</td>\n",
       "      <td>7</td>\n",
       "      <td>0</td>\n",
       "      <td>0</td>\n",
       "      <td>0</td>\n",
       "      <td>0</td>\n",
       "      <td>0</td>\n",
       "      <td>0</td>\n",
       "    </tr>\n",
       "    <tr>\n",
       "      <th>desdunes</th>\n",
       "      <td>0</td>\n",
       "      <td>0</td>\n",
       "      <td>0</td>\n",
       "      <td>0</td>\n",
       "      <td>0</td>\n",
       "      <td>25</td>\n",
       "      <td>0</td>\n",
       "      <td>0</td>\n",
       "      <td>0</td>\n",
       "      <td>0</td>\n",
       "      <td>0</td>\n",
       "      <td>9</td>\n",
       "    </tr>\n",
       "    <tr>\n",
       "      <th>dessalines</th>\n",
       "      <td>0</td>\n",
       "      <td>0</td>\n",
       "      <td>0</td>\n",
       "      <td>0</td>\n",
       "      <td>0</td>\n",
       "      <td>21</td>\n",
       "      <td>0</td>\n",
       "      <td>0</td>\n",
       "      <td>0</td>\n",
       "      <td>0</td>\n",
       "      <td>0</td>\n",
       "      <td>1</td>\n",
       "    </tr>\n",
       "    <tr>\n",
       "      <th>grande-saline</th>\n",
       "      <td>0</td>\n",
       "      <td>0</td>\n",
       "      <td>0</td>\n",
       "      <td>0</td>\n",
       "      <td>0</td>\n",
       "      <td>22</td>\n",
       "      <td>0</td>\n",
       "      <td>0</td>\n",
       "      <td>0</td>\n",
       "      <td>0</td>\n",
       "      <td>0</td>\n",
       "      <td>2</td>\n",
       "    </tr>\n",
       "    <tr>\n",
       "      <th>gressier</th>\n",
       "      <td>0</td>\n",
       "      <td>0</td>\n",
       "      <td>0</td>\n",
       "      <td>0</td>\n",
       "      <td>0</td>\n",
       "      <td>6</td>\n",
       "      <td>0</td>\n",
       "      <td>0</td>\n",
       "      <td>0</td>\n",
       "      <td>0</td>\n",
       "      <td>0</td>\n",
       "      <td>0</td>\n",
       "    </tr>\n",
       "    <tr>\n",
       "      <th>kenscoff</th>\n",
       "      <td>0</td>\n",
       "      <td>0</td>\n",
       "      <td>0</td>\n",
       "      <td>0</td>\n",
       "      <td>0</td>\n",
       "      <td>63</td>\n",
       "      <td>0</td>\n",
       "      <td>0</td>\n",
       "      <td>0</td>\n",
       "      <td>0</td>\n",
       "      <td>0</td>\n",
       "      <td>34</td>\n",
       "    </tr>\n",
       "    <tr>\n",
       "      <th>la_chapelle</th>\n",
       "      <td>0</td>\n",
       "      <td>0</td>\n",
       "      <td>0</td>\n",
       "      <td>0</td>\n",
       "      <td>0</td>\n",
       "      <td>10</td>\n",
       "      <td>0</td>\n",
       "      <td>0</td>\n",
       "      <td>0</td>\n",
       "      <td>0</td>\n",
       "      <td>0</td>\n",
       "      <td>1</td>\n",
       "    </tr>\n",
       "    <tr>\n",
       "      <th>liancourt</th>\n",
       "      <td>0</td>\n",
       "      <td>0</td>\n",
       "      <td>0</td>\n",
       "      <td>0</td>\n",
       "      <td>0</td>\n",
       "      <td>9</td>\n",
       "      <td>0</td>\n",
       "      <td>0</td>\n",
       "      <td>0</td>\n",
       "      <td>0</td>\n",
       "      <td>0</td>\n",
       "      <td>0</td>\n",
       "    </tr>\n",
       "    <tr>\n",
       "      <th>limonade</th>\n",
       "      <td>0</td>\n",
       "      <td>0</td>\n",
       "      <td>0</td>\n",
       "      <td>0</td>\n",
       "      <td>0</td>\n",
       "      <td>4</td>\n",
       "      <td>0</td>\n",
       "      <td>0</td>\n",
       "      <td>0</td>\n",
       "      <td>0</td>\n",
       "      <td>0</td>\n",
       "      <td>1</td>\n",
       "    </tr>\n",
       "    <tr>\n",
       "      <th>montrouis</th>\n",
       "      <td>0</td>\n",
       "      <td>0</td>\n",
       "      <td>0</td>\n",
       "      <td>0</td>\n",
       "      <td>0</td>\n",
       "      <td>5</td>\n",
       "      <td>0</td>\n",
       "      <td>0</td>\n",
       "      <td>0</td>\n",
       "      <td>0</td>\n",
       "      <td>0</td>\n",
       "      <td>2</td>\n",
       "    </tr>\n",
       "    <tr>\n",
       "      <th>petion_ville</th>\n",
       "      <td>0</td>\n",
       "      <td>0</td>\n",
       "      <td>0</td>\n",
       "      <td>0</td>\n",
       "      <td>0</td>\n",
       "      <td>3</td>\n",
       "      <td>0</td>\n",
       "      <td>0</td>\n",
       "      <td>0</td>\n",
       "      <td>0</td>\n",
       "      <td>0</td>\n",
       "      <td>0</td>\n",
       "    </tr>\n",
       "    <tr>\n",
       "      <th>petite_rivire_de_lartibonite</th>\n",
       "      <td>0</td>\n",
       "      <td>0</td>\n",
       "      <td>0</td>\n",
       "      <td>0</td>\n",
       "      <td>0</td>\n",
       "      <td>5</td>\n",
       "      <td>0</td>\n",
       "      <td>0</td>\n",
       "      <td>0</td>\n",
       "      <td>0</td>\n",
       "      <td>0</td>\n",
       "      <td>1</td>\n",
       "    </tr>\n",
       "    <tr>\n",
       "      <th>saint-marc</th>\n",
       "      <td>0</td>\n",
       "      <td>0</td>\n",
       "      <td>0</td>\n",
       "      <td>0</td>\n",
       "      <td>0</td>\n",
       "      <td>6</td>\n",
       "      <td>0</td>\n",
       "      <td>0</td>\n",
       "      <td>0</td>\n",
       "      <td>0</td>\n",
       "      <td>0</td>\n",
       "      <td>0</td>\n",
       "    </tr>\n",
       "    <tr>\n",
       "      <th>tabarre</th>\n",
       "      <td>0</td>\n",
       "      <td>0</td>\n",
       "      <td>0</td>\n",
       "      <td>0</td>\n",
       "      <td>0</td>\n",
       "      <td>21</td>\n",
       "      <td>0</td>\n",
       "      <td>0</td>\n",
       "      <td>0</td>\n",
       "      <td>0</td>\n",
       "      <td>0</td>\n",
       "      <td>5</td>\n",
       "    </tr>\n",
       "    <tr>\n",
       "      <th>verrettes</th>\n",
       "      <td>0</td>\n",
       "      <td>0</td>\n",
       "      <td>0</td>\n",
       "      <td>0</td>\n",
       "      <td>0</td>\n",
       "      <td>32</td>\n",
       "      <td>0</td>\n",
       "      <td>0</td>\n",
       "      <td>0</td>\n",
       "      <td>0</td>\n",
       "      <td>0</td>\n",
       "      <td>3</td>\n",
       "    </tr>\n",
       "  </tbody>\n",
       "</table>\n",
       "</div>"
      ],
      "text/plain": [
       "Gender                       Female                         Male          \\\n",
       "age_ovc                          <1 1-4 5-9 10-14 15-17 18+   <1 1-4 5-9   \n",
       "commune                                                                    \n",
       "cap-hatien                        0   0   0     0     0  15    0   0   0   \n",
       "delmas                            0   0   0     0     0   7    0   0   0   \n",
       "desdunes                          0   0   0     0     0  25    0   0   0   \n",
       "dessalines                        0   0   0     0     0  21    0   0   0   \n",
       "grande-saline                     0   0   0     0     0  22    0   0   0   \n",
       "gressier                          0   0   0     0     0   6    0   0   0   \n",
       "kenscoff                          0   0   0     0     0  63    0   0   0   \n",
       "la_chapelle                       0   0   0     0     0  10    0   0   0   \n",
       "liancourt                         0   0   0     0     0   9    0   0   0   \n",
       "limonade                          0   0   0     0     0   4    0   0   0   \n",
       "montrouis                         0   0   0     0     0   5    0   0   0   \n",
       "petion_ville                      0   0   0     0     0   3    0   0   0   \n",
       "petite_rivire_de_lartibonite      0   0   0     0     0   5    0   0   0   \n",
       "saint-marc                        0   0   0     0     0   6    0   0   0   \n",
       "tabarre                           0   0   0     0     0  21    0   0   0   \n",
       "verrettes                         0   0   0     0     0  32    0   0   0   \n",
       "\n",
       "Gender                                        \n",
       "age_ovc                      10-14 15-17 18+  \n",
       "commune                                       \n",
       "cap-hatien                       0     0   6  \n",
       "delmas                           0     0   0  \n",
       "desdunes                         0     0   9  \n",
       "dessalines                       0     0   1  \n",
       "grande-saline                    0     0   2  \n",
       "gressier                         0     0   0  \n",
       "kenscoff                         0     0  34  \n",
       "la_chapelle                      0     0   1  \n",
       "liancourt                        0     0   0  \n",
       "limonade                         0     0   1  \n",
       "montrouis                        0     0   2  \n",
       "petion_ville                     0     0   0  \n",
       "petite_rivire_de_lartibonite     0     0   1  \n",
       "saint-marc                       0     0   0  \n",
       "tabarre                          0     0   5  \n",
       "verrettes                        0     0   3  "
      ]
     },
     "execution_count": 11,
     "metadata": {},
     "output_type": "execute_result"
    }
   ],
   "source": [
    "datim[('Female','<1')] = 0\n",
    "datim[('Female','1-4')] = 0\n",
    "datim[('Female','5-9')] = 0\n",
    "datim[('Female','10-14')] = 0\n",
    "datim[('Female','15-17')] = 0\n",
    "datim[('Male','<1')] = 0\n",
    "datim[('Male','1-4')] = 0\n",
    "datim[('Male','5-9')] = 0\n",
    "datim[('Male','10-14')] = 0\n",
    "datim[('Male','15-17')] = 0\n",
    "\n",
    "columns_orientation =[\n",
    "    ('Female','<1'),\n",
    "    ('Female','1-4'),\n",
    "    ('Female','5-9'),\n",
    "    ('Female','10-14'),\n",
    "    ('Female','15-17'),   \n",
    "    ('Female','18+'),  \n",
    "    ('Male','<1'),\n",
    "    ('Male','1-4'),\n",
    "    ('Male','5-9'),\n",
    "    ('Male','10-14'),\n",
    "    ('Male','15-17'),   \n",
    "    ('Male','18+'),   \n",
    "]\n",
    "\n",
    "datim = datim.reindex(columns= columns_orientation)\n",
    "datim"
   ]
  },
  {
   "cell_type": "markdown",
   "metadata": {},
   "source": [
    "# REPORT"
   ]
  },
  {
   "cell_type": "code",
   "execution_count": 12,
   "metadata": {},
   "outputs": [],
   "source": [
    "#datim.to_excel(f\"./caregiver_results/datim_parenting_caregiver{date_du_jour}.xlsx\",na_rep=\"\",index=True)\n",
    "#found_FAP.to_excel(f\"./caregiver_results/datim_caregiver_{date_du_jour}.xlsx\",na_rep=\"\",index=False)\n",
    "found_FAP.to_excel(f\"./caregiver_results/datim_caregiver_fy21.xlsx\",na_rep=\"\",index=False)\n",
    "datim.to_excel(f\"./caregiver_results/datim_parenting_caregiver_fy21.xlsx\",na_rep=\"\",index=True)"
   ]
  },
  {
   "cell_type": "markdown",
   "metadata": {},
   "source": [
    "# no Datim"
   ]
  },
  {
   "cell_type": "code",
   "execution_count": 13,
   "metadata": {},
   "outputs": [],
   "source": [
    "missing_FAP_communes = []\n",
    "for columns in missing_FAP.commune.unique():\n",
    "    globals()[f\"missing_FAP_{name_handler(columns)}\"] = missing_FAP[missing_FAP.commune == columns]\n",
    "    missing_FAP_communes.append(globals().get(f\"missing_FAP_{name_handler(columns)}\"))\n",
    "    \n",
    "\n",
    "importantMissing_communes = []\n",
    "for columns in importantMissing.commune.unique():\n",
    "    globals()[f\"importantMissing_{name_handler(columns)}\"] = importantMissing[importantMissing.commune == columns]\n",
    "    importantMissing_communes.append(globals().get(f\"importantMissing_{name_handler(columns)}\"))\n",
    "    \n"
   ]
  },
  {
   "cell_type": "code",
   "execution_count": 14,
   "metadata": {},
   "outputs": [
    {
     "data": {
      "text/html": [
       "<div>\n",
       "<style scoped>\n",
       "    .dataframe tbody tr th:only-of-type {\n",
       "        vertical-align: middle;\n",
       "    }\n",
       "\n",
       "    .dataframe tbody tr th {\n",
       "        vertical-align: top;\n",
       "    }\n",
       "\n",
       "    .dataframe thead th {\n",
       "        text-align: right;\n",
       "    }\n",
       "</style>\n",
       "<table border=\"1\" class=\"dataframe\">\n",
       "  <thead>\n",
       "    <tr style=\"text-align: right;\">\n",
       "      <th></th>\n",
       "      <th>nombre_agyw/caregiver_KAP_pour_Regularisation</th>\n",
       "    </tr>\n",
       "  </thead>\n",
       "  <tbody>\n",
       "    <tr>\n",
       "      <th>carrefour</th>\n",
       "      <td>34</td>\n",
       "    </tr>\n",
       "    <tr>\n",
       "      <th>kenscoff</th>\n",
       "      <td>13</td>\n",
       "    </tr>\n",
       "    <tr>\n",
       "      <th>caphatien</th>\n",
       "      <td>2</td>\n",
       "    </tr>\n",
       "    <tr>\n",
       "      <th>limonade</th>\n",
       "      <td>4</td>\n",
       "    </tr>\n",
       "    <tr>\n",
       "      <th>tabarre</th>\n",
       "      <td>3</td>\n",
       "    </tr>\n",
       "    <tr>\n",
       "      <th>gressier</th>\n",
       "      <td>24</td>\n",
       "    </tr>\n",
       "    <tr>\n",
       "      <th>desdunes</th>\n",
       "      <td>2</td>\n",
       "    </tr>\n",
       "    <tr>\n",
       "      <th>dessalines</th>\n",
       "      <td>3</td>\n",
       "    </tr>\n",
       "    <tr>\n",
       "      <th>delmas</th>\n",
       "      <td>5</td>\n",
       "    </tr>\n",
       "    <tr>\n",
       "      <th>montrouis</th>\n",
       "      <td>1</td>\n",
       "    </tr>\n",
       "    <tr>\n",
       "      <th>grandesaline</th>\n",
       "      <td>3</td>\n",
       "    </tr>\n",
       "    <tr>\n",
       "      <th>portauprince</th>\n",
       "      <td>1</td>\n",
       "    </tr>\n",
       "    <tr>\n",
       "      <th>saintmarc</th>\n",
       "      <td>1</td>\n",
       "    </tr>\n",
       "    <tr>\n",
       "      <th>petion_ville</th>\n",
       "      <td>2</td>\n",
       "    </tr>\n",
       "    <tr>\n",
       "      <th>verrettes</th>\n",
       "      <td>5</td>\n",
       "    </tr>\n",
       "  </tbody>\n",
       "</table>\n",
       "</div>"
      ],
      "text/plain": [
       "              nombre_agyw/caregiver_KAP_pour_Regularisation\n",
       "carrefour                                                34\n",
       "kenscoff                                                 13\n",
       "caphatien                                                 2\n",
       "limonade                                                  4\n",
       "tabarre                                                   3\n",
       "gressier                                                 24\n",
       "desdunes                                                  2\n",
       "dessalines                                                3\n",
       "delmas                                                    5\n",
       "montrouis                                                 1\n",
       "grandesaline                                              3\n",
       "portauprince                                              1\n",
       "saintmarc                                                 1\n",
       "petion_ville                                              2\n",
       "verrettes                                                 5"
      ]
     },
     "execution_count": 14,
     "metadata": {},
     "output_type": "execute_result"
    },
    {
     "data": {
      "text/html": [
       "<div>\n",
       "<style scoped>\n",
       "    .dataframe tbody tr th:only-of-type {\n",
       "        vertical-align: middle;\n",
       "    }\n",
       "\n",
       "    .dataframe tbody tr th {\n",
       "        vertical-align: top;\n",
       "    }\n",
       "\n",
       "    .dataframe thead th {\n",
       "        text-align: right;\n",
       "    }\n",
       "</style>\n",
       "<table border=\"1\" class=\"dataframe\">\n",
       "  <thead>\n",
       "    <tr style=\"text-align: right;\">\n",
       "      <th></th>\n",
       "      <th>nombre_agyw/caregiver_KAP_pour_Regularisation</th>\n",
       "    </tr>\n",
       "  </thead>\n",
       "  <tbody>\n",
       "    <tr>\n",
       "      <th>carrefour</th>\n",
       "      <td>19</td>\n",
       "    </tr>\n",
       "    <tr>\n",
       "      <th>kenscoff</th>\n",
       "      <td>12</td>\n",
       "    </tr>\n",
       "    <tr>\n",
       "      <th>caphatien</th>\n",
       "      <td>1</td>\n",
       "    </tr>\n",
       "    <tr>\n",
       "      <th>tabarre</th>\n",
       "      <td>2</td>\n",
       "    </tr>\n",
       "    <tr>\n",
       "      <th>gressier</th>\n",
       "      <td>23</td>\n",
       "    </tr>\n",
       "    <tr>\n",
       "      <th>desdunes</th>\n",
       "      <td>2</td>\n",
       "    </tr>\n",
       "    <tr>\n",
       "      <th>dessalines</th>\n",
       "      <td>3</td>\n",
       "    </tr>\n",
       "    <tr>\n",
       "      <th>delmas</th>\n",
       "      <td>2</td>\n",
       "    </tr>\n",
       "    <tr>\n",
       "      <th>grandesaline</th>\n",
       "      <td>2</td>\n",
       "    </tr>\n",
       "    <tr>\n",
       "      <th>portauprince</th>\n",
       "      <td>1</td>\n",
       "    </tr>\n",
       "    <tr>\n",
       "      <th>saintmarc</th>\n",
       "      <td>1</td>\n",
       "    </tr>\n",
       "    <tr>\n",
       "      <th>petion_ville</th>\n",
       "      <td>2</td>\n",
       "    </tr>\n",
       "    <tr>\n",
       "      <th>verrettes</th>\n",
       "      <td>5</td>\n",
       "    </tr>\n",
       "  </tbody>\n",
       "</table>\n",
       "</div>"
      ],
      "text/plain": [
       "              nombre_agyw/caregiver_KAP_pour_Regularisation\n",
       "carrefour                                                19\n",
       "kenscoff                                                 12\n",
       "caphatien                                                 1\n",
       "tabarre                                                   2\n",
       "gressier                                                 23\n",
       "desdunes                                                  2\n",
       "dessalines                                                3\n",
       "delmas                                                    2\n",
       "grandesaline                                              2\n",
       "portauprince                                              1\n",
       "saintmarc                                                 1\n",
       "petion_ville                                              2\n",
       "verrettes                                                 5"
      ]
     },
     "execution_count": 14,
     "metadata": {},
     "output_type": "execute_result"
    }
   ],
   "source": [
    "mfap_communes = missing_FAP.commune.unique().tolist()\n",
    "missing_FAP_dict = {}\n",
    "for columns, communes in zip(missing_FAP.commune.unique(), mfap_communes):\n",
    "    missing_FAP_dict[f\"{name_handler(communes)}\"] =  globals().get(f\"missing_FAP_{name_handler(columns)}\").code.count()\n",
    "        \n",
    "missing_FAP_df = DataFrame.from_dict(missing_FAP_dict, orient=\"index\", columns=None)\n",
    "missing_FAP_df.columns = [\"nombre_agyw/caregiver_KAP_pour_Regularisation\"]\n",
    "missing_FAP_df\n",
    "\n",
    "\n",
    "\n",
    "im_communes = importantMissing.commune.unique().tolist()\n",
    "importantMissing_dict = {}\n",
    "for columns, communes in zip(importantMissing.commune.unique(), im_communes):\n",
    "    importantMissing_dict[f\"{name_handler(communes)}\"] =  globals().get(f\"importantMissing_{name_handler(columns)}\").code.count()\n",
    "    \n",
    "importantMissing_df = DataFrame.from_dict(importantMissing_dict, orient=\"index\", columns=None)\n",
    "importantMissing_df.columns = [\"nombre_agyw/caregiver_KAP_pour_Regularisation\"]\n",
    "importantMissing_df"
   ]
  },
  {
   "cell_type": "code",
   "execution_count": 15,
   "metadata": {},
   "outputs": [],
   "source": [
    "importantMissing.to_excel('./missing/caregiver_CP_missing_FY21.xlsx',index=False,na_rep=\"\")"
   ]
  },
  {
   "cell_type": "code",
   "execution_count": 16,
   "metadata": {},
   "outputs": [],
   "source": [
    "missfap = ExcelWriter(f\"./missing/missing_FAP_FY21_{date_du_jour}.xlsx\",engine=\"openpyxl\")\n",
    "missing_FAP_df.to_excel(missfap,sheet_name='Resume',index=True)\n",
    "missing_FAP.to_excel(missfap,sheet_name=\"Total\", na_rep=\"\",index=False)\n",
    "for columns in missing_FAP.commune.unique():\n",
    "    globals().get(f\"missing_FAP_{name_handler(columns)}\").to_excel(missfap,sheet_name=f\"{name_handler(columns)}\",index=False,na_rep=\"NULL\")\n",
    "missfap.save()"
   ]
  },
  {
   "cell_type": "code",
   "execution_count": 17,
   "metadata": {},
   "outputs": [],
   "source": [
    "IM = ExcelWriter(f\"./missing/caregiver_CP_missing_FY21.xlsx\",engine=\"openpyxl\")\n",
    "importantMissing_df.to_excel(IM,sheet_name='Resume',index=True)\n",
    "importantMissing.to_excel(IM,sheet_name=\"Total\", na_rep=\"\",index=False)\n",
    "for columns in importantMissing.commune.unique():\n",
    "    globals().get(f\"importantMissing_{name_handler(columns)}\").to_excel(IM,sheet_name=f\"{name_handler(columns)}\",index=False,na_rep=\"NULL\")\n",
    "IM.save()"
   ]
  },
  {
   "cell_type": "code",
   "execution_count": null,
   "metadata": {},
   "outputs": [],
   "source": []
  }
 ],
 "metadata": {
  "interpreter": {
   "hash": "b460384b52104c1e5b9cf54bee46a255d22b2bef338f75ac4ad5d48196028d3c"
  },
  "kernelspec": {
   "display_name": "Python 3.10.4 64-bit",
   "language": "python",
   "name": "python3"
  },
  "language_info": {
   "codemirror_mode": {
    "name": "ipython",
    "version": 3
   },
   "file_extension": ".py",
   "mimetype": "text/x-python",
   "name": "python",
   "nbconvert_exporter": "python",
   "pygments_lexer": "ipython3",
   "version": "3.10.4"
  },
  "orig_nbformat": 4
 },
 "nbformat": 4,
 "nbformat_minor": 2
}
