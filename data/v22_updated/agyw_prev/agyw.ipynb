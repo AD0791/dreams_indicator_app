{
 "cells": [
  {
   "cell_type": "code",
   "execution_count": 1,
   "metadata": {},
   "outputs": [],
   "source": [
    "%%capture\n",
    "from re import sub\n",
    "from pandas import DataFrame, ExcelWriter\n",
    "from datetime import datetime\n",
    "import matplotlib.pyplot as plt\n",
    "%matplotlib inline\n",
    "import seaborn as sns\n",
    "from plotnine import *\n",
    "\n",
    "from sys import path \n",
    "path.insert(0, '../core/')\n",
    "\n",
    "from agyw import AgywPrev, AgywPrevCommune\n",
    "from active import actif_served as AGYW_ACTIF\n",
    "\n",
    "\n",
    "from IPython.core.interactiveshell import InteractiveShell\n",
    "InteractiveShell.ast_node_interactivity = \"all\"\n",
    "\n",
    "date_du_jour = datetime.today().strftime(\"%d_%m_%Y\")"
   ]
  },
  {
   "cell_type": "code",
   "execution_count": 2,
   "metadata": {},
   "outputs": [],
   "source": [
    "%%capture\n",
    "datim = AgywPrev()"
   ]
  },
  {
   "cell_type": "code",
   "execution_count": 3,
   "metadata": {},
   "outputs": [
    {
     "data": {
      "text/plain": [
       "13589"
      ]
     },
     "execution_count": 3,
     "metadata": {},
     "output_type": "execute_result"
    },
    {
     "data": {
      "text/plain": [
       "13338"
      ]
     },
     "execution_count": 3,
     "metadata": {},
     "output_type": "execute_result"
    },
    {
     "data": {
      "text/plain": [
       "'DATIM'"
      ]
     },
     "execution_count": 3,
     "metadata": {},
     "output_type": "execute_result"
    },
    {
     "data": {
      "text/plain": [
       "5391"
      ]
     },
     "execution_count": 3,
     "metadata": {},
     "output_type": "execute_result"
    },
    {
     "data": {
      "text/plain": [
       "6083"
      ]
     },
     "execution_count": 3,
     "metadata": {},
     "output_type": "execute_result"
    },
    {
     "data": {
      "text/plain": [
       "1731"
      ]
     },
     "execution_count": 3,
     "metadata": {},
     "output_type": "execute_result"
    },
    {
     "data": {
      "text/plain": [
       "133"
      ]
     },
     "execution_count": 3,
     "metadata": {},
     "output_type": "execute_result"
    },
    {
     "data": {
      "text/plain": [
       "13338"
      ]
     },
     "execution_count": 3,
     "metadata": {},
     "output_type": "execute_result"
    },
    {
     "data": {
      "text/plain": [
       "'Number of individual AGYW that have fully completed the entire DREAMS primary package of services/interventions but no additional services/interventions.'"
      ]
     },
     "execution_count": 3,
     "metadata": {},
     "output_type": "execute_result"
    },
    {
     "data": {
      "text/html": [
       "<div>\n",
       "<style scoped>\n",
       "    .dataframe tbody tr th:only-of-type {\n",
       "        vertical-align: middle;\n",
       "    }\n",
       "\n",
       "    .dataframe tbody tr th {\n",
       "        vertical-align: top;\n",
       "    }\n",
       "\n",
       "    .dataframe thead th {\n",
       "        text-align: right;\n",
       "    }\n",
       "</style>\n",
       "<table border=\"1\" class=\"dataframe\">\n",
       "  <thead>\n",
       "    <tr style=\"text-align: right;\">\n",
       "      <th></th>\n",
       "      <th>Age</th>\n",
       "      <th>0-6 months</th>\n",
       "      <th>07-12 months</th>\n",
       "      <th>13-24 months</th>\n",
       "      <th>25+ months</th>\n",
       "      <th>Total</th>\n",
       "    </tr>\n",
       "  </thead>\n",
       "  <tbody>\n",
       "    <tr>\n",
       "      <th>0</th>\n",
       "      <td>10-14</td>\n",
       "      <td>0</td>\n",
       "      <td>0</td>\n",
       "      <td>0</td>\n",
       "      <td>0</td>\n",
       "      <td>0</td>\n",
       "    </tr>\n",
       "    <tr>\n",
       "      <th>1</th>\n",
       "      <td>15-19</td>\n",
       "      <td>1464</td>\n",
       "      <td>655</td>\n",
       "      <td>976</td>\n",
       "      <td>767</td>\n",
       "      <td>3862</td>\n",
       "    </tr>\n",
       "    <tr>\n",
       "      <th>2</th>\n",
       "      <td>20-24</td>\n",
       "      <td>481</td>\n",
       "      <td>201</td>\n",
       "      <td>455</td>\n",
       "      <td>392</td>\n",
       "      <td>1529</td>\n",
       "    </tr>\n",
       "  </tbody>\n",
       "</table>\n",
       "</div>"
      ],
      "text/plain": [
       "     Age  0-6 months  07-12 months  13-24 months  25+ months  Total\n",
       "0  10-14           0             0             0           0      0\n",
       "1  15-19        1464           655           976         767   3862\n",
       "2  20-24         481           201           455         392   1529"
      ]
     },
     "execution_count": 3,
     "metadata": {},
     "output_type": "execute_result"
    },
    {
     "data": {
      "text/plain": [
       "'Number of individual AGYW that have fully completed the entire DREAMS primary package of services/interventions AND at least one secondary service/intervention.'"
      ]
     },
     "execution_count": 3,
     "metadata": {},
     "output_type": "execute_result"
    },
    {
     "data": {
      "text/html": [
       "<div>\n",
       "<style scoped>\n",
       "    .dataframe tbody tr th:only-of-type {\n",
       "        vertical-align: middle;\n",
       "    }\n",
       "\n",
       "    .dataframe tbody tr th {\n",
       "        vertical-align: top;\n",
       "    }\n",
       "\n",
       "    .dataframe thead th {\n",
       "        text-align: right;\n",
       "    }\n",
       "</style>\n",
       "<table border=\"1\" class=\"dataframe\">\n",
       "  <thead>\n",
       "    <tr style=\"text-align: right;\">\n",
       "      <th></th>\n",
       "      <th>Age</th>\n",
       "      <th>0-6 months</th>\n",
       "      <th>07-12 months</th>\n",
       "      <th>13-24 months</th>\n",
       "      <th>25+ months</th>\n",
       "      <th>Total</th>\n",
       "    </tr>\n",
       "  </thead>\n",
       "  <tbody>\n",
       "    <tr>\n",
       "      <th>0</th>\n",
       "      <td>10-14</td>\n",
       "      <td>2397</td>\n",
       "      <td>792</td>\n",
       "      <td>1015</td>\n",
       "      <td>206</td>\n",
       "      <td>4410</td>\n",
       "    </tr>\n",
       "    <tr>\n",
       "      <th>1</th>\n",
       "      <td>15-19</td>\n",
       "      <td>215</td>\n",
       "      <td>99</td>\n",
       "      <td>476</td>\n",
       "      <td>115</td>\n",
       "      <td>905</td>\n",
       "    </tr>\n",
       "    <tr>\n",
       "      <th>2</th>\n",
       "      <td>20-24</td>\n",
       "      <td>116</td>\n",
       "      <td>72</td>\n",
       "      <td>487</td>\n",
       "      <td>93</td>\n",
       "      <td>768</td>\n",
       "    </tr>\n",
       "  </tbody>\n",
       "</table>\n",
       "</div>"
      ],
      "text/plain": [
       "     Age  0-6 months  07-12 months  13-24 months  25+ months  Total\n",
       "0  10-14        2397           792          1015         206   4410\n",
       "1  15-19         215            99           476         115    905\n",
       "2  20-24         116            72           487          93    768"
      ]
     },
     "execution_count": 3,
     "metadata": {},
     "output_type": "execute_result"
    },
    {
     "data": {
      "text/plain": [
       "'Number of individual AGYW that have completed at least one DREAMS service/intervention but not the full primary package.'"
      ]
     },
     "execution_count": 3,
     "metadata": {},
     "output_type": "execute_result"
    },
    {
     "data": {
      "text/html": [
       "<div>\n",
       "<style scoped>\n",
       "    .dataframe tbody tr th:only-of-type {\n",
       "        vertical-align: middle;\n",
       "    }\n",
       "\n",
       "    .dataframe tbody tr th {\n",
       "        vertical-align: top;\n",
       "    }\n",
       "\n",
       "    .dataframe thead th {\n",
       "        text-align: right;\n",
       "    }\n",
       "</style>\n",
       "<table border=\"1\" class=\"dataframe\">\n",
       "  <thead>\n",
       "    <tr style=\"text-align: right;\">\n",
       "      <th></th>\n",
       "      <th>Age</th>\n",
       "      <th>0-6 months</th>\n",
       "      <th>07-12 months</th>\n",
       "      <th>13-24 months</th>\n",
       "      <th>25+ months</th>\n",
       "      <th>Total</th>\n",
       "    </tr>\n",
       "  </thead>\n",
       "  <tbody>\n",
       "    <tr>\n",
       "      <th>0</th>\n",
       "      <td>10-14</td>\n",
       "      <td>487</td>\n",
       "      <td>114</td>\n",
       "      <td>109</td>\n",
       "      <td>16</td>\n",
       "      <td>726</td>\n",
       "    </tr>\n",
       "    <tr>\n",
       "      <th>1</th>\n",
       "      <td>15-19</td>\n",
       "      <td>399</td>\n",
       "      <td>97</td>\n",
       "      <td>142</td>\n",
       "      <td>46</td>\n",
       "      <td>684</td>\n",
       "    </tr>\n",
       "    <tr>\n",
       "      <th>2</th>\n",
       "      <td>20-24</td>\n",
       "      <td>139</td>\n",
       "      <td>50</td>\n",
       "      <td>100</td>\n",
       "      <td>32</td>\n",
       "      <td>321</td>\n",
       "    </tr>\n",
       "  </tbody>\n",
       "</table>\n",
       "</div>"
      ],
      "text/plain": [
       "     Age  0-6 months  07-12 months  13-24 months  25+ months  Total\n",
       "0  10-14         487           114           109          16    726\n",
       "1  15-19         399            97           142          46    684\n",
       "2  20-24         139            50           100          32    321"
      ]
     },
     "execution_count": 3,
     "metadata": {},
     "output_type": "execute_result"
    },
    {
     "data": {
      "text/plain": [
       "'Number of AGYW that have started a DREAMS service/intervention but have not yet completed it.'"
      ]
     },
     "execution_count": 3,
     "metadata": {},
     "output_type": "execute_result"
    },
    {
     "data": {
      "text/html": [
       "<div>\n",
       "<style scoped>\n",
       "    .dataframe tbody tr th:only-of-type {\n",
       "        vertical-align: middle;\n",
       "    }\n",
       "\n",
       "    .dataframe tbody tr th {\n",
       "        vertical-align: top;\n",
       "    }\n",
       "\n",
       "    .dataframe thead th {\n",
       "        text-align: right;\n",
       "    }\n",
       "</style>\n",
       "<table border=\"1\" class=\"dataframe\">\n",
       "  <thead>\n",
       "    <tr style=\"text-align: right;\">\n",
       "      <th></th>\n",
       "      <th>Age</th>\n",
       "      <th>0-6 months</th>\n",
       "      <th>07-12 months</th>\n",
       "      <th>13-24 months</th>\n",
       "      <th>25+ months</th>\n",
       "      <th>Total</th>\n",
       "    </tr>\n",
       "  </thead>\n",
       "  <tbody>\n",
       "    <tr>\n",
       "      <th>0</th>\n",
       "      <td>10-14</td>\n",
       "      <td>53</td>\n",
       "      <td>13</td>\n",
       "      <td>7</td>\n",
       "      <td>1</td>\n",
       "      <td>74</td>\n",
       "    </tr>\n",
       "    <tr>\n",
       "      <th>1</th>\n",
       "      <td>15-19</td>\n",
       "      <td>12</td>\n",
       "      <td>15</td>\n",
       "      <td>8</td>\n",
       "      <td>2</td>\n",
       "      <td>37</td>\n",
       "    </tr>\n",
       "    <tr>\n",
       "      <th>2</th>\n",
       "      <td>20-24</td>\n",
       "      <td>14</td>\n",
       "      <td>5</td>\n",
       "      <td>2</td>\n",
       "      <td>1</td>\n",
       "      <td>22</td>\n",
       "    </tr>\n",
       "  </tbody>\n",
       "</table>\n",
       "</div>"
      ],
      "text/plain": [
       "     Age  0-6 months  07-12 months  13-24 months  25+ months  Total\n",
       "0  10-14          53            13             7           1     74\n",
       "1  15-19          12            15             8           2     37\n",
       "2  20-24          14             5             2           1     22"
      ]
     },
     "execution_count": 3,
     "metadata": {},
     "output_type": "execute_result"
    }
   ],
   "source": [
    "datim.total_mastersheet \n",
    "datim.total_dreams_valid\n",
    "datim.who_am_i\n",
    "datim.total_datimI\n",
    "datim.total_datimII\n",
    "datim.total_datimIII\n",
    "datim.total_datimIV\n",
    "datim.total_datim_general\n",
    "AgywPrev.datim_titleI()\n",
    "datim.datim_agyw_prevI()\n",
    "AgywPrev.datim_titleII()\n",
    "datim.datim_agyw_prevII()\n",
    "AgywPrev.datim_titleIII()\n",
    "datim.datim_agyw_prevIII()\n",
    "AgywPrev.datim_titleIV()\n",
    "datim.datim_agyw_prevIV()\n"
   ]
  },
  {
   "cell_type": "code",
   "execution_count": 4,
   "metadata": {},
   "outputs": [],
   "source": [
    "%%capture\n",
    "def name_handler(s):\n",
    "    s = sub(r\"[^\\w\\s]\", '', s)\n",
    "    # Replace all runs of whitespace with a single dash\n",
    "    s = sub(r\"\\s+\", '_', s)\n",
    "    return s\n",
    "\n",
    "datimcommunes = []\n",
    "\n",
    "for columns in AGYW_ACTIF.commune.unique():\n",
    "    globals()[f\"datim_{name_handler(columns)}\"] = AgywPrevCommune(f\"{columns}\")\n",
    "    datimcommunes.append(globals().get(f\"datim_{name_handler(columns)}\"))\n",
    "\n",
    "\n",
    "for dcommunes in datimcommunes:\n",
    "  dcommunes.total_mastersheet \n",
    "  dcommunes.total_dreams_valid\n",
    "  dcommunes.who_am_i\n",
    "  dcommunes.total_datimI\n",
    "  dcommunes.total_datimII\n",
    "  dcommunes.total_datimIII\n",
    "  dcommunes.total_datimIV\n",
    "  dcommunes.total_datim_general\n",
    "  AgywPrevCommune.datim_titleI()\n",
    "  dcommunes.datim_agyw_prevI()\n",
    "  AgywPrevCommune.datim_titleII()\n",
    "  dcommunes.datim_agyw_prevII()\n",
    "  AgywPrevCommune.datim_titleIII()\n",
    "  dcommunes.datim_agyw_prevIII()\n",
    "  AgywPrevCommune.datim_titleIV()\n",
    "  dcommunes.datim_agyw_prevIV()\n",
    "  print(\" \")\n",
    "  print(\" \")\n",
    "  print(\" \")\n",
    "  print(\" \")"
   ]
  },
  {
   "cell_type": "code",
   "execution_count": 5,
   "metadata": {},
   "outputs": [
    {
     "data": {
      "text/plain": [
       "13338"
      ]
     },
     "execution_count": 5,
     "metadata": {},
     "output_type": "execute_result"
    },
    {
     "data": {
      "text/plain": [
       "(<Figure size 1152x576 with 1 Axes>, <AxesSubplot:>)"
      ]
     },
     "execution_count": 5,
     "metadata": {},
     "output_type": "execute_result"
    },
    {
     "data": {
      "text/plain": [
       "Text(0.5, 0, '')"
      ]
     },
     "execution_count": 5,
     "metadata": {},
     "output_type": "execute_result"
    },
    {
     "data": {
      "text/plain": [
       "Text(0, 0.5, '')"
      ]
     },
     "execution_count": 5,
     "metadata": {},
     "output_type": "execute_result"
    },
    {
     "data": {
      "text/plain": [
       "Text(0.5, 0.98, 'AGYW_PREV datim indicator  and the periodic target')"
      ]
     },
     "execution_count": 5,
     "metadata": {},
     "output_type": "execute_result"
    },
    {
     "data": {
      "text/plain": [
       "Text(0.0, 9500.0, '19000')"
      ]
     },
     "execution_count": 5,
     "metadata": {},
     "output_type": "execute_result"
    },
    {
     "data": {
      "text/plain": [
       "Text(1.0, 6669.0, '13338')"
      ]
     },
     "execution_count": 5,
     "metadata": {},
     "output_type": "execute_result"
    },
    {
     "data": {
      "text/plain": [
       "Text(-80, -20, 'source: HIVHaiti')"
      ]
     },
     "execution_count": 5,
     "metadata": {},
     "output_type": "execute_result"
    },
    {
     "data": {
      "image/png": "[encoded data removed]",
      "text/plain": [
       "<Figure size 1152x576 with 1 Axes>"
      ]
     },
     "metadata": {
      "needs_background": "light"
     },
     "output_type": "display_data"
    }
   ],
   "source": [
    "\n",
    "\n",
    "\n",
    "datim.total_datim_general\n",
    "target= 19000\n",
    "\n",
    "data_plot = DataFrame({\"state\":[\"Target\",\"AGYW_PREV results\"],\n",
    "                            \"data\": [target,datim.total_datim_general]                        \n",
    "})\n",
    "\n",
    "\n",
    "plt.subplots(figsize=(16,8))\n",
    "sns.set_theme(style=\"whitegrid\", context=\"talk\")\n",
    "sns.set_style(\"darkgrid\")\n",
    "sns.set_palette('Set1')\n",
    "splot = sns.barplot(x=\"state\",y=\"data\",data=data_plot)\n",
    "splot.set_xlabel(\"\")\n",
    "splot.set_ylabel(\"\")\n",
    "plt.suptitle(\"AGYW_PREV datim indicator  and the periodic target\")\n",
    "for p in splot.patches:\n",
    "    height = p.get_height()\n",
    "    plt.text(\n",
    "                p.get_x() + p.get_width()/2, \n",
    "                0.5*p.get_height() + p.get_y(),\n",
    "                '{:1.0f}'.format(height), \n",
    "                ha='center', va='center',\n",
    "                size=15,\n",
    "                fontdict=dict(color=\"white\")\n",
    "            )\n",
    "    \n",
    "plt.annotate(\n",
    "    \"source: HIVHaiti\",(0,0), (-80,-20), fontsize=10, \n",
    "             xycoords='axes fraction', textcoords='offset points', va='top'\n",
    ")\n",
    "plt.savefig(\"agyw_prev_evolution\",dpi=1000)"
   ]
  },
  {
   "cell_type": "code",
   "execution_count": 6,
   "metadata": {},
   "outputs": [
    {
     "data": {
      "image/png": "[encoded data removed]",
      "text/plain": [
       "<Figure size 640x480 with 1 Axes>"
      ]
     },
     "metadata": {},
     "output_type": "display_data"
    },
    {
     "data": {
      "text/plain": [
       "<ggplot: (314552975)>"
      ]
     },
     "execution_count": 6,
     "metadata": {},
     "output_type": "execute_result"
    },
    {
     "name": "stderr",
     "output_type": "stream",
     "text": [
      "/usr/local/lib/python3.10/site-packages/plotnine/ggplot.py:719: PlotnineWarning: Saving 6.4 x 4.8 in image.\n",
      "/usr/local/lib/python3.10/site-packages/plotnine/ggplot.py:722: PlotnineWarning: Filename: composante_agywprev.png\n"
     ]
    }
   ],
   "source": [
    "stack_data = DataFrame( \n",
    "                  {     \n",
    "                        \"supp\":[\"target\",\"indicateur\",\"indicateur\",\"indicateur\",'indicateur'],\n",
    "                        \"label\": [\"target\",\"composante I\",\"composante II\",\"composante III\", 'composante IV'],\n",
    "                        \"data\": [target,datim.total_datimI,\n",
    "                                datim.total_datimII,\n",
    "                                datim.total_datimIII,datim.total_datimIV]\n",
    "})\n",
    "\n",
    "p = (ggplot(stack_data,aes(x=\"supp\",y=\"data\",fill=\"label\",width=0.7)) \n",
    " + geom_bar(position=position_stack(vjust=0.5),stat=\"identity\")\n",
    " + geom_text(aes(label=\"data\"),position=position_stack(vjust=0.5))\n",
    " + ggtitle(\" Les composantes AGYW PREV face au Target\")\n",
    " + xlab(\"\")\n",
    " +ylab(\"\")\n",
    " +labs(caption =  \"HIVHaiti\")\n",
    " + theme_seaborn()\n",
    ")\n",
    "p\n",
    "ggsave(plot=p,filename=\"composante_agywprev.png\",dpi=1000)"
   ]
  },
  {
   "cell_type": "code",
   "execution_count": 7,
   "metadata": {},
   "outputs": [
    {
     "data": {
      "text/plain": [
       "' usaid_verification = ExcelWriter(f\"./tables_verification/Q2/datim_verification_{date_du_jour}.xlsx\",engine=\"xlsxwriter\")\\ndatim.data_agyw_prevI.to_excel(usaid_verification,sheet_name=\"composante I\",index=False,na_rep=\"\")\\ndatim.data_agyw_prevII.to_excel(usaid_verification,sheet_name=\"composante II\",index=False,na_rep=\"\")\\ndatim.data_agyw_prevIII.to_excel(usaid_verification,sheet_name=\"Composante III\",index=False,na_rep=\"\")\\ndatim.data_agyw_prevIV.to_excel(usaid_verification,sheet_name=\"Composante IV\",index=False,na_rep=\"\")\\ndatim.data_dreams_valid.to_excel(usaid_verification,sheet_name=\"table_global\",index=False,na_rep=\"\")\\nusaid_verification.save()  '"
      ]
     },
     "execution_count": 7,
     "metadata": {},
     "output_type": "execute_result"
    }
   ],
   "source": [
    "usaid_verification = ExcelWriter(f\"./tables_verification/datim_verification.xlsx\",engine=\"xlsxwriter\")\n",
    "datim.data_agyw_prevI.to_excel(usaid_verification,sheet_name=\"composante I\",index=False,na_rep=\"\")\n",
    "datim.data_agyw_prevII.to_excel(usaid_verification,sheet_name=\"composante II\",index=False,na_rep=\"\")\n",
    "datim.data_agyw_prevIII.to_excel(usaid_verification,sheet_name=\"Composante III\",index=False,na_rep=\"\")\n",
    "datim.data_agyw_prevIV.to_excel(usaid_verification,sheet_name=\"Composante IV\",index=False,na_rep=\"\")\n",
    "datim.data_dreams_valid.to_excel(usaid_verification,sheet_name=\"table_global\",index=False,na_rep=\"\")\n",
    "usaid_verification.save()\n",
    "\n",
    "\"\"\" usaid_verification = ExcelWriter(f\"./tables_verification/Q2/datim_verification_{date_du_jour}.xlsx\",engine=\"xlsxwriter\")\n",
    "datim.data_agyw_prevI.to_excel(usaid_verification,sheet_name=\"composante I\",index=False,na_rep=\"\")\n",
    "datim.data_agyw_prevII.to_excel(usaid_verification,sheet_name=\"composante II\",index=False,na_rep=\"\")\n",
    "datim.data_agyw_prevIII.to_excel(usaid_verification,sheet_name=\"Composante III\",index=False,na_rep=\"\")\n",
    "datim.data_agyw_prevIV.to_excel(usaid_verification,sheet_name=\"Composante IV\",index=False,na_rep=\"\")\n",
    "datim.data_dreams_valid.to_excel(usaid_verification,sheet_name=\"table_global\",index=False,na_rep=\"\")\n",
    "usaid_verification.save()  \"\"\""
   ]
  },
  {
   "cell_type": "code",
   "execution_count": null,
   "metadata": {},
   "outputs": [],
   "source": []
  }
 ],
 "metadata": {
  "interpreter": {
   "hash": "b460384b52104c1e5b9cf54bee46a255d22b2bef338f75ac4ad5d48196028d3c"
  },
  "kernelspec": {
   "display_name": "Python 3.10.2 64-bit",
   "language": "python",
   "name": "python3"
  },
  "language_info": {
   "codemirror_mode": {
    "name": "ipython",
    "version": 3
   },
   "file_extension": ".py",
   "mimetype": "text/x-python",
   "name": "python",
   "nbconvert_exporter": "python",
   "pygments_lexer": "ipython3",
   "version": "3.10.4"
  },
  "orig_nbformat": 4
 },
 "nbformat": 4,
 "nbformat_minor": 2
}
