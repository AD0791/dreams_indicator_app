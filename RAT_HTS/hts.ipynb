{
 "cells": [
  {
   "cell_type": "code",
   "execution_count": 4,
   "metadata": {},
   "outputs": [],
   "source": [
    "from IPython.core.interactiveshell import InteractiveShell\n",
    "from datetime import datetime\n",
    "\n",
    "from hts import hts_screening\n",
    "\n",
    "\n",
    "InteractiveShell.ast_node_interactivity = \"all\"\n",
    "date_du_jour = datetime.today().strftime(\"%d_%m_%Y\")"
   ]
  },
  {
   "cell_type": "code",
   "execution_count": 10,
   "metadata": {},
   "outputs": [
    {
     "data": {
      "text/plain": [
       "Index(['case_id', 'id_patient', 'patient_code', 'Lastname', 'Firstname', 'dob',\n",
       "       'a7_ak_kils_w_ap_viv_10_14',\n",
       "       'si_ou_gen_menaj_deja_ou_konn_f_bagay_av_l',\n",
       "       'a12_ki_laj_ou_te_genyen_l_ou_te_kmanse_f_bagay_pou_premye_fwa',\n",
       "       'b12_premye_fwa_ou_te_f_bagay_ske_se_te',\n",
       "       'ske_ou_svi_ak_kapt_deja_l_w_ap_f_bagay',\n",
       "       'pandan_douz_dnye_mwa_yo_konbyen_fwa_ou_te_svi_ak_kapt', 'age',\n",
       "       'a7_score', '12_score', '12a_score', '12b_score', '14a_score',\n",
       "       '15a_score', 'total_score'],\n",
       "      dtype='object')"
      ]
     },
     "execution_count": 10,
     "metadata": {},
     "output_type": "execute_result"
    },
    {
     "data": {
      "text/plain": [
       "63904"
      ]
     },
     "execution_count": 10,
     "metadata": {},
     "output_type": "execute_result"
    }
   ],
   "source": [
    "hts_screening.columns\n",
    "hts_screening.case_id.count()"
   ]
  },
  {
   "cell_type": "code",
   "execution_count": 12,
   "metadata": {},
   "outputs": [
    {
     "data": {
      "text/plain": [
       "63904"
      ]
     },
     "execution_count": 12,
     "metadata": {},
     "output_type": "execute_result"
    },
    {
     "data": {
      "text/plain": [
       "Index(['id_patient', 'patient_code', 'total_score', 'Lastname', 'Firstname',\n",
       "       'dob', 'case_id'],\n",
       "      dtype='object')"
      ]
     },
     "execution_count": 12,
     "metadata": {},
     "output_type": "execute_result"
    }
   ],
   "source": [
    "screening_vih = hts_screening[\n",
    "    [\n",
    "        'id_patient',\n",
    "        'patient_code',\n",
    "        'total_score',\n",
    "        'Lastname',\n",
    "        'Firstname',\n",
    "        'dob',\n",
    "        'case_id'\n",
    "    ]\n",
    "]\n",
    "screening_vih.case_id.count()\n",
    "screening_vih.columns"
   ]
  },
  {
   "cell_type": "code",
   "execution_count": null,
   "metadata": {},
   "outputs": [],
   "source": []
  }
 ],
 "metadata": {
  "interpreter": {
   "hash": "b460384b52104c1e5b9cf54bee46a255d22b2bef338f75ac4ad5d48196028d3c"
  },
  "kernelspec": {
   "display_name": "Python 3.10.2 64-bit",
   "language": "python",
   "name": "python3"
  },
  "language_info": {
   "codemirror_mode": {
    "name": "ipython",
    "version": 3
   },
   "file_extension": ".py",
   "mimetype": "text/x-python",
   "name": "python",
   "nbconvert_exporter": "python",
   "pygments_lexer": "ipython3",
   "version": "3.10.2"
  },
  "orig_nbformat": 4
 },
 "nbformat": 4,
 "nbformat_minor": 2
}
