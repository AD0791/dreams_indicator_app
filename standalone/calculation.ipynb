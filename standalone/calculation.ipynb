{
 "cells": [
  {
   "cell_type": "code",
   "execution_count": null,
   "metadata": {},
   "outputs": [],
   "source": [
    "from numpy import int16\n",
    "import pandas as pd\n",
    "from IPython.core.interactiveshell import InteractiveShell\n",
    "InteractiveShell.ast_node_interactivity = \"all\"\n",
    "\n",
    "from eda import mastersheet_served,agyw_served, agyw_served_period"
   ]
  },
  {
   "cell_type": "code",
   "execution_count": 2,
   "metadata": {},
   "outputs": [
    {
     "data": {
      "text/plain": [
       "19265"
      ]
     },
     "execution_count": 2,
     "metadata": {},
     "output_type": "execute_result"
    },
    {
     "data": {
      "text/plain": [
       "19265"
      ]
     },
     "execution_count": 2,
     "metadata": {},
     "output_type": "execute_result"
    },
    {
     "data": {
      "text/plain": [
       "13559"
      ]
     },
     "execution_count": 2,
     "metadata": {},
     "output_type": "execute_result"
    },
    {
     "data": {
      "text/plain": [
       "12523"
      ]
     },
     "execution_count": 2,
     "metadata": {},
     "output_type": "execute_result"
    }
   ],
   "source": [
    "mastersheet_served=mastersheet_served.loc[:,~mastersheet_served.columns.duplicated()]\n",
    "\n",
    "actif_mastersheet = mastersheet_served[mastersheet_served.id_patient.isin(agyw_served_period.id_patient)]\n",
    "actif_served =agyw_served[agyw_served.id_patient.isin(agyw_served_period.id_patient)]\n",
    "ua_mastersheet = mastersheet_served[~mastersheet_served.id_patient.isin(agyw_served_period.id_patient)]\n",
    "ua_served = agyw_served[~agyw_served.id_patient.isin(agyw_served_period.id_patient)]\n",
    "\n",
    "actif_mastersheet.id_patient.count()\n",
    "actif_served.id_patient.count()\n",
    "ua_mastersheet.id_patient.count()\n",
    "ua_served.id_patient.count()"
   ]
  },
  {
   "cell_type": "code",
   "execution_count": 3,
   "metadata": {},
   "outputs": [],
   "source": [
    "actif_served.nbre_pres_for_inter.fillna(0,inplace=True)\n",
    "actif_served.has_comdom_topic.fillna('no',inplace=True)\n",
    "actif_served.number_of_condoms_sensibilize.fillna(0,inplace=True)\n",
    "actif_served.number_condoms_reception_in_the_interval.fillna(0,inplace=True)\n",
    "actif_served.number_test_date_in_the_interval.fillna(0,inplace=True)\n",
    "actif_served.number_gynecological_care_date_in_the_interval.fillna(0,inplace=True)\n",
    "actif_served.number_vbg_treatment_date_in_the_interval.fillna(0,inplace=True)\n",
    "actif_served.number_prep_initiation_date_in_the_interval.fillna(0,inplace=True)\n",
    "\n",
    "\n",
    "actif_served.nbre_pres_for_inter = actif_served.nbre_pres_for_inter.astype(int16)\n",
    "actif_served.number_of_condoms_sensibilize = actif_served.number_of_condoms_sensibilize.astype(int16)\n",
    "actif_served.number_condoms_reception_in_the_interval= actif_served.number_condoms_reception_in_the_interval.astype(int16)\n",
    "actif_served.number_test_date_in_the_interval=actif_served.number_test_date_in_the_interval.astype(int16)\n",
    "actif_served.number_gynecological_care_date_in_the_interval=actif_served.number_gynecological_care_date_in_the_interval.astype(int16)\n",
    "actif_served.number_vbg_treatment_date_in_the_interval=actif_served.number_vbg_treatment_date_in_the_interval.astype(int16)\n",
    "actif_served.number_prep_initiation_date_in_the_interval=actif_served.number_prep_initiation_date_in_the_interval.astype(int16)"
   ]
  },
  {
   "cell_type": "markdown",
   "metadata": {},
   "source": [
    "# functions"
   ]
  },
  {
   "cell_type": "code",
   "execution_count": 4,
   "metadata": {},
   "outputs": [],
   "source": [
    "def curriculum_detailed(pres):\n",
    "    if pres>=14:\n",
    "        return \"yes\"\n",
    "    elif 1<=pres<=13:\n",
    "        return \"has_started\"\n",
    "    else:\n",
    "        return \"no\"\n",
    "    \n",
    "def curriculum(pres):\n",
    "    return \"yes\" if pres>= 14 else \"no\"\n",
    "\n",
    "def condom(df):\n",
    "    return \"yes\" if (df.has_comdom_topic==\"yes\" or df.number_of_condoms_sensibilize>0 or df.number_condoms_reception_in_the_interval>0) else \"no\"\n",
    "\n",
    "def hts(hd):\n",
    "    return \"yes\" if hd>0 else \"no\"\n",
    "    \n",
    "\n",
    "def prep(pd):\n",
    "    return \"yes\" if pd>0 else \"no\"\n",
    "\n",
    "    \n",
    "def postcare(df):\n",
    "    return \"yes\" if (df.number_vbg_treatment_date_in_the_interval>0 or df.number_gynecological_care_date_in_the_interval>0) else \"no\"\n",
    "    \n",
    "def socioeco(df):\n",
    "    return \"yes\" if (df.muso==\"yes\" or df.gardening==\"yes\") else \"no\"\n",
    "\n",
    "\n",
    "\n",
    "\n",
    "def prim_1014(df):\n",
    "    return \"primary\" if (df.age_range==\"10-14\" and df.curriculum==\"yes\") else \"no\"\n",
    "\n",
    "def prim_1519(df):\n",
    "    return \"primary\" if (df.age_range==\"15-19\" and df.curriculum==\"yes\" and df.condom==\"yes\") else \"no\"\n",
    "\n",
    "def prim_2024(df):\n",
    "    return \"primary\" if (df.age_range==\"20-24\" and df.curriculum==\"yes\" and df.condom==\"yes\") else \"no\"\n",
    "\n",
    "\n",
    "\n",
    "def sec_1014(df):\n",
    "    return \"secondary\" if (df.age_range==\"10-14\" and ((df.condom==\"yes\")|(df.hts==\"yes\")|(df.post_violence_care==\"yes\")|(df.socioeco_app==\"yes\")|(df.prep==\"yes\"))) else \"no\"\n",
    "\n",
    "def sec_1519(df):\n",
    "    return \"secondary\" if (df.age_range==\"15-19\" and ((df.hts==\"yes\")|(df.post_violence_care==\"yes\")|(df.socioeco_app==\"yes\")|(df.prep==\"yes\"))) else \"no\"\n",
    "\n",
    "def sec_2024(df):\n",
    "    return \"secondary\" if (df.age_range==\"20-24\" and ((df.hts==\"yes\")|(df.post_violence_care==\"yes\")|(df.socioeco_app==\"yes\")|(df.prep==\"yes\"))) else \"no\"\n",
    "\n",
    "\n",
    "\n",
    "def comp_1014(df):\n",
    "    return \"complete\" if (df.age_range==\"10-14\" and  df.curriculum==\"no\" and ((df.condom==\"yes\")|(df.hts==\"yes\")|(df.post_violence_care==\"yes\")|(df.socioeco_app==\"yes\")|(df.prep==\"yes\"))) else \"no\"\n",
    "\n",
    "def comp_1519(df):\n",
    "    return \"complete\" if (df.age_range==\"15-19\" and  (((df.curriculum==\"yes\")&(df.condom==\"no\"))|((df.curriculum==\"no\")&(df.condom==\"yes\"))) and ((df.hts==\"yes\")|(df.post_violence_care==\"yes\")|(df.socioeco_app==\"yes\")|(df.prep==\"yes\"))) else \"no\"\n",
    "\n",
    "def comp_2024(df):\n",
    "    return \"complete\" if (df.age_range==\"20-24\" and  (((df.curriculum==\"yes\")&(df.condom==\"no\"))|((df.curriculum==\"no\")&(df.condom==\"yes\"))) and ((df.hts==\"yes\")|(df.post_violence_care==\"yes\")|(df.socioeco_app==\"yes\")|(df.prep==\"yes\"))) else \"no\"\n",
    "\n",
    "\n",
    "\n",
    "\n",
    "\n",
    "\n"
   ]
  },
  {
   "cell_type": "markdown",
   "metadata": {},
   "source": [
    "# Curriculum"
   ]
  },
  {
   "cell_type": "code",
   "execution_count": 5,
   "metadata": {},
   "outputs": [],
   "source": [
    "%%capture\n",
    "actif_served['curriculum_detailed'] = actif_served.nbre_pres_for_inter.map(curriculum_detailed)\n",
    "actif_served['curriculum'] = actif_served.nbre_pres_for_inter.map(curriculum)\n"
   ]
  },
  {
   "cell_type": "markdown",
   "metadata": {},
   "source": [
    "# Condoms"
   ]
  },
  {
   "cell_type": "code",
   "execution_count": 6,
   "metadata": {},
   "outputs": [],
   "source": [
    "%%capture\n",
    "actif_served['condom'] = actif_served.apply(lambda df: condom(df),axis=1 )"
   ]
  },
  {
   "cell_type": "markdown",
   "metadata": {},
   "source": [
    "# HTS"
   ]
  },
  {
   "cell_type": "code",
   "execution_count": 7,
   "metadata": {},
   "outputs": [],
   "source": [
    "%%capture\n",
    "actif_served['hts'] = actif_served.number_test_date_in_the_interval.map(hts)"
   ]
  },
  {
   "cell_type": "markdown",
   "metadata": {},
   "source": [
    "# post care treatment"
   ]
  },
  {
   "cell_type": "code",
   "execution_count": 8,
   "metadata": {},
   "outputs": [],
   "source": [
    "%%capture\n",
    "actif_served['post_violence_care'] = actif_served.apply(lambda df: postcare(df),axis=1 )"
   ]
  },
  {
   "cell_type": "markdown",
   "metadata": {},
   "source": [
    "# socioeco"
   ]
  },
  {
   "cell_type": "code",
   "execution_count": 9,
   "metadata": {},
   "outputs": [],
   "source": [
    "%%capture\n",
    "actif_served['socioeco_app'] = actif_served.apply(lambda df: socioeco(df),axis=1 )"
   ]
  },
  {
   "cell_type": "markdown",
   "metadata": {},
   "source": [
    "# prep "
   ]
  },
  {
   "cell_type": "code",
   "execution_count": 10,
   "metadata": {},
   "outputs": [],
   "source": [
    "%%capture\n",
    "actif_served['prep'] = actif_served.number_prep_initiation_date_in_the_interval.map(prep)"
   ]
  },
  {
   "cell_type": "markdown",
   "metadata": {},
   "source": [
    "# Primary Services\n",
    "\n",
    "- 10-14\n",
    "- 15-19\n",
    "- 20-24"
   ]
  },
  {
   "cell_type": "code",
   "execution_count": 11,
   "metadata": {},
   "outputs": [],
   "source": [
    "%%capture\n",
    "actif_served['ps_1014'] = actif_served.apply(lambda df: prim_1014(df),axis=1 )\n",
    "actif_served['ps_1519'] = actif_served.apply(lambda df: prim_1519(df),axis=1 )\n",
    "actif_served['ps_2024'] = actif_served.apply(lambda df: prim_2024(df),axis=1 )"
   ]
  },
  {
   "cell_type": "code",
   "execution_count": 12,
   "metadata": {},
   "outputs": [],
   "source": [
    "%%capture\n",
    "actif_served['secondary_1014'] = actif_served.apply(lambda df: sec_1014(df),axis=1 )\n",
    "actif_served['secondary_1519'] = actif_served.apply(lambda df: sec_1519(df),axis=1 )\n",
    "actif_served['secondary_2024'] = actif_served.apply(lambda df: sec_2024(df),axis=1 )"
   ]
  },
  {
   "cell_type": "code",
   "execution_count": 13,
   "metadata": {},
   "outputs": [],
   "source": [
    "%%capture\n",
    "actif_served['complete_1014'] = actif_served.apply(lambda df: comp_1014(df),axis=1 )\n",
    "actif_served['complete_1519'] = actif_served.apply(lambda df: comp_1519(df),axis=1 )\n",
    "actif_served['complete_2024'] = actif_served.apply(lambda df: comp_2024(df),axis=1 )"
   ]
  },
  {
   "cell_type": "code",
   "execution_count": 14,
   "metadata": {},
   "outputs": [
    {
     "data": {
      "text/html": [
       "<div>\n",
       "<style scoped>\n",
       "    .dataframe tbody tr th:only-of-type {\n",
       "        vertical-align: middle;\n",
       "    }\n",
       "\n",
       "    .dataframe tbody tr th {\n",
       "        vertical-align: top;\n",
       "    }\n",
       "\n",
       "    .dataframe thead th {\n",
       "        text-align: right;\n",
       "    }\n",
       "</style>\n",
       "<table border=\"1\" class=\"dataframe\">\n",
       "  <thead>\n",
       "    <tr style=\"text-align: right;\">\n",
       "      <th></th>\n",
       "      <th>id_patient</th>\n",
       "      <th>departement</th>\n",
       "      <th>commune</th>\n",
       "      <th>nbre_pres_for_inter</th>\n",
       "      <th>has_comdom_topic</th>\n",
       "      <th>number_of_condoms_sensibilize</th>\n",
       "      <th>number_condoms_reception_in_the_interval</th>\n",
       "      <th>number_test_date_in_the_interval</th>\n",
       "      <th>test_results</th>\n",
       "      <th>number_vbg_treatment_date_in_the_interval</th>\n",
       "      <th>...</th>\n",
       "      <th>prep</th>\n",
       "      <th>ps_1014</th>\n",
       "      <th>ps_1519</th>\n",
       "      <th>ps_2024</th>\n",
       "      <th>secondary_1014</th>\n",
       "      <th>secondary_1519</th>\n",
       "      <th>secondary_2024</th>\n",
       "      <th>complete_1014</th>\n",
       "      <th>complete_1519</th>\n",
       "      <th>complete_2024</th>\n",
       "    </tr>\n",
       "  </thead>\n",
       "  <tbody>\n",
       "    <tr>\n",
       "      <th>22</th>\n",
       "      <td>52570</td>\n",
       "      <td>Ouest</td>\n",
       "      <td>Port-au-Prince</td>\n",
       "      <td>15</td>\n",
       "      <td>yes</td>\n",
       "      <td>1</td>\n",
       "      <td>1</td>\n",
       "      <td>2</td>\n",
       "      <td>2,</td>\n",
       "      <td>0</td>\n",
       "      <td>...</td>\n",
       "      <td>no</td>\n",
       "      <td>no</td>\n",
       "      <td>no</td>\n",
       "      <td>primary</td>\n",
       "      <td>no</td>\n",
       "      <td>no</td>\n",
       "      <td>secondary</td>\n",
       "      <td>no</td>\n",
       "      <td>no</td>\n",
       "      <td>no</td>\n",
       "    </tr>\n",
       "    <tr>\n",
       "      <th>30</th>\n",
       "      <td>52690</td>\n",
       "      <td>Ouest</td>\n",
       "      <td>Port-au-Prince</td>\n",
       "      <td>15</td>\n",
       "      <td>yes</td>\n",
       "      <td>1</td>\n",
       "      <td>1</td>\n",
       "      <td>2</td>\n",
       "      <td>2,</td>\n",
       "      <td>0</td>\n",
       "      <td>...</td>\n",
       "      <td>no</td>\n",
       "      <td>no</td>\n",
       "      <td>no</td>\n",
       "      <td>primary</td>\n",
       "      <td>no</td>\n",
       "      <td>no</td>\n",
       "      <td>secondary</td>\n",
       "      <td>no</td>\n",
       "      <td>no</td>\n",
       "      <td>no</td>\n",
       "    </tr>\n",
       "    <tr>\n",
       "      <th>57</th>\n",
       "      <td>65526</td>\n",
       "      <td>Nord</td>\n",
       "      <td>Cap-Haïtien</td>\n",
       "      <td>21</td>\n",
       "      <td>yes</td>\n",
       "      <td>0</td>\n",
       "      <td>1</td>\n",
       "      <td>1</td>\n",
       "      <td>0,,2,</td>\n",
       "      <td>0</td>\n",
       "      <td>...</td>\n",
       "      <td>no</td>\n",
       "      <td>no</td>\n",
       "      <td>no</td>\n",
       "      <td>primary</td>\n",
       "      <td>no</td>\n",
       "      <td>no</td>\n",
       "      <td>secondary</td>\n",
       "      <td>no</td>\n",
       "      <td>no</td>\n",
       "      <td>no</td>\n",
       "    </tr>\n",
       "    <tr>\n",
       "      <th>58</th>\n",
       "      <td>65527</td>\n",
       "      <td>Nord</td>\n",
       "      <td>Cap-Haïtien</td>\n",
       "      <td>21</td>\n",
       "      <td>yes</td>\n",
       "      <td>0</td>\n",
       "      <td>1</td>\n",
       "      <td>0</td>\n",
       "      <td>0,</td>\n",
       "      <td>0</td>\n",
       "      <td>...</td>\n",
       "      <td>no</td>\n",
       "      <td>no</td>\n",
       "      <td>no</td>\n",
       "      <td>primary</td>\n",
       "      <td>no</td>\n",
       "      <td>no</td>\n",
       "      <td>no</td>\n",
       "      <td>no</td>\n",
       "      <td>no</td>\n",
       "      <td>no</td>\n",
       "    </tr>\n",
       "    <tr>\n",
       "      <th>59</th>\n",
       "      <td>65623</td>\n",
       "      <td>Nord</td>\n",
       "      <td>Cap-Haïtien</td>\n",
       "      <td>21</td>\n",
       "      <td>yes</td>\n",
       "      <td>0</td>\n",
       "      <td>1</td>\n",
       "      <td>0</td>\n",
       "      <td>0,</td>\n",
       "      <td>0</td>\n",
       "      <td>...</td>\n",
       "      <td>no</td>\n",
       "      <td>no</td>\n",
       "      <td>primary</td>\n",
       "      <td>no</td>\n",
       "      <td>no</td>\n",
       "      <td>no</td>\n",
       "      <td>no</td>\n",
       "      <td>no</td>\n",
       "      <td>no</td>\n",
       "      <td>no</td>\n",
       "    </tr>\n",
       "    <tr>\n",
       "      <th>...</th>\n",
       "      <td>...</td>\n",
       "      <td>...</td>\n",
       "      <td>...</td>\n",
       "      <td>...</td>\n",
       "      <td>...</td>\n",
       "      <td>...</td>\n",
       "      <td>...</td>\n",
       "      <td>...</td>\n",
       "      <td>...</td>\n",
       "      <td>...</td>\n",
       "      <td>...</td>\n",
       "      <td>...</td>\n",
       "      <td>...</td>\n",
       "      <td>...</td>\n",
       "      <td>...</td>\n",
       "      <td>...</td>\n",
       "      <td>...</td>\n",
       "      <td>...</td>\n",
       "      <td>...</td>\n",
       "      <td>...</td>\n",
       "      <td>...</td>\n",
       "    </tr>\n",
       "    <tr>\n",
       "      <th>31783</th>\n",
       "      <td>100543</td>\n",
       "      <td>Nord</td>\n",
       "      <td>Cap-Haïtien</td>\n",
       "      <td>0</td>\n",
       "      <td>no</td>\n",
       "      <td>0</td>\n",
       "      <td>0</td>\n",
       "      <td>0</td>\n",
       "      <td>None</td>\n",
       "      <td>0</td>\n",
       "      <td>...</td>\n",
       "      <td>no</td>\n",
       "      <td>no</td>\n",
       "      <td>no</td>\n",
       "      <td>no</td>\n",
       "      <td>no</td>\n",
       "      <td>secondary</td>\n",
       "      <td>no</td>\n",
       "      <td>no</td>\n",
       "      <td>no</td>\n",
       "      <td>no</td>\n",
       "    </tr>\n",
       "    <tr>\n",
       "      <th>31784</th>\n",
       "      <td>101428</td>\n",
       "      <td>Nord</td>\n",
       "      <td>Milot</td>\n",
       "      <td>0</td>\n",
       "      <td>no</td>\n",
       "      <td>0</td>\n",
       "      <td>0</td>\n",
       "      <td>0</td>\n",
       "      <td>0,</td>\n",
       "      <td>0</td>\n",
       "      <td>...</td>\n",
       "      <td>no</td>\n",
       "      <td>no</td>\n",
       "      <td>no</td>\n",
       "      <td>no</td>\n",
       "      <td>no</td>\n",
       "      <td>secondary</td>\n",
       "      <td>no</td>\n",
       "      <td>no</td>\n",
       "      <td>no</td>\n",
       "      <td>no</td>\n",
       "    </tr>\n",
       "    <tr>\n",
       "      <th>31785</th>\n",
       "      <td>105142</td>\n",
       "      <td>Nord</td>\n",
       "      <td>Cap-Haïtien</td>\n",
       "      <td>0</td>\n",
       "      <td>no</td>\n",
       "      <td>0</td>\n",
       "      <td>0</td>\n",
       "      <td>0</td>\n",
       "      <td>None</td>\n",
       "      <td>0</td>\n",
       "      <td>...</td>\n",
       "      <td>no</td>\n",
       "      <td>no</td>\n",
       "      <td>no</td>\n",
       "      <td>no</td>\n",
       "      <td>no</td>\n",
       "      <td>secondary</td>\n",
       "      <td>no</td>\n",
       "      <td>no</td>\n",
       "      <td>no</td>\n",
       "      <td>no</td>\n",
       "    </tr>\n",
       "    <tr>\n",
       "      <th>31786</th>\n",
       "      <td>105158</td>\n",
       "      <td>Nord</td>\n",
       "      <td>Cap-Haïtien</td>\n",
       "      <td>0</td>\n",
       "      <td>no</td>\n",
       "      <td>0</td>\n",
       "      <td>0</td>\n",
       "      <td>0</td>\n",
       "      <td>None</td>\n",
       "      <td>0</td>\n",
       "      <td>...</td>\n",
       "      <td>no</td>\n",
       "      <td>no</td>\n",
       "      <td>no</td>\n",
       "      <td>no</td>\n",
       "      <td>secondary</td>\n",
       "      <td>no</td>\n",
       "      <td>no</td>\n",
       "      <td>complete</td>\n",
       "      <td>no</td>\n",
       "      <td>no</td>\n",
       "    </tr>\n",
       "    <tr>\n",
       "      <th>31787</th>\n",
       "      <td>105341</td>\n",
       "      <td>Nord</td>\n",
       "      <td>Cap-Haïtien</td>\n",
       "      <td>0</td>\n",
       "      <td>no</td>\n",
       "      <td>0</td>\n",
       "      <td>0</td>\n",
       "      <td>0</td>\n",
       "      <td>0,</td>\n",
       "      <td>0</td>\n",
       "      <td>...</td>\n",
       "      <td>no</td>\n",
       "      <td>no</td>\n",
       "      <td>no</td>\n",
       "      <td>no</td>\n",
       "      <td>no</td>\n",
       "      <td>secondary</td>\n",
       "      <td>no</td>\n",
       "      <td>no</td>\n",
       "      <td>no</td>\n",
       "      <td>no</td>\n",
       "    </tr>\n",
       "  </tbody>\n",
       "</table>\n",
       "<p>19265 rows × 34 columns</p>\n",
       "</div>"
      ],
      "text/plain": [
       "       id_patient departement         commune  nbre_pres_for_inter  \\\n",
       "22          52570       Ouest  Port-au-Prince                   15   \n",
       "30          52690       Ouest  Port-au-Prince                   15   \n",
       "57          65526        Nord     Cap-Haïtien                   21   \n",
       "58          65527        Nord     Cap-Haïtien                   21   \n",
       "59          65623        Nord     Cap-Haïtien                   21   \n",
       "...           ...         ...             ...                  ...   \n",
       "31783      100543        Nord     Cap-Haïtien                    0   \n",
       "31784      101428        Nord           Milot                    0   \n",
       "31785      105142        Nord     Cap-Haïtien                    0   \n",
       "31786      105158        Nord     Cap-Haïtien                    0   \n",
       "31787      105341        Nord     Cap-Haïtien                    0   \n",
       "\n",
       "      has_comdom_topic  number_of_condoms_sensibilize  \\\n",
       "22                 yes                              1   \n",
       "30                 yes                              1   \n",
       "57                 yes                              0   \n",
       "58                 yes                              0   \n",
       "59                 yes                              0   \n",
       "...                ...                            ...   \n",
       "31783               no                              0   \n",
       "31784               no                              0   \n",
       "31785               no                              0   \n",
       "31786               no                              0   \n",
       "31787               no                              0   \n",
       "\n",
       "       number_condoms_reception_in_the_interval  \\\n",
       "22                                            1   \n",
       "30                                            1   \n",
       "57                                            1   \n",
       "58                                            1   \n",
       "59                                            1   \n",
       "...                                         ...   \n",
       "31783                                         0   \n",
       "31784                                         0   \n",
       "31785                                         0   \n",
       "31786                                         0   \n",
       "31787                                         0   \n",
       "\n",
       "       number_test_date_in_the_interval test_results  \\\n",
       "22                                    2           2,   \n",
       "30                                    2           2,   \n",
       "57                                    1        0,,2,   \n",
       "58                                    0           0,   \n",
       "59                                    0           0,   \n",
       "...                                 ...          ...   \n",
       "31783                                 0         None   \n",
       "31784                                 0           0,   \n",
       "31785                                 0         None   \n",
       "31786                                 0         None   \n",
       "31787                                 0           0,   \n",
       "\n",
       "       number_vbg_treatment_date_in_the_interval  ...  prep  ps_1014  ps_1519  \\\n",
       "22                                             0  ...    no       no       no   \n",
       "30                                             0  ...    no       no       no   \n",
       "57                                             0  ...    no       no       no   \n",
       "58                                             0  ...    no       no       no   \n",
       "59                                             0  ...    no       no  primary   \n",
       "...                                          ...  ...   ...      ...      ...   \n",
       "31783                                          0  ...    no       no       no   \n",
       "31784                                          0  ...    no       no       no   \n",
       "31785                                          0  ...    no       no       no   \n",
       "31786                                          0  ...    no       no       no   \n",
       "31787                                          0  ...    no       no       no   \n",
       "\n",
       "       ps_2024 secondary_1014 secondary_1519 secondary_2024 complete_1014  \\\n",
       "22     primary             no             no      secondary            no   \n",
       "30     primary             no             no      secondary            no   \n",
       "57     primary             no             no      secondary            no   \n",
       "58     primary             no             no             no            no   \n",
       "59          no             no             no             no            no   \n",
       "...        ...            ...            ...            ...           ...   \n",
       "31783       no             no      secondary             no            no   \n",
       "31784       no             no      secondary             no            no   \n",
       "31785       no             no      secondary             no            no   \n",
       "31786       no      secondary             no             no      complete   \n",
       "31787       no             no      secondary             no            no   \n",
       "\n",
       "      complete_1519 complete_2024  \n",
       "22               no            no  \n",
       "30               no            no  \n",
       "57               no            no  \n",
       "58               no            no  \n",
       "59               no            no  \n",
       "...             ...           ...  \n",
       "31783            no            no  \n",
       "31784            no            no  \n",
       "31785            no            no  \n",
       "31786            no            no  \n",
       "31787            no            no  \n",
       "\n",
       "[19265 rows x 34 columns]"
      ]
     },
     "execution_count": 14,
     "metadata": {},
     "output_type": "execute_result"
    }
   ],
   "source": [
    "actif_served\n",
    "actif_served.to_excel(\"./actif_data/actif_served.xlsx\",index=False,na_rep=\"\")"
   ]
  },
  {
   "cell_type": "markdown",
   "metadata": {},
   "source": [
    "# Test results situation"
   ]
  },
  {
   "cell_type": "code",
   "execution_count": 17,
   "metadata": {},
   "outputs": [
    {
     "data": {
      "text/plain": [
       "19265"
      ]
     },
     "execution_count": 17,
     "metadata": {},
     "output_type": "execute_result"
    },
    {
     "name": "stderr",
     "output_type": "stream",
     "text": [
      "/usr/local/lib/python3.9/site-packages/pandas/core/generic.py:6392: SettingWithCopyWarning: \n",
      "A value is trying to be set on a copy of a slice from a DataFrame\n",
      "\n",
      "See the caveats in the documentation: https://pandas.pydata.org/pandas-docs/stable/user_guide/indexing.html#returning-a-view-versus-a-copy\n",
      "  return self._update_inplace(result)\n"
     ]
    },
    {
     "data": {
      "text/plain": [
       "0,          16380\n",
       "0,,2,        1667\n",
       "2,           1192\n",
       "3,              8\n",
       "1,              7\n",
       "0,,3,           5\n",
       "0,,1,,2,        2\n",
       "0,,1,           2\n",
       "2,,3,           1\n",
       "0,,2,,3,        1\n",
       "Name: test_results, dtype: int64"
      ]
     },
     "execution_count": 17,
     "metadata": {},
     "output_type": "execute_result"
    }
   ],
   "source": [
    "actif_served.id_patient.count()\n",
    "actif_served.test_results.fillna('0,',inplace=True)\n",
    "actif_served.test_results.value_counts()"
   ]
  },
  {
   "cell_type": "code",
   "execution_count": 20,
   "metadata": {},
   "outputs": [],
   "source": [
    "positive_test = actif_served[\n",
    "    (actif_served.test_results=='1,')|\n",
    "    (actif_served.test_results=='0,,1,')\n",
    "]\n",
    "positive_test.to_excel('./positive_data/positive_dreams.xlsx',index=False,na_rep=\"\")"
   ]
  },
  {
   "cell_type": "code",
   "execution_count": 21,
   "metadata": {},
   "outputs": [
    {
     "data": {
      "text/plain": [
       "9"
      ]
     },
     "execution_count": 21,
     "metadata": {},
     "output_type": "execute_result"
    }
   ],
   "source": [
    "positive_test.id_patient.count()"
   ]
  },
  {
   "cell_type": "code",
   "execution_count": null,
   "metadata": {},
   "outputs": [],
   "source": []
  }
 ],
 "metadata": {
  "interpreter": {
   "hash": "aee8b7b246df8f9039afb4144a1f6fd8d2ca17a180786b69acc140d282b71a49"
  },
  "kernelspec": {
   "display_name": "Python 3.9.7 64-bit",
   "name": "python3"
  },
  "language_info": {
   "codemirror_mode": {
    "name": "ipython",
    "version": 3
   },
   "file_extension": ".py",
   "mimetype": "text/x-python",
   "name": "python",
   "nbconvert_exporter": "python",
   "pygments_lexer": "ipython3",
   "version": "3.9.7"
  },
  "orig_nbformat": 4
 },
 "nbformat": 4,
 "nbformat_minor": 2
}
