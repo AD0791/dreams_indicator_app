{
 "cells": [
  {
   "cell_type": "code",
   "execution_count": 1,
   "metadata": {},
   "outputs": [],
   "source": [
    "%%capture\n",
    "from sys import path\n",
    "path.insert(0, '../core')\n",
    "from agyw import AgywPrev\n",
    "from IPython.core.interactiveshell import InteractiveShell\n",
    "InteractiveShell.ast_node_interactivity = \"all\"\n",
    "\n",
    "from pandas import (\n",
    "    DataFrame,\n",
    "    ExcelWriter\n",
    ")\n",
    "import openpyxl\n",
    "from os import path\n",
    "\n",
    "from time import (\n",
    "    gmtime,\n",
    "    strftime\n",
    ") "
   ]
  },
  {
   "cell_type": "code",
   "execution_count": 2,
   "metadata": {},
   "outputs": [],
   "source": [
    "%%capture\n",
    "datim = AgywPrev()"
   ]
  },
  {
   "cell_type": "markdown",
   "metadata": {},
   "source": [
    "# base active"
   ]
  },
  {
   "cell_type": "code",
   "execution_count": 3,
   "metadata": {},
   "outputs": [
    {
     "data": {
      "text/plain": [
       "18364"
      ]
     },
     "execution_count": 3,
     "metadata": {},
     "output_type": "execute_result"
    }
   ],
   "source": [
    "base = datim.data_dreams_valid\n",
    "base.id_patient.count()"
   ]
  },
  {
   "cell_type": "code",
   "execution_count": 4,
   "metadata": {},
   "outputs": [
    {
     "data": {
      "text/plain": [
       "Index(['id_patient', 'id_parenting_group', 'departement', 'commune',\n",
       "       'nbre_pres_for_inter', 'nbre_parenting_coupe_present',\n",
       "       'has_comdom_topic', 'has_preventive_vbg',\n",
       "       'number_of_condoms_sensibilize',\n",
       "       'number_condoms_sensibilization_date_in_the_interval',\n",
       "       'number_condoms_reception_in_the_interval',\n",
       "       'number_hiv_test_awareness_date_in_the_interval', 'type_of_test_vih',\n",
       "       'number_autotest_date_in_the_interval',\n",
       "       'number_test_date_in_the_interval', 'test_results', 'autotest_result',\n",
       "       'number_hiv_treatment_start_date_in_the_interval',\n",
       "       'number_vbg_treatment_date_in_the_interval',\n",
       "       'number_gynecological_care_date_in_the_interval',\n",
       "       'number_prep_awareness_date_in_the_interval',\n",
       "       'number_prep_reference_date_in_the_interval',\n",
       "       'number_prep_initiation_date_in_the_interval',\n",
       "       'number_contraceptive_sensibilization_date_in_the_interval',\n",
       "       'number_contraceptive_reception_in_the_interval', 'age_in_year',\n",
       "       'age_range', 'ovc_age', 'date_interview', 'month_in_program_range',\n",
       "       'has_schooling_payment_in_the_interval', 'muso', 'gardening',\n",
       "       'has_a_service_with_date_in_the_past', 'education',\n",
       "       'parenting_detailed', 'parenting', 'curriculum_detailed', 'curriculum',\n",
       "       'condom', 'hts_awareness', 'hts_type_test', 'hts',\n",
       "       'hts_autotest_result', 'hts_test_result', 'hts_treatment_debut', 'vbg',\n",
       "       'gyneco', 'post_violence_care', 'socioeco_app', 'prep_awareness',\n",
       "       'prep_reference', 'prep', 'contraceptive_awareness', 'contraceptive',\n",
       "       'ps_1014', 'ps_1519', 'ps_2024', 'primary_only',\n",
       "       'primary_and_OneSecondary_services', 'completed_one_service',\n",
       "       'has_started_one_service'],\n",
       "      dtype='object')"
      ]
     },
     "execution_count": 4,
     "metadata": {},
     "output_type": "execute_result"
    }
   ],
   "source": [
    "base.columns"
   ]
  },
  {
   "cell_type": "code",
   "execution_count": 5,
   "metadata": {},
   "outputs": [
    {
     "data": {
      "text/html": [
       "<div>\n",
       "<style scoped>\n",
       "    .dataframe tbody tr th:only-of-type {\n",
       "        vertical-align: middle;\n",
       "    }\n",
       "\n",
       "    .dataframe tbody tr th {\n",
       "        vertical-align: top;\n",
       "    }\n",
       "\n",
       "    .dataframe thead th {\n",
       "        text-align: right;\n",
       "    }\n",
       "</style>\n",
       "<table border=\"1\" class=\"dataframe\">\n",
       "  <thead>\n",
       "    <tr style=\"text-align: right;\">\n",
       "      <th>departement</th>\n",
       "      <th>Artibonite</th>\n",
       "      <th>Nord</th>\n",
       "      <th>Ouest</th>\n",
       "      <th>All</th>\n",
       "    </tr>\n",
       "    <tr>\n",
       "      <th>age_range</th>\n",
       "      <th></th>\n",
       "      <th></th>\n",
       "      <th></th>\n",
       "      <th></th>\n",
       "    </tr>\n",
       "  </thead>\n",
       "  <tbody>\n",
       "    <tr>\n",
       "      <th>10-14</th>\n",
       "      <td>3786</td>\n",
       "      <td>734</td>\n",
       "      <td>2658</td>\n",
       "      <td>7178</td>\n",
       "    </tr>\n",
       "    <tr>\n",
       "      <th>15-19</th>\n",
       "      <td>3386</td>\n",
       "      <td>874</td>\n",
       "      <td>3219</td>\n",
       "      <td>7479</td>\n",
       "    </tr>\n",
       "    <tr>\n",
       "      <th>20-24</th>\n",
       "      <td>1688</td>\n",
       "      <td>471</td>\n",
       "      <td>1548</td>\n",
       "      <td>3707</td>\n",
       "    </tr>\n",
       "    <tr>\n",
       "      <th>All</th>\n",
       "      <td>8860</td>\n",
       "      <td>2079</td>\n",
       "      <td>7425</td>\n",
       "      <td>18364</td>\n",
       "    </tr>\n",
       "  </tbody>\n",
       "</table>\n",
       "</div>"
      ],
      "text/plain": [
       "departement  Artibonite  Nord  Ouest    All\n",
       "age_range                                  \n",
       "10-14              3786   734   2658   7178\n",
       "15-19              3386   874   3219   7479\n",
       "20-24              1688   471   1548   3707\n",
       "All                8860  2079   7425  18364"
      ]
     },
     "execution_count": 5,
     "metadata": {},
     "output_type": "execute_result"
    }
   ],
   "source": [
    " base.pivot_table(index='age_range', values='id_patient',columns='departement',aggfunc='count',fill_value=0, margins=True)"
   ]
  },
  {
   "cell_type": "code",
   "execution_count": 6,
   "metadata": {},
   "outputs": [
    {
     "data": {
      "text/html": [
       "<div>\n",
       "<style scoped>\n",
       "    .dataframe tbody tr th:only-of-type {\n",
       "        vertical-align: middle;\n",
       "    }\n",
       "\n",
       "    .dataframe tbody tr th {\n",
       "        vertical-align: top;\n",
       "    }\n",
       "\n",
       "    .dataframe thead th {\n",
       "        text-align: right;\n",
       "    }\n",
       "</style>\n",
       "<table border=\"1\" class=\"dataframe\">\n",
       "  <thead>\n",
       "    <tr style=\"text-align: right;\">\n",
       "      <th></th>\n",
       "      <th>age_range</th>\n",
       "      <th>Artibonite</th>\n",
       "      <th>Nord</th>\n",
       "      <th>Ouest</th>\n",
       "      <th>Total</th>\n",
       "    </tr>\n",
       "  </thead>\n",
       "  <tbody>\n",
       "    <tr>\n",
       "      <th>0</th>\n",
       "      <td>10-14</td>\n",
       "      <td>3786</td>\n",
       "      <td>734</td>\n",
       "      <td>2658</td>\n",
       "      <td>7178</td>\n",
       "    </tr>\n",
       "    <tr>\n",
       "      <th>1</th>\n",
       "      <td>15-19</td>\n",
       "      <td>3386</td>\n",
       "      <td>874</td>\n",
       "      <td>3219</td>\n",
       "      <td>7479</td>\n",
       "    </tr>\n",
       "    <tr>\n",
       "      <th>2</th>\n",
       "      <td>20-24</td>\n",
       "      <td>1688</td>\n",
       "      <td>471</td>\n",
       "      <td>1548</td>\n",
       "      <td>3707</td>\n",
       "    </tr>\n",
       "  </tbody>\n",
       "</table>\n",
       "</div>"
      ],
      "text/plain": [
       "  age_range  Artibonite  Nord  Ouest  Total\n",
       "0     10-14        3786   734   2658   7178\n",
       "1     15-19        3386   874   3219   7479\n",
       "2     20-24        1688   471   1548   3707"
      ]
     },
     "execution_count": 6,
     "metadata": {},
     "output_type": "execute_result"
    }
   ],
   "source": [
    "base_table = base.pivot_table(index='age_range', values='id_patient',columns='departement',aggfunc='count',fill_value=0, margins=True,\n",
    "    margins_name = \"Total\"\n",
    ")[:-1]\n",
    "base_table = base_table.reset_index().rename_axis(None, axis=1)\n",
    "base_table = DataFrame(base_table.to_records(index=False))\n",
    "base_table\n",
    "#base_table.to_excel('base_total.xlsx',index=False,na_rep=\"\")"
   ]
  },
  {
   "cell_type": "markdown",
   "metadata": {},
   "source": [
    "# Education"
   ]
  },
  {
   "cell_type": "code",
   "execution_count": 7,
   "metadata": {},
   "outputs": [
    {
     "data": {
      "text/plain": [
       "153"
      ]
     },
     "execution_count": 7,
     "metadata": {},
     "output_type": "execute_result"
    },
    {
     "data": {
      "text/html": [
       "<div>\n",
       "<style scoped>\n",
       "    .dataframe tbody tr th:only-of-type {\n",
       "        vertical-align: middle;\n",
       "    }\n",
       "\n",
       "    .dataframe tbody tr th {\n",
       "        vertical-align: top;\n",
       "    }\n",
       "\n",
       "    .dataframe thead th {\n",
       "        text-align: right;\n",
       "    }\n",
       "</style>\n",
       "<table border=\"1\" class=\"dataframe\">\n",
       "  <thead>\n",
       "    <tr style=\"text-align: right;\">\n",
       "      <th>education</th>\n",
       "      <th>yes</th>\n",
       "      <th>Grand Total</th>\n",
       "    </tr>\n",
       "    <tr>\n",
       "      <th>age_range</th>\n",
       "      <th></th>\n",
       "      <th></th>\n",
       "    </tr>\n",
       "  </thead>\n",
       "  <tbody>\n",
       "    <tr>\n",
       "      <th>10-14</th>\n",
       "      <td>90</td>\n",
       "      <td>90</td>\n",
       "    </tr>\n",
       "    <tr>\n",
       "      <th>15-19</th>\n",
       "      <td>59</td>\n",
       "      <td>59</td>\n",
       "    </tr>\n",
       "    <tr>\n",
       "      <th>20-24</th>\n",
       "      <td>4</td>\n",
       "      <td>4</td>\n",
       "    </tr>\n",
       "    <tr>\n",
       "      <th>Grand Total</th>\n",
       "      <td>153</td>\n",
       "      <td>153</td>\n",
       "    </tr>\n",
       "  </tbody>\n",
       "</table>\n",
       "</div>"
      ],
      "text/plain": [
       "education    yes  Grand Total\n",
       "age_range                    \n",
       "10-14         90           90\n",
       "15-19         59           59\n",
       "20-24          4            4\n",
       "Grand Total  153          153"
      ]
     },
     "execution_count": 7,
     "metadata": {},
     "output_type": "execute_result"
    }
   ],
   "source": [
    "education_complet = base[\n",
    "    (base.education==\"yes\")\n",
    "]\n",
    "education_complet.id_patient.count()\n",
    "\n",
    "education_table = education_complet.pivot_table(index=\"age_range\",columns=\"education\",\n",
    "                        values='id_patient',\n",
    "                        aggfunc='count',\n",
    "                        fill_value=0,\n",
    "                        margins=True,\n",
    "                        margins_name=\"Grand Total\"                             \n",
    ")\n",
    "education_table"
   ]
  },
  {
   "cell_type": "markdown",
   "metadata": {},
   "source": [
    "# Curriculum"
   ]
  },
  {
   "cell_type": "code",
   "execution_count": 8,
   "metadata": {},
   "outputs": [
    {
     "data": {
      "text/plain": [
       "15887"
      ]
     },
     "execution_count": 8,
     "metadata": {},
     "output_type": "execute_result"
    },
    {
     "data": {
      "text/html": [
       "<div>\n",
       "<style scoped>\n",
       "    .dataframe tbody tr th:only-of-type {\n",
       "        vertical-align: middle;\n",
       "    }\n",
       "\n",
       "    .dataframe tbody tr th {\n",
       "        vertical-align: top;\n",
       "    }\n",
       "\n",
       "    .dataframe thead th {\n",
       "        text-align: right;\n",
       "    }\n",
       "</style>\n",
       "<table border=\"1\" class=\"dataframe\">\n",
       "  <thead>\n",
       "    <tr style=\"text-align: right;\">\n",
       "      <th>curriculum</th>\n",
       "      <th>yes</th>\n",
       "      <th>Grand Total</th>\n",
       "    </tr>\n",
       "    <tr>\n",
       "      <th>age_range</th>\n",
       "      <th></th>\n",
       "      <th></th>\n",
       "    </tr>\n",
       "  </thead>\n",
       "  <tbody>\n",
       "    <tr>\n",
       "      <th>10-14</th>\n",
       "      <td>6071</td>\n",
       "      <td>6071</td>\n",
       "    </tr>\n",
       "    <tr>\n",
       "      <th>15-19</th>\n",
       "      <td>6538</td>\n",
       "      <td>6538</td>\n",
       "    </tr>\n",
       "    <tr>\n",
       "      <th>20-24</th>\n",
       "      <td>3278</td>\n",
       "      <td>3278</td>\n",
       "    </tr>\n",
       "    <tr>\n",
       "      <th>Grand Total</th>\n",
       "      <td>15887</td>\n",
       "      <td>15887</td>\n",
       "    </tr>\n",
       "  </tbody>\n",
       "</table>\n",
       "</div>"
      ],
      "text/plain": [
       "curriculum     yes  Grand Total\n",
       "age_range                      \n",
       "10-14         6071         6071\n",
       "15-19         6538         6538\n",
       "20-24         3278         3278\n",
       "Grand Total  15887        15887"
      ]
     },
     "execution_count": 8,
     "metadata": {},
     "output_type": "execute_result"
    }
   ],
   "source": [
    "curriculum_complet = base[\n",
    "    (base.curriculum==\"yes\")\n",
    "]\n",
    "curriculum_complet.id_patient.count()\n",
    "\n",
    "curriculum_table = curriculum_complet.pivot_table(index=\"age_range\",columns=\"curriculum\",\n",
    "                        values='id_patient',\n",
    "                        aggfunc='count',\n",
    "                        fill_value=0,\n",
    "                        margins=True,\n",
    "                        margins_name=\"Grand Total\"                             \n",
    ")\n",
    "curriculum_table"
   ]
  },
  {
   "cell_type": "markdown",
   "metadata": {},
   "source": [
    "# least one curriculum"
   ]
  },
  {
   "cell_type": "code",
   "execution_count": 9,
   "metadata": {},
   "outputs": [
    {
     "data": {
      "text/plain": [
       "18265"
      ]
     },
     "execution_count": 9,
     "metadata": {},
     "output_type": "execute_result"
    },
    {
     "data": {
      "text/html": [
       "<div>\n",
       "<style scoped>\n",
       "    .dataframe tbody tr th:only-of-type {\n",
       "        vertical-align: middle;\n",
       "    }\n",
       "\n",
       "    .dataframe tbody tr th {\n",
       "        vertical-align: top;\n",
       "    }\n",
       "\n",
       "    .dataframe thead th {\n",
       "        text-align: right;\n",
       "    }\n",
       "</style>\n",
       "<table border=\"1\" class=\"dataframe\">\n",
       "  <thead>\n",
       "    <tr style=\"text-align: right;\">\n",
       "      <th>curriculum_detailed</th>\n",
       "      <th>has_started</th>\n",
       "      <th>yes</th>\n",
       "      <th>Grand Total</th>\n",
       "    </tr>\n",
       "    <tr>\n",
       "      <th>age_range</th>\n",
       "      <th></th>\n",
       "      <th></th>\n",
       "      <th></th>\n",
       "    </tr>\n",
       "  </thead>\n",
       "  <tbody>\n",
       "    <tr>\n",
       "      <th>10-14</th>\n",
       "      <td>1094</td>\n",
       "      <td>6071</td>\n",
       "      <td>7165</td>\n",
       "    </tr>\n",
       "    <tr>\n",
       "      <th>15-19</th>\n",
       "      <td>900</td>\n",
       "      <td>6538</td>\n",
       "      <td>7438</td>\n",
       "    </tr>\n",
       "    <tr>\n",
       "      <th>20-24</th>\n",
       "      <td>384</td>\n",
       "      <td>3278</td>\n",
       "      <td>3662</td>\n",
       "    </tr>\n",
       "    <tr>\n",
       "      <th>Grand Total</th>\n",
       "      <td>2378</td>\n",
       "      <td>15887</td>\n",
       "      <td>18265</td>\n",
       "    </tr>\n",
       "  </tbody>\n",
       "</table>\n",
       "</div>"
      ],
      "text/plain": [
       "curriculum_detailed  has_started    yes  Grand Total\n",
       "age_range                                           \n",
       "10-14                       1094   6071         7165\n",
       "15-19                        900   6538         7438\n",
       "20-24                        384   3278         3662\n",
       "Grand Total                 2378  15887        18265"
      ]
     },
     "execution_count": 9,
     "metadata": {},
     "output_type": "execute_result"
    }
   ],
   "source": [
    "curriculum_least = base[\n",
    "    (base.curriculum_detailed!=\"no\")\n",
    "]\n",
    "curriculum_least.id_patient.count()\n",
    "\n",
    "curriculum_table = curriculum_least.pivot_table(index=\"age_range\",columns=\"curriculum_detailed\",\n",
    "                        values='id_patient',\n",
    "                        aggfunc='count',\n",
    "                        fill_value=0,\n",
    "                        margins=True,\n",
    "                        margins_name=\"Grand Total\"                             \n",
    ")\n",
    "curriculum_table"
   ]
  },
  {
   "cell_type": "code",
   "execution_count": 10,
   "metadata": {},
   "outputs": [
    {
     "data": {
      "text/html": [
       "<div>\n",
       "<style scoped>\n",
       "    .dataframe tbody tr th:only-of-type {\n",
       "        vertical-align: middle;\n",
       "    }\n",
       "\n",
       "    .dataframe tbody tr th {\n",
       "        vertical-align: top;\n",
       "    }\n",
       "\n",
       "    .dataframe thead th {\n",
       "        text-align: right;\n",
       "    }\n",
       "</style>\n",
       "<table border=\"1\" class=\"dataframe\">\n",
       "  <thead>\n",
       "    <tr style=\"text-align: right;\">\n",
       "      <th>departement</th>\n",
       "      <th>Artibonite</th>\n",
       "      <th>Nord</th>\n",
       "      <th>Ouest</th>\n",
       "      <th>Total</th>\n",
       "    </tr>\n",
       "    <tr>\n",
       "      <th>age_range</th>\n",
       "      <th></th>\n",
       "      <th></th>\n",
       "      <th></th>\n",
       "      <th></th>\n",
       "    </tr>\n",
       "  </thead>\n",
       "  <tbody>\n",
       "    <tr>\n",
       "      <th>10-14</th>\n",
       "      <td>3781</td>\n",
       "      <td>728</td>\n",
       "      <td>2656</td>\n",
       "      <td>7165</td>\n",
       "    </tr>\n",
       "    <tr>\n",
       "      <th>15-19</th>\n",
       "      <td>3367</td>\n",
       "      <td>863</td>\n",
       "      <td>3208</td>\n",
       "      <td>7438</td>\n",
       "    </tr>\n",
       "    <tr>\n",
       "      <th>20-24</th>\n",
       "      <td>1660</td>\n",
       "      <td>463</td>\n",
       "      <td>1539</td>\n",
       "      <td>3662</td>\n",
       "    </tr>\n",
       "    <tr>\n",
       "      <th>Total</th>\n",
       "      <td>8808</td>\n",
       "      <td>2054</td>\n",
       "      <td>7403</td>\n",
       "      <td>18265</td>\n",
       "    </tr>\n",
       "  </tbody>\n",
       "</table>\n",
       "</div>"
      ],
      "text/plain": [
       "departement  Artibonite  Nord  Ouest  Total\n",
       "age_range                                  \n",
       "10-14              3781   728   2656   7165\n",
       "15-19              3367   863   3208   7438\n",
       "20-24              1660   463   1539   3662\n",
       "Total              8808  2054   7403  18265"
      ]
     },
     "execution_count": 10,
     "metadata": {},
     "output_type": "execute_result"
    }
   ],
   "source": [
    "curriculum_least.pivot_table(index='age_range', values='id_patient',columns='departement',aggfunc='count',fill_value=0, margins=True, margins_name=\"Total\")"
   ]
  },
  {
   "cell_type": "markdown",
   "metadata": {},
   "source": [
    "# Parenting"
   ]
  },
  {
   "cell_type": "code",
   "execution_count": 11,
   "metadata": {},
   "outputs": [
    {
     "data": {
      "text/plain": [
       "161"
      ]
     },
     "execution_count": 11,
     "metadata": {},
     "output_type": "execute_result"
    },
    {
     "data": {
      "text/html": [
       "<div>\n",
       "<style scoped>\n",
       "    .dataframe tbody tr th:only-of-type {\n",
       "        vertical-align: middle;\n",
       "    }\n",
       "\n",
       "    .dataframe tbody tr th {\n",
       "        vertical-align: top;\n",
       "    }\n",
       "\n",
       "    .dataframe thead th {\n",
       "        text-align: right;\n",
       "    }\n",
       "</style>\n",
       "<table border=\"1\" class=\"dataframe\">\n",
       "  <thead>\n",
       "    <tr style=\"text-align: right;\">\n",
       "      <th>parenting</th>\n",
       "      <th>yes</th>\n",
       "      <th>Grand Total</th>\n",
       "    </tr>\n",
       "    <tr>\n",
       "      <th>age_range</th>\n",
       "      <th></th>\n",
       "      <th></th>\n",
       "    </tr>\n",
       "  </thead>\n",
       "  <tbody>\n",
       "    <tr>\n",
       "      <th>10-14</th>\n",
       "      <td>75</td>\n",
       "      <td>75</td>\n",
       "    </tr>\n",
       "    <tr>\n",
       "      <th>15-19</th>\n",
       "      <td>86</td>\n",
       "      <td>86</td>\n",
       "    </tr>\n",
       "    <tr>\n",
       "      <th>Grand Total</th>\n",
       "      <td>161</td>\n",
       "      <td>161</td>\n",
       "    </tr>\n",
       "  </tbody>\n",
       "</table>\n",
       "</div>"
      ],
      "text/plain": [
       "parenting    yes  Grand Total\n",
       "age_range                    \n",
       "10-14         75           75\n",
       "15-19         86           86\n",
       "Grand Total  161          161"
      ]
     },
     "execution_count": 11,
     "metadata": {},
     "output_type": "execute_result"
    }
   ],
   "source": [
    "parenting = base[\n",
    "    (base.parenting==\"yes\")\n",
    "]\n",
    "parenting.id_patient.count()\n",
    "parenting_table = parenting.pivot_table(index=\"age_range\",columns=\"parenting\",\n",
    "                        values='id_patient',\n",
    "                        aggfunc='count',\n",
    "                        fill_value=0,\n",
    "                        margins=True,\n",
    "                        margins_name=\"Grand Total\"                             \n",
    ")\n",
    "parenting_table"
   ]
  },
  {
   "cell_type": "markdown",
   "metadata": {},
   "source": [
    "# least one session parenting"
   ]
  },
  {
   "cell_type": "code",
   "execution_count": 12,
   "metadata": {},
   "outputs": [
    {
     "name": "stdout",
     "output_type": "stream",
     "text": [
      "least one session parenting\n"
     ]
    },
    {
     "data": {
      "text/plain": [
       "373"
      ]
     },
     "execution_count": 12,
     "metadata": {},
     "output_type": "execute_result"
    },
    {
     "data": {
      "text/html": [
       "<div>\n",
       "<style scoped>\n",
       "    .dataframe tbody tr th:only-of-type {\n",
       "        vertical-align: middle;\n",
       "    }\n",
       "\n",
       "    .dataframe tbody tr th {\n",
       "        vertical-align: top;\n",
       "    }\n",
       "\n",
       "    .dataframe thead th {\n",
       "        text-align: right;\n",
       "    }\n",
       "</style>\n",
       "<table border=\"1\" class=\"dataframe\">\n",
       "  <thead>\n",
       "    <tr style=\"text-align: right;\">\n",
       "      <th>parenting_detailed</th>\n",
       "      <th>has_started</th>\n",
       "      <th>yes</th>\n",
       "      <th>Grand Total</th>\n",
       "    </tr>\n",
       "    <tr>\n",
       "      <th>commune</th>\n",
       "      <th></th>\n",
       "      <th></th>\n",
       "      <th></th>\n",
       "    </tr>\n",
       "  </thead>\n",
       "  <tbody>\n",
       "    <tr>\n",
       "      <th>Cap-Haïtien</th>\n",
       "      <td>18</td>\n",
       "      <td>0</td>\n",
       "      <td>18</td>\n",
       "    </tr>\n",
       "    <tr>\n",
       "      <th>Delmas</th>\n",
       "      <td>0</td>\n",
       "      <td>3</td>\n",
       "      <td>3</td>\n",
       "    </tr>\n",
       "    <tr>\n",
       "      <th>Desdunes</th>\n",
       "      <td>11</td>\n",
       "      <td>33</td>\n",
       "      <td>44</td>\n",
       "    </tr>\n",
       "    <tr>\n",
       "      <th>Dessalines</th>\n",
       "      <td>25</td>\n",
       "      <td>2</td>\n",
       "      <td>27</td>\n",
       "    </tr>\n",
       "    <tr>\n",
       "      <th>Grande Saline</th>\n",
       "      <td>14</td>\n",
       "      <td>2</td>\n",
       "      <td>16</td>\n",
       "    </tr>\n",
       "    <tr>\n",
       "      <th>Gressier</th>\n",
       "      <td>12</td>\n",
       "      <td>3</td>\n",
       "      <td>15</td>\n",
       "    </tr>\n",
       "    <tr>\n",
       "      <th>Kenscoff</th>\n",
       "      <td>13</td>\n",
       "      <td>34</td>\n",
       "      <td>47</td>\n",
       "    </tr>\n",
       "    <tr>\n",
       "      <th>La Chapelle</th>\n",
       "      <td>0</td>\n",
       "      <td>2</td>\n",
       "      <td>2</td>\n",
       "    </tr>\n",
       "    <tr>\n",
       "      <th>Liancourt</th>\n",
       "      <td>9</td>\n",
       "      <td>0</td>\n",
       "      <td>9</td>\n",
       "    </tr>\n",
       "    <tr>\n",
       "      <th>Limonade</th>\n",
       "      <td>5</td>\n",
       "      <td>0</td>\n",
       "      <td>5</td>\n",
       "    </tr>\n",
       "    <tr>\n",
       "      <th>Milot</th>\n",
       "      <td>6</td>\n",
       "      <td>0</td>\n",
       "      <td>6</td>\n",
       "    </tr>\n",
       "    <tr>\n",
       "      <th>Montrouis</th>\n",
       "      <td>5</td>\n",
       "      <td>2</td>\n",
       "      <td>7</td>\n",
       "    </tr>\n",
       "    <tr>\n",
       "      <th>Petite Rivière de l'Artibonite</th>\n",
       "      <td>0</td>\n",
       "      <td>7</td>\n",
       "      <td>7</td>\n",
       "    </tr>\n",
       "    <tr>\n",
       "      <th>Plaine-du-Nord</th>\n",
       "      <td>2</td>\n",
       "      <td>0</td>\n",
       "      <td>2</td>\n",
       "    </tr>\n",
       "    <tr>\n",
       "      <th>Port-au-Prince</th>\n",
       "      <td>20</td>\n",
       "      <td>8</td>\n",
       "      <td>28</td>\n",
       "    </tr>\n",
       "    <tr>\n",
       "      <th>Pétionville</th>\n",
       "      <td>38</td>\n",
       "      <td>18</td>\n",
       "      <td>56</td>\n",
       "    </tr>\n",
       "    <tr>\n",
       "      <th>Saint-Marc</th>\n",
       "      <td>2</td>\n",
       "      <td>2</td>\n",
       "      <td>4</td>\n",
       "    </tr>\n",
       "    <tr>\n",
       "      <th>Tabarre</th>\n",
       "      <td>24</td>\n",
       "      <td>41</td>\n",
       "      <td>65</td>\n",
       "    </tr>\n",
       "    <tr>\n",
       "      <th>Verrettes</th>\n",
       "      <td>8</td>\n",
       "      <td>4</td>\n",
       "      <td>12</td>\n",
       "    </tr>\n",
       "    <tr>\n",
       "      <th>Grand Total</th>\n",
       "      <td>212</td>\n",
       "      <td>161</td>\n",
       "      <td>373</td>\n",
       "    </tr>\n",
       "  </tbody>\n",
       "</table>\n",
       "</div>"
      ],
      "text/plain": [
       "parenting_detailed              has_started  yes  Grand Total\n",
       "commune                                                      \n",
       "Cap-Haïtien                              18    0           18\n",
       "Delmas                                    0    3            3\n",
       "Desdunes                                 11   33           44\n",
       "Dessalines                               25    2           27\n",
       "Grande Saline                            14    2           16\n",
       "Gressier                                 12    3           15\n",
       "Kenscoff                                 13   34           47\n",
       "La Chapelle                               0    2            2\n",
       "Liancourt                                 9    0            9\n",
       "Limonade                                  5    0            5\n",
       "Milot                                     6    0            6\n",
       "Montrouis                                 5    2            7\n",
       "Petite Rivière de l'Artibonite            0    7            7\n",
       "Plaine-du-Nord                            2    0            2\n",
       "Port-au-Prince                           20    8           28\n",
       "Pétionville                              38   18           56\n",
       "Saint-Marc                                2    2            4\n",
       "Tabarre                                  24   41           65\n",
       "Verrettes                                 8    4           12\n",
       "Grand Total                             212  161          373"
      ]
     },
     "execution_count": 12,
     "metadata": {},
     "output_type": "execute_result"
    },
    {
     "name": "stdout",
     "output_type": "stream",
     "text": [
      "has started strict\n"
     ]
    },
    {
     "data": {
      "text/plain": [
       "212"
      ]
     },
     "execution_count": 12,
     "metadata": {},
     "output_type": "execute_result"
    }
   ],
   "source": [
    "parenting_leastone= base[\n",
    "    (base.parenting_detailed!=\"no\")\n",
    "]\n",
    "\n",
    "print('least one session parenting')\n",
    "parenting_leastone.id_patient.count()\n",
    "\n",
    "parenting_leastone_table = parenting_leastone.pivot_table(index=\"commune\",columns=\"parenting_detailed\",\n",
    "                        values='id_patient',\n",
    "                        aggfunc='count',\n",
    "                        fill_value=0,\n",
    "                        margins=True,\n",
    "                        margins_name=\"Grand Total\"                             \n",
    ")\n",
    "parenting_leastone_table\n",
    "\n",
    "\n",
    "# ---------------\n",
    "\n",
    "parenting_started = base[\n",
    "    (base.parenting_detailed=='has_started')\n",
    "]\n",
    "print('has started strict')\n",
    "parenting_started.id_patient.count()"
   ]
  },
  {
   "cell_type": "code",
   "execution_count": 13,
   "metadata": {},
   "outputs": [
    {
     "data": {
      "text/plain": [
       "array([10,  1, 11,  2,  9,  8,  6,  4,  5,  3,  7], dtype=int16)"
      ]
     },
     "execution_count": 13,
     "metadata": {},
     "output_type": "execute_result"
    }
   ],
   "source": [
    "parenting_started.nbre_parenting_coupe_present.unique()"
   ]
  },
  {
   "cell_type": "markdown",
   "metadata": {},
   "source": [
    "# condoms"
   ]
  },
  {
   "cell_type": "code",
   "execution_count": 14,
   "metadata": {},
   "outputs": [
    {
     "data": {
      "text/plain": [
       "18016"
      ]
     },
     "execution_count": 14,
     "metadata": {},
     "output_type": "execute_result"
    },
    {
     "data": {
      "text/html": [
       "<div>\n",
       "<style scoped>\n",
       "    .dataframe tbody tr th:only-of-type {\n",
       "        vertical-align: middle;\n",
       "    }\n",
       "\n",
       "    .dataframe tbody tr th {\n",
       "        vertical-align: top;\n",
       "    }\n",
       "\n",
       "    .dataframe thead th {\n",
       "        text-align: right;\n",
       "    }\n",
       "</style>\n",
       "<table border=\"1\" class=\"dataframe\">\n",
       "  <thead>\n",
       "    <tr style=\"text-align: right;\">\n",
       "      <th>condom</th>\n",
       "      <th>yes</th>\n",
       "      <th>Grand Total</th>\n",
       "    </tr>\n",
       "    <tr>\n",
       "      <th>age_range</th>\n",
       "      <th></th>\n",
       "      <th></th>\n",
       "    </tr>\n",
       "  </thead>\n",
       "  <tbody>\n",
       "    <tr>\n",
       "      <th>10-14</th>\n",
       "      <td>6991</td>\n",
       "      <td>6991</td>\n",
       "    </tr>\n",
       "    <tr>\n",
       "      <th>15-19</th>\n",
       "      <td>7355</td>\n",
       "      <td>7355</td>\n",
       "    </tr>\n",
       "    <tr>\n",
       "      <th>20-24</th>\n",
       "      <td>3670</td>\n",
       "      <td>3670</td>\n",
       "    </tr>\n",
       "    <tr>\n",
       "      <th>Grand Total</th>\n",
       "      <td>18016</td>\n",
       "      <td>18016</td>\n",
       "    </tr>\n",
       "  </tbody>\n",
       "</table>\n",
       "</div>"
      ],
      "text/plain": [
       "condom         yes  Grand Total\n",
       "age_range                      \n",
       "10-14         6991         6991\n",
       "15-19         7355         7355\n",
       "20-24         3670         3670\n",
       "Grand Total  18016        18016"
      ]
     },
     "execution_count": 14,
     "metadata": {},
     "output_type": "execute_result"
    }
   ],
   "source": [
    "condom = base[\n",
    "    (base.condom==\"yes\")\n",
    "]\n",
    "condom.id_patient.count()\n",
    "\n",
    "condom_table = condom.pivot_table(index=\"age_range\",columns=\"condom\",\n",
    "                        values='id_patient',\n",
    "                        aggfunc='count',\n",
    "                        fill_value=0,\n",
    "                        margins=True,\n",
    "                        margins_name=\"Grand Total\"                             \n",
    ")\n",
    "condom_table"
   ]
  },
  {
   "cell_type": "markdown",
   "metadata": {},
   "source": [
    "# HTS"
   ]
  },
  {
   "cell_type": "code",
   "execution_count": 15,
   "metadata": {},
   "outputs": [
    {
     "data": {
      "text/plain": [
       "1529"
      ]
     },
     "execution_count": 15,
     "metadata": {},
     "output_type": "execute_result"
    },
    {
     "data": {
      "text/html": [
       "<div>\n",
       "<style scoped>\n",
       "    .dataframe tbody tr th:only-of-type {\n",
       "        vertical-align: middle;\n",
       "    }\n",
       "\n",
       "    .dataframe tbody tr th {\n",
       "        vertical-align: top;\n",
       "    }\n",
       "\n",
       "    .dataframe thead th {\n",
       "        text-align: right;\n",
       "    }\n",
       "</style>\n",
       "<table border=\"1\" class=\"dataframe\">\n",
       "  <thead>\n",
       "    <tr style=\"text-align: right;\">\n",
       "      <th>hts</th>\n",
       "      <th>yes</th>\n",
       "      <th>Grand Total</th>\n",
       "    </tr>\n",
       "    <tr>\n",
       "      <th>age_range</th>\n",
       "      <th></th>\n",
       "      <th></th>\n",
       "    </tr>\n",
       "  </thead>\n",
       "  <tbody>\n",
       "    <tr>\n",
       "      <th>10-14</th>\n",
       "      <td>144</td>\n",
       "      <td>144</td>\n",
       "    </tr>\n",
       "    <tr>\n",
       "      <th>15-19</th>\n",
       "      <td>655</td>\n",
       "      <td>655</td>\n",
       "    </tr>\n",
       "    <tr>\n",
       "      <th>20-24</th>\n",
       "      <td>730</td>\n",
       "      <td>730</td>\n",
       "    </tr>\n",
       "    <tr>\n",
       "      <th>Grand Total</th>\n",
       "      <td>1529</td>\n",
       "      <td>1529</td>\n",
       "    </tr>\n",
       "  </tbody>\n",
       "</table>\n",
       "</div>"
      ],
      "text/plain": [
       "hts           yes  Grand Total\n",
       "age_range                     \n",
       "10-14         144          144\n",
       "15-19         655          655\n",
       "20-24         730          730\n",
       "Grand Total  1529         1529"
      ]
     },
     "execution_count": 15,
     "metadata": {},
     "output_type": "execute_result"
    }
   ],
   "source": [
    "hts = base[\n",
    "    (base.hts==\"yes\")\n",
    "]\n",
    "hts.id_patient.count()\n",
    "\n",
    "hts_table = hts.pivot_table(index=\"age_range\",columns=\"hts\",\n",
    "                        values='id_patient',\n",
    "                        aggfunc='count',\n",
    "                        fill_value=0,\n",
    "                        margins=True,\n",
    "                        margins_name=\"Grand Total\"                             \n",
    ")\n",
    "hts_table"
   ]
  },
  {
   "cell_type": "markdown",
   "metadata": {},
   "source": [
    "# post violence care"
   ]
  },
  {
   "cell_type": "code",
   "execution_count": 16,
   "metadata": {},
   "outputs": [
    {
     "data": {
      "text/plain": [
       "502"
      ]
     },
     "execution_count": 16,
     "metadata": {},
     "output_type": "execute_result"
    },
    {
     "data": {
      "text/html": [
       "<div>\n",
       "<style scoped>\n",
       "    .dataframe tbody tr th:only-of-type {\n",
       "        vertical-align: middle;\n",
       "    }\n",
       "\n",
       "    .dataframe tbody tr th {\n",
       "        vertical-align: top;\n",
       "    }\n",
       "\n",
       "    .dataframe thead th {\n",
       "        text-align: right;\n",
       "    }\n",
       "</style>\n",
       "<table border=\"1\" class=\"dataframe\">\n",
       "  <thead>\n",
       "    <tr style=\"text-align: right;\">\n",
       "      <th>post_violence_care</th>\n",
       "      <th>yes</th>\n",
       "      <th>Grand Total</th>\n",
       "    </tr>\n",
       "    <tr>\n",
       "      <th>age_range</th>\n",
       "      <th></th>\n",
       "      <th></th>\n",
       "    </tr>\n",
       "  </thead>\n",
       "  <tbody>\n",
       "    <tr>\n",
       "      <th>10-14</th>\n",
       "      <td>46</td>\n",
       "      <td>46</td>\n",
       "    </tr>\n",
       "    <tr>\n",
       "      <th>15-19</th>\n",
       "      <td>298</td>\n",
       "      <td>298</td>\n",
       "    </tr>\n",
       "    <tr>\n",
       "      <th>20-24</th>\n",
       "      <td>158</td>\n",
       "      <td>158</td>\n",
       "    </tr>\n",
       "    <tr>\n",
       "      <th>Grand Total</th>\n",
       "      <td>502</td>\n",
       "      <td>502</td>\n",
       "    </tr>\n",
       "  </tbody>\n",
       "</table>\n",
       "</div>"
      ],
      "text/plain": [
       "post_violence_care  yes  Grand Total\n",
       "age_range                           \n",
       "10-14                46           46\n",
       "15-19               298          298\n",
       "20-24               158          158\n",
       "Grand Total         502          502"
      ]
     },
     "execution_count": 16,
     "metadata": {},
     "output_type": "execute_result"
    }
   ],
   "source": [
    "\n",
    "\n",
    "post_violence_care = base[\n",
    "    (base.post_violence_care==\"yes\")\n",
    "]\n",
    "post_violence_care.id_patient.count()\n",
    "\n",
    "post_violence_care_table = post_violence_care.pivot_table(index=\"age_range\",columns=\"post_violence_care\",\n",
    "                        values='id_patient',\n",
    "                        aggfunc='count',\n",
    "                        fill_value=0,\n",
    "                        margins=True,\n",
    "                        margins_name=\"Grand Total\"                             \n",
    ")\n",
    "post_violence_care_table"
   ]
  },
  {
   "cell_type": "code",
   "execution_count": 17,
   "metadata": {},
   "outputs": [
    {
     "data": {
      "text/plain": [
       "479"
      ]
     },
     "execution_count": 17,
     "metadata": {},
     "output_type": "execute_result"
    },
    {
     "data": {
      "text/html": [
       "<div>\n",
       "<style scoped>\n",
       "    .dataframe tbody tr th:only-of-type {\n",
       "        vertical-align: middle;\n",
       "    }\n",
       "\n",
       "    .dataframe tbody tr th {\n",
       "        vertical-align: top;\n",
       "    }\n",
       "\n",
       "    .dataframe thead th {\n",
       "        text-align: right;\n",
       "    }\n",
       "</style>\n",
       "<table border=\"1\" class=\"dataframe\">\n",
       "  <thead>\n",
       "    <tr style=\"text-align: right;\">\n",
       "      <th>vbg</th>\n",
       "      <th>yes</th>\n",
       "      <th>Grand Total</th>\n",
       "    </tr>\n",
       "    <tr>\n",
       "      <th>age_range</th>\n",
       "      <th></th>\n",
       "      <th></th>\n",
       "    </tr>\n",
       "  </thead>\n",
       "  <tbody>\n",
       "    <tr>\n",
       "      <th>10-14</th>\n",
       "      <td>42</td>\n",
       "      <td>42</td>\n",
       "    </tr>\n",
       "    <tr>\n",
       "      <th>15-19</th>\n",
       "      <td>288</td>\n",
       "      <td>288</td>\n",
       "    </tr>\n",
       "    <tr>\n",
       "      <th>20-24</th>\n",
       "      <td>149</td>\n",
       "      <td>149</td>\n",
       "    </tr>\n",
       "    <tr>\n",
       "      <th>Grand Total</th>\n",
       "      <td>479</td>\n",
       "      <td>479</td>\n",
       "    </tr>\n",
       "  </tbody>\n",
       "</table>\n",
       "</div>"
      ],
      "text/plain": [
       "vbg          yes  Grand Total\n",
       "age_range                    \n",
       "10-14         42           42\n",
       "15-19        288          288\n",
       "20-24        149          149\n",
       "Grand Total  479          479"
      ]
     },
     "execution_count": 17,
     "metadata": {},
     "output_type": "execute_result"
    }
   ],
   "source": [
    "\n",
    "\n",
    "vbg = base[\n",
    "    (base.vbg==\"yes\")\n",
    "]\n",
    "vbg.id_patient.count()\n",
    "\n",
    "vbg_table = vbg.pivot_table(index=\"age_range\",columns=\"vbg\",\n",
    "                        values='id_patient',\n",
    "                        aggfunc='count',\n",
    "                        fill_value=0,\n",
    "                        margins=True,\n",
    "                        margins_name=\"Grand Total\"                             \n",
    ")\n",
    "vbg_table\n",
    "\n",
    "#vbg.to_excel('vbg.xlsx',na_rep=\"\",index=False)"
   ]
  },
  {
   "cell_type": "code",
   "execution_count": 18,
   "metadata": {},
   "outputs": [
    {
     "data": {
      "text/plain": [
       "30"
      ]
     },
     "execution_count": 18,
     "metadata": {},
     "output_type": "execute_result"
    },
    {
     "data": {
      "text/html": [
       "<div>\n",
       "<style scoped>\n",
       "    .dataframe tbody tr th:only-of-type {\n",
       "        vertical-align: middle;\n",
       "    }\n",
       "\n",
       "    .dataframe tbody tr th {\n",
       "        vertical-align: top;\n",
       "    }\n",
       "\n",
       "    .dataframe thead th {\n",
       "        text-align: right;\n",
       "    }\n",
       "</style>\n",
       "<table border=\"1\" class=\"dataframe\">\n",
       "  <thead>\n",
       "    <tr style=\"text-align: right;\">\n",
       "      <th>gyneco</th>\n",
       "      <th>yes</th>\n",
       "      <th>Grand Total</th>\n",
       "    </tr>\n",
       "    <tr>\n",
       "      <th>age_range</th>\n",
       "      <th></th>\n",
       "      <th></th>\n",
       "    </tr>\n",
       "  </thead>\n",
       "  <tbody>\n",
       "    <tr>\n",
       "      <th>10-14</th>\n",
       "      <td>4</td>\n",
       "      <td>4</td>\n",
       "    </tr>\n",
       "    <tr>\n",
       "      <th>15-19</th>\n",
       "      <td>11</td>\n",
       "      <td>11</td>\n",
       "    </tr>\n",
       "    <tr>\n",
       "      <th>20-24</th>\n",
       "      <td>15</td>\n",
       "      <td>15</td>\n",
       "    </tr>\n",
       "    <tr>\n",
       "      <th>Grand Total</th>\n",
       "      <td>30</td>\n",
       "      <td>30</td>\n",
       "    </tr>\n",
       "  </tbody>\n",
       "</table>\n",
       "</div>"
      ],
      "text/plain": [
       "gyneco       yes  Grand Total\n",
       "age_range                    \n",
       "10-14          4            4\n",
       "15-19         11           11\n",
       "20-24         15           15\n",
       "Grand Total   30           30"
      ]
     },
     "execution_count": 18,
     "metadata": {},
     "output_type": "execute_result"
    }
   ],
   "source": [
    "\n",
    "\n",
    "gyneco = base[\n",
    "    (base.gyneco==\"yes\")\n",
    "]\n",
    "gyneco.id_patient.count()\n",
    "\n",
    "gyneco_table = gyneco.pivot_table(index=\"age_range\",columns=\"gyneco\",\n",
    "                        values='id_patient',\n",
    "                        aggfunc='count',\n",
    "                        fill_value=0,\n",
    "                        margins=True,\n",
    "                        margins_name=\"Grand Total\"                             \n",
    ")\n",
    "gyneco_table"
   ]
  },
  {
   "cell_type": "markdown",
   "metadata": {},
   "source": [
    "# Socio_eco_app"
   ]
  },
  {
   "cell_type": "code",
   "execution_count": 19,
   "metadata": {},
   "outputs": [
    {
     "data": {
      "text/plain": [
       "916"
      ]
     },
     "execution_count": 19,
     "metadata": {},
     "output_type": "execute_result"
    },
    {
     "data": {
      "text/html": [
       "<div>\n",
       "<style scoped>\n",
       "    .dataframe tbody tr th:only-of-type {\n",
       "        vertical-align: middle;\n",
       "    }\n",
       "\n",
       "    .dataframe tbody tr th {\n",
       "        vertical-align: top;\n",
       "    }\n",
       "\n",
       "    .dataframe thead th {\n",
       "        text-align: right;\n",
       "    }\n",
       "</style>\n",
       "<table border=\"1\" class=\"dataframe\">\n",
       "  <thead>\n",
       "    <tr style=\"text-align: right;\">\n",
       "      <th>socioeco_app</th>\n",
       "      <th>yes</th>\n",
       "      <th>Grand Total</th>\n",
       "    </tr>\n",
       "    <tr>\n",
       "      <th>age_range</th>\n",
       "      <th></th>\n",
       "      <th></th>\n",
       "    </tr>\n",
       "  </thead>\n",
       "  <tbody>\n",
       "    <tr>\n",
       "      <th>10-14</th>\n",
       "      <td>198</td>\n",
       "      <td>198</td>\n",
       "    </tr>\n",
       "    <tr>\n",
       "      <th>15-19</th>\n",
       "      <td>369</td>\n",
       "      <td>369</td>\n",
       "    </tr>\n",
       "    <tr>\n",
       "      <th>20-24</th>\n",
       "      <td>349</td>\n",
       "      <td>349</td>\n",
       "    </tr>\n",
       "    <tr>\n",
       "      <th>Grand Total</th>\n",
       "      <td>916</td>\n",
       "      <td>916</td>\n",
       "    </tr>\n",
       "  </tbody>\n",
       "</table>\n",
       "</div>"
      ],
      "text/plain": [
       "socioeco_app  yes  Grand Total\n",
       "age_range                     \n",
       "10-14         198          198\n",
       "15-19         369          369\n",
       "20-24         349          349\n",
       "Grand Total   916          916"
      ]
     },
     "execution_count": 19,
     "metadata": {},
     "output_type": "execute_result"
    }
   ],
   "source": [
    "\n",
    "socioeco_app = base[\n",
    "    (base.socioeco_app==\"yes\")\n",
    "]\n",
    "socioeco_app.id_patient.count()\n",
    "\n",
    "socioeco_app_table = socioeco_app.pivot_table(index=\"age_range\",columns=\"socioeco_app\",\n",
    "                        values='id_patient',\n",
    "                        aggfunc='count',\n",
    "                        fill_value=0,\n",
    "                        margins=True,\n",
    "                        margins_name=\"Grand Total\"                             \n",
    ")\n",
    "socioeco_app_table"
   ]
  },
  {
   "cell_type": "code",
   "execution_count": 20,
   "metadata": {},
   "outputs": [
    {
     "data": {
      "text/plain": [
       "63"
      ]
     },
     "execution_count": 20,
     "metadata": {},
     "output_type": "execute_result"
    },
    {
     "data": {
      "text/html": [
       "<div>\n",
       "<style scoped>\n",
       "    .dataframe tbody tr th:only-of-type {\n",
       "        vertical-align: middle;\n",
       "    }\n",
       "\n",
       "    .dataframe tbody tr th {\n",
       "        vertical-align: top;\n",
       "    }\n",
       "\n",
       "    .dataframe thead th {\n",
       "        text-align: right;\n",
       "    }\n",
       "</style>\n",
       "<table border=\"1\" class=\"dataframe\">\n",
       "  <thead>\n",
       "    <tr style=\"text-align: right;\">\n",
       "      <th>muso</th>\n",
       "      <th>yes</th>\n",
       "      <th>Grand Total</th>\n",
       "    </tr>\n",
       "    <tr>\n",
       "      <th>age_range</th>\n",
       "      <th></th>\n",
       "      <th></th>\n",
       "    </tr>\n",
       "  </thead>\n",
       "  <tbody>\n",
       "    <tr>\n",
       "      <th>10-14</th>\n",
       "      <td>5</td>\n",
       "      <td>5</td>\n",
       "    </tr>\n",
       "    <tr>\n",
       "      <th>15-19</th>\n",
       "      <td>8</td>\n",
       "      <td>8</td>\n",
       "    </tr>\n",
       "    <tr>\n",
       "      <th>20-24</th>\n",
       "      <td>50</td>\n",
       "      <td>50</td>\n",
       "    </tr>\n",
       "    <tr>\n",
       "      <th>Grand Total</th>\n",
       "      <td>63</td>\n",
       "      <td>63</td>\n",
       "    </tr>\n",
       "  </tbody>\n",
       "</table>\n",
       "</div>"
      ],
      "text/plain": [
       "muso         yes  Grand Total\n",
       "age_range                    \n",
       "10-14          5            5\n",
       "15-19          8            8\n",
       "20-24         50           50\n",
       "Grand Total   63           63"
      ]
     },
     "execution_count": 20,
     "metadata": {},
     "output_type": "execute_result"
    }
   ],
   "source": [
    "\n",
    "muso = base[\n",
    "    (base.muso==\"yes\")\n",
    "]\n",
    "muso.id_patient.count()\n",
    "\n",
    "muso_table = muso.pivot_table(index=\"age_range\",columns=\"muso\",\n",
    "                        values='id_patient',\n",
    "                        aggfunc='count',\n",
    "                        fill_value=0,\n",
    "                        margins=True,\n",
    "                        margins_name=\"Grand Total\"                             \n",
    ")\n",
    "muso_table"
   ]
  },
  {
   "cell_type": "code",
   "execution_count": 21,
   "metadata": {},
   "outputs": [
    {
     "data": {
      "text/plain": [
       "866"
      ]
     },
     "execution_count": 21,
     "metadata": {},
     "output_type": "execute_result"
    },
    {
     "data": {
      "text/html": [
       "<div>\n",
       "<style scoped>\n",
       "    .dataframe tbody tr th:only-of-type {\n",
       "        vertical-align: middle;\n",
       "    }\n",
       "\n",
       "    .dataframe tbody tr th {\n",
       "        vertical-align: top;\n",
       "    }\n",
       "\n",
       "    .dataframe thead th {\n",
       "        text-align: right;\n",
       "    }\n",
       "</style>\n",
       "<table border=\"1\" class=\"dataframe\">\n",
       "  <thead>\n",
       "    <tr style=\"text-align: right;\">\n",
       "      <th>gardening</th>\n",
       "      <th>yes</th>\n",
       "      <th>Grand Total</th>\n",
       "    </tr>\n",
       "    <tr>\n",
       "      <th>age_range</th>\n",
       "      <th></th>\n",
       "      <th></th>\n",
       "    </tr>\n",
       "  </thead>\n",
       "  <tbody>\n",
       "    <tr>\n",
       "      <th>10-14</th>\n",
       "      <td>193</td>\n",
       "      <td>193</td>\n",
       "    </tr>\n",
       "    <tr>\n",
       "      <th>15-19</th>\n",
       "      <td>362</td>\n",
       "      <td>362</td>\n",
       "    </tr>\n",
       "    <tr>\n",
       "      <th>20-24</th>\n",
       "      <td>311</td>\n",
       "      <td>311</td>\n",
       "    </tr>\n",
       "    <tr>\n",
       "      <th>Grand Total</th>\n",
       "      <td>866</td>\n",
       "      <td>866</td>\n",
       "    </tr>\n",
       "  </tbody>\n",
       "</table>\n",
       "</div>"
      ],
      "text/plain": [
       "gardening    yes  Grand Total\n",
       "age_range                    \n",
       "10-14        193          193\n",
       "15-19        362          362\n",
       "20-24        311          311\n",
       "Grand Total  866          866"
      ]
     },
     "execution_count": 21,
     "metadata": {},
     "output_type": "execute_result"
    }
   ],
   "source": [
    "\n",
    "gardening = base[\n",
    "    (base.gardening==\"yes\")\n",
    "]\n",
    "gardening.id_patient.count()\n",
    "\n",
    "gardening_table = gardening.pivot_table(index=\"age_range\",columns=\"gardening\",\n",
    "                        values='id_patient',\n",
    "                        aggfunc='count',\n",
    "                        fill_value=0,\n",
    "                        margins=True,\n",
    "                        margins_name=\"Grand Total\"                             \n",
    ")\n",
    "gardening_table"
   ]
  },
  {
   "cell_type": "markdown",
   "metadata": {},
   "source": [
    "# Prep"
   ]
  },
  {
   "cell_type": "code",
   "execution_count": 22,
   "metadata": {},
   "outputs": [
    {
     "data": {
      "text/plain": [
       "99"
      ]
     },
     "execution_count": 22,
     "metadata": {},
     "output_type": "execute_result"
    },
    {
     "data": {
      "text/html": [
       "<div>\n",
       "<style scoped>\n",
       "    .dataframe tbody tr th:only-of-type {\n",
       "        vertical-align: middle;\n",
       "    }\n",
       "\n",
       "    .dataframe tbody tr th {\n",
       "        vertical-align: top;\n",
       "    }\n",
       "\n",
       "    .dataframe thead th {\n",
       "        text-align: right;\n",
       "    }\n",
       "</style>\n",
       "<table border=\"1\" class=\"dataframe\">\n",
       "  <thead>\n",
       "    <tr style=\"text-align: right;\">\n",
       "      <th>prep</th>\n",
       "      <th>yes</th>\n",
       "      <th>Grand Total</th>\n",
       "    </tr>\n",
       "    <tr>\n",
       "      <th>age_range</th>\n",
       "      <th></th>\n",
       "      <th></th>\n",
       "    </tr>\n",
       "  </thead>\n",
       "  <tbody>\n",
       "    <tr>\n",
       "      <th>15-19</th>\n",
       "      <td>27</td>\n",
       "      <td>27</td>\n",
       "    </tr>\n",
       "    <tr>\n",
       "      <th>20-24</th>\n",
       "      <td>72</td>\n",
       "      <td>72</td>\n",
       "    </tr>\n",
       "    <tr>\n",
       "      <th>Grand Total</th>\n",
       "      <td>99</td>\n",
       "      <td>99</td>\n",
       "    </tr>\n",
       "  </tbody>\n",
       "</table>\n",
       "</div>"
      ],
      "text/plain": [
       "prep         yes  Grand Total\n",
       "age_range                    \n",
       "15-19         27           27\n",
       "20-24         72           72\n",
       "Grand Total   99           99"
      ]
     },
     "execution_count": 22,
     "metadata": {},
     "output_type": "execute_result"
    }
   ],
   "source": [
    "prep = base[\n",
    "    (base.prep==\"yes\")\n",
    "]\n",
    "prep.id_patient.count()\n",
    "\n",
    "prep_table = prep.pivot_table(index=\"age_range\",columns=\"prep\",\n",
    "                        values='id_patient',\n",
    "                        aggfunc='count',\n",
    "                        fill_value=0,\n",
    "                        margins=True,\n",
    "                        margins_name=\"Grand Total\"                             \n",
    ")\n",
    "prep_table\n",
    "\n",
    "\n",
    "#GOOD!!!!!"
   ]
  },
  {
   "cell_type": "code",
   "execution_count": 23,
   "metadata": {},
   "outputs": [
    {
     "data": {
      "text/plain": [
       "Index(['id_patient', 'id_parenting_group', 'departement', 'commune',\n",
       "       'nbre_pres_for_inter', 'nbre_parenting_coupe_present',\n",
       "       'has_comdom_topic', 'has_preventive_vbg',\n",
       "       'number_of_condoms_sensibilize',\n",
       "       'number_condoms_sensibilization_date_in_the_interval',\n",
       "       'number_condoms_reception_in_the_interval',\n",
       "       'number_hiv_test_awareness_date_in_the_interval', 'type_of_test_vih',\n",
       "       'number_autotest_date_in_the_interval',\n",
       "       'number_test_date_in_the_interval', 'test_results', 'autotest_result',\n",
       "       'number_hiv_treatment_start_date_in_the_interval',\n",
       "       'number_vbg_treatment_date_in_the_interval',\n",
       "       'number_gynecological_care_date_in_the_interval',\n",
       "       'number_prep_awareness_date_in_the_interval',\n",
       "       'number_prep_reference_date_in_the_interval',\n",
       "       'number_prep_initiation_date_in_the_interval',\n",
       "       'number_contraceptive_sensibilization_date_in_the_interval',\n",
       "       'number_contraceptive_reception_in_the_interval', 'age_in_year',\n",
       "       'age_range', 'ovc_age', 'date_interview', 'month_in_program_range',\n",
       "       'has_schooling_payment_in_the_interval', 'muso', 'gardening',\n",
       "       'has_a_service_with_date_in_the_past', 'education',\n",
       "       'parenting_detailed', 'parenting', 'curriculum_detailed', 'curriculum',\n",
       "       'condom', 'hts_awareness', 'hts_type_test', 'hts',\n",
       "       'hts_autotest_result', 'hts_test_result', 'hts_treatment_debut', 'vbg',\n",
       "       'gyneco', 'post_violence_care', 'socioeco_app', 'prep_awareness',\n",
       "       'prep_reference', 'prep', 'contraceptive_awareness', 'contraceptive',\n",
       "       'ps_1014', 'ps_1519', 'ps_2024', 'primary_only',\n",
       "       'primary_and_OneSecondary_services', 'completed_one_service',\n",
       "       'has_started_one_service'],\n",
       "      dtype='object')"
      ]
     },
     "execution_count": 23,
     "metadata": {},
     "output_type": "execute_result"
    }
   ],
   "source": [
    "prep.columns"
   ]
  },
  {
   "cell_type": "markdown",
   "metadata": {},
   "source": [
    "# Contraceptive"
   ]
  },
  {
   "cell_type": "code",
   "execution_count": 24,
   "metadata": {},
   "outputs": [
    {
     "data": {
      "text/plain": [
       "4"
      ]
     },
     "execution_count": 24,
     "metadata": {},
     "output_type": "execute_result"
    },
    {
     "data": {
      "text/html": [
       "<div>\n",
       "<style scoped>\n",
       "    .dataframe tbody tr th:only-of-type {\n",
       "        vertical-align: middle;\n",
       "    }\n",
       "\n",
       "    .dataframe tbody tr th {\n",
       "        vertical-align: top;\n",
       "    }\n",
       "\n",
       "    .dataframe thead th {\n",
       "        text-align: right;\n",
       "    }\n",
       "</style>\n",
       "<table border=\"1\" class=\"dataframe\">\n",
       "  <thead>\n",
       "    <tr style=\"text-align: right;\">\n",
       "      <th>contraceptive</th>\n",
       "      <th>yes</th>\n",
       "      <th>Grand Total</th>\n",
       "    </tr>\n",
       "    <tr>\n",
       "      <th>age_range</th>\n",
       "      <th></th>\n",
       "      <th></th>\n",
       "    </tr>\n",
       "  </thead>\n",
       "  <tbody>\n",
       "    <tr>\n",
       "      <th>15-19</th>\n",
       "      <td>1</td>\n",
       "      <td>1</td>\n",
       "    </tr>\n",
       "    <tr>\n",
       "      <th>20-24</th>\n",
       "      <td>3</td>\n",
       "      <td>3</td>\n",
       "    </tr>\n",
       "    <tr>\n",
       "      <th>Grand Total</th>\n",
       "      <td>4</td>\n",
       "      <td>4</td>\n",
       "    </tr>\n",
       "  </tbody>\n",
       "</table>\n",
       "</div>"
      ],
      "text/plain": [
       "contraceptive  yes  Grand Total\n",
       "age_range                      \n",
       "15-19            1            1\n",
       "20-24            3            3\n",
       "Grand Total      4            4"
      ]
     },
     "execution_count": 24,
     "metadata": {},
     "output_type": "execute_result"
    }
   ],
   "source": [
    "contraceptive = base[\n",
    "    (base.contraceptive==\"yes\")\n",
    "]\n",
    "contraceptive.id_patient.count()\n",
    "if contraceptive.id_patient.count() !=0:\n",
    "    contraceptive_table = contraceptive.pivot_table(index=\"age_range\",columns=\"contraceptive\",\n",
    "                            values='id_patient',\n",
    "                            aggfunc='count',\n",
    "                            fill_value=0,\n",
    "                            margins=True,\n",
    "                            margins_name=\"Grand Total\"                             \n",
    "    )\n",
    "    contraceptive_table"
   ]
  },
  {
   "cell_type": "markdown",
   "metadata": {},
   "source": [
    "# Primary_services"
   ]
  },
  {
   "cell_type": "code",
   "execution_count": 25,
   "metadata": {},
   "outputs": [
    {
     "data": {
      "text/plain": [
       "6071"
      ]
     },
     "execution_count": 25,
     "metadata": {},
     "output_type": "execute_result"
    },
    {
     "data": {
      "text/html": [
       "<div>\n",
       "<style scoped>\n",
       "    .dataframe tbody tr th:only-of-type {\n",
       "        vertical-align: middle;\n",
       "    }\n",
       "\n",
       "    .dataframe tbody tr th {\n",
       "        vertical-align: top;\n",
       "    }\n",
       "\n",
       "    .dataframe thead th {\n",
       "        text-align: right;\n",
       "    }\n",
       "</style>\n",
       "<table border=\"1\" class=\"dataframe\">\n",
       "  <thead>\n",
       "    <tr style=\"text-align: right;\">\n",
       "      <th>ps_1014</th>\n",
       "      <th>primary</th>\n",
       "      <th>Grand Total</th>\n",
       "    </tr>\n",
       "    <tr>\n",
       "      <th>age_range</th>\n",
       "      <th></th>\n",
       "      <th></th>\n",
       "    </tr>\n",
       "  </thead>\n",
       "  <tbody>\n",
       "    <tr>\n",
       "      <th>10-14</th>\n",
       "      <td>6071</td>\n",
       "      <td>6071</td>\n",
       "    </tr>\n",
       "    <tr>\n",
       "      <th>Grand Total</th>\n",
       "      <td>6071</td>\n",
       "      <td>6071</td>\n",
       "    </tr>\n",
       "  </tbody>\n",
       "</table>\n",
       "</div>"
      ],
      "text/plain": [
       "ps_1014      primary  Grand Total\n",
       "age_range                        \n",
       "10-14           6071         6071\n",
       "Grand Total     6071         6071"
      ]
     },
     "execution_count": 25,
     "metadata": {},
     "output_type": "execute_result"
    }
   ],
   "source": [
    "\n",
    "ps_1014 = base[\n",
    "    (base.ps_1014==\"primary\")\n",
    "]\n",
    "ps_1014.id_patient.count()\n",
    "\n",
    "ps_1014_table = ps_1014.pivot_table(index=\"age_range\",columns=\"ps_1014\",\n",
    "                        values='id_patient',\n",
    "                        aggfunc='count',\n",
    "                        fill_value=0,\n",
    "                        margins=True,\n",
    "                        margins_name=\"Grand Total\"                             \n",
    ")\n",
    "ps_1014_table\n"
   ]
  },
  {
   "cell_type": "code",
   "execution_count": 26,
   "metadata": {},
   "outputs": [
    {
     "data": {
      "text/plain": [
       "6538"
      ]
     },
     "execution_count": 26,
     "metadata": {},
     "output_type": "execute_result"
    },
    {
     "data": {
      "text/html": [
       "<div>\n",
       "<style scoped>\n",
       "    .dataframe tbody tr th:only-of-type {\n",
       "        vertical-align: middle;\n",
       "    }\n",
       "\n",
       "    .dataframe tbody tr th {\n",
       "        vertical-align: top;\n",
       "    }\n",
       "\n",
       "    .dataframe thead th {\n",
       "        text-align: right;\n",
       "    }\n",
       "</style>\n",
       "<table border=\"1\" class=\"dataframe\">\n",
       "  <thead>\n",
       "    <tr style=\"text-align: right;\">\n",
       "      <th>ps_1519</th>\n",
       "      <th>primary</th>\n",
       "      <th>Grand Total</th>\n",
       "    </tr>\n",
       "    <tr>\n",
       "      <th>age_range</th>\n",
       "      <th></th>\n",
       "      <th></th>\n",
       "    </tr>\n",
       "  </thead>\n",
       "  <tbody>\n",
       "    <tr>\n",
       "      <th>15-19</th>\n",
       "      <td>6538</td>\n",
       "      <td>6538</td>\n",
       "    </tr>\n",
       "    <tr>\n",
       "      <th>Grand Total</th>\n",
       "      <td>6538</td>\n",
       "      <td>6538</td>\n",
       "    </tr>\n",
       "  </tbody>\n",
       "</table>\n",
       "</div>"
      ],
      "text/plain": [
       "ps_1519      primary  Grand Total\n",
       "age_range                        \n",
       "15-19           6538         6538\n",
       "Grand Total     6538         6538"
      ]
     },
     "execution_count": 26,
     "metadata": {},
     "output_type": "execute_result"
    }
   ],
   "source": [
    "\n",
    "ps_1519 = base[\n",
    "    (base.ps_1519==\"primary\")\n",
    "]\n",
    "ps_1519.id_patient.count()\n",
    "\n",
    "ps_1519_table = ps_1519.pivot_table(index=\"age_range\",columns=\"ps_1519\",\n",
    "                        values='id_patient',\n",
    "                        aggfunc='count',\n",
    "                        fill_value=0,\n",
    "                        margins=True,\n",
    "                        margins_name=\"Grand Total\"                             \n",
    ")\n",
    "ps_1519_table\n"
   ]
  },
  {
   "cell_type": "code",
   "execution_count": 27,
   "metadata": {},
   "outputs": [
    {
     "data": {
      "text/plain": [
       "3278"
      ]
     },
     "execution_count": 27,
     "metadata": {},
     "output_type": "execute_result"
    },
    {
     "data": {
      "text/html": [
       "<div>\n",
       "<style scoped>\n",
       "    .dataframe tbody tr th:only-of-type {\n",
       "        vertical-align: middle;\n",
       "    }\n",
       "\n",
       "    .dataframe tbody tr th {\n",
       "        vertical-align: top;\n",
       "    }\n",
       "\n",
       "    .dataframe thead th {\n",
       "        text-align: right;\n",
       "    }\n",
       "</style>\n",
       "<table border=\"1\" class=\"dataframe\">\n",
       "  <thead>\n",
       "    <tr style=\"text-align: right;\">\n",
       "      <th>ps_2024</th>\n",
       "      <th>primary</th>\n",
       "      <th>Grand Total</th>\n",
       "    </tr>\n",
       "    <tr>\n",
       "      <th>age_range</th>\n",
       "      <th></th>\n",
       "      <th></th>\n",
       "    </tr>\n",
       "  </thead>\n",
       "  <tbody>\n",
       "    <tr>\n",
       "      <th>20-24</th>\n",
       "      <td>3278</td>\n",
       "      <td>3278</td>\n",
       "    </tr>\n",
       "    <tr>\n",
       "      <th>Grand Total</th>\n",
       "      <td>3278</td>\n",
       "      <td>3278</td>\n",
       "    </tr>\n",
       "  </tbody>\n",
       "</table>\n",
       "</div>"
      ],
      "text/plain": [
       "ps_2024      primary  Grand Total\n",
       "age_range                        \n",
       "20-24           3278         3278\n",
       "Grand Total     3278         3278"
      ]
     },
     "execution_count": 27,
     "metadata": {},
     "output_type": "execute_result"
    }
   ],
   "source": [
    "\n",
    "ps_2024 = base[\n",
    "    (base.ps_2024==\"primary\")\n",
    "]\n",
    "ps_2024.id_patient.count()\n",
    "\n",
    "ps_2024_table = ps_2024.pivot_table(index=\"age_range\",columns=\"ps_2024\",\n",
    "                        values='id_patient',\n",
    "                        aggfunc='count',\n",
    "                        fill_value=0,\n",
    "                        margins=True,\n",
    "                        margins_name=\"Grand Total\"                             \n",
    ")\n",
    "ps_2024_table\n"
   ]
  },
  {
   "cell_type": "markdown",
   "metadata": {},
   "source": [
    "# find scenarios"
   ]
  },
  {
   "cell_type": "code",
   "execution_count": 28,
   "metadata": {},
   "outputs": [
    {
     "data": {
      "text/plain": [
       "' repart_parenting =DataFrame.from_dict(parenting_leastone.commune.value_counts().to_dict(),orient=\\'index\\',columns=[\\'nombre_de_beneficiaires\\'])\\nrepart_parenting.to_excel(\\'./parenting_repartition_beneficiaires/repartition_parenting_par_commune.xlsx\\',index=True,na_rep=\"\")\\nhts.to_excel(\\'./hivTested/hivTestedBeneficiairies.xlsx\\',index=False,na_rep=\"\")\\nparenting.to_excel(\\'./parenting_repartition_beneficiaires/parenting_completed.xlsx\\',na_rep=\"\",index=False)\\nparenting_started.to_excel(\\'./parenting_repartition_beneficiaires/parenting_has_started.xlsx\\',na_rep=\"\",index=False)\\n '"
      ]
     },
     "execution_count": 28,
     "metadata": {},
     "output_type": "execute_result"
    }
   ],
   "source": [
    "\"\"\" repart_parenting =DataFrame.from_dict(parenting_leastone.commune.value_counts().to_dict(),orient='index',columns=['nombre_de_beneficiaires'])\n",
    "repart_parenting.to_excel('./parenting_repartition_beneficiaires/repartition_parenting_par_commune.xlsx',index=True,na_rep=\"\")\n",
    "hts.to_excel('./hivTested/hivTestedBeneficiairies.xlsx',index=False,na_rep=\"\")\n",
    "parenting.to_excel('./parenting_repartition_beneficiaires/parenting_completed.xlsx',na_rep=\"\",index=False)\n",
    "parenting_started.to_excel('./parenting_repartition_beneficiaires/parenting_has_started.xlsx',na_rep=\"\",index=False)\n",
    " \"\"\"\n",
    "#repart_parenting\n"
   ]
  },
  {
   "cell_type": "code",
   "execution_count": null,
   "metadata": {},
   "outputs": [],
   "source": []
  }
 ],
 "metadata": {
  "kernelspec": {
   "display_name": "Python 3.10.4 64-bit",
   "language": "python",
   "name": "python3"
  },
  "language_info": {
   "codemirror_mode": {
    "name": "ipython",
    "version": 3
   },
   "file_extension": ".py",
   "mimetype": "text/x-python",
   "name": "python",
   "nbconvert_exporter": "python",
   "pygments_lexer": "ipython3",
   "version": "3.10.7"
  },
  "orig_nbformat": 4,
  "vscode": {
   "interpreter": {
    "hash": "b460384b52104c1e5b9cf54bee46a255d22b2bef338f75ac4ad5d48196028d3c"
   }
  }
 },
 "nbformat": 4,
 "nbformat_minor": 2
}
