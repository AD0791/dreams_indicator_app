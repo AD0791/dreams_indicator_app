{
 "cells": [
  {
   "cell_type": "code",
   "execution_count": 1,
   "metadata": {},
   "outputs": [],
   "source": [
    "%%capture\n",
    "\n",
    "from IPython.core.interactiveshell import InteractiveShell\n",
    "InteractiveShell.ast_node_interactivity = \"all\"\n",
    "from datetime import datetime\n",
    "date_du_jour = datetime.today().strftime(\"%d_%m_%Y\")\n",
    "from pandas import DataFrame, ExcelWriter\n",
    "import openpyxl\n",
    "\n",
    "from comcare import driver\n",
    "from caregiver import id_parent_served, parents, sdata, id_parent_completed \n",
    "from handler import name_handler\n"
   ]
  },
  {
   "cell_type": "code",
   "execution_count": 2,
   "metadata": {},
   "outputs": [],
   "source": [
    "%%capture\n",
    "id_parent_served.drop_duplicates('id_patient',inplace=True)\n",
    "id_parent_completed.drop_duplicates('id_patient',inplace=True)\n",
    "parents.drop_duplicates('code',inplace=True)\n",
    "sdata.drop_duplicates('case_id',inplace=True)\n"
   ]
  },
  {
   "cell_type": "code",
   "execution_count": 3,
   "metadata": {},
   "outputs": [
    {
     "data": {
      "text/plain": [
       "218"
      ]
     },
     "execution_count": 3,
     "metadata": {},
     "output_type": "execute_result"
    },
    {
     "data": {
      "text/plain": [
       "218"
      ]
     },
     "execution_count": 3,
     "metadata": {},
     "output_type": "execute_result"
    },
    {
     "data": {
      "text/plain": [
       "662"
      ]
     },
     "execution_count": 3,
     "metadata": {},
     "output_type": "execute_result"
    },
    {
     "data": {
      "text/plain": [
       "84386"
      ]
     },
     "execution_count": 3,
     "metadata": {},
     "output_type": "execute_result"
    }
   ],
   "source": [
    "id_parent_served.id_patient.count()\n",
    "id_parent_completed.id_patient.count()\n",
    "parents.code.count()\n",
    "sdata.case_id.count()\n"
   ]
  },
  {
   "cell_type": "code",
   "execution_count": 4,
   "metadata": {},
   "outputs": [
    {
     "data": {
      "text/plain": [
       "218"
      ]
     },
     "execution_count": 4,
     "metadata": {},
     "output_type": "execute_result"
    },
    {
     "data": {
      "text/plain": [
       "218"
      ]
     },
     "execution_count": 4,
     "metadata": {},
     "output_type": "execute_result"
    }
   ],
   "source": [
    "lc_idparentserved = sdata[sdata.id_patient.isin(id_parent_served.id_patient)]\n",
    "lc_ips = lc_idparentserved[['id_patient','code']]\n",
    "lc_idparentserved.code.count()\n",
    "lc_ips.code.count()\n"
   ]
  },
  {
   "cell_type": "code",
   "execution_count": 5,
   "metadata": {},
   "outputs": [
    {
     "data": {
      "text/plain": [
       "218"
      ]
     },
     "execution_count": 5,
     "metadata": {},
     "output_type": "execute_result"
    },
    {
     "data": {
      "text/plain": [
       "0"
      ]
     },
     "execution_count": 5,
     "metadata": {},
     "output_type": "execute_result"
    }
   ],
   "source": [
    "code_in_parents = lc_ips[lc_ips.code.isin(parents.code)]\n",
    "code_notIn_parents = lc_ips[~lc_ips.code.isin(parents.code)]\n",
    "\n",
    "code_in_parents.code.count()\n",
    "code_notIn_parents.code.count()\n"
   ]
  },
  {
   "cell_type": "markdown",
   "metadata": {},
   "source": [
    "# the completed"
   ]
  },
  {
   "cell_type": "code",
   "execution_count": 6,
   "metadata": {},
   "outputs": [
    {
     "data": {
      "text/plain": [
       "218"
      ]
     },
     "execution_count": 6,
     "metadata": {},
     "output_type": "execute_result"
    },
    {
     "data": {
      "text/plain": [
       "0"
      ]
     },
     "execution_count": 6,
     "metadata": {},
     "output_type": "execute_result"
    }
   ],
   "source": [
    "id_parent_completed[id_parent_completed.id_patient.isin(code_in_parents.id_patient)].id_patient.count()\n",
    "id_parent_completed[~id_parent_completed.id_patient.isin(code_in_parents.id_patient)].id_patient.count()\n",
    "\n",
    "importantMissing = id_parent_completed[~id_parent_completed.id_patient.isin(code_in_parents.id_patient)]\n",
    "importantMissing = sdata[sdata.id_patient.isin(importantMissing.id_patient)]\n"
   ]
  },
  {
   "cell_type": "markdown",
   "metadata": {},
   "source": [
    "\n",
    "# COnclusion\n",
    "\n",
    "\n",
    "- fosref must add \"Code_notIn_parents\" for the caregiver\n",
    "- code_in_parents are Datim whorty"
   ]
  },
  {
   "cell_type": "markdown",
   "metadata": {},
   "source": [
    "## not in parents"
   ]
  },
  {
   "cell_type": "code",
   "execution_count": 7,
   "metadata": {},
   "outputs": [
    {
     "data": {
      "text/plain": [
       "0"
      ]
     },
     "execution_count": 7,
     "metadata": {},
     "output_type": "execute_result"
    }
   ],
   "source": [
    "missing_FAP = sdata[sdata.id_patient.isin(code_notIn_parents.id_patient)]\n",
    "missing_FAP.id_patient.count()\n"
   ]
  },
  {
   "cell_type": "markdown",
   "metadata": {},
   "source": [
    "# in parents - datim"
   ]
  },
  {
   "cell_type": "code",
   "execution_count": 8,
   "metadata": {},
   "outputs": [
    {
     "data": {
      "text/html": [
       "<div>\n",
       "<style scoped>\n",
       "    .dataframe tbody tr th:only-of-type {\n",
       "        vertical-align: middle;\n",
       "    }\n",
       "\n",
       "    .dataframe tbody tr th {\n",
       "        vertical-align: top;\n",
       "    }\n",
       "\n",
       "    .dataframe thead th {\n",
       "        text-align: right;\n",
       "    }\n",
       "</style>\n",
       "<table border=\"1\" class=\"dataframe\">\n",
       "  <thead>\n",
       "    <tr style=\"text-align: right;\">\n",
       "      <th></th>\n",
       "      <th>code</th>\n",
       "      <th>photo_konsantman</th>\n",
       "      <th>non_paran_responsab</th>\n",
       "      <th>Gender</th>\n",
       "      <th>commune</th>\n",
       "      <th>age_paran</th>\n",
       "      <th>age_ovc</th>\n",
       "      <th>age_status</th>\n",
       "    </tr>\n",
       "  </thead>\n",
       "  <tbody>\n",
       "    <tr>\n",
       "      <th>0</th>\n",
       "      <td>PAP/DRMS/032129105</td>\n",
       "      <td>---</td>\n",
       "      <td>Rachelle Metellus</td>\n",
       "      <td>Female</td>\n",
       "      <td>kenscoff</td>\n",
       "      <td>32</td>\n",
       "      <td>18+</td>\n",
       "      <td>normal</td>\n",
       "    </tr>\n",
       "    <tr>\n",
       "      <th>1</th>\n",
       "      <td>PAP/DRMS/031160607</td>\n",
       "      <td>---</td>\n",
       "      <td>Cafina Telcy</td>\n",
       "      <td>Female</td>\n",
       "      <td>tabarre</td>\n",
       "      <td>28</td>\n",
       "      <td>18+</td>\n",
       "      <td>normal</td>\n",
       "    </tr>\n",
       "    <tr>\n",
       "      <th>2</th>\n",
       "      <td>PAP/DRMS/030158015</td>\n",
       "      <td>---</td>\n",
       "      <td>Veus Chalina</td>\n",
       "      <td>Female</td>\n",
       "      <td>tabarre</td>\n",
       "      <td>41</td>\n",
       "      <td>18+</td>\n",
       "      <td>normal</td>\n",
       "    </tr>\n",
       "    <tr>\n",
       "      <th>3</th>\n",
       "      <td>PAP/DRMS/122140802</td>\n",
       "      <td>---</td>\n",
       "      <td>Dieula Joseph Rosmé</td>\n",
       "      <td>Female</td>\n",
       "      <td>kenscoff</td>\n",
       "      <td>43</td>\n",
       "      <td>18+</td>\n",
       "      <td>normal</td>\n",
       "    </tr>\n",
       "    <tr>\n",
       "      <th>4</th>\n",
       "      <td>PAP/DRMS/097068702</td>\n",
       "      <td>---</td>\n",
       "      <td>hhhhhb</td>\n",
       "      <td>Female</td>\n",
       "      <td>tabarre</td>\n",
       "      <td>39</td>\n",
       "      <td>18+</td>\n",
       "      <td>normal</td>\n",
       "    </tr>\n",
       "    <tr>\n",
       "      <th>...</th>\n",
       "      <td>...</td>\n",
       "      <td>...</td>\n",
       "      <td>...</td>\n",
       "      <td>...</td>\n",
       "      <td>...</td>\n",
       "      <td>...</td>\n",
       "      <td>...</td>\n",
       "      <td>...</td>\n",
       "    </tr>\n",
       "    <tr>\n",
       "      <th>658</th>\n",
       "      <td>PAP/DRMS/178403409</td>\n",
       "      <td>---</td>\n",
       "      <td>jean charles</td>\n",
       "      <td>Female</td>\n",
       "      <td>port-au-prince</td>\n",
       "      <td>30</td>\n",
       "      <td>18+</td>\n",
       "      <td>normal</td>\n",
       "    </tr>\n",
       "    <tr>\n",
       "      <th>659</th>\n",
       "      <td>PAP/DRMS/178396410</td>\n",
       "      <td>---</td>\n",
       "      <td>leon</td>\n",
       "      <td>Female</td>\n",
       "      <td>port-au-prince</td>\n",
       "      <td>30</td>\n",
       "      <td>18+</td>\n",
       "      <td>normal</td>\n",
       "    </tr>\n",
       "    <tr>\n",
       "      <th>660</th>\n",
       "      <td>PAP/DRMS/093427611</td>\n",
       "      <td>---</td>\n",
       "      <td>nougaisse</td>\n",
       "      <td>Female</td>\n",
       "      <td>port-au-prince</td>\n",
       "      <td>30</td>\n",
       "      <td>18+</td>\n",
       "      <td>normal</td>\n",
       "    </tr>\n",
       "    <tr>\n",
       "      <th>661</th>\n",
       "      <td>PAP/DRMS/236418904</td>\n",
       "      <td>---</td>\n",
       "      <td>saint jean</td>\n",
       "      <td>Male</td>\n",
       "      <td>port-au-prince</td>\n",
       "      <td>30</td>\n",
       "      <td>18+</td>\n",
       "      <td>normal</td>\n",
       "    </tr>\n",
       "    <tr>\n",
       "      <th>662</th>\n",
       "      <td>PAP/DRMS/039205909</td>\n",
       "      <td>---</td>\n",
       "      <td>germain</td>\n",
       "      <td>Female</td>\n",
       "      <td>NaN</td>\n",
       "      <td>30</td>\n",
       "      <td>18+</td>\n",
       "      <td>normal</td>\n",
       "    </tr>\n",
       "  </tbody>\n",
       "</table>\n",
       "<p>663 rows × 8 columns</p>\n",
       "</div>"
      ],
      "text/plain": [
       "                   code photo_konsantman  non_paran_responsab  Gender  \\\n",
       "0    PAP/DRMS/032129105              ---    Rachelle Metellus  Female   \n",
       "1    PAP/DRMS/031160607              ---         Cafina Telcy  Female   \n",
       "2    PAP/DRMS/030158015              ---         Veus Chalina  Female   \n",
       "3    PAP/DRMS/122140802              ---  Dieula Joseph Rosmé  Female   \n",
       "4    PAP/DRMS/097068702              ---               hhhhhb  Female   \n",
       "..                  ...              ...                  ...     ...   \n",
       "658  PAP/DRMS/178403409              ---         jean charles  Female   \n",
       "659  PAP/DRMS/178396410              ---                 leon  Female   \n",
       "660  PAP/DRMS/093427611              ---            nougaisse  Female   \n",
       "661  PAP/DRMS/236418904              ---           saint jean    Male   \n",
       "662  PAP/DRMS/039205909              ---              germain  Female   \n",
       "\n",
       "            commune  age_paran age_ovc age_status  \n",
       "0          kenscoff         32     18+     normal  \n",
       "1           tabarre         28     18+     normal  \n",
       "2           tabarre         41     18+     normal  \n",
       "3          kenscoff         43     18+     normal  \n",
       "4           tabarre         39     18+     normal  \n",
       "..              ...        ...     ...        ...  \n",
       "658  port-au-prince         30     18+     normal  \n",
       "659  port-au-prince         30     18+     normal  \n",
       "660  port-au-prince         30     18+     normal  \n",
       "661  port-au-prince         30     18+     normal  \n",
       "662             NaN         30     18+     normal  \n",
       "\n",
       "[663 rows x 8 columns]"
      ]
     },
     "execution_count": 8,
     "metadata": {},
     "output_type": "execute_result"
    }
   ],
   "source": [
    "parents\n"
   ]
  },
  {
   "cell_type": "code",
   "execution_count": 9,
   "metadata": {},
   "outputs": [
    {
     "data": {
      "text/plain": [
       "218"
      ]
     },
     "execution_count": 9,
     "metadata": {},
     "output_type": "execute_result"
    },
    {
     "data": {
      "text/plain": [
       "218"
      ]
     },
     "execution_count": 9,
     "metadata": {},
     "output_type": "execute_result"
    }
   ],
   "source": [
    "found_FAP = sdata[sdata.id_patient.isin(code_in_parents.id_patient)]\n",
    "found_FAP.id_patient.count()\n",
    "\n",
    "cip = code_in_parents[['code']]\n",
    "parents_reportable = cip.merge(parents,how='left',on='code')\n",
    "parents_reportable.code.count()\n"
   ]
  },
  {
   "cell_type": "code",
   "execution_count": 10,
   "metadata": {},
   "outputs": [],
   "source": [
    "fap = found_FAP[['code','commune']]\n"
   ]
  },
  {
   "cell_type": "code",
   "execution_count": 11,
   "metadata": {},
   "outputs": [
    {
     "name": "stderr",
     "output_type": "stream",
     "text": [
      "/var/folders/7v/rs0k237d6nj3vdxfc1h7xtcw0000gn/T/ipykernel_35818/2526466104.py:1: SettingWithCopyWarning: \n",
      "A value is trying to be set on a copy of a slice from a DataFrame\n",
      "\n",
      "See the caveats in the documentation: https://pandas.pydata.org/pandas-docs/stable/user_guide/indexing.html#returning-a-view-versus-a-copy\n",
      "  fap.rename(\n"
     ]
    }
   ],
   "source": [
    "fap.rename(\n",
    "    columns={\"commune\":\"commune_on_dsd\"},\n",
    "    inplace=True\n",
    ")\n"
   ]
  },
  {
   "cell_type": "code",
   "execution_count": 12,
   "metadata": {},
   "outputs": [],
   "source": [
    "parents_reportable  = fap.merge(parents_reportable,on=\"code\",how='left')\n"
   ]
  },
  {
   "cell_type": "code",
   "execution_count": 13,
   "metadata": {},
   "outputs": [],
   "source": [
    "parents_reportable.fillna(\"---\",inplace=True)\n"
   ]
  },
  {
   "cell_type": "code",
   "execution_count": 14,
   "metadata": {},
   "outputs": [
    {
     "data": {
      "text/html": [
       "<div>\n",
       "<style scoped>\n",
       "    .dataframe tbody tr th:only-of-type {\n",
       "        vertical-align: middle;\n",
       "    }\n",
       "\n",
       "    .dataframe tbody tr th {\n",
       "        vertical-align: top;\n",
       "    }\n",
       "\n",
       "    .dataframe thead th {\n",
       "        text-align: right;\n",
       "    }\n",
       "</style>\n",
       "<table border=\"1\" class=\"dataframe\">\n",
       "  <thead>\n",
       "    <tr style=\"text-align: right;\">\n",
       "      <th></th>\n",
       "      <th>code</th>\n",
       "      <th>commune_on_dsd</th>\n",
       "      <th>photo_konsantman</th>\n",
       "      <th>non_paran_responsab</th>\n",
       "      <th>Gender</th>\n",
       "      <th>commune</th>\n",
       "      <th>age_paran</th>\n",
       "      <th>age_ovc</th>\n",
       "      <th>age_status</th>\n",
       "    </tr>\n",
       "  </thead>\n",
       "  <tbody>\n",
       "    <tr>\n",
       "      <th>0</th>\n",
       "      <td>PAP/DRMS/230425801</td>\n",
       "      <td>tabarre</td>\n",
       "      <td>---</td>\n",
       "      <td>Jeannot</td>\n",
       "      <td>Male</td>\n",
       "      <td>tabarre</td>\n",
       "      <td>30</td>\n",
       "      <td>18+</td>\n",
       "      <td>normal</td>\n",
       "    </tr>\n",
       "    <tr>\n",
       "      <th>1</th>\n",
       "      <td>PAP/DRMS/094281401</td>\n",
       "      <td>petion_ville</td>\n",
       "      <td>---</td>\n",
       "      <td>Pierre Saint</td>\n",
       "      <td>Male</td>\n",
       "      <td>petion_ville</td>\n",
       "      <td>30</td>\n",
       "      <td>18+</td>\n",
       "      <td>normal</td>\n",
       "    </tr>\n",
       "    <tr>\n",
       "      <th>2</th>\n",
       "      <td>PAP/DRMS/039370801</td>\n",
       "      <td>carrefour</td>\n",
       "      <td>---</td>\n",
       "      <td>Juissance</td>\n",
       "      <td>Male</td>\n",
       "      <td>carrefour</td>\n",
       "      <td>30</td>\n",
       "      <td>18+</td>\n",
       "      <td>normal</td>\n",
       "    </tr>\n",
       "    <tr>\n",
       "      <th>3</th>\n",
       "      <td>GON/DRMS/058245556</td>\n",
       "      <td>dessalines</td>\n",
       "      <td>---</td>\n",
       "      <td>Vixama</td>\n",
       "      <td>Male</td>\n",
       "      <td>dessalines</td>\n",
       "      <td>30</td>\n",
       "      <td>18+</td>\n",
       "      <td>normal</td>\n",
       "    </tr>\n",
       "    <tr>\n",
       "      <th>4</th>\n",
       "      <td>PAP/DRMS/046201301</td>\n",
       "      <td>desdunes</td>\n",
       "      <td>---</td>\n",
       "      <td>Dorval</td>\n",
       "      <td>Male</td>\n",
       "      <td>desdunes</td>\n",
       "      <td>30</td>\n",
       "      <td>18+</td>\n",
       "      <td>normal</td>\n",
       "    </tr>\n",
       "    <tr>\n",
       "      <th>...</th>\n",
       "      <td>...</td>\n",
       "      <td>...</td>\n",
       "      <td>...</td>\n",
       "      <td>...</td>\n",
       "      <td>...</td>\n",
       "      <td>...</td>\n",
       "      <td>...</td>\n",
       "      <td>...</td>\n",
       "      <td>...</td>\n",
       "    </tr>\n",
       "    <tr>\n",
       "      <th>213</th>\n",
       "      <td>GON/DRMS/062461915</td>\n",
       "      <td>verrettes</td>\n",
       "      <td>---</td>\n",
       "      <td>Jeantilus</td>\n",
       "      <td>Male</td>\n",
       "      <td>verrettes</td>\n",
       "      <td>30</td>\n",
       "      <td>18+</td>\n",
       "      <td>normal</td>\n",
       "    </tr>\n",
       "    <tr>\n",
       "      <th>214</th>\n",
       "      <td>GON/DRMS/062461918</td>\n",
       "      <td>verrettes</td>\n",
       "      <td>---</td>\n",
       "      <td>Filius</td>\n",
       "      <td>Male</td>\n",
       "      <td>verrettes</td>\n",
       "      <td>30</td>\n",
       "      <td>18+</td>\n",
       "      <td>normal</td>\n",
       "    </tr>\n",
       "    <tr>\n",
       "      <th>215</th>\n",
       "      <td>GON/DRMS/062093606</td>\n",
       "      <td>verrettes</td>\n",
       "      <td>---</td>\n",
       "      <td>Albert Marie Maude</td>\n",
       "      <td>Female</td>\n",
       "      <td>verrettes</td>\n",
       "      <td>40</td>\n",
       "      <td>18+</td>\n",
       "      <td>normal</td>\n",
       "    </tr>\n",
       "    <tr>\n",
       "      <th>216</th>\n",
       "      <td>GON/DRMS/065143528</td>\n",
       "      <td>desdunes</td>\n",
       "      <td>---</td>\n",
       "      <td>Francois Diamil</td>\n",
       "      <td>Male</td>\n",
       "      <td>desdunes</td>\n",
       "      <td>-1</td>\n",
       "      <td>18+</td>\n",
       "      <td>aCorrige</td>\n",
       "    </tr>\n",
       "    <tr>\n",
       "      <th>217</th>\n",
       "      <td>GON/DRMS/062419102</td>\n",
       "      <td>verrettes</td>\n",
       "      <td>---</td>\n",
       "      <td>Dantes</td>\n",
       "      <td>Female</td>\n",
       "      <td>verrettes</td>\n",
       "      <td>30</td>\n",
       "      <td>18+</td>\n",
       "      <td>normal</td>\n",
       "    </tr>\n",
       "  </tbody>\n",
       "</table>\n",
       "<p>218 rows × 9 columns</p>\n",
       "</div>"
      ],
      "text/plain": [
       "                   code commune_on_dsd photo_konsantman non_paran_responsab  \\\n",
       "0    PAP/DRMS/230425801        tabarre              ---             Jeannot   \n",
       "1    PAP/DRMS/094281401   petion_ville              ---        Pierre Saint   \n",
       "2    PAP/DRMS/039370801      carrefour              ---           Juissance   \n",
       "3    GON/DRMS/058245556     dessalines              ---              Vixama   \n",
       "4    PAP/DRMS/046201301       desdunes              ---              Dorval   \n",
       "..                  ...            ...              ...                 ...   \n",
       "213  GON/DRMS/062461915      verrettes              ---           Jeantilus   \n",
       "214  GON/DRMS/062461918      verrettes              ---              Filius   \n",
       "215  GON/DRMS/062093606      verrettes              ---  Albert Marie Maude   \n",
       "216  GON/DRMS/065143528       desdunes              ---     Francois Diamil   \n",
       "217  GON/DRMS/062419102      verrettes              ---              Dantes   \n",
       "\n",
       "     Gender       commune  age_paran age_ovc age_status  \n",
       "0      Male       tabarre         30     18+     normal  \n",
       "1      Male  petion_ville         30     18+     normal  \n",
       "2      Male     carrefour         30     18+     normal  \n",
       "3      Male    dessalines         30     18+     normal  \n",
       "4      Male      desdunes         30     18+     normal  \n",
       "..      ...           ...        ...     ...        ...  \n",
       "213    Male     verrettes         30     18+     normal  \n",
       "214    Male     verrettes         30     18+     normal  \n",
       "215  Female     verrettes         40     18+     normal  \n",
       "216    Male      desdunes         -1     18+   aCorrige  \n",
       "217  Female     verrettes         30     18+     normal  \n",
       "\n",
       "[218 rows x 9 columns]"
      ]
     },
     "execution_count": 14,
     "metadata": {},
     "output_type": "execute_result"
    }
   ],
   "source": [
    "parents_reportable\n"
   ]
  },
  {
   "cell_type": "code",
   "execution_count": 15,
   "metadata": {},
   "outputs": [],
   "source": [
    "\n",
    "\n",
    "\n",
    "# assume commune_on_dsd is compplete\n",
    "\n",
    "parents_reportable['commune'] = parents_reportable['commune_on_dsd'].where(\n",
    "    parents_reportable['commune'].isin([\"---\"]),\n",
    "    other= parents['commune']\n",
    ")\n"
   ]
  },
  {
   "cell_type": "code",
   "execution_count": 16,
   "metadata": {},
   "outputs": [
    {
     "data": {
      "text/plain": [
       "(218, 9)"
      ]
     },
     "execution_count": 16,
     "metadata": {},
     "output_type": "execute_result"
    }
   ],
   "source": [
    "parents_reportable.shape\n"
   ]
  },
  {
   "cell_type": "code",
   "execution_count": 17,
   "metadata": {},
   "outputs": [
    {
     "data": {
      "text/plain": [
       "Male      139\n",
       "Female     79\n",
       "Name: Gender, dtype: int64"
      ]
     },
     "execution_count": 17,
     "metadata": {},
     "output_type": "execute_result"
    }
   ],
   "source": [
    "parents_reportable.Gender.value_counts()\n"
   ]
  },
  {
   "cell_type": "code",
   "execution_count": 18,
   "metadata": {},
   "outputs": [
    {
     "data": {
      "text/plain": [
       "18+    218\n",
       "Name: age_ovc, dtype: int64"
      ]
     },
     "execution_count": 18,
     "metadata": {},
     "output_type": "execute_result"
    }
   ],
   "source": [
    "parents_reportable.age_ovc.value_counts()\n"
   ]
  },
  {
   "cell_type": "code",
   "execution_count": 19,
   "metadata": {},
   "outputs": [
    {
     "data": {
      "text/plain": [
       "218"
      ]
     },
     "execution_count": 19,
     "metadata": {},
     "output_type": "execute_result"
    }
   ],
   "source": [
    "parents_reportable.commune.value_counts().sum()\n"
   ]
  },
  {
   "cell_type": "code",
   "execution_count": 20,
   "metadata": {},
   "outputs": [
    {
     "data": {
      "text/html": [
       "<div>\n",
       "<style scoped>\n",
       "    .dataframe tbody tr th:only-of-type {\n",
       "        vertical-align: middle;\n",
       "    }\n",
       "\n",
       "    .dataframe tbody tr th {\n",
       "        vertical-align: top;\n",
       "    }\n",
       "\n",
       "    .dataframe thead tr th {\n",
       "        text-align: left;\n",
       "    }\n",
       "\n",
       "    .dataframe thead tr:last-of-type th {\n",
       "        text-align: right;\n",
       "    }\n",
       "</style>\n",
       "<table border=\"1\" class=\"dataframe\">\n",
       "  <thead>\n",
       "    <tr>\n",
       "      <th>Gender</th>\n",
       "      <th>Female</th>\n",
       "      <th>Male</th>\n",
       "    </tr>\n",
       "    <tr>\n",
       "      <th>age_ovc</th>\n",
       "      <th>18+</th>\n",
       "      <th>18+</th>\n",
       "    </tr>\n",
       "    <tr>\n",
       "      <th>commune</th>\n",
       "      <th></th>\n",
       "      <th></th>\n",
       "    </tr>\n",
       "  </thead>\n",
       "  <tbody>\n",
       "    <tr>\n",
       "      <th>carrefour</th>\n",
       "      <td>1</td>\n",
       "      <td>0</td>\n",
       "    </tr>\n",
       "    <tr>\n",
       "      <th>delmas</th>\n",
       "      <td>1</td>\n",
       "      <td>3</td>\n",
       "    </tr>\n",
       "    <tr>\n",
       "      <th>desdunes</th>\n",
       "      <td>7</td>\n",
       "      <td>5</td>\n",
       "    </tr>\n",
       "    <tr>\n",
       "      <th>dessalines</th>\n",
       "      <td>9</td>\n",
       "      <td>7</td>\n",
       "    </tr>\n",
       "    <tr>\n",
       "      <th>grande-saline</th>\n",
       "      <td>2</td>\n",
       "      <td>3</td>\n",
       "    </tr>\n",
       "    <tr>\n",
       "      <th>kenscoff</th>\n",
       "      <td>39</td>\n",
       "      <td>81</td>\n",
       "    </tr>\n",
       "    <tr>\n",
       "      <th>la_chapelle</th>\n",
       "      <td>0</td>\n",
       "      <td>3</td>\n",
       "    </tr>\n",
       "    <tr>\n",
       "      <th>petion_ville</th>\n",
       "      <td>0</td>\n",
       "      <td>2</td>\n",
       "    </tr>\n",
       "    <tr>\n",
       "      <th>petite_rivire_de_lartibonite</th>\n",
       "      <td>1</td>\n",
       "      <td>3</td>\n",
       "    </tr>\n",
       "    <tr>\n",
       "      <th>port-au-prince</th>\n",
       "      <td>1</td>\n",
       "      <td>0</td>\n",
       "    </tr>\n",
       "    <tr>\n",
       "      <th>saint-marc</th>\n",
       "      <td>0</td>\n",
       "      <td>3</td>\n",
       "    </tr>\n",
       "    <tr>\n",
       "      <th>tabarre</th>\n",
       "      <td>9</td>\n",
       "      <td>18</td>\n",
       "    </tr>\n",
       "    <tr>\n",
       "      <th>verrettes</th>\n",
       "      <td>9</td>\n",
       "      <td>11</td>\n",
       "    </tr>\n",
       "  </tbody>\n",
       "</table>\n",
       "</div>"
      ],
      "text/plain": [
       "Gender                       Female Male\n",
       "age_ovc                         18+  18+\n",
       "commune                                 \n",
       "carrefour                         1    0\n",
       "delmas                            1    3\n",
       "desdunes                          7    5\n",
       "dessalines                        9    7\n",
       "grande-saline                     2    3\n",
       "kenscoff                         39   81\n",
       "la_chapelle                       0    3\n",
       "petion_ville                      0    2\n",
       "petite_rivire_de_lartibonite      1    3\n",
       "port-au-prince                    1    0\n",
       "saint-marc                        0    3\n",
       "tabarre                           9   18\n",
       "verrettes                         9   11"
      ]
     },
     "execution_count": 20,
     "metadata": {},
     "output_type": "execute_result"
    }
   ],
   "source": [
    "parents_reportable.pivot_table(index=\"commune\",values=\"code\",columns=[\"Gender\",\"age_ovc\"],aggfunc='count',fill_value=0)\n"
   ]
  },
  {
   "cell_type": "code",
   "execution_count": 21,
   "metadata": {},
   "outputs": [],
   "source": [
    "datim = parents_reportable.pivot_table(index=\"commune\",values=\"code\",columns=[\"Gender\",\"age_ovc\"],aggfunc='count',fill_value=0)\n"
   ]
  },
  {
   "cell_type": "code",
   "execution_count": 22,
   "metadata": {},
   "outputs": [
    {
     "data": {
      "text/html": [
       "<div>\n",
       "<style scoped>\n",
       "    .dataframe tbody tr th:only-of-type {\n",
       "        vertical-align: middle;\n",
       "    }\n",
       "\n",
       "    .dataframe tbody tr th {\n",
       "        vertical-align: top;\n",
       "    }\n",
       "\n",
       "    .dataframe thead tr th {\n",
       "        text-align: left;\n",
       "    }\n",
       "\n",
       "    .dataframe thead tr:last-of-type th {\n",
       "        text-align: right;\n",
       "    }\n",
       "</style>\n",
       "<table border=\"1\" class=\"dataframe\">\n",
       "  <thead>\n",
       "    <tr>\n",
       "      <th>Gender</th>\n",
       "      <th colspan=\"6\" halign=\"left\">Female</th>\n",
       "      <th colspan=\"6\" halign=\"left\">Male</th>\n",
       "    </tr>\n",
       "    <tr>\n",
       "      <th>age_ovc</th>\n",
       "      <th>&lt;1</th>\n",
       "      <th>1-4</th>\n",
       "      <th>5-9</th>\n",
       "      <th>10-14</th>\n",
       "      <th>15-17</th>\n",
       "      <th>18+</th>\n",
       "      <th>&lt;1</th>\n",
       "      <th>1-4</th>\n",
       "      <th>5-9</th>\n",
       "      <th>10-14</th>\n",
       "      <th>15-17</th>\n",
       "      <th>18+</th>\n",
       "    </tr>\n",
       "    <tr>\n",
       "      <th>commune</th>\n",
       "      <th></th>\n",
       "      <th></th>\n",
       "      <th></th>\n",
       "      <th></th>\n",
       "      <th></th>\n",
       "      <th></th>\n",
       "      <th></th>\n",
       "      <th></th>\n",
       "      <th></th>\n",
       "      <th></th>\n",
       "      <th></th>\n",
       "      <th></th>\n",
       "    </tr>\n",
       "  </thead>\n",
       "  <tbody>\n",
       "    <tr>\n",
       "      <th>carrefour</th>\n",
       "      <td>0</td>\n",
       "      <td>0</td>\n",
       "      <td>0</td>\n",
       "      <td>0</td>\n",
       "      <td>0</td>\n",
       "      <td>1</td>\n",
       "      <td>0</td>\n",
       "      <td>0</td>\n",
       "      <td>0</td>\n",
       "      <td>0</td>\n",
       "      <td>0</td>\n",
       "      <td>0</td>\n",
       "    </tr>\n",
       "    <tr>\n",
       "      <th>delmas</th>\n",
       "      <td>0</td>\n",
       "      <td>0</td>\n",
       "      <td>0</td>\n",
       "      <td>0</td>\n",
       "      <td>0</td>\n",
       "      <td>1</td>\n",
       "      <td>0</td>\n",
       "      <td>0</td>\n",
       "      <td>0</td>\n",
       "      <td>0</td>\n",
       "      <td>0</td>\n",
       "      <td>3</td>\n",
       "    </tr>\n",
       "    <tr>\n",
       "      <th>desdunes</th>\n",
       "      <td>0</td>\n",
       "      <td>0</td>\n",
       "      <td>0</td>\n",
       "      <td>0</td>\n",
       "      <td>0</td>\n",
       "      <td>7</td>\n",
       "      <td>0</td>\n",
       "      <td>0</td>\n",
       "      <td>0</td>\n",
       "      <td>0</td>\n",
       "      <td>0</td>\n",
       "      <td>5</td>\n",
       "    </tr>\n",
       "    <tr>\n",
       "      <th>dessalines</th>\n",
       "      <td>0</td>\n",
       "      <td>0</td>\n",
       "      <td>0</td>\n",
       "      <td>0</td>\n",
       "      <td>0</td>\n",
       "      <td>9</td>\n",
       "      <td>0</td>\n",
       "      <td>0</td>\n",
       "      <td>0</td>\n",
       "      <td>0</td>\n",
       "      <td>0</td>\n",
       "      <td>7</td>\n",
       "    </tr>\n",
       "    <tr>\n",
       "      <th>grande-saline</th>\n",
       "      <td>0</td>\n",
       "      <td>0</td>\n",
       "      <td>0</td>\n",
       "      <td>0</td>\n",
       "      <td>0</td>\n",
       "      <td>2</td>\n",
       "      <td>0</td>\n",
       "      <td>0</td>\n",
       "      <td>0</td>\n",
       "      <td>0</td>\n",
       "      <td>0</td>\n",
       "      <td>3</td>\n",
       "    </tr>\n",
       "    <tr>\n",
       "      <th>kenscoff</th>\n",
       "      <td>0</td>\n",
       "      <td>0</td>\n",
       "      <td>0</td>\n",
       "      <td>0</td>\n",
       "      <td>0</td>\n",
       "      <td>39</td>\n",
       "      <td>0</td>\n",
       "      <td>0</td>\n",
       "      <td>0</td>\n",
       "      <td>0</td>\n",
       "      <td>0</td>\n",
       "      <td>81</td>\n",
       "    </tr>\n",
       "    <tr>\n",
       "      <th>la_chapelle</th>\n",
       "      <td>0</td>\n",
       "      <td>0</td>\n",
       "      <td>0</td>\n",
       "      <td>0</td>\n",
       "      <td>0</td>\n",
       "      <td>0</td>\n",
       "      <td>0</td>\n",
       "      <td>0</td>\n",
       "      <td>0</td>\n",
       "      <td>0</td>\n",
       "      <td>0</td>\n",
       "      <td>3</td>\n",
       "    </tr>\n",
       "    <tr>\n",
       "      <th>petion_ville</th>\n",
       "      <td>0</td>\n",
       "      <td>0</td>\n",
       "      <td>0</td>\n",
       "      <td>0</td>\n",
       "      <td>0</td>\n",
       "      <td>0</td>\n",
       "      <td>0</td>\n",
       "      <td>0</td>\n",
       "      <td>0</td>\n",
       "      <td>0</td>\n",
       "      <td>0</td>\n",
       "      <td>2</td>\n",
       "    </tr>\n",
       "    <tr>\n",
       "      <th>petite_rivire_de_lartibonite</th>\n",
       "      <td>0</td>\n",
       "      <td>0</td>\n",
       "      <td>0</td>\n",
       "      <td>0</td>\n",
       "      <td>0</td>\n",
       "      <td>1</td>\n",
       "      <td>0</td>\n",
       "      <td>0</td>\n",
       "      <td>0</td>\n",
       "      <td>0</td>\n",
       "      <td>0</td>\n",
       "      <td>3</td>\n",
       "    </tr>\n",
       "    <tr>\n",
       "      <th>port-au-prince</th>\n",
       "      <td>0</td>\n",
       "      <td>0</td>\n",
       "      <td>0</td>\n",
       "      <td>0</td>\n",
       "      <td>0</td>\n",
       "      <td>1</td>\n",
       "      <td>0</td>\n",
       "      <td>0</td>\n",
       "      <td>0</td>\n",
       "      <td>0</td>\n",
       "      <td>0</td>\n",
       "      <td>0</td>\n",
       "    </tr>\n",
       "    <tr>\n",
       "      <th>saint-marc</th>\n",
       "      <td>0</td>\n",
       "      <td>0</td>\n",
       "      <td>0</td>\n",
       "      <td>0</td>\n",
       "      <td>0</td>\n",
       "      <td>0</td>\n",
       "      <td>0</td>\n",
       "      <td>0</td>\n",
       "      <td>0</td>\n",
       "      <td>0</td>\n",
       "      <td>0</td>\n",
       "      <td>3</td>\n",
       "    </tr>\n",
       "    <tr>\n",
       "      <th>tabarre</th>\n",
       "      <td>0</td>\n",
       "      <td>0</td>\n",
       "      <td>0</td>\n",
       "      <td>0</td>\n",
       "      <td>0</td>\n",
       "      <td>9</td>\n",
       "      <td>0</td>\n",
       "      <td>0</td>\n",
       "      <td>0</td>\n",
       "      <td>0</td>\n",
       "      <td>0</td>\n",
       "      <td>18</td>\n",
       "    </tr>\n",
       "    <tr>\n",
       "      <th>verrettes</th>\n",
       "      <td>0</td>\n",
       "      <td>0</td>\n",
       "      <td>0</td>\n",
       "      <td>0</td>\n",
       "      <td>0</td>\n",
       "      <td>9</td>\n",
       "      <td>0</td>\n",
       "      <td>0</td>\n",
       "      <td>0</td>\n",
       "      <td>0</td>\n",
       "      <td>0</td>\n",
       "      <td>11</td>\n",
       "    </tr>\n",
       "  </tbody>\n",
       "</table>\n",
       "</div>"
      ],
      "text/plain": [
       "Gender                       Female                         Male          \\\n",
       "age_ovc                          <1 1-4 5-9 10-14 15-17 18+   <1 1-4 5-9   \n",
       "commune                                                                    \n",
       "carrefour                         0   0   0     0     0   1    0   0   0   \n",
       "delmas                            0   0   0     0     0   1    0   0   0   \n",
       "desdunes                          0   0   0     0     0   7    0   0   0   \n",
       "dessalines                        0   0   0     0     0   9    0   0   0   \n",
       "grande-saline                     0   0   0     0     0   2    0   0   0   \n",
       "kenscoff                          0   0   0     0     0  39    0   0   0   \n",
       "la_chapelle                       0   0   0     0     0   0    0   0   0   \n",
       "petion_ville                      0   0   0     0     0   0    0   0   0   \n",
       "petite_rivire_de_lartibonite      0   0   0     0     0   1    0   0   0   \n",
       "port-au-prince                    0   0   0     0     0   1    0   0   0   \n",
       "saint-marc                        0   0   0     0     0   0    0   0   0   \n",
       "tabarre                           0   0   0     0     0   9    0   0   0   \n",
       "verrettes                         0   0   0     0     0   9    0   0   0   \n",
       "\n",
       "Gender                                        \n",
       "age_ovc                      10-14 15-17 18+  \n",
       "commune                                       \n",
       "carrefour                        0     0   0  \n",
       "delmas                           0     0   3  \n",
       "desdunes                         0     0   5  \n",
       "dessalines                       0     0   7  \n",
       "grande-saline                    0     0   3  \n",
       "kenscoff                         0     0  81  \n",
       "la_chapelle                      0     0   3  \n",
       "petion_ville                     0     0   2  \n",
       "petite_rivire_de_lartibonite     0     0   3  \n",
       "port-au-prince                   0     0   0  \n",
       "saint-marc                       0     0   3  \n",
       "tabarre                          0     0  18  \n",
       "verrettes                        0     0  11  "
      ]
     },
     "execution_count": 22,
     "metadata": {},
     "output_type": "execute_result"
    }
   ],
   "source": [
    "datim[('Female','<1')] = 0\n",
    "datim[('Female','1-4')] = 0\n",
    "datim[('Female','5-9')] = 0\n",
    "datim[('Female','10-14')] = 0\n",
    "datim[('Female','15-17')] = 0\n",
    "datim[('Male','<1')] = 0\n",
    "datim[('Male','1-4')] = 0\n",
    "datim[('Male','5-9')] = 0\n",
    "datim[('Male','10-14')] = 0\n",
    "datim[('Male','15-17')] = 0\n",
    "\n",
    "columns_orientation =[\n",
    "    ('Female','<1'),\n",
    "    ('Female','1-4'),\n",
    "    ('Female','5-9'),\n",
    "    ('Female','10-14'),\n",
    "    ('Female','15-17'),   \n",
    "    ('Female','18+'),  \n",
    "    ('Male','<1'),\n",
    "    ('Male','1-4'),\n",
    "    ('Male','5-9'),\n",
    "    ('Male','10-14'),\n",
    "    ('Male','15-17'),   \n",
    "    ('Male','18+'),   \n",
    "]\n",
    "\n",
    "datim = datim.reindex(columns= columns_orientation)\n",
    "datim\n"
   ]
  },
  {
   "cell_type": "markdown",
   "metadata": {},
   "source": [
    "# REPORT"
   ]
  },
  {
   "cell_type": "code",
   "execution_count": 23,
   "metadata": {},
   "outputs": [],
   "source": [
    "#datim.to_excel(f\"./caregiver_results/Q2/datim_parenting_caregiver{date_du_jour}.xlsx\",na_rep=\"\",index=True)\n",
    "#found_FAP.to_excel(f\"./caregiver_results/Q2/datim_caregiver_{date_du_jour}.xlsx\",na_rep=\"\",index=False)\n",
    "\n",
    "#datim.to_excel(f\"./caregiver_results/Q3/datim_parenting_caregiver{date_du_jour}.xlsx\",na_rep=\"\",index=True)\n",
    "#found_FAP.to_excel(f\"./caregiver_results/Q3/datim_caregiver_{date_du_jour}.xlsx\",na_rep=\"\",index=False)\n",
    "\n",
    "\n",
    "found_FAP.to_excel(f\"./caregiver_results/datim_caregiver{date_du_jour}.xlsx\",na_rep=\"\",index=False)\n",
    "datim.to_excel(f\"./caregiver_results/datim_parenting_caregiver{date_du_jour}.xlsx\",na_rep=\"\",index=True)\n",
    "\n",
    "found_FAP.to_excel(f\"./caregiver_results/datim_caregiver.xlsx\",na_rep=\"\",index=False)\n",
    "datim.to_excel(f\"./caregiver_results/datim_parenting_caregiver.xlsx\",na_rep=\"\",index=True)\n"
   ]
  },
  {
   "cell_type": "markdown",
   "metadata": {},
   "source": [
    "## No konsaantman photo"
   ]
  },
  {
   "cell_type": "code",
   "execution_count": 24,
   "metadata": {},
   "outputs": [
    {
     "data": {
      "text/plain": [
       "(218, 9)"
      ]
     },
     "execution_count": 24,
     "metadata": {},
     "output_type": "execute_result"
    }
   ],
   "source": [
    "parents_reportable[parents_reportable['photo_konsantman'] ==\"---\"].shape\n"
   ]
  },
  {
   "cell_type": "code",
   "execution_count": 25,
   "metadata": {},
   "outputs": [
    {
     "data": {
      "text/html": [
       "<div>\n",
       "<style scoped>\n",
       "    .dataframe tbody tr th:only-of-type {\n",
       "        vertical-align: middle;\n",
       "    }\n",
       "\n",
       "    .dataframe tbody tr th {\n",
       "        vertical-align: top;\n",
       "    }\n",
       "\n",
       "    .dataframe thead th {\n",
       "        text-align: right;\n",
       "    }\n",
       "</style>\n",
       "<table border=\"1\" class=\"dataframe\">\n",
       "  <thead>\n",
       "    <tr style=\"text-align: right;\">\n",
       "      <th></th>\n",
       "      <th>code</th>\n",
       "      <th>commune_on_dsd</th>\n",
       "      <th>photo_konsantman</th>\n",
       "      <th>non_paran_responsab</th>\n",
       "      <th>Gender</th>\n",
       "      <th>commune</th>\n",
       "      <th>age_paran</th>\n",
       "      <th>age_ovc</th>\n",
       "      <th>age_status</th>\n",
       "    </tr>\n",
       "  </thead>\n",
       "  <tbody>\n",
       "    <tr>\n",
       "      <th>0</th>\n",
       "      <td>PAP/DRMS/230425801</td>\n",
       "      <td>tabarre</td>\n",
       "      <td>---</td>\n",
       "      <td>Jeannot</td>\n",
       "      <td>Male</td>\n",
       "      <td>kenscoff</td>\n",
       "      <td>30</td>\n",
       "      <td>18+</td>\n",
       "      <td>normal</td>\n",
       "    </tr>\n",
       "    <tr>\n",
       "      <th>1</th>\n",
       "      <td>PAP/DRMS/094281401</td>\n",
       "      <td>petion_ville</td>\n",
       "      <td>---</td>\n",
       "      <td>Pierre Saint</td>\n",
       "      <td>Male</td>\n",
       "      <td>tabarre</td>\n",
       "      <td>30</td>\n",
       "      <td>18+</td>\n",
       "      <td>normal</td>\n",
       "    </tr>\n",
       "    <tr>\n",
       "      <th>2</th>\n",
       "      <td>PAP/DRMS/039370801</td>\n",
       "      <td>carrefour</td>\n",
       "      <td>---</td>\n",
       "      <td>Juissance</td>\n",
       "      <td>Male</td>\n",
       "      <td>tabarre</td>\n",
       "      <td>30</td>\n",
       "      <td>18+</td>\n",
       "      <td>normal</td>\n",
       "    </tr>\n",
       "    <tr>\n",
       "      <th>3</th>\n",
       "      <td>GON/DRMS/058245556</td>\n",
       "      <td>dessalines</td>\n",
       "      <td>---</td>\n",
       "      <td>Vixama</td>\n",
       "      <td>Male</td>\n",
       "      <td>kenscoff</td>\n",
       "      <td>30</td>\n",
       "      <td>18+</td>\n",
       "      <td>normal</td>\n",
       "    </tr>\n",
       "    <tr>\n",
       "      <th>4</th>\n",
       "      <td>PAP/DRMS/046201301</td>\n",
       "      <td>desdunes</td>\n",
       "      <td>---</td>\n",
       "      <td>Dorval</td>\n",
       "      <td>Male</td>\n",
       "      <td>tabarre</td>\n",
       "      <td>30</td>\n",
       "      <td>18+</td>\n",
       "      <td>normal</td>\n",
       "    </tr>\n",
       "    <tr>\n",
       "      <th>...</th>\n",
       "      <td>...</td>\n",
       "      <td>...</td>\n",
       "      <td>...</td>\n",
       "      <td>...</td>\n",
       "      <td>...</td>\n",
       "      <td>...</td>\n",
       "      <td>...</td>\n",
       "      <td>...</td>\n",
       "      <td>...</td>\n",
       "    </tr>\n",
       "    <tr>\n",
       "      <th>213</th>\n",
       "      <td>GON/DRMS/062461915</td>\n",
       "      <td>verrettes</td>\n",
       "      <td>---</td>\n",
       "      <td>Jeantilus</td>\n",
       "      <td>Male</td>\n",
       "      <td>verrettes</td>\n",
       "      <td>30</td>\n",
       "      <td>18+</td>\n",
       "      <td>normal</td>\n",
       "    </tr>\n",
       "    <tr>\n",
       "      <th>214</th>\n",
       "      <td>GON/DRMS/062461918</td>\n",
       "      <td>verrettes</td>\n",
       "      <td>---</td>\n",
       "      <td>Filius</td>\n",
       "      <td>Male</td>\n",
       "      <td>verrettes</td>\n",
       "      <td>30</td>\n",
       "      <td>18+</td>\n",
       "      <td>normal</td>\n",
       "    </tr>\n",
       "    <tr>\n",
       "      <th>215</th>\n",
       "      <td>GON/DRMS/062093606</td>\n",
       "      <td>verrettes</td>\n",
       "      <td>---</td>\n",
       "      <td>Albert Marie Maude</td>\n",
       "      <td>Female</td>\n",
       "      <td>verrettes</td>\n",
       "      <td>40</td>\n",
       "      <td>18+</td>\n",
       "      <td>normal</td>\n",
       "    </tr>\n",
       "    <tr>\n",
       "      <th>216</th>\n",
       "      <td>GON/DRMS/065143528</td>\n",
       "      <td>desdunes</td>\n",
       "      <td>---</td>\n",
       "      <td>Francois Diamil</td>\n",
       "      <td>Male</td>\n",
       "      <td>petite_rivire_de_lartibonite</td>\n",
       "      <td>-1</td>\n",
       "      <td>18+</td>\n",
       "      <td>aCorrige</td>\n",
       "    </tr>\n",
       "    <tr>\n",
       "      <th>217</th>\n",
       "      <td>GON/DRMS/062419102</td>\n",
       "      <td>verrettes</td>\n",
       "      <td>---</td>\n",
       "      <td>Dantes</td>\n",
       "      <td>Female</td>\n",
       "      <td>petite_rivire_de_lartibonite</td>\n",
       "      <td>30</td>\n",
       "      <td>18+</td>\n",
       "      <td>normal</td>\n",
       "    </tr>\n",
       "  </tbody>\n",
       "</table>\n",
       "<p>218 rows × 9 columns</p>\n",
       "</div>"
      ],
      "text/plain": [
       "                   code commune_on_dsd photo_konsantman non_paran_responsab  \\\n",
       "0    PAP/DRMS/230425801        tabarre              ---             Jeannot   \n",
       "1    PAP/DRMS/094281401   petion_ville              ---        Pierre Saint   \n",
       "2    PAP/DRMS/039370801      carrefour              ---           Juissance   \n",
       "3    GON/DRMS/058245556     dessalines              ---              Vixama   \n",
       "4    PAP/DRMS/046201301       desdunes              ---              Dorval   \n",
       "..                  ...            ...              ...                 ...   \n",
       "213  GON/DRMS/062461915      verrettes              ---           Jeantilus   \n",
       "214  GON/DRMS/062461918      verrettes              ---              Filius   \n",
       "215  GON/DRMS/062093606      verrettes              ---  Albert Marie Maude   \n",
       "216  GON/DRMS/065143528       desdunes              ---     Francois Diamil   \n",
       "217  GON/DRMS/062419102      verrettes              ---              Dantes   \n",
       "\n",
       "     Gender                       commune  age_paran age_ovc age_status  \n",
       "0      Male                      kenscoff         30     18+     normal  \n",
       "1      Male                       tabarre         30     18+     normal  \n",
       "2      Male                       tabarre         30     18+     normal  \n",
       "3      Male                      kenscoff         30     18+     normal  \n",
       "4      Male                       tabarre         30     18+     normal  \n",
       "..      ...                           ...        ...     ...        ...  \n",
       "213    Male                     verrettes         30     18+     normal  \n",
       "214    Male                     verrettes         30     18+     normal  \n",
       "215  Female                     verrettes         40     18+     normal  \n",
       "216    Male  petite_rivire_de_lartibonite         -1     18+   aCorrige  \n",
       "217  Female  petite_rivire_de_lartibonite         30     18+     normal  \n",
       "\n",
       "[218 rows x 9 columns]"
      ]
     },
     "execution_count": 25,
     "metadata": {},
     "output_type": "execute_result"
    }
   ],
   "source": [
    "parents_reportable[parents_reportable['photo_konsantman'] ==\"---\"]\n"
   ]
  },
  {
   "cell_type": "markdown",
   "metadata": {},
   "source": [
    "# no Datim"
   ]
  },
  {
   "cell_type": "markdown",
   "metadata": {},
   "source": [
    "missing_FAP_communes = []\n",
    "for columns in missing_FAP.commune.unique():\n",
    "    globals()[f\"missing_FAP_{name_handler(columns)}\"] = missing_FAP[missing_FAP.commune == columns]\n",
    "    missing_FAP_communes.append(globals().get(f\"missing_FAP_{name_handler(columns)}\"))\n",
    "    \n",
    "\n",
    "importantMissing_communes = []\n",
    "for columns in importantMissing.commune.unique():\n",
    "    globals()[f\"importantMissing_{name_handler(columns)}\"] = importantMissing[importantMissing.commune == columns]\n",
    "    importantMissing_communes.append(globals().get(f\"importantMissing_{name_handler(columns)}\"))\n",
    "    \n"
   ]
  },
  {
   "cell_type": "markdown",
   "metadata": {},
   "source": [
    "mfap_communes = missing_FAP.commune.unique().tolist()\n",
    "missing_FAP_dict = {}\n",
    "for columns, communes in zip(missing_FAP.commune.unique(), mfap_communes):\n",
    "    missing_FAP_dict[f\"{name_handler(communes)}\"] =  globals().get(f\"missing_FAP_{name_handler(columns)}\").code.count()\n",
    "        \n",
    "missing_FAP_df = DataFrame.from_dict(missing_FAP_dict, orient=\"index\", columns=None)\n",
    "missing_FAP_df.columns = [\"nombre_agyw/caregiver_KAP_pour_Regularisation\"]\n",
    "missing_FAP_df\n",
    "\n",
    "\n",
    "\n",
    "im_communes = importantMissing.commune.unique().tolist()\n",
    "importantMissing_dict = {}\n",
    "for columns, communes in zip(importantMissing.commune.unique(), im_communes):\n",
    "    importantMissing_dict[f\"{name_handler(communes)}\"] =  globals().get(f\"importantMissing_{name_handler(columns)}\").code.count()\n",
    "    \n",
    "importantMissing_df = DataFrame.from_dict(importantMissing_dict, orient=\"index\", columns=None)\n",
    "importantMissing_df.columns = [\"nombre_agyw/caregiver_KAP_pour_Regularisation\"]\n",
    "importantMissing_df"
   ]
  },
  {
   "cell_type": "markdown",
   "metadata": {},
   "source": [
    "importantMissing.to_excel('./missing/caregiver_CP_missing.xlsx',index=False,na_rep=\"\")"
   ]
  },
  {
   "cell_type": "markdown",
   "metadata": {},
   "source": [
    "missfap = ExcelWriter(f\"./missing/missing_FAP_{date_du_jour}.xlsx\",engine=\"openpyxl\")\n",
    "missing_FAP_df.to_excel(missfap,sheet_name='Resume',index=True)\n",
    "missing_FAP.to_excel(missfap,sheet_name=\"Total\", na_rep=\"\",index=False)\n",
    "for columns in missing_FAP.commune.unique():\n",
    "    globals().get(f\"missing_FAP_{name_handler(columns)}\").to_excel(missfap,sheet_name=f\"{name_handler(columns)}\",index=False,na_rep=\"NULL\")\n",
    "missfap.save()"
   ]
  },
  {
   "cell_type": "markdown",
   "metadata": {},
   "source": [
    "IM = ExcelWriter(f\"./missing/caregiver_CP_missing.xlsx\",engine=\"openpyxl\")\n",
    "importantMissing_df.to_excel(IM,sheet_name='Resume',index=True)\n",
    "importantMissing.to_excel(IM,sheet_name=\"Total\", na_rep=\"\",index=False)\n",
    "for columns in importantMissing.commune.unique():\n",
    "    globals().get(f\"importantMissing_{name_handler(columns)}\").to_excel(IM,sheet_name=f\"{name_handler(columns)}\",index=False,na_rep=\"NULL\")\n",
    "IM.save()"
   ]
  },
  {
   "cell_type": "code",
   "execution_count": 26,
   "metadata": {},
   "outputs": [],
   "source": [
    "driver.quit()\n"
   ]
  },
  {
   "cell_type": "code",
   "execution_count": null,
   "metadata": {},
   "outputs": [],
   "source": []
  }
 ],
 "metadata": {
  "interpreter": {
   "hash": "b460384b52104c1e5b9cf54bee46a255d22b2bef338f75ac4ad5d48196028d3c"
  },
  "kernelspec": {
   "display_name": "Python 3.10.4 64-bit",
   "language": "python",
   "name": "python3"
  },
  "language_info": {
   "codemirror_mode": {
    "name": "ipython",
    "version": 3
   },
   "file_extension": ".py",
   "mimetype": "text/x-python",
   "name": "python",
   "nbconvert_exporter": "python",
   "pygments_lexer": "ipython3",
   "version": "3.11.2"
  },
  "orig_nbformat": 4
 },
 "nbformat": 4,
 "nbformat_minor": 2
}
